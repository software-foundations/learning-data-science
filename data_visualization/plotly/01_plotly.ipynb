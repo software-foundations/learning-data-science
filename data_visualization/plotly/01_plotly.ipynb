{
 "cells": [
  {
   "cell_type": "markdown",
   "id": "portuguese-lesson",
   "metadata": {},
   "source": [
    "# Imports"
   ]
  },
  {
   "cell_type": "code",
   "execution_count": 2,
   "id": "hollow-capture",
   "metadata": {},
   "outputs": [],
   "source": [
    "import pandas as pd\n",
    "import numpy as np\n",
    "import matplotlib.pyplot as pyplot\n",
    "%matplotlib inline\n",
    "# %matplotlib qt # if export image in qt window\n",
    "\n",
    "from plotly import __version__\n",
    "from plotly.offline import download_plotlyjs, init_notebook_mode, plot, iplot\n",
    "\n",
    "import cufflinks as cf"
   ]
  },
  {
   "cell_type": "markdown",
   "id": "emotional-scholar",
   "metadata": {},
   "source": [
    "# Setting up plotly and cufflinks"
   ]
  },
  {
   "cell_type": "code",
   "execution_count": 3,
   "id": "complete-energy",
   "metadata": {},
   "outputs": [
    {
     "name": "stdout",
     "output_type": "stream",
     "text": [
      "4.14.3\n"
     ]
    },
    {
     "data": {
      "text/html": [
       "        <script type=\"text/javascript\">\n",
       "        window.PlotlyConfig = {MathJaxConfig: 'local'};\n",
       "        if (window.MathJax) {MathJax.Hub.Config({SVG: {font: \"STIX-Web\"}});}\n",
       "        if (typeof require !== 'undefined') {\n",
       "        require.undef(\"plotly\");\n",
       "        requirejs.config({\n",
       "            paths: {\n",
       "                'plotly': ['https://cdn.plot.ly/plotly-latest.min']\n",
       "            }\n",
       "        });\n",
       "        require(['plotly'], function(Plotly) {\n",
       "            window._Plotly = Plotly;\n",
       "        });\n",
       "        }\n",
       "        </script>\n",
       "        "
      ]
     },
     "metadata": {},
     "output_type": "display_data"
    },
    {
     "data": {
      "text/html": [
       "        <script type=\"text/javascript\">\n",
       "        window.PlotlyConfig = {MathJaxConfig: 'local'};\n",
       "        if (window.MathJax) {MathJax.Hub.Config({SVG: {font: \"STIX-Web\"}});}\n",
       "        if (typeof require !== 'undefined') {\n",
       "        require.undef(\"plotly\");\n",
       "        requirejs.config({\n",
       "            paths: {\n",
       "                'plotly': ['https://cdn.plot.ly/plotly-latest.min']\n",
       "            }\n",
       "        });\n",
       "        require(['plotly'], function(Plotly) {\n",
       "            window._Plotly = Plotly;\n",
       "        });\n",
       "        }\n",
       "        </script>\n",
       "        "
      ]
     },
     "metadata": {},
     "output_type": "display_data"
    }
   ],
   "source": [
    "print(__version__)\n",
    "init_notebook_mode(connected=True)\n",
    "cf.go_offline()"
   ]
  },
  {
   "cell_type": "markdown",
   "id": "theoretical-there",
   "metadata": {},
   "source": [
    "# Create dataframes"
   ]
  },
  {
   "cell_type": "code",
   "execution_count": 4,
   "id": "alien-delivery",
   "metadata": {},
   "outputs": [
    {
     "data": {
      "text/html": [
       "<div>\n",
       "<style scoped>\n",
       "    .dataframe tbody tr th:only-of-type {\n",
       "        vertical-align: middle;\n",
       "    }\n",
       "\n",
       "    .dataframe tbody tr th {\n",
       "        vertical-align: top;\n",
       "    }\n",
       "\n",
       "    .dataframe thead th {\n",
       "        text-align: right;\n",
       "    }\n",
       "</style>\n",
       "<table border=\"1\" class=\"dataframe\">\n",
       "  <thead>\n",
       "    <tr style=\"text-align: right;\">\n",
       "      <th></th>\n",
       "      <th>A</th>\n",
       "      <th>B</th>\n",
       "      <th>C</th>\n",
       "      <th>D</th>\n",
       "    </tr>\n",
       "  </thead>\n",
       "  <tbody>\n",
       "    <tr>\n",
       "      <th>0</th>\n",
       "      <td>0.280351</td>\n",
       "      <td>0.177069</td>\n",
       "      <td>-2.392449</td>\n",
       "      <td>1.179965</td>\n",
       "    </tr>\n",
       "    <tr>\n",
       "      <th>1</th>\n",
       "      <td>-1.352982</td>\n",
       "      <td>-0.624937</td>\n",
       "      <td>-1.061761</td>\n",
       "      <td>-0.900168</td>\n",
       "    </tr>\n",
       "    <tr>\n",
       "      <th>2</th>\n",
       "      <td>0.534934</td>\n",
       "      <td>0.327259</td>\n",
       "      <td>2.217578</td>\n",
       "      <td>-0.044515</td>\n",
       "    </tr>\n",
       "    <tr>\n",
       "      <th>3</th>\n",
       "      <td>-0.464856</td>\n",
       "      <td>-0.994040</td>\n",
       "      <td>-2.177944</td>\n",
       "      <td>1.065368</td>\n",
       "    </tr>\n",
       "    <tr>\n",
       "      <th>4</th>\n",
       "      <td>0.239951</td>\n",
       "      <td>-2.530951</td>\n",
       "      <td>-0.812106</td>\n",
       "      <td>0.176482</td>\n",
       "    </tr>\n",
       "  </tbody>\n",
       "</table>\n",
       "</div>"
      ],
      "text/plain": [
       "          A         B         C         D\n",
       "0  0.280351  0.177069 -2.392449  1.179965\n",
       "1 -1.352982 -0.624937 -1.061761 -0.900168\n",
       "2  0.534934  0.327259  2.217578 -0.044515\n",
       "3 -0.464856 -0.994040 -2.177944  1.065368\n",
       "4  0.239951 -2.530951 -0.812106  0.176482"
      ]
     },
     "execution_count": 4,
     "metadata": {},
     "output_type": "execute_result"
    }
   ],
   "source": [
    "df = pd.DataFrame(np.random.randn(100, 4), columns='A B C D'.split())\n",
    "df.head()"
   ]
  },
  {
   "cell_type": "code",
   "execution_count": 5,
   "id": "noble-affairs",
   "metadata": {},
   "outputs": [
    {
     "data": {
      "text/html": [
       "<div>\n",
       "<style scoped>\n",
       "    .dataframe tbody tr th:only-of-type {\n",
       "        vertical-align: middle;\n",
       "    }\n",
       "\n",
       "    .dataframe tbody tr th {\n",
       "        vertical-align: top;\n",
       "    }\n",
       "\n",
       "    .dataframe thead th {\n",
       "        text-align: right;\n",
       "    }\n",
       "</style>\n",
       "<table border=\"1\" class=\"dataframe\">\n",
       "  <thead>\n",
       "    <tr style=\"text-align: right;\">\n",
       "      <th></th>\n",
       "      <th>Category</th>\n",
       "      <th>Values</th>\n",
       "    </tr>\n",
       "  </thead>\n",
       "  <tbody>\n",
       "    <tr>\n",
       "      <th>0</th>\n",
       "      <td>A</td>\n",
       "      <td>32</td>\n",
       "    </tr>\n",
       "    <tr>\n",
       "      <th>1</th>\n",
       "      <td>B</td>\n",
       "      <td>43</td>\n",
       "    </tr>\n",
       "    <tr>\n",
       "      <th>2</th>\n",
       "      <td>C</td>\n",
       "      <td>50</td>\n",
       "    </tr>\n",
       "  </tbody>\n",
       "</table>\n",
       "</div>"
      ],
      "text/plain": [
       "  Category  Values\n",
       "0        A      32\n",
       "1        B      43\n",
       "2        C      50"
      ]
     },
     "execution_count": 5,
     "metadata": {},
     "output_type": "execute_result"
    }
   ],
   "source": [
    "df2 = pd.DataFrame({'Category': ['A', 'B', 'C'], 'Values': [32, 43, 50]})\n",
    "df2.head()"
   ]
  },
  {
   "cell_type": "code",
   "execution_count": 6,
   "id": "altered-noise",
   "metadata": {},
   "outputs": [
    {
     "data": {
      "text/html": [
       "<div>\n",
       "<style scoped>\n",
       "    .dataframe tbody tr th:only-of-type {\n",
       "        vertical-align: middle;\n",
       "    }\n",
       "\n",
       "    .dataframe tbody tr th {\n",
       "        vertical-align: top;\n",
       "    }\n",
       "\n",
       "    .dataframe thead th {\n",
       "        text-align: right;\n",
       "    }\n",
       "</style>\n",
       "<table border=\"1\" class=\"dataframe\">\n",
       "  <thead>\n",
       "    <tr style=\"text-align: right;\">\n",
       "      <th></th>\n",
       "      <th>x</th>\n",
       "      <th>y</th>\n",
       "      <th>z</th>\n",
       "    </tr>\n",
       "  </thead>\n",
       "  <tbody>\n",
       "    <tr>\n",
       "      <th>0</th>\n",
       "      <td>1</td>\n",
       "      <td>10</td>\n",
       "      <td>5</td>\n",
       "    </tr>\n",
       "    <tr>\n",
       "      <th>1</th>\n",
       "      <td>2</td>\n",
       "      <td>20</td>\n",
       "      <td>4</td>\n",
       "    </tr>\n",
       "    <tr>\n",
       "      <th>2</th>\n",
       "      <td>3</td>\n",
       "      <td>30</td>\n",
       "      <td>3</td>\n",
       "    </tr>\n",
       "    <tr>\n",
       "      <th>3</th>\n",
       "      <td>4</td>\n",
       "      <td>40</td>\n",
       "      <td>2</td>\n",
       "    </tr>\n",
       "    <tr>\n",
       "      <th>4</th>\n",
       "      <td>5</td>\n",
       "      <td>50</td>\n",
       "      <td>1</td>\n",
       "    </tr>\n",
       "  </tbody>\n",
       "</table>\n",
       "</div>"
      ],
      "text/plain": [
       "   x   y  z\n",
       "0  1  10  5\n",
       "1  2  20  4\n",
       "2  3  30  3\n",
       "3  4  40  2\n",
       "4  5  50  1"
      ]
     },
     "execution_count": 6,
     "metadata": {},
     "output_type": "execute_result"
    }
   ],
   "source": [
    "df3 = pd.DataFrame({'x': [1, 2, 3, 4, 5], 'y': [10, 20, 30, 40, 50], 'z': [5, 4, 3, 2, 1]})\n",
    "df3.head()"
   ]
  },
  {
   "cell_type": "markdown",
   "id": "frank-difficulty",
   "metadata": {},
   "source": [
    "# Pandas Plot\n",
    "- Scatter\n",
    "- Bar\n",
    "- Boxplot"
   ]
  },
  {
   "cell_type": "markdown",
   "id": "linear-brave",
   "metadata": {},
   "source": [
    "## Scatter"
   ]
  },
  {
   "cell_type": "code",
   "execution_count": 7,
   "id": "pressing-jerusalem",
   "metadata": {},
   "outputs": [
    {
     "data": {
      "text/plain": [
       "<AxesSubplot:xlabel='A', ylabel='B'>"
      ]
     },
     "execution_count": 7,
     "metadata": {},
     "output_type": "execute_result"
    },
    {
     "data": {
      "image/png": "[encoded data removed]",
      "text/plain": [
       "<Figure size 432x288 with 1 Axes>"
      ]
     },
     "metadata": {
      "needs_background": "light"
     },
     "output_type": "display_data"
    }
   ],
   "source": [
    "df.plot(kind='scatter', x='A', y='B')"
   ]
  },
  {
   "cell_type": "markdown",
   "id": "looking-taiwan",
   "metadata": {},
   "source": [
    "## Bar"
   ]
  },
  {
   "cell_type": "code",
   "execution_count": 8,
   "id": "controversial-narrative",
   "metadata": {},
   "outputs": [
    {
     "data": {
      "text/plain": [
       "<AxesSubplot:>"
      ]
     },
     "execution_count": 8,
     "metadata": {},
     "output_type": "execute_result"
    },
    {
     "data": {
      "image/png": "[encoded data removed]",
      "text/plain": [
       "<Figure size 432x288 with 1 Axes>"
      ]
     },
     "metadata": {
      "needs_background": "light"
     },
     "output_type": "display_data"
    }
   ],
   "source": [
    "df.plot(kind='bar')"
   ]
  },
  {
   "cell_type": "code",
   "execution_count": 9,
   "id": "contrary-testing",
   "metadata": {},
   "outputs": [
    {
     "data": {
      "text/plain": [
       "<AxesSubplot:>"
      ]
     },
     "execution_count": 9,
     "metadata": {},
     "output_type": "execute_result"
    },
    {
     "data": {
      "image/png": "[encoded data removed]",
      "text/plain": [
       "<Figure size 432x288 with 1 Axes>"
      ]
     },
     "metadata": {
      "needs_background": "light"
     },
     "output_type": "display_data"
    }
   ],
   "source": [
    "df.count().plot(kind='bar')"
   ]
  },
  {
   "cell_type": "code",
   "execution_count": 10,
   "id": "further-bargain",
   "metadata": {},
   "outputs": [
    {
     "data": {
      "text/plain": [
       "<AxesSubplot:xlabel='Category'>"
      ]
     },
     "execution_count": 10,
     "metadata": {},
     "output_type": "execute_result"
    },
    {
     "data": {
      "image/png": "[encoded data removed]",
      "text/plain": [
       "<Figure size 432x288 with 1 Axes>"
      ]
     },
     "metadata": {
      "needs_background": "light"
     },
     "output_type": "display_data"
    }
   ],
   "source": [
    "df2.plot(kind='bar', x='Category', y='Values')"
   ]
  },
  {
   "cell_type": "markdown",
   "id": "obvious-fantasy",
   "metadata": {},
   "source": [
    "## Boxplot"
   ]
  },
  {
   "cell_type": "code",
   "execution_count": 11,
   "id": "historic-fifteen",
   "metadata": {},
   "outputs": [
    {
     "data": {
      "text/plain": [
       "<AxesSubplot:>"
      ]
     },
     "execution_count": 11,
     "metadata": {},
     "output_type": "execute_result"
    },
    {
     "data": {
      "image/png": "[encoded data removed]",
      "text/plain": [
       "<Figure size 432x288 with 1 Axes>"
      ]
     },
     "metadata": {
      "needs_background": "light"
     },
     "output_type": "display_data"
    }
   ],
   "source": [
    "df.plot(kind='box')"
   ]
  },
  {
   "cell_type": "markdown",
   "id": "chief-electron",
   "metadata": {},
   "source": [
    "# Plotly Plot\n",
    "- Scatter\n",
    "- Bar\n",
    "- Boxplot\n",
    "- 3d Surface\n",
    "- Spread (util for time series)\n",
    "- Histogram\n",
    "- Bubble (dispersion)\n",
    "- scatter_matrix: matrix of dispersions (silimar to seaborn pairplot)"
   ]
  },
  {
   "cell_type": "markdown",
   "id": "imperial-sudan",
   "metadata": {},
   "source": [
    "## Scatter"
   ]
  },
  {
   "cell_type": "code",
   "execution_count": 12,
   "id": "anticipated-marine",
   "metadata": {},
   "outputs": [
    {
     "data": {
      "application/vnd.plotly.v1+json": {
       "config": {
        "linkText": "Export to plot.ly",
        "plotlyServerURL": "https://plot.ly",
        "showLink": true
       },
       "data": [
        {
         "line": {
          "color": "rgba(255, 153, 51, 1.0)",
          "dash": "solid",
          "shape": "linear",
          "width": 1.3
         },
         "marker": {
          "size": 12,
          "symbol": "circle"
         },
         "mode": "markers",
         "name": "B",
         "text": "",
         "type": "scatter",
         "x": [
          0.2803514486783903,
          -1.3529818744563427,
          0.5349335415489098,
          -0.46485644825077904,
          0.23995054472161614,
          0.015400907103716222,
          -0.2916104698915431,
          -0.23667497168901144,
          -0.6960369293674991,
          0.05795719862127771,
          -2.707673763127651,
          0.7613704053442429,
          0.3038232136903593,
          0.47448335399814273,
          -0.164943487319802,
          -0.1746685114526522,
          0.2737289201669528,
          -1.595378768993628,
          -1.5108845426369344,
          0.24616265746478627,
          0.3065102838166673,
          0.5813583720340318,
          0.6865830735731809,
          -0.6258184147645117,
          -0.5546572199896735,
          -0.7466622678544448,
          -0.7270465111699874,
          -0.47816758216383126,
          -0.6669280389560786,
          0.76101743324588,
          -0.013679710392465254,
          1.2232943573945159,
          2.5559833518724893,
          -0.07060403482627899,
          0.13004671884714766,
          -0.45520923256722334,
          0.29918460014033516,
          -0.5924241017540582,
          -0.15759225564599727,
          -1.4004988620018581,
          -1.7732366422243238,
          0.19030716935011002,
          -1.8019881668928215,
          -0.557204660426035,
          -0.44856054866864037,
          -1.4060925644133255,
          -1.022320245094843,
          -0.8941673627250798,
          -2.245692439956184,
          0.2521689296172425,
          0.07855183616603281,
          -1.880184235826735,
          -0.3547545024536497,
          -0.15901492812930434,
          1.4885512061851904,
          1.154473168088508,
          0.3506429831171856,
          0.033939225063162694,
          -0.745605997038604,
          -0.08313589301236117,
          -0.40493746348498305,
          -0.41768247476306836,
          -0.4717648718246529,
          -1.1171886583955546,
          -2.129045780023768,
          -1.4832090385240868,
          -0.9441306566317546,
          1.322478523659654,
          0.42861599484286816,
          -0.009349041903356899,
          -1.116475110689967,
          -1.604227395364169,
          -2.6458410752338737,
          0.11056779914131323,
          -0.4965388245769563,
          0.17496256936776317,
          -0.2188956562305676,
          0.6945059949492234,
          -1.5537040988224653,
          -0.4187519315700034,
          -1.5423386677726243,
          0.06656236481758367,
          0.6071611139142862,
          -0.2086185228188934,
          -0.6639641879325863,
          1.0091151944427543,
          -0.45485719742929204,
          0.7407282713470051,
          0.7926935792564782,
          0.8401881183890121,
          0.9707636921175228,
          -0.8331596615803011,
          -0.6412226880173394,
          0.5776137452811525,
          -0.709783389228246,
          0.06455705181996911,
          1.5612392254536525,
          0.6579971954098929,
          -0.1399662625786303,
          1.1855510000724214
         ],
         "y": [
          0.17706896277187162,
          -0.6249373118454554,
          0.3272590749722181,
          -0.9940401674343684,
          -2.530950849847117,
          0.2636658317371174,
          1.354219131183047,
          0.6643474062171079,
          -1.6533612970498077,
          0.7416715750244077,
          -0.9932428321735989,
          -0.6414343494166856,
          0.8299153265150462,
          -1.021986403702533,
          0.8987779717506097,
          1.0164569804648547,
          -0.35952334786171086,
          1.1094843584394358,
          1.5121019739205415,
          -0.2604947937239252,
          -0.3690942205578536,
          0.3615252687732477,
          -1.025107085234413,
          -1.4493849627756665,
          -0.8199570845444943,
          0.4505595988304898,
          1.1605376269740642,
          -1.188009381927696,
          0.6787286337625219,
          0.8039586299595403,
          -3.0833656542362573,
          1.269449272266462,
          -0.3149057116993393,
          -1.2939815954736011,
          0.12182680125676709,
          0.33006216460025506,
          0.21363583429407815,
          1.6588885458762022,
          -0.19557754724933765,
          1.0547923730917923,
          0.6954831684772481,
          -0.34584471468312034,
          0.6057788359167456,
          0.1590495270200915,
          1.5273126423059864,
          0.348566619616232,
          -0.18952539532798401,
          0.6252396166243234,
          1.1062954259320954,
          -0.687910545726598,
          -0.9078626099526047,
          0.48194398183866477,
          0.5342528457953383,
          -0.23774105751875005,
          0.06247792047270879,
          -0.3363551491205612,
          -1.4667065221044309,
          0.0951224432524548,
          1.0856472862022295,
          -0.5269712156766507,
          -0.3898477752743443,
          0.6154660142894058,
          -1.7415795762625443,
          -0.316102495625554,
          -0.02737132768909968,
          -1.6443310620854097,
          -1.456726450295568,
          -0.54900368339122,
          0.6835144512512027,
          0.6592334242785094,
          -0.7801848924134268,
          0.055159435884052276,
          -0.41360718927975393,
          -0.6787915069209751,
          0.1528205833072065,
          -1.241618365094969,
          -0.11126935795339148,
          1.0446944850176876,
          -0.39328046132648636,
          -0.9198930417706479,
          1.5521279360686067,
          -0.5390003413131172,
          -0.2064753229521223,
          0.6444836441877287,
          -2.490722034504807,
          0.11470952204713913,
          1.2685106961111818,
          1.1869956882656112,
          -0.5344110224171819,
          -1.2146728790266499,
          -0.2380292931578603,
          0.35164800826546266,
          0.6321143673388616,
          -1.8475654305346552,
          0.31649382271570314,
          -0.9371543855285568,
          1.314046527434895,
          -0.12930965638675102,
          -0.2226154810643709,
          0.9161026149352096
         ]
        }
       ],
       "layout": {
        "legend": {
         "bgcolor": "#F5F6F9",
         "font": {
          "color": "#4D5663"
         }
        },
        "paper_bgcolor": "#F5F6F9",
        "plot_bgcolor": "#F5F6F9",
        "template": {
         "data": {
          "bar": [
           {
            "error_x": {
             "color": "#2a3f5f"
            },
            "error_y": {
             "color": "#2a3f5f"
            },
            "marker": {
             "line": {
              "color": "#E5ECF6",
              "width": 0.5
             }
            },
            "type": "bar"
           }
          ],
          "barpolar": [
           {
            "marker": {
             "line": {
              "color": "#E5ECF6",
              "width": 0.5
             }
            },
            "type": "barpolar"
           }
          ],
          "carpet": [
           {
            "aaxis": {
             "endlinecolor": "#2a3f5f",
             "gridcolor": "white",
             "linecolor": "white",
             "minorgridcolor": "white",
             "startlinecolor": "#2a3f5f"
            },
            "baxis": {
             "endlinecolor": "#2a3f5f",
             "gridcolor": "white",
             "linecolor": "white",
             "minorgridcolor": "white",
             "startlinecolor": "#2a3f5f"
            },
            "type": "carpet"
           }
          ],
          "choropleth": [
           {
            "colorbar": {
             "outlinewidth": 0,
             "ticks": ""
            },
            "type": "choropleth"
           }
          ],
          "contour": [
           {
            "colorbar": {
             "outlinewidth": 0,
             "ticks": ""
            },
            "colorscale": [
             [
              0,
              "#0d0887"
             ],
             [
              0.1111111111111111,
              "#46039f"
             ],
             [
              0.2222222222222222,
              "#7201a8"
             ],
             [
              0.3333333333333333,
              "#9c179e"
             ],
             [
              0.4444444444444444,
              "#bd3786"
             ],
             [
              0.5555555555555556,
              "#d8576b"
             ],
             [
              0.6666666666666666,
              "#ed7953"
             ],
             [
              0.7777777777777778,
              "#fb9f3a"
             ],
             [
              0.8888888888888888,
              "#fdca26"
             ],
             [
              1,
              "#f0f921"
             ]
            ],
            "type": "contour"
           }
          ],
          "contourcarpet": [
           {
            "colorbar": {
             "outlinewidth": 0,
             "ticks": ""
            },
            "type": "contourcarpet"
           }
          ],
          "heatmap": [
           {
            "colorbar": {
             "outlinewidth": 0,
             "ticks": ""
            },
            "colorscale": [
             [
              0,
              "#0d0887"
             ],
             [
              0.1111111111111111,
              "#46039f"
             ],
             [
              0.2222222222222222,
              "#7201a8"
             ],
             [
              0.3333333333333333,
              "#9c179e"
             ],
             [
              0.4444444444444444,
              "#bd3786"
             ],
             [
              0.5555555555555556,
              "#d8576b"
             ],
             [
              0.6666666666666666,
              "#ed7953"
             ],
             [
              0.7777777777777778,
              "#fb9f3a"
             ],
             [
              0.8888888888888888,
              "#fdca26"
             ],
             [
              1,
              "#f0f921"
             ]
            ],
            "type": "heatmap"
           }
          ],
          "heatmapgl": [
           {
            "colorbar": {
             "outlinewidth": 0,
             "ticks": ""
            },
            "colorscale": [
             [
              0,
              "#0d0887"
             ],
             [
              0.1111111111111111,
              "#46039f"
             ],
             [
              0.2222222222222222,
              "#7201a8"
             ],
             [
              0.3333333333333333,
              "#9c179e"
             ],
             [
              0.4444444444444444,
              "#bd3786"
             ],
             [
              0.5555555555555556,
              "#d8576b"
             ],
             [
              0.6666666666666666,
              "#ed7953"
             ],
             [
              0.7777777777777778,
              "#fb9f3a"
             ],
             [
              0.8888888888888888,
              "#fdca26"
             ],
             [
              1,
              "#f0f921"
             ]
            ],
            "type": "heatmapgl"
           }
          ],
          "histogram": [
           {
            "marker": {
             "colorbar": {
              "outlinewidth": 0,
              "ticks": ""
             }
            },
            "type": "histogram"
           }
          ],
          "histogram2d": [
           {
            "colorbar": {
             "outlinewidth": 0,
             "ticks": ""
            },
            "colorscale": [
             [
              0,
              "#0d0887"
             ],
             [
              0.1111111111111111,
              "#46039f"
             ],
             [
              0.2222222222222222,
              "#7201a8"
             ],
             [
              0.3333333333333333,
              "#9c179e"
             ],
             [
              0.4444444444444444,
              "#bd3786"
             ],
             [
              0.5555555555555556,
              "#d8576b"
             ],
             [
              0.6666666666666666,
              "#ed7953"
             ],
             [
              0.7777777777777778,
              "#fb9f3a"
             ],
             [
              0.8888888888888888,
              "#fdca26"
             ],
             [
              1,
              "#f0f921"
             ]
            ],
            "type": "histogram2d"
           }
          ],
          "histogram2dcontour": [
           {
            "colorbar": {
             "outlinewidth": 0,
             "ticks": ""
            },
            "colorscale": [
             [
              0,
              "#0d0887"
             ],
             [
              0.1111111111111111,
              "#46039f"
             ],
             [
              0.2222222222222222,
              "#7201a8"
             ],
             [
              0.3333333333333333,
              "#9c179e"
             ],
             [
              0.4444444444444444,
              "#bd3786"
             ],
             [
              0.5555555555555556,
              "#d8576b"
             ],
             [
              0.6666666666666666,
              "#ed7953"
             ],
             [
              0.7777777777777778,
              "#fb9f3a"
             ],
             [
              0.8888888888888888,
              "#fdca26"
             ],
             [
              1,
              "#f0f921"
             ]
            ],
            "type": "histogram2dcontour"
           }
          ],
          "mesh3d": [
           {
            "colorbar": {
             "outlinewidth": 0,
             "ticks": ""
            },
            "type": "mesh3d"
           }
          ],
          "parcoords": [
           {
            "line": {
             "colorbar": {
              "outlinewidth": 0,
              "ticks": ""
             }
            },
            "type": "parcoords"
           }
          ],
          "pie": [
           {
            "automargin": true,
            "type": "pie"
           }
          ],
          "scatter": [
           {
            "marker": {
             "colorbar": {
              "outlinewidth": 0,
              "ticks": ""
             }
            },
            "type": "scatter"
           }
          ],
          "scatter3d": [
           {
            "line": {
             "colorbar": {
              "outlinewidth": 0,
              "ticks": ""
             }
            },
            "marker": {
             "colorbar": {
              "outlinewidth": 0,
              "ticks": ""
             }
            },
            "type": "scatter3d"
           }
          ],
          "scattercarpet": [
           {
            "marker": {
             "colorbar": {
              "outlinewidth": 0,
              "ticks": ""
             }
            },
            "type": "scattercarpet"
           }
          ],
          "scattergeo": [
           {
            "marker": {
             "colorbar": {
              "outlinewidth": 0,
              "ticks": ""
             }
            },
            "type": "scattergeo"
           }
          ],
          "scattergl": [
           {
            "marker": {
             "colorbar": {
              "outlinewidth": 0,
              "ticks": ""
             }
            },
            "type": "scattergl"
           }
          ],
          "scattermapbox": [
           {
            "marker": {
             "colorbar": {
              "outlinewidth": 0,
              "ticks": ""
             }
            },
            "type": "scattermapbox"
           }
          ],
          "scatterpolar": [
           {
            "marker": {
             "colorbar": {
              "outlinewidth": 0,
              "ticks": ""
             }
            },
            "type": "scatterpolar"
           }
          ],
          "scatterpolargl": [
           {
            "marker": {
             "colorbar": {
              "outlinewidth": 0,
              "ticks": ""
             }
            },
            "type": "scatterpolargl"
           }
          ],
          "scatterternary": [
           {
            "marker": {
             "colorbar": {
              "outlinewidth": 0,
              "ticks": ""
             }
            },
            "type": "scatterternary"
           }
          ],
          "surface": [
           {
            "colorbar": {
             "outlinewidth": 0,
             "ticks": ""
            },
            "colorscale": [
             [
              0,
              "#0d0887"
             ],
             [
              0.1111111111111111,
              "#46039f"
             ],
             [
              0.2222222222222222,
              "#7201a8"
             ],
             [
              0.3333333333333333,
              "#9c179e"
             ],
             [
              0.4444444444444444,
              "#bd3786"
             ],
             [
              0.5555555555555556,
              "#d8576b"
             ],
             [
              0.6666666666666666,
              "#ed7953"
             ],
             [
              0.7777777777777778,
              "#fb9f3a"
             ],
             [
              0.8888888888888888,
              "#fdca26"
             ],
             [
              1,
              "#f0f921"
             ]
            ],
            "type": "surface"
           }
          ],
          "table": [
           {
            "cells": {
             "fill": {
              "color": "#EBF0F8"
             },
             "line": {
              "color": "white"
             }
            },
            "header": {
             "fill": {
              "color": "#C8D4E3"
             },
             "line": {
              "color": "white"
             }
            },
            "type": "table"
           }
          ]
         },
         "layout": {
          "annotationdefaults": {
           "arrowcolor": "#2a3f5f",
           "arrowhead": 0,
           "arrowwidth": 1
          },
          "autotypenumbers": "strict",
          "coloraxis": {
           "colorbar": {
            "outlinewidth": 0,
            "ticks": ""
           }
          },
          "colorscale": {
           "diverging": [
            [
             0,
             "#8e0152"
            ],
            [
             0.1,
             "#c51b7d"
            ],
            [
             0.2,
             "#de77ae"
            ],
            [
             0.3,
             "#f1b6da"
            ],
            [
             0.4,
             "#fde0ef"
            ],
            [
             0.5,
             "#f7f7f7"
            ],
            [
             0.6,
             "#e6f5d0"
            ],
            [
             0.7,
             "#b8e186"
            ],
            [
             0.8,
             "#7fbc41"
            ],
            [
             0.9,
             "#4d9221"
            ],
            [
             1,
             "#276419"
            ]
           ],
           "sequential": [
            [
             0,
             "#0d0887"
            ],
            [
             0.1111111111111111,
             "#46039f"
            ],
            [
             0.2222222222222222,
             "#7201a8"
            ],
            [
             0.3333333333333333,
             "#9c179e"
            ],
            [
             0.4444444444444444,
             "#bd3786"
            ],
            [
             0.5555555555555556,
             "#d8576b"
            ],
            [
             0.6666666666666666,
             "#ed7953"
            ],
            [
             0.7777777777777778,
             "#fb9f3a"
            ],
            [
             0.8888888888888888,
             "#fdca26"
            ],
            [
             1,
             "#f0f921"
            ]
           ],
           "sequentialminus": [
            [
             0,
             "#0d0887"
            ],
            [
             0.1111111111111111,
             "#46039f"
            ],
            [
             0.2222222222222222,
             "#7201a8"
            ],
            [
             0.3333333333333333,
             "#9c179e"
            ],
            [
             0.4444444444444444,
             "#bd3786"
            ],
            [
             0.5555555555555556,
             "#d8576b"
            ],
            [
             0.6666666666666666,
             "#ed7953"
            ],
            [
             0.7777777777777778,
             "#fb9f3a"
            ],
            [
             0.8888888888888888,
             "#fdca26"
            ],
            [
             1,
             "#f0f921"
            ]
           ]
          },
          "colorway": [
           "#636efa",
           "#EF553B",
           "#00cc96",
           "#ab63fa",
           "#FFA15A",
           "#19d3f3",
           "#FF6692",
           "#B6E880",
           "#FF97FF",
           "#FECB52"
          ],
          "font": {
           "color": "#2a3f5f"
          },
          "geo": {
           "bgcolor": "white",
           "lakecolor": "white",
           "landcolor": "#E5ECF6",
           "showlakes": true,
           "showland": true,
           "subunitcolor": "white"
          },
          "hoverlabel": {
           "align": "left"
          },
          "hovermode": "closest",
          "mapbox": {
           "style": "light"
          },
          "paper_bgcolor": "white",
          "plot_bgcolor": "#E5ECF6",
          "polar": {
           "angularaxis": {
            "gridcolor": "white",
            "linecolor": "white",
            "ticks": ""
           },
           "bgcolor": "#E5ECF6",
           "radialaxis": {
            "gridcolor": "white",
            "linecolor": "white",
            "ticks": ""
           }
          },
          "scene": {
           "xaxis": {
            "backgroundcolor": "#E5ECF6",
            "gridcolor": "white",
            "gridwidth": 2,
            "linecolor": "white",
            "showbackground": true,
            "ticks": "",
            "zerolinecolor": "white"
           },
           "yaxis": {
            "backgroundcolor": "#E5ECF6",
            "gridcolor": "white",
            "gridwidth": 2,
            "linecolor": "white",
            "showbackground": true,
            "ticks": "",
            "zerolinecolor": "white"
           },
           "zaxis": {
            "backgroundcolor": "#E5ECF6",
            "gridcolor": "white",
            "gridwidth": 2,
            "linecolor": "white",
            "showbackground": true,
            "ticks": "",
            "zerolinecolor": "white"
           }
          },
          "shapedefaults": {
           "line": {
            "color": "#2a3f5f"
           }
          },
          "ternary": {
           "aaxis": {
            "gridcolor": "white",
            "linecolor": "white",
            "ticks": ""
           },
           "baxis": {
            "gridcolor": "white",
            "linecolor": "white",
            "ticks": ""
           },
           "bgcolor": "#E5ECF6",
           "caxis": {
            "gridcolor": "white",
            "linecolor": "white",
            "ticks": ""
           }
          },
          "title": {
           "x": 0.05
          },
          "xaxis": {
           "automargin": true,
           "gridcolor": "white",
           "linecolor": "white",
           "ticks": "",
           "title": {
            "standoff": 15
           },
           "zerolinecolor": "white",
           "zerolinewidth": 2
          },
          "yaxis": {
           "automargin": true,
           "gridcolor": "white",
           "linecolor": "white",
           "ticks": "",
           "title": {
            "standoff": 15
           },
           "zerolinecolor": "white",
           "zerolinewidth": 2
          }
         }
        },
        "title": {
         "font": {
          "color": "#4D5663"
         }
        },
        "xaxis": {
         "gridcolor": "#E1E5ED",
         "showgrid": true,
         "tickfont": {
          "color": "#4D5663"
         },
         "title": {
          "font": {
           "color": "#4D5663"
          },
          "text": ""
         },
         "zerolinecolor": "#E1E5ED"
        },
        "yaxis": {
         "gridcolor": "#E1E5ED",
         "showgrid": true,
         "tickfont": {
          "color": "#4D5663"
         },
         "title": {
          "font": {
           "color": "#4D5663"
          },
          "text": ""
         },
         "zerolinecolor": "#E1E5ED"
        }
       }
      },
      "text/html": [
       "<div>                            <div id=\"fa681a7f-bd39-4be7-aa07-c4e58f7c6816\" class=\"plotly-graph-div\" style=\"height:525px; width:100%;\"></div>            <script type=\"text/javascript\">                require([\"plotly\"], function(Plotly) {                    window.PLOTLYENV=window.PLOTLYENV || {};\n",
       "                    window.PLOTLYENV.BASE_URL='https://plot.ly';                                    if (document.getElementById(\"fa681a7f-bd39-4be7-aa07-c4e58f7c6816\")) {                    Plotly.newPlot(                        \"fa681a7f-bd39-4be7-aa07-c4e58f7c6816\",                        [{\"line\": {\"color\": \"rgba(255, 153, 51, 1.0)\", \"dash\": \"solid\", \"shape\": \"linear\", \"width\": 1.3}, \"marker\": {\"size\": 12, \"symbol\": \"circle\"}, \"mode\": \"markers\", \"name\": \"B\", \"text\": \"\", \"type\": \"scatter\", \"x\": [0.2803514486783903, -1.3529818744563427, 0.5349335415489098, -0.46485644825077904, 0.23995054472161614, 0.015400907103716222, -0.2916104698915431, -0.23667497168901144, -0.6960369293674991, 0.05795719862127771, -2.707673763127651, 0.7613704053442429, 0.3038232136903593, 0.47448335399814273, -0.164943487319802, -0.1746685114526522, 0.2737289201669528, -1.595378768993628, -1.5108845426369344, 0.24616265746478627, 0.3065102838166673, 0.5813583720340318, 0.6865830735731809, -0.6258184147645117, -0.5546572199896735, -0.7466622678544448, -0.7270465111699874, -0.47816758216383126, -0.6669280389560786, 0.76101743324588, -0.013679710392465254, 1.2232943573945159, 2.5559833518724893, -0.07060403482627899, 0.13004671884714766, -0.45520923256722334, 0.29918460014033516, -0.5924241017540582, -0.15759225564599727, -1.4004988620018581, -1.7732366422243238, 0.19030716935011002, -1.8019881668928215, -0.557204660426035, -0.44856054866864037, -1.4060925644133255, -1.022320245094843, -0.8941673627250798, -2.245692439956184, 0.2521689296172425, 0.07855183616603281, -1.880184235826735, -0.3547545024536497, -0.15901492812930434, 1.4885512061851904, 1.154473168088508, 0.3506429831171856, 0.033939225063162694, -0.745605997038604, -0.08313589301236117, -0.40493746348498305, -0.41768247476306836, -0.4717648718246529, -1.1171886583955546, -2.129045780023768, -1.4832090385240868, -0.9441306566317546, 1.322478523659654, 0.42861599484286816, -0.009349041903356899, -1.116475110689967, -1.604227395364169, -2.6458410752338737, 0.11056779914131323, -0.4965388245769563, 0.17496256936776317, -0.2188956562305676, 0.6945059949492234, -1.5537040988224653, -0.4187519315700034, -1.5423386677726243, 0.06656236481758367, 0.6071611139142862, -0.2086185228188934, -0.6639641879325863, 1.0091151944427543, -0.45485719742929204, 0.7407282713470051, 0.7926935792564782, 0.8401881183890121, 0.9707636921175228, -0.8331596615803011, -0.6412226880173394, 0.5776137452811525, -0.709783389228246, 0.06455705181996911, 1.5612392254536525, 0.6579971954098929, -0.1399662625786303, 1.1855510000724214], \"y\": [0.17706896277187162, -0.6249373118454554, 0.3272590749722181, -0.9940401674343684, -2.530950849847117, 0.2636658317371174, 1.354219131183047, 0.6643474062171079, -1.6533612970498077, 0.7416715750244077, -0.9932428321735989, -0.6414343494166856, 0.8299153265150462, -1.021986403702533, 0.8987779717506097, 1.0164569804648547, -0.35952334786171086, 1.1094843584394358, 1.5121019739205415, -0.2604947937239252, -0.3690942205578536, 0.3615252687732477, -1.025107085234413, -1.4493849627756665, -0.8199570845444943, 0.4505595988304898, 1.1605376269740642, -1.188009381927696, 0.6787286337625219, 0.8039586299595403, -3.0833656542362573, 1.269449272266462, -0.3149057116993393, -1.2939815954736011, 0.12182680125676709, 0.33006216460025506, 0.21363583429407815, 1.6588885458762022, -0.19557754724933765, 1.0547923730917923, 0.6954831684772481, -0.34584471468312034, 0.6057788359167456, 0.1590495270200915, 1.5273126423059864, 0.348566619616232, -0.18952539532798401, 0.6252396166243234, 1.1062954259320954, -0.687910545726598, -0.9078626099526047, 0.48194398183866477, 0.5342528457953383, -0.23774105751875005, 0.06247792047270879, -0.3363551491205612, -1.4667065221044309, 0.0951224432524548, 1.0856472862022295, -0.5269712156766507, -0.3898477752743443, 0.6154660142894058, -1.7415795762625443, -0.316102495625554, -0.02737132768909968, -1.6443310620854097, -1.456726450295568, -0.54900368339122, 0.6835144512512027, 0.6592334242785094, -0.7801848924134268, 0.055159435884052276, -0.41360718927975393, -0.6787915069209751, 0.1528205833072065, -1.241618365094969, -0.11126935795339148, 1.0446944850176876, -0.39328046132648636, -0.9198930417706479, 1.5521279360686067, -0.5390003413131172, -0.2064753229521223, 0.6444836441877287, -2.490722034504807, 0.11470952204713913, 1.2685106961111818, 1.1869956882656112, -0.5344110224171819, -1.2146728790266499, -0.2380292931578603, 0.35164800826546266, 0.6321143673388616, -1.8475654305346552, 0.31649382271570314, -0.9371543855285568, 1.314046527434895, -0.12930965638675102, -0.2226154810643709, 0.9161026149352096]}],                        {\"legend\": {\"bgcolor\": \"#F5F6F9\", \"font\": {\"color\": \"#4D5663\"}}, \"paper_bgcolor\": \"#F5F6F9\", \"plot_bgcolor\": \"#F5F6F9\", \"template\": {\"data\": {\"bar\": [{\"error_x\": {\"color\": \"#2a3f5f\"}, \"error_y\": {\"color\": \"#2a3f5f\"}, \"marker\": {\"line\": {\"color\": \"#E5ECF6\", \"width\": 0.5}}, \"type\": \"bar\"}], \"barpolar\": [{\"marker\": {\"line\": {\"color\": \"#E5ECF6\", \"width\": 0.5}}, \"type\": \"barpolar\"}], \"carpet\": [{\"aaxis\": {\"endlinecolor\": \"#2a3f5f\", \"gridcolor\": \"white\", \"linecolor\": \"white\", \"minorgridcolor\": \"white\", \"startlinecolor\": \"#2a3f5f\"}, \"baxis\": {\"endlinecolor\": \"#2a3f5f\", \"gridcolor\": \"white\", \"linecolor\": \"white\", \"minorgridcolor\": \"white\", \"startlinecolor\": \"#2a3f5f\"}, \"type\": \"carpet\"}], \"choropleth\": [{\"colorbar\": {\"outlinewidth\": 0, \"ticks\": \"\"}, \"type\": \"choropleth\"}], \"contour\": [{\"colorbar\": {\"outlinewidth\": 0, \"ticks\": \"\"}, \"colorscale\": [[0.0, \"#0d0887\"], [0.1111111111111111, \"#46039f\"], [0.2222222222222222, \"#7201a8\"], [0.3333333333333333, \"#9c179e\"], [0.4444444444444444, \"#bd3786\"], [0.5555555555555556, \"#d8576b\"], [0.6666666666666666, \"#ed7953\"], [0.7777777777777778, \"#fb9f3a\"], [0.8888888888888888, \"#fdca26\"], [1.0, \"#f0f921\"]], \"type\": \"contour\"}], \"contourcarpet\": [{\"colorbar\": {\"outlinewidth\": 0, \"ticks\": \"\"}, \"type\": \"contourcarpet\"}], \"heatmap\": [{\"colorbar\": {\"outlinewidth\": 0, \"ticks\": \"\"}, \"colorscale\": [[0.0, \"#0d0887\"], [0.1111111111111111, \"#46039f\"], [0.2222222222222222, \"#7201a8\"], [0.3333333333333333, \"#9c179e\"], [0.4444444444444444, \"#bd3786\"], [0.5555555555555556, \"#d8576b\"], [0.6666666666666666, \"#ed7953\"], [0.7777777777777778, \"#fb9f3a\"], [0.8888888888888888, \"#fdca26\"], [1.0, \"#f0f921\"]], \"type\": \"heatmap\"}], \"heatmapgl\": [{\"colorbar\": {\"outlinewidth\": 0, \"ticks\": \"\"}, \"colorscale\": [[0.0, \"#0d0887\"], [0.1111111111111111, \"#46039f\"], [0.2222222222222222, \"#7201a8\"], [0.3333333333333333, \"#9c179e\"], [0.4444444444444444, \"#bd3786\"], [0.5555555555555556, \"#d8576b\"], [0.6666666666666666, \"#ed7953\"], [0.7777777777777778, \"#fb9f3a\"], [0.8888888888888888, \"#fdca26\"], [1.0, \"#f0f921\"]], \"type\": \"heatmapgl\"}], \"histogram\": [{\"marker\": {\"colorbar\": {\"outlinewidth\": 0, \"ticks\": \"\"}}, \"type\": \"histogram\"}], \"histogram2d\": [{\"colorbar\": {\"outlinewidth\": 0, \"ticks\": \"\"}, \"colorscale\": [[0.0, \"#0d0887\"], [0.1111111111111111, \"#46039f\"], [0.2222222222222222, \"#7201a8\"], [0.3333333333333333, \"#9c179e\"], [0.4444444444444444, \"#bd3786\"], [0.5555555555555556, \"#d8576b\"], [0.6666666666666666, \"#ed7953\"], [0.7777777777777778, \"#fb9f3a\"], [0.8888888888888888, \"#fdca26\"], [1.0, \"#f0f921\"]], \"type\": \"histogram2d\"}], \"histogram2dcontour\": [{\"colorbar\": {\"outlinewidth\": 0, \"ticks\": \"\"}, \"colorscale\": [[0.0, \"#0d0887\"], [0.1111111111111111, \"#46039f\"], [0.2222222222222222, \"#7201a8\"], [0.3333333333333333, \"#9c179e\"], [0.4444444444444444, \"#bd3786\"], [0.5555555555555556, \"#d8576b\"], [0.6666666666666666, \"#ed7953\"], [0.7777777777777778, \"#fb9f3a\"], [0.8888888888888888, \"#fdca26\"], [1.0, \"#f0f921\"]], \"type\": \"histogram2dcontour\"}], \"mesh3d\": [{\"colorbar\": {\"outlinewidth\": 0, \"ticks\": \"\"}, \"type\": \"mesh3d\"}], \"parcoords\": [{\"line\": {\"colorbar\": {\"outlinewidth\": 0, \"ticks\": \"\"}}, \"type\": \"parcoords\"}], \"pie\": [{\"automargin\": true, \"type\": \"pie\"}], \"scatter\": [{\"marker\": {\"colorbar\": {\"outlinewidth\": 0, \"ticks\": \"\"}}, \"type\": \"scatter\"}], \"scatter3d\": [{\"line\": {\"colorbar\": {\"outlinewidth\": 0, \"ticks\": \"\"}}, \"marker\": {\"colorbar\": {\"outlinewidth\": 0, \"ticks\": \"\"}}, \"type\": \"scatter3d\"}], \"scattercarpet\": [{\"marker\": {\"colorbar\": {\"outlinewidth\": 0, \"ticks\": \"\"}}, \"type\": \"scattercarpet\"}], \"scattergeo\": [{\"marker\": {\"colorbar\": {\"outlinewidth\": 0, \"ticks\": \"\"}}, \"type\": \"scattergeo\"}], \"scattergl\": [{\"marker\": {\"colorbar\": {\"outlinewidth\": 0, \"ticks\": \"\"}}, \"type\": \"scattergl\"}], \"scattermapbox\": [{\"marker\": {\"colorbar\": {\"outlinewidth\": 0, \"ticks\": \"\"}}, \"type\": \"scattermapbox\"}], \"scatterpolar\": [{\"marker\": {\"colorbar\": {\"outlinewidth\": 0, \"ticks\": \"\"}}, \"type\": \"scatterpolar\"}], \"scatterpolargl\": [{\"marker\": {\"colorbar\": {\"outlinewidth\": 0, \"ticks\": \"\"}}, \"type\": \"scatterpolargl\"}], \"scatterternary\": [{\"marker\": {\"colorbar\": {\"outlinewidth\": 0, \"ticks\": \"\"}}, \"type\": \"scatterternary\"}], \"surface\": [{\"colorbar\": {\"outlinewidth\": 0, \"ticks\": \"\"}, \"colorscale\": [[0.0, \"#0d0887\"], [0.1111111111111111, \"#46039f\"], [0.2222222222222222, \"#7201a8\"], [0.3333333333333333, \"#9c179e\"], [0.4444444444444444, \"#bd3786\"], [0.5555555555555556, \"#d8576b\"], [0.6666666666666666, \"#ed7953\"], [0.7777777777777778, \"#fb9f3a\"], [0.8888888888888888, \"#fdca26\"], [1.0, \"#f0f921\"]], \"type\": \"surface\"}], \"table\": [{\"cells\": {\"fill\": {\"color\": \"#EBF0F8\"}, \"line\": {\"color\": \"white\"}}, \"header\": {\"fill\": {\"color\": \"#C8D4E3\"}, \"line\": {\"color\": \"white\"}}, \"type\": \"table\"}]}, \"layout\": {\"annotationdefaults\": {\"arrowcolor\": \"#2a3f5f\", \"arrowhead\": 0, \"arrowwidth\": 1}, \"autotypenumbers\": \"strict\", \"coloraxis\": {\"colorbar\": {\"outlinewidth\": 0, \"ticks\": \"\"}}, \"colorscale\": {\"diverging\": [[0, \"#8e0152\"], [0.1, \"#c51b7d\"], [0.2, \"#de77ae\"], [0.3, \"#f1b6da\"], [0.4, \"#fde0ef\"], [0.5, \"#f7f7f7\"], [0.6, \"#e6f5d0\"], [0.7, \"#b8e186\"], [0.8, \"#7fbc41\"], [0.9, \"#4d9221\"], [1, \"#276419\"]], \"sequential\": [[0.0, \"#0d0887\"], [0.1111111111111111, \"#46039f\"], [0.2222222222222222, \"#7201a8\"], [0.3333333333333333, \"#9c179e\"], [0.4444444444444444, \"#bd3786\"], [0.5555555555555556, \"#d8576b\"], [0.6666666666666666, \"#ed7953\"], [0.7777777777777778, \"#fb9f3a\"], [0.8888888888888888, \"#fdca26\"], [1.0, \"#f0f921\"]], \"sequentialminus\": [[0.0, \"#0d0887\"], [0.1111111111111111, \"#46039f\"], [0.2222222222222222, \"#7201a8\"], [0.3333333333333333, \"#9c179e\"], [0.4444444444444444, \"#bd3786\"], [0.5555555555555556, \"#d8576b\"], [0.6666666666666666, \"#ed7953\"], [0.7777777777777778, \"#fb9f3a\"], [0.8888888888888888, \"#fdca26\"], [1.0, \"#f0f921\"]]}, \"colorway\": [\"#636efa\", \"#EF553B\", \"#00cc96\", \"#ab63fa\", \"#FFA15A\", \"#19d3f3\", \"#FF6692\", \"#B6E880\", \"#FF97FF\", \"#FECB52\"], \"font\": {\"color\": \"#2a3f5f\"}, \"geo\": {\"bgcolor\": \"white\", \"lakecolor\": \"white\", \"landcolor\": \"#E5ECF6\", \"showlakes\": true, \"showland\": true, \"subunitcolor\": \"white\"}, \"hoverlabel\": {\"align\": \"left\"}, \"hovermode\": \"closest\", \"mapbox\": {\"style\": \"light\"}, \"paper_bgcolor\": \"white\", \"plot_bgcolor\": \"#E5ECF6\", \"polar\": {\"angularaxis\": {\"gridcolor\": \"white\", \"linecolor\": \"white\", \"ticks\": \"\"}, \"bgcolor\": \"#E5ECF6\", \"radialaxis\": {\"gridcolor\": \"white\", \"linecolor\": \"white\", \"ticks\": \"\"}}, \"scene\": {\"xaxis\": {\"backgroundcolor\": \"#E5ECF6\", \"gridcolor\": \"white\", \"gridwidth\": 2, \"linecolor\": \"white\", \"showbackground\": true, \"ticks\": \"\", \"zerolinecolor\": \"white\"}, \"yaxis\": {\"backgroundcolor\": \"#E5ECF6\", \"gridcolor\": \"white\", \"gridwidth\": 2, \"linecolor\": \"white\", \"showbackground\": true, \"ticks\": \"\", \"zerolinecolor\": \"white\"}, \"zaxis\": {\"backgroundcolor\": \"#E5ECF6\", \"gridcolor\": \"white\", \"gridwidth\": 2, \"linecolor\": \"white\", \"showbackground\": true, \"ticks\": \"\", \"zerolinecolor\": \"white\"}}, \"shapedefaults\": {\"line\": {\"color\": \"#2a3f5f\"}}, \"ternary\": {\"aaxis\": {\"gridcolor\": \"white\", \"linecolor\": \"white\", \"ticks\": \"\"}, \"baxis\": {\"gridcolor\": \"white\", \"linecolor\": \"white\", \"ticks\": \"\"}, \"bgcolor\": \"#E5ECF6\", \"caxis\": {\"gridcolor\": \"white\", \"linecolor\": \"white\", \"ticks\": \"\"}}, \"title\": {\"x\": 0.05}, \"xaxis\": {\"automargin\": true, \"gridcolor\": \"white\", \"linecolor\": \"white\", \"ticks\": \"\", \"title\": {\"standoff\": 15}, \"zerolinecolor\": \"white\", \"zerolinewidth\": 2}, \"yaxis\": {\"automargin\": true, \"gridcolor\": \"white\", \"linecolor\": \"white\", \"ticks\": \"\", \"title\": {\"standoff\": 15}, \"zerolinecolor\": \"white\", \"zerolinewidth\": 2}}}, \"title\": {\"font\": {\"color\": \"#4D5663\"}}, \"xaxis\": {\"gridcolor\": \"#E1E5ED\", \"showgrid\": true, \"tickfont\": {\"color\": \"#4D5663\"}, \"title\": {\"font\": {\"color\": \"#4D5663\"}, \"text\": \"\"}, \"zerolinecolor\": \"#E1E5ED\"}, \"yaxis\": {\"gridcolor\": \"#E1E5ED\", \"showgrid\": true, \"tickfont\": {\"color\": \"#4D5663\"}, \"title\": {\"font\": {\"color\": \"#4D5663\"}, \"text\": \"\"}, \"zerolinecolor\": \"#E1E5ED\"}},                        {\"showLink\": true, \"linkText\": \"Export to plot.ly\", \"plotlyServerURL\": \"https://plot.ly\", \"responsive\": true}                    ).then(function(){\n",
       "                            \n",
       "var gd = document.getElementById('fa681a7f-bd39-4be7-aa07-c4e58f7c6816');\n",
       "var x = new MutationObserver(function (mutations, observer) {{\n",
       "        var display = window.getComputedStyle(gd).display;\n",
       "        if (!display || display === 'none') {{\n",
       "            console.log([gd, 'removed!']);\n",
       "            Plotly.purge(gd);\n",
       "            observer.disconnect();\n",
       "        }}\n",
       "}});\n",
       "\n",
       "// Listen for the removal of the full notebook cells\n",
       "var notebookContainer = gd.closest('#notebook-container');\n",
       "if (notebookContainer) {{\n",
       "    x.observe(notebookContainer, {childList: true});\n",
       "}}\n",
       "\n",
       "// Listen for the clearing of the current output cell\n",
       "var outputEl = gd.closest('.output');\n",
       "if (outputEl) {{\n",
       "    x.observe(outputEl, {childList: true});\n",
       "}}\n",
       "\n",
       "                        })                };                });            </script>        </div>"
      ]
     },
     "metadata": {},
     "output_type": "display_data"
    }
   ],
   "source": [
    "df.iplot(kind='scatter', x='A', y='B', mode='markers')"
   ]
  },
  {
   "cell_type": "markdown",
   "id": "loaded-chinese",
   "metadata": {},
   "source": [
    "## Bar"
   ]
  },
  {
   "cell_type": "code",
   "execution_count": 13,
   "id": "stable-packing",
   "metadata": {},
   "outputs": [
    {
     "data": {
      "application/vnd.plotly.v1+json": {
       "config": {
        "linkText": "Export to plot.ly",
        "plotlyServerURL": "https://plot.ly",
        "showLink": true
       },
       "data": [
        {
         "marker": {
          "color": "rgba(255, 153, 51, 0.6)",
          "line": {
           "color": "rgba(255, 153, 51, 1.0)",
           "width": 1
          }
         },
         "name": "A",
         "orientation": "v",
         "text": "",
         "type": "bar",
         "x": [
          0,
          1,
          2,
          3,
          4,
          5,
          6,
          7,
          8,
          9,
          10,
          11,
          12,
          13,
          14,
          15,
          16,
          17,
          18,
          19,
          20,
          21,
          22,
          23,
          24,
          25,
          26,
          27,
          28,
          29,
          30,
          31,
          32,
          33,
          34,
          35,
          36,
          37,
          38,
          39,
          40,
          41,
          42,
          43,
          44,
          45,
          46,
          47,
          48,
          49,
          50,
          51,
          52,
          53,
          54,
          55,
          56,
          57,
          58,
          59,
          60,
          61,
          62,
          63,
          64,
          65,
          66,
          67,
          68,
          69,
          70,
          71,
          72,
          73,
          74,
          75,
          76,
          77,
          78,
          79,
          80,
          81,
          82,
          83,
          84,
          85,
          86,
          87,
          88,
          89,
          90,
          91,
          92,
          93,
          94,
          95,
          96,
          97,
          98,
          99
         ],
         "y": [
          0.2803514486783903,
          -1.3529818744563427,
          0.5349335415489098,
          -0.46485644825077904,
          0.23995054472161614,
          0.015400907103716222,
          -0.2916104698915431,
          -0.23667497168901144,
          -0.6960369293674991,
          0.05795719862127771,
          -2.707673763127651,
          0.7613704053442429,
          0.3038232136903593,
          0.47448335399814273,
          -0.164943487319802,
          -0.1746685114526522,
          0.2737289201669528,
          -1.595378768993628,
          -1.5108845426369344,
          0.24616265746478627,
          0.3065102838166673,
          0.5813583720340318,
          0.6865830735731809,
          -0.6258184147645117,
          -0.5546572199896735,
          -0.7466622678544448,
          -0.7270465111699874,
          -0.47816758216383126,
          -0.6669280389560786,
          0.76101743324588,
          -0.013679710392465254,
          1.2232943573945159,
          2.5559833518724893,
          -0.07060403482627899,
          0.13004671884714766,
          -0.45520923256722334,
          0.29918460014033516,
          -0.5924241017540582,
          -0.15759225564599727,
          -1.4004988620018581,
          -1.7732366422243238,
          0.19030716935011002,
          -1.8019881668928215,
          -0.557204660426035,
          -0.44856054866864037,
          -1.4060925644133255,
          -1.022320245094843,
          -0.8941673627250798,
          -2.245692439956184,
          0.2521689296172425,
          0.07855183616603281,
          -1.880184235826735,
          -0.3547545024536497,
          -0.15901492812930434,
          1.4885512061851904,
          1.154473168088508,
          0.3506429831171856,
          0.033939225063162694,
          -0.745605997038604,
          -0.08313589301236117,
          -0.40493746348498305,
          -0.41768247476306836,
          -0.4717648718246529,
          -1.1171886583955546,
          -2.129045780023768,
          -1.4832090385240868,
          -0.9441306566317546,
          1.322478523659654,
          0.42861599484286816,
          -0.009349041903356899,
          -1.116475110689967,
          -1.604227395364169,
          -2.6458410752338737,
          0.11056779914131323,
          -0.4965388245769563,
          0.17496256936776317,
          -0.2188956562305676,
          0.6945059949492234,
          -1.5537040988224653,
          -0.4187519315700034,
          -1.5423386677726243,
          0.06656236481758367,
          0.6071611139142862,
          -0.2086185228188934,
          -0.6639641879325863,
          1.0091151944427543,
          -0.45485719742929204,
          0.7407282713470051,
          0.7926935792564782,
          0.8401881183890121,
          0.9707636921175228,
          -0.8331596615803011,
          -0.6412226880173394,
          0.5776137452811525,
          -0.709783389228246,
          0.06455705181996911,
          1.5612392254536525,
          0.6579971954098929,
          -0.1399662625786303,
          1.1855510000724214
         ]
        },
        {
         "marker": {
          "color": "rgba(55, 128, 191, 0.6)",
          "line": {
           "color": "rgba(55, 128, 191, 1.0)",
           "width": 1
          }
         },
         "name": "B",
         "orientation": "v",
         "text": "",
         "type": "bar",
         "x": [
          0,
          1,
          2,
          3,
          4,
          5,
          6,
          7,
          8,
          9,
          10,
          11,
          12,
          13,
          14,
          15,
          16,
          17,
          18,
          19,
          20,
          21,
          22,
          23,
          24,
          25,
          26,
          27,
          28,
          29,
          30,
          31,
          32,
          33,
          34,
          35,
          36,
          37,
          38,
          39,
          40,
          41,
          42,
          43,
          44,
          45,
          46,
          47,
          48,
          49,
          50,
          51,
          52,
          53,
          54,
          55,
          56,
          57,
          58,
          59,
          60,
          61,
          62,
          63,
          64,
          65,
          66,
          67,
          68,
          69,
          70,
          71,
          72,
          73,
          74,
          75,
          76,
          77,
          78,
          79,
          80,
          81,
          82,
          83,
          84,
          85,
          86,
          87,
          88,
          89,
          90,
          91,
          92,
          93,
          94,
          95,
          96,
          97,
          98,
          99
         ],
         "y": [
          0.17706896277187162,
          -0.6249373118454554,
          0.3272590749722181,
          -0.9940401674343684,
          -2.530950849847117,
          0.2636658317371174,
          1.354219131183047,
          0.6643474062171079,
          -1.6533612970498077,
          0.7416715750244077,
          -0.9932428321735989,
          -0.6414343494166856,
          0.8299153265150462,
          -1.021986403702533,
          0.8987779717506097,
          1.0164569804648547,
          -0.35952334786171086,
          1.1094843584394358,
          1.5121019739205415,
          -0.2604947937239252,
          -0.3690942205578536,
          0.3615252687732477,
          -1.025107085234413,
          -1.4493849627756665,
          -0.8199570845444943,
          0.4505595988304898,
          1.1605376269740642,
          -1.188009381927696,
          0.6787286337625219,
          0.8039586299595403,
          -3.0833656542362573,
          1.269449272266462,
          -0.3149057116993393,
          -1.2939815954736011,
          0.12182680125676709,
          0.33006216460025506,
          0.21363583429407815,
          1.6588885458762022,
          -0.19557754724933765,
          1.0547923730917923,
          0.6954831684772481,
          -0.34584471468312034,
          0.6057788359167456,
          0.1590495270200915,
          1.5273126423059864,
          0.348566619616232,
          -0.18952539532798401,
          0.6252396166243234,
          1.1062954259320954,
          -0.687910545726598,
          -0.9078626099526047,
          0.48194398183866477,
          0.5342528457953383,
          -0.23774105751875005,
          0.06247792047270879,
          -0.3363551491205612,
          -1.4667065221044309,
          0.0951224432524548,
          1.0856472862022295,
          -0.5269712156766507,
          -0.3898477752743443,
          0.6154660142894058,
          -1.7415795762625443,
          -0.316102495625554,
          -0.02737132768909968,
          -1.6443310620854097,
          -1.456726450295568,
          -0.54900368339122,
          0.6835144512512027,
          0.6592334242785094,
          -0.7801848924134268,
          0.055159435884052276,
          -0.41360718927975393,
          -0.6787915069209751,
          0.1528205833072065,
          -1.241618365094969,
          -0.11126935795339148,
          1.0446944850176876,
          -0.39328046132648636,
          -0.9198930417706479,
          1.5521279360686067,
          -0.5390003413131172,
          -0.2064753229521223,
          0.6444836441877287,
          -2.490722034504807,
          0.11470952204713913,
          1.2685106961111818,
          1.1869956882656112,
          -0.5344110224171819,
          -1.2146728790266499,
          -0.2380292931578603,
          0.35164800826546266,
          0.6321143673388616,
          -1.8475654305346552,
          0.31649382271570314,
          -0.9371543855285568,
          1.314046527434895,
          -0.12930965638675102,
          -0.2226154810643709,
          0.9161026149352096
         ]
        },
        {
         "marker": {
          "color": "rgba(50, 171, 96, 0.6)",
          "line": {
           "color": "rgba(50, 171, 96, 1.0)",
           "width": 1
          }
         },
         "name": "C",
         "orientation": "v",
         "text": "",
         "type": "bar",
         "x": [
          0,
          1,
          2,
          3,
          4,
          5,
          6,
          7,
          8,
          9,
          10,
          11,
          12,
          13,
          14,
          15,
          16,
          17,
          18,
          19,
          20,
          21,
          22,
          23,
          24,
          25,
          26,
          27,
          28,
          29,
          30,
          31,
          32,
          33,
          34,
          35,
          36,
          37,
          38,
          39,
          40,
          41,
          42,
          43,
          44,
          45,
          46,
          47,
          48,
          49,
          50,
          51,
          52,
          53,
          54,
          55,
          56,
          57,
          58,
          59,
          60,
          61,
          62,
          63,
          64,
          65,
          66,
          67,
          68,
          69,
          70,
          71,
          72,
          73,
          74,
          75,
          76,
          77,
          78,
          79,
          80,
          81,
          82,
          83,
          84,
          85,
          86,
          87,
          88,
          89,
          90,
          91,
          92,
          93,
          94,
          95,
          96,
          97,
          98,
          99
         ],
         "y": [
          -2.392449090745727,
          -1.0617610195517124,
          2.217577774879199,
          -2.1779444355321353,
          -0.8121055877240545,
          -0.7746532570244032,
          0.7030526756647797,
          1.5960705297915396,
          0.9697825046201582,
          0.09654561836098974,
          -0.4111470689105436,
          -1.714433409650028,
          0.9305071704462848,
          -0.34927440847572006,
          -1.2836356184490894,
          0.37071448751114106,
          -1.0065758264180849,
          -0.21234678778496685,
          1.4548132175994113,
          1.367560293167318,
          -0.3834926316147219,
          -1.1162160395077914,
          0.27014406239797,
          -1.8241545117574738,
          -0.5719640611581355,
          0.35064663858170936,
          -0.11607432917288818,
          -1.2130003627713901,
          0.1944688606000843,
          0.9473014612309798,
          -0.3771930345287786,
          0.3150503017865192,
          0.7941128256660478,
          -0.16901109098163897,
          0.7857527425599498,
          0.20501827976607556,
          -0.30329038211263465,
          1.2967584326539083,
          0.015311590896882568,
          1.2046927466472341,
          0.24295398729853393,
          1.507870989115243,
          -1.3620291934431374,
          -1.2029309697776815,
          -1.33851449728627,
          -0.4400825665526056,
          -0.4640808404095627,
          1.1453226418826887,
          -0.5316768403463288,
          -0.6244809450309862,
          -0.11946151940180644,
          2.56150376466554,
          0.18471940380253912,
          0.663430075062486,
          -2.3085509848434023,
          1.7976013757255478,
          -0.6904563964744526,
          2.7909713645302636,
          -0.6428921267102796,
          -0.5822092806174856,
          0.9513219009855614,
          0.0686603140688749,
          1.320262270992589,
          -0.9285445800039841,
          -0.5554649960632836,
          0.4764140059804784,
          -1.4463556836268234,
          -1.2631022186673608,
          -2.9247977287174445,
          0.9090892062818072,
          1.6423475047197922,
          -1.3001758539335535,
          -1.1808477175120704,
          0.2705472095520638,
          1.0876381779091167,
          -0.17523884543821572,
          -0.1334008391090635,
          0.5147391648902362,
          0.6751204577550315,
          -0.6178474564556888,
          -1.689505147493363,
          0.4374628571706745,
          -1.562310762800644,
          -0.2504486862566129,
          0.8744056262125431,
          -0.7753440359013597,
          0.4321155399840242,
          -0.10522895301904903,
          0.3050607058928969,
          -0.9462718881676678,
          -1.318911504859071,
          -1.8950386360261857,
          0.14491189531719736,
          0.21966745452151398,
          0.6822693670204852,
          2.7793665898883817,
          -0.45363989798818377,
          0.5958180244618567,
          -0.20141467567739665,
          0.27809903575079464
         ]
        },
        {
         "marker": {
          "color": "rgba(128, 0, 128, 0.6)",
          "line": {
           "color": "rgba(128, 0, 128, 1.0)",
           "width": 1
          }
         },
         "name": "D",
         "orientation": "v",
         "text": "",
         "type": "bar",
         "x": [
          0,
          1,
          2,
          3,
          4,
          5,
          6,
          7,
          8,
          9,
          10,
          11,
          12,
          13,
          14,
          15,
          16,
          17,
          18,
          19,
          20,
          21,
          22,
          23,
          24,
          25,
          26,
          27,
          28,
          29,
          30,
          31,
          32,
          33,
          34,
          35,
          36,
          37,
          38,
          39,
          40,
          41,
          42,
          43,
          44,
          45,
          46,
          47,
          48,
          49,
          50,
          51,
          52,
          53,
          54,
          55,
          56,
          57,
          58,
          59,
          60,
          61,
          62,
          63,
          64,
          65,
          66,
          67,
          68,
          69,
          70,
          71,
          72,
          73,
          74,
          75,
          76,
          77,
          78,
          79,
          80,
          81,
          82,
          83,
          84,
          85,
          86,
          87,
          88,
          89,
          90,
          91,
          92,
          93,
          94,
          95,
          96,
          97,
          98,
          99
         ],
         "y": [
          1.1799654205219414,
          -0.900168005349071,
          -0.04451479704022886,
          1.0653684715245106,
          0.1764817562654781,
          -0.8349127232369903,
          -0.6960952821297788,
          -1.9455580284231706,
          1.0533620636016847,
          0.09333401668230523,
          -1.6060535940338903,
          1.2594127954087435,
          -1.4065403106576317,
          0.2339046800235441,
          -0.3990753387793068,
          0.14615553406265083,
          -0.22350669947064497,
          0.640765174595041,
          -0.01781445016880167,
          0.03805637164732594,
          -0.5319945548529844,
          0.48867166111317945,
          0.984428316137575,
          -0.03300147507971211,
          -0.4460017887530481,
          0.6605359725750817,
          1.0419966648711196,
          0.3102082312382125,
          0.4790833644265756,
          0.3011265455026397,
          0.7106774292313758,
          -1.8873548298757337,
          -0.5137549468477939,
          0.8398922989685574,
          1.0871651095232162,
          -0.6095935911603446,
          -0.9572471512220628,
          -0.09168866772342649,
          0.9006727983883414,
          -0.5324291315386876,
          -1.726570160418048,
          1.0140854466616918,
          0.07895740073962702,
          0.028232441746865927,
          0.1292868222577738,
          -0.47837331868394956,
          1.3766507537397314,
          1.95145601238955,
          0.506741706843716,
          1.2533742976373865,
          -0.3619270048935121,
          -0.8616935877086113,
          -0.2655896252796371,
          0.2271565839704893,
          2.4137730541621982,
          0.9732167058624435,
          1.9659798542459828,
          1.0949859809977442,
          0.5445608800317912,
          -0.17559363806582184,
          -0.17602397006631898,
          2.126044789094438,
          -0.2679660738387135,
          -0.5899014259574387,
          0.8233918972239539,
          0.5982102131868876,
          -0.23974548763690395,
          -0.7625645661411272,
          2.131255846154423,
          -0.16089139609515746,
          0.18381944256905272,
          0.2267617909081373,
          0.7803127983852142,
          0.20624611159253428,
          -0.29663636897520196,
          0.35153327070056284,
          0.2533433329388325,
          1.3385403406301426,
          0.39338621737609836,
          -1.2594537167617184,
          0.7822207461721324,
          -0.996742549160656,
          0.35159121972752716,
          -1.814256381533014,
          -0.37513101639477564,
          0.750078538828769,
          0.46153055686012423,
          1.0646275597072927,
          -1.473212781815409,
          -0.29988514652464204,
          0.0250383601161776,
          -1.2807437185006134,
          -0.04386155936399598,
          -0.5689608056658727,
          1.3878061561455213,
          -0.038124352960860156,
          -0.10663655667386701,
          -0.7727476047248021,
          -2.0244093820446296,
          0.16588996022679559
         ]
        }
       ],
       "layout": {
        "legend": {
         "bgcolor": "#F5F6F9",
         "font": {
          "color": "#4D5663"
         }
        },
        "paper_bgcolor": "#F5F6F9",
        "plot_bgcolor": "#F5F6F9",
        "template": {
         "data": {
          "bar": [
           {
            "error_x": {
             "color": "#2a3f5f"
            },
            "error_y": {
             "color": "#2a3f5f"
            },
            "marker": {
             "line": {
              "color": "#E5ECF6",
              "width": 0.5
             }
            },
            "type": "bar"
           }
          ],
          "barpolar": [
           {
            "marker": {
             "line": {
              "color": "#E5ECF6",
              "width": 0.5
             }
            },
            "type": "barpolar"
           }
          ],
          "carpet": [
           {
            "aaxis": {
             "endlinecolor": "#2a3f5f",
             "gridcolor": "white",
             "linecolor": "white",
             "minorgridcolor": "white",
             "startlinecolor": "#2a3f5f"
            },
            "baxis": {
             "endlinecolor": "#2a3f5f",
             "gridcolor": "white",
             "linecolor": "white",
             "minorgridcolor": "white",
             "startlinecolor": "#2a3f5f"
            },
            "type": "carpet"
           }
          ],
          "choropleth": [
           {
            "colorbar": {
             "outlinewidth": 0,
             "ticks": ""
            },
            "type": "choropleth"
           }
          ],
          "contour": [
           {
            "colorbar": {
             "outlinewidth": 0,
             "ticks": ""
            },
            "colorscale": [
             [
              0,
              "#0d0887"
             ],
             [
              0.1111111111111111,
              "#46039f"
             ],
             [
              0.2222222222222222,
              "#7201a8"
             ],
             [
              0.3333333333333333,
              "#9c179e"
             ],
             [
              0.4444444444444444,
              "#bd3786"
             ],
             [
              0.5555555555555556,
              "#d8576b"
             ],
             [
              0.6666666666666666,
              "#ed7953"
             ],
             [
              0.7777777777777778,
              "#fb9f3a"
             ],
             [
              0.8888888888888888,
              "#fdca26"
             ],
             [
              1,
              "#f0f921"
             ]
            ],
            "type": "contour"
           }
          ],
          "contourcarpet": [
           {
            "colorbar": {
             "outlinewidth": 0,
             "ticks": ""
            },
            "type": "contourcarpet"
           }
          ],
          "heatmap": [
           {
            "colorbar": {
             "outlinewidth": 0,
             "ticks": ""
            },
            "colorscale": [
             [
              0,
              "#0d0887"
             ],
             [
              0.1111111111111111,
              "#46039f"
             ],
             [
              0.2222222222222222,
              "#7201a8"
             ],
             [
              0.3333333333333333,
              "#9c179e"
             ],
             [
              0.4444444444444444,
              "#bd3786"
             ],
             [
              0.5555555555555556,
              "#d8576b"
             ],
             [
              0.6666666666666666,
              "#ed7953"
             ],
             [
              0.7777777777777778,
              "#fb9f3a"
             ],
             [
              0.8888888888888888,
              "#fdca26"
             ],
             [
              1,
              "#f0f921"
             ]
            ],
            "type": "heatmap"
           }
          ],
          "heatmapgl": [
           {
            "colorbar": {
             "outlinewidth": 0,
             "ticks": ""
            },
            "colorscale": [
             [
              0,
              "#0d0887"
             ],
             [
              0.1111111111111111,
              "#46039f"
             ],
             [
              0.2222222222222222,
              "#7201a8"
             ],
             [
              0.3333333333333333,
              "#9c179e"
             ],
             [
              0.4444444444444444,
              "#bd3786"
             ],
             [
              0.5555555555555556,
              "#d8576b"
             ],
             [
              0.6666666666666666,
              "#ed7953"
             ],
             [
              0.7777777777777778,
              "#fb9f3a"
             ],
             [
              0.8888888888888888,
              "#fdca26"
             ],
             [
              1,
              "#f0f921"
             ]
            ],
            "type": "heatmapgl"
           }
          ],
          "histogram": [
           {
            "marker": {
             "colorbar": {
              "outlinewidth": 0,
              "ticks": ""
             }
            },
            "type": "histogram"
           }
          ],
          "histogram2d": [
           {
            "colorbar": {
             "outlinewidth": 0,
             "ticks": ""
            },
            "colorscale": [
             [
              0,
              "#0d0887"
             ],
             [
              0.1111111111111111,
              "#46039f"
             ],
             [
              0.2222222222222222,
              "#7201a8"
             ],
             [
              0.3333333333333333,
              "#9c179e"
             ],
             [
              0.4444444444444444,
              "#bd3786"
             ],
             [
              0.5555555555555556,
              "#d8576b"
             ],
             [
              0.6666666666666666,
              "#ed7953"
             ],
             [
              0.7777777777777778,
              "#fb9f3a"
             ],
             [
              0.8888888888888888,
              "#fdca26"
             ],
             [
              1,
              "#f0f921"
             ]
            ],
            "type": "histogram2d"
           }
          ],
          "histogram2dcontour": [
           {
            "colorbar": {
             "outlinewidth": 0,
             "ticks": ""
            },
            "colorscale": [
             [
              0,
              "#0d0887"
             ],
             [
              0.1111111111111111,
              "#46039f"
             ],
             [
              0.2222222222222222,
              "#7201a8"
             ],
             [
              0.3333333333333333,
              "#9c179e"
             ],
             [
              0.4444444444444444,
              "#bd3786"
             ],
             [
              0.5555555555555556,
              "#d8576b"
             ],
             [
              0.6666666666666666,
              "#ed7953"
             ],
             [
              0.7777777777777778,
              "#fb9f3a"
             ],
             [
              0.8888888888888888,
              "#fdca26"
             ],
             [
              1,
              "#f0f921"
             ]
            ],
            "type": "histogram2dcontour"
           }
          ],
          "mesh3d": [
           {
            "colorbar": {
             "outlinewidth": 0,
             "ticks": ""
            },
            "type": "mesh3d"
           }
          ],
          "parcoords": [
           {
            "line": {
             "colorbar": {
              "outlinewidth": 0,
              "ticks": ""
             }
            },
            "type": "parcoords"
           }
          ],
          "pie": [
           {
            "automargin": true,
            "type": "pie"
           }
          ],
          "scatter": [
           {
            "marker": {
             "colorbar": {
              "outlinewidth": 0,
              "ticks": ""
             }
            },
            "type": "scatter"
           }
          ],
          "scatter3d": [
           {
            "line": {
             "colorbar": {
              "outlinewidth": 0,
              "ticks": ""
             }
            },
            "marker": {
             "colorbar": {
              "outlinewidth": 0,
              "ticks": ""
             }
            },
            "type": "scatter3d"
           }
          ],
          "scattercarpet": [
           {
            "marker": {
             "colorbar": {
              "outlinewidth": 0,
              "ticks": ""
             }
            },
            "type": "scattercarpet"
           }
          ],
          "scattergeo": [
           {
            "marker": {
             "colorbar": {
              "outlinewidth": 0,
              "ticks": ""
             }
            },
            "type": "scattergeo"
           }
          ],
          "scattergl": [
           {
            "marker": {
             "colorbar": {
              "outlinewidth": 0,
              "ticks": ""
             }
            },
            "type": "scattergl"
           }
          ],
          "scattermapbox": [
           {
            "marker": {
             "colorbar": {
              "outlinewidth": 0,
              "ticks": ""
             }
            },
            "type": "scattermapbox"
           }
          ],
          "scatterpolar": [
           {
            "marker": {
             "colorbar": {
              "outlinewidth": 0,
              "ticks": ""
             }
            },
            "type": "scatterpolar"
           }
          ],
          "scatterpolargl": [
           {
            "marker": {
             "colorbar": {
              "outlinewidth": 0,
              "ticks": ""
             }
            },
            "type": "scatterpolargl"
           }
          ],
          "scatterternary": [
           {
            "marker": {
             "colorbar": {
              "outlinewidth": 0,
              "ticks": ""
             }
            },
            "type": "scatterternary"
           }
          ],
          "surface": [
           {
            "colorbar": {
             "outlinewidth": 0,
             "ticks": ""
            },
            "colorscale": [
             [
              0,
              "#0d0887"
             ],
             [
              0.1111111111111111,
              "#46039f"
             ],
             [
              0.2222222222222222,
              "#7201a8"
             ],
             [
              0.3333333333333333,
              "#9c179e"
             ],
             [
              0.4444444444444444,
              "#bd3786"
             ],
             [
              0.5555555555555556,
              "#d8576b"
             ],
             [
              0.6666666666666666,
              "#ed7953"
             ],
             [
              0.7777777777777778,
              "#fb9f3a"
             ],
             [
              0.8888888888888888,
              "#fdca26"
             ],
             [
              1,
              "#f0f921"
             ]
            ],
            "type": "surface"
           }
          ],
          "table": [
           {
            "cells": {
             "fill": {
              "color": "#EBF0F8"
             },
             "line": {
              "color": "white"
             }
            },
            "header": {
             "fill": {
              "color": "#C8D4E3"
             },
             "line": {
              "color": "white"
             }
            },
            "type": "table"
           }
          ]
         },
         "layout": {
          "annotationdefaults": {
           "arrowcolor": "#2a3f5f",
           "arrowhead": 0,
           "arrowwidth": 1
          },
          "autotypenumbers": "strict",
          "coloraxis": {
           "colorbar": {
            "outlinewidth": 0,
            "ticks": ""
           }
          },
          "colorscale": {
           "diverging": [
            [
             0,
             "#8e0152"
            ],
            [
             0.1,
             "#c51b7d"
            ],
            [
             0.2,
             "#de77ae"
            ],
            [
             0.3,
             "#f1b6da"
            ],
            [
             0.4,
             "#fde0ef"
            ],
            [
             0.5,
             "#f7f7f7"
            ],
            [
             0.6,
             "#e6f5d0"
            ],
            [
             0.7,
             "#b8e186"
            ],
            [
             0.8,
             "#7fbc41"
            ],
            [
             0.9,
             "#4d9221"
            ],
            [
             1,
             "#276419"
            ]
           ],
           "sequential": [
            [
             0,
             "#0d0887"
            ],
            [
             0.1111111111111111,
             "#46039f"
            ],
            [
             0.2222222222222222,
             "#7201a8"
            ],
            [
             0.3333333333333333,
             "#9c179e"
            ],
            [
             0.4444444444444444,
             "#bd3786"
            ],
            [
             0.5555555555555556,
             "#d8576b"
            ],
            [
             0.6666666666666666,
             "#ed7953"
            ],
            [
             0.7777777777777778,
             "#fb9f3a"
            ],
            [
             0.8888888888888888,
             "#fdca26"
            ],
            [
             1,
             "#f0f921"
            ]
           ],
           "sequentialminus": [
            [
             0,
             "#0d0887"
            ],
            [
             0.1111111111111111,
             "#46039f"
            ],
            [
             0.2222222222222222,
             "#7201a8"
            ],
            [
             0.3333333333333333,
             "#9c179e"
            ],
            [
             0.4444444444444444,
             "#bd3786"
            ],
            [
             0.5555555555555556,
             "#d8576b"
            ],
            [
             0.6666666666666666,
             "#ed7953"
            ],
            [
             0.7777777777777778,
             "#fb9f3a"
            ],
            [
             0.8888888888888888,
             "#fdca26"
            ],
            [
             1,
             "#f0f921"
            ]
           ]
          },
          "colorway": [
           "#636efa",
           "#EF553B",
           "#00cc96",
           "#ab63fa",
           "#FFA15A",
           "#19d3f3",
           "#FF6692",
           "#B6E880",
           "#FF97FF",
           "#FECB52"
          ],
          "font": {
           "color": "#2a3f5f"
          },
          "geo": {
           "bgcolor": "white",
           "lakecolor": "white",
           "landcolor": "#E5ECF6",
           "showlakes": true,
           "showland": true,
           "subunitcolor": "white"
          },
          "hoverlabel": {
           "align": "left"
          },
          "hovermode": "closest",
          "mapbox": {
           "style": "light"
          },
          "paper_bgcolor": "white",
          "plot_bgcolor": "#E5ECF6",
          "polar": {
           "angularaxis": {
            "gridcolor": "white",
            "linecolor": "white",
            "ticks": ""
           },
           "bgcolor": "#E5ECF6",
           "radialaxis": {
            "gridcolor": "white",
            "linecolor": "white",
            "ticks": ""
           }
          },
          "scene": {
           "xaxis": {
            "backgroundcolor": "#E5ECF6",
            "gridcolor": "white",
            "gridwidth": 2,
            "linecolor": "white",
            "showbackground": true,
            "ticks": "",
            "zerolinecolor": "white"
           },
           "yaxis": {
            "backgroundcolor": "#E5ECF6",
            "gridcolor": "white",
            "gridwidth": 2,
            "linecolor": "white",
            "showbackground": true,
            "ticks": "",
            "zerolinecolor": "white"
           },
           "zaxis": {
            "backgroundcolor": "#E5ECF6",
            "gridcolor": "white",
            "gridwidth": 2,
            "linecolor": "white",
            "showbackground": true,
            "ticks": "",
            "zerolinecolor": "white"
           }
          },
          "shapedefaults": {
           "line": {
            "color": "#2a3f5f"
           }
          },
          "ternary": {
           "aaxis": {
            "gridcolor": "white",
            "linecolor": "white",
            "ticks": ""
           },
           "baxis": {
            "gridcolor": "white",
            "linecolor": "white",
            "ticks": ""
           },
           "bgcolor": "#E5ECF6",
           "caxis": {
            "gridcolor": "white",
            "linecolor": "white",
            "ticks": ""
           }
          },
          "title": {
           "x": 0.05
          },
          "xaxis": {
           "automargin": true,
           "gridcolor": "white",
           "linecolor": "white",
           "ticks": "",
           "title": {
            "standoff": 15
           },
           "zerolinecolor": "white",
           "zerolinewidth": 2
          },
          "yaxis": {
           "automargin": true,
           "gridcolor": "white",
           "linecolor": "white",
           "ticks": "",
           "title": {
            "standoff": 15
           },
           "zerolinecolor": "white",
           "zerolinewidth": 2
          }
         }
        },
        "title": {
         "font": {
          "color": "#4D5663"
         }
        },
        "xaxis": {
         "gridcolor": "#E1E5ED",
         "showgrid": true,
         "tickfont": {
          "color": "#4D5663"
         },
         "title": {
          "font": {
           "color": "#4D5663"
          },
          "text": ""
         },
         "zerolinecolor": "#E1E5ED"
        },
        "yaxis": {
         "gridcolor": "#E1E5ED",
         "showgrid": true,
         "tickfont": {
          "color": "#4D5663"
         },
         "title": {
          "font": {
           "color": "#4D5663"
          },
          "text": ""
         },
         "zerolinecolor": "#E1E5ED"
        }
       }
      },
      "text/html": [
       "<div>                            <div id=\"d3a1e27c-4aa9-42fb-9b05-23b409fb63cf\" class=\"plotly-graph-div\" style=\"height:525px; width:100%;\"></div>            <script type=\"text/javascript\">                require([\"plotly\"], function(Plotly) {                    window.PLOTLYENV=window.PLOTLYENV || {};\n",
       "                    window.PLOTLYENV.BASE_URL='https://plot.ly';                                    if (document.getElementById(\"d3a1e27c-4aa9-42fb-9b05-23b409fb63cf\")) {                    Plotly.newPlot(                        \"d3a1e27c-4aa9-42fb-9b05-23b409fb63cf\",                        [{\"marker\": {\"color\": \"rgba(255, 153, 51, 0.6)\", \"line\": {\"color\": \"rgba(255, 153, 51, 1.0)\", \"width\": 1}}, \"name\": \"A\", \"orientation\": \"v\", \"text\": \"\", \"type\": \"bar\", \"x\": [0, 1, 2, 3, 4, 5, 6, 7, 8, 9, 10, 11, 12, 13, 14, 15, 16, 17, 18, 19, 20, 21, 22, 23, 24, 25, 26, 27, 28, 29, 30, 31, 32, 33, 34, 35, 36, 37, 38, 39, 40, 41, 42, 43, 44, 45, 46, 47, 48, 49, 50, 51, 52, 53, 54, 55, 56, 57, 58, 59, 60, 61, 62, 63, 64, 65, 66, 67, 68, 69, 70, 71, 72, 73, 74, 75, 76, 77, 78, 79, 80, 81, 82, 83, 84, 85, 86, 87, 88, 89, 90, 91, 92, 93, 94, 95, 96, 97, 98, 99], \"y\": [0.2803514486783903, -1.3529818744563427, 0.5349335415489098, -0.46485644825077904, 0.23995054472161614, 0.015400907103716222, -0.2916104698915431, -0.23667497168901144, -0.6960369293674991, 0.05795719862127771, -2.707673763127651, 0.7613704053442429, 0.3038232136903593, 0.47448335399814273, -0.164943487319802, -0.1746685114526522, 0.2737289201669528, -1.595378768993628, -1.5108845426369344, 0.24616265746478627, 0.3065102838166673, 0.5813583720340318, 0.6865830735731809, -0.6258184147645117, -0.5546572199896735, -0.7466622678544448, -0.7270465111699874, -0.47816758216383126, -0.6669280389560786, 0.76101743324588, -0.013679710392465254, 1.2232943573945159, 2.5559833518724893, -0.07060403482627899, 0.13004671884714766, -0.45520923256722334, 0.29918460014033516, -0.5924241017540582, -0.15759225564599727, -1.4004988620018581, -1.7732366422243238, 0.19030716935011002, -1.8019881668928215, -0.557204660426035, -0.44856054866864037, -1.4060925644133255, -1.022320245094843, -0.8941673627250798, -2.245692439956184, 0.2521689296172425, 0.07855183616603281, -1.880184235826735, -0.3547545024536497, -0.15901492812930434, 1.4885512061851904, 1.154473168088508, 0.3506429831171856, 0.033939225063162694, -0.745605997038604, -0.08313589301236117, -0.40493746348498305, -0.41768247476306836, -0.4717648718246529, -1.1171886583955546, -2.129045780023768, -1.4832090385240868, -0.9441306566317546, 1.322478523659654, 0.42861599484286816, -0.009349041903356899, -1.116475110689967, -1.604227395364169, -2.6458410752338737, 0.11056779914131323, -0.4965388245769563, 0.17496256936776317, -0.2188956562305676, 0.6945059949492234, -1.5537040988224653, -0.4187519315700034, -1.5423386677726243, 0.06656236481758367, 0.6071611139142862, -0.2086185228188934, -0.6639641879325863, 1.0091151944427543, -0.45485719742929204, 0.7407282713470051, 0.7926935792564782, 0.8401881183890121, 0.9707636921175228, -0.8331596615803011, -0.6412226880173394, 0.5776137452811525, -0.709783389228246, 0.06455705181996911, 1.5612392254536525, 0.6579971954098929, -0.1399662625786303, 1.1855510000724214]}, {\"marker\": {\"color\": \"rgba(55, 128, 191, 0.6)\", \"line\": {\"color\": \"rgba(55, 128, 191, 1.0)\", \"width\": 1}}, \"name\": \"B\", \"orientation\": \"v\", \"text\": \"\", \"type\": \"bar\", \"x\": [0, 1, 2, 3, 4, 5, 6, 7, 8, 9, 10, 11, 12, 13, 14, 15, 16, 17, 18, 19, 20, 21, 22, 23, 24, 25, 26, 27, 28, 29, 30, 31, 32, 33, 34, 35, 36, 37, 38, 39, 40, 41, 42, 43, 44, 45, 46, 47, 48, 49, 50, 51, 52, 53, 54, 55, 56, 57, 58, 59, 60, 61, 62, 63, 64, 65, 66, 67, 68, 69, 70, 71, 72, 73, 74, 75, 76, 77, 78, 79, 80, 81, 82, 83, 84, 85, 86, 87, 88, 89, 90, 91, 92, 93, 94, 95, 96, 97, 98, 99], \"y\": [0.17706896277187162, -0.6249373118454554, 0.3272590749722181, -0.9940401674343684, -2.530950849847117, 0.2636658317371174, 1.354219131183047, 0.6643474062171079, -1.6533612970498077, 0.7416715750244077, -0.9932428321735989, -0.6414343494166856, 0.8299153265150462, -1.021986403702533, 0.8987779717506097, 1.0164569804648547, -0.35952334786171086, 1.1094843584394358, 1.5121019739205415, -0.2604947937239252, -0.3690942205578536, 0.3615252687732477, -1.025107085234413, -1.4493849627756665, -0.8199570845444943, 0.4505595988304898, 1.1605376269740642, -1.188009381927696, 0.6787286337625219, 0.8039586299595403, -3.0833656542362573, 1.269449272266462, -0.3149057116993393, -1.2939815954736011, 0.12182680125676709, 0.33006216460025506, 0.21363583429407815, 1.6588885458762022, -0.19557754724933765, 1.0547923730917923, 0.6954831684772481, -0.34584471468312034, 0.6057788359167456, 0.1590495270200915, 1.5273126423059864, 0.348566619616232, -0.18952539532798401, 0.6252396166243234, 1.1062954259320954, -0.687910545726598, -0.9078626099526047, 0.48194398183866477, 0.5342528457953383, -0.23774105751875005, 0.06247792047270879, -0.3363551491205612, -1.4667065221044309, 0.0951224432524548, 1.0856472862022295, -0.5269712156766507, -0.3898477752743443, 0.6154660142894058, -1.7415795762625443, -0.316102495625554, -0.02737132768909968, -1.6443310620854097, -1.456726450295568, -0.54900368339122, 0.6835144512512027, 0.6592334242785094, -0.7801848924134268, 0.055159435884052276, -0.41360718927975393, -0.6787915069209751, 0.1528205833072065, -1.241618365094969, -0.11126935795339148, 1.0446944850176876, -0.39328046132648636, -0.9198930417706479, 1.5521279360686067, -0.5390003413131172, -0.2064753229521223, 0.6444836441877287, -2.490722034504807, 0.11470952204713913, 1.2685106961111818, 1.1869956882656112, -0.5344110224171819, -1.2146728790266499, -0.2380292931578603, 0.35164800826546266, 0.6321143673388616, -1.8475654305346552, 0.31649382271570314, -0.9371543855285568, 1.314046527434895, -0.12930965638675102, -0.2226154810643709, 0.9161026149352096]}, {\"marker\": {\"color\": \"rgba(50, 171, 96, 0.6)\", \"line\": {\"color\": \"rgba(50, 171, 96, 1.0)\", \"width\": 1}}, \"name\": \"C\", \"orientation\": \"v\", \"text\": \"\", \"type\": \"bar\", \"x\": [0, 1, 2, 3, 4, 5, 6, 7, 8, 9, 10, 11, 12, 13, 14, 15, 16, 17, 18, 19, 20, 21, 22, 23, 24, 25, 26, 27, 28, 29, 30, 31, 32, 33, 34, 35, 36, 37, 38, 39, 40, 41, 42, 43, 44, 45, 46, 47, 48, 49, 50, 51, 52, 53, 54, 55, 56, 57, 58, 59, 60, 61, 62, 63, 64, 65, 66, 67, 68, 69, 70, 71, 72, 73, 74, 75, 76, 77, 78, 79, 80, 81, 82, 83, 84, 85, 86, 87, 88, 89, 90, 91, 92, 93, 94, 95, 96, 97, 98, 99], \"y\": [-2.392449090745727, -1.0617610195517124, 2.217577774879199, -2.1779444355321353, -0.8121055877240545, -0.7746532570244032, 0.7030526756647797, 1.5960705297915396, 0.9697825046201582, 0.09654561836098974, -0.4111470689105436, -1.714433409650028, 0.9305071704462848, -0.34927440847572006, -1.2836356184490894, 0.37071448751114106, -1.0065758264180849, -0.21234678778496685, 1.4548132175994113, 1.367560293167318, -0.3834926316147219, -1.1162160395077914, 0.27014406239797, -1.8241545117574738, -0.5719640611581355, 0.35064663858170936, -0.11607432917288818, -1.2130003627713901, 0.1944688606000843, 0.9473014612309798, -0.3771930345287786, 0.3150503017865192, 0.7941128256660478, -0.16901109098163897, 0.7857527425599498, 0.20501827976607556, -0.30329038211263465, 1.2967584326539083, 0.015311590896882568, 1.2046927466472341, 0.24295398729853393, 1.507870989115243, -1.3620291934431374, -1.2029309697776815, -1.33851449728627, -0.4400825665526056, -0.4640808404095627, 1.1453226418826887, -0.5316768403463288, -0.6244809450309862, -0.11946151940180644, 2.56150376466554, 0.18471940380253912, 0.663430075062486, -2.3085509848434023, 1.7976013757255478, -0.6904563964744526, 2.7909713645302636, -0.6428921267102796, -0.5822092806174856, 0.9513219009855614, 0.0686603140688749, 1.320262270992589, -0.9285445800039841, -0.5554649960632836, 0.4764140059804784, -1.4463556836268234, -1.2631022186673608, -2.9247977287174445, 0.9090892062818072, 1.6423475047197922, -1.3001758539335535, -1.1808477175120704, 0.2705472095520638, 1.0876381779091167, -0.17523884543821572, -0.1334008391090635, 0.5147391648902362, 0.6751204577550315, -0.6178474564556888, -1.689505147493363, 0.4374628571706745, -1.562310762800644, -0.2504486862566129, 0.8744056262125431, -0.7753440359013597, 0.4321155399840242, -0.10522895301904903, 0.3050607058928969, -0.9462718881676678, -1.318911504859071, -1.8950386360261857, 0.14491189531719736, 0.21966745452151398, 0.6822693670204852, 2.7793665898883817, -0.45363989798818377, 0.5958180244618567, -0.20141467567739665, 0.27809903575079464]}, {\"marker\": {\"color\": \"rgba(128, 0, 128, 0.6)\", \"line\": {\"color\": \"rgba(128, 0, 128, 1.0)\", \"width\": 1}}, \"name\": \"D\", \"orientation\": \"v\", \"text\": \"\", \"type\": \"bar\", \"x\": [0, 1, 2, 3, 4, 5, 6, 7, 8, 9, 10, 11, 12, 13, 14, 15, 16, 17, 18, 19, 20, 21, 22, 23, 24, 25, 26, 27, 28, 29, 30, 31, 32, 33, 34, 35, 36, 37, 38, 39, 40, 41, 42, 43, 44, 45, 46, 47, 48, 49, 50, 51, 52, 53, 54, 55, 56, 57, 58, 59, 60, 61, 62, 63, 64, 65, 66, 67, 68, 69, 70, 71, 72, 73, 74, 75, 76, 77, 78, 79, 80, 81, 82, 83, 84, 85, 86, 87, 88, 89, 90, 91, 92, 93, 94, 95, 96, 97, 98, 99], \"y\": [1.1799654205219414, -0.900168005349071, -0.04451479704022886, 1.0653684715245106, 0.1764817562654781, -0.8349127232369903, -0.6960952821297788, -1.9455580284231706, 1.0533620636016847, 0.09333401668230523, -1.6060535940338903, 1.2594127954087435, -1.4065403106576317, 0.2339046800235441, -0.3990753387793068, 0.14615553406265083, -0.22350669947064497, 0.640765174595041, -0.01781445016880167, 0.03805637164732594, -0.5319945548529844, 0.48867166111317945, 0.984428316137575, -0.03300147507971211, -0.4460017887530481, 0.6605359725750817, 1.0419966648711196, 0.3102082312382125, 0.4790833644265756, 0.3011265455026397, 0.7106774292313758, -1.8873548298757337, -0.5137549468477939, 0.8398922989685574, 1.0871651095232162, -0.6095935911603446, -0.9572471512220628, -0.09168866772342649, 0.9006727983883414, -0.5324291315386876, -1.726570160418048, 1.0140854466616918, 0.07895740073962702, 0.028232441746865927, 0.1292868222577738, -0.47837331868394956, 1.3766507537397314, 1.95145601238955, 0.506741706843716, 1.2533742976373865, -0.3619270048935121, -0.8616935877086113, -0.2655896252796371, 0.2271565839704893, 2.4137730541621982, 0.9732167058624435, 1.9659798542459828, 1.0949859809977442, 0.5445608800317912, -0.17559363806582184, -0.17602397006631898, 2.126044789094438, -0.2679660738387135, -0.5899014259574387, 0.8233918972239539, 0.5982102131868876, -0.23974548763690395, -0.7625645661411272, 2.131255846154423, -0.16089139609515746, 0.18381944256905272, 0.2267617909081373, 0.7803127983852142, 0.20624611159253428, -0.29663636897520196, 0.35153327070056284, 0.2533433329388325, 1.3385403406301426, 0.39338621737609836, -1.2594537167617184, 0.7822207461721324, -0.996742549160656, 0.35159121972752716, -1.814256381533014, -0.37513101639477564, 0.750078538828769, 0.46153055686012423, 1.0646275597072927, -1.473212781815409, -0.29988514652464204, 0.0250383601161776, -1.2807437185006134, -0.04386155936399598, -0.5689608056658727, 1.3878061561455213, -0.038124352960860156, -0.10663655667386701, -0.7727476047248021, -2.0244093820446296, 0.16588996022679559]}],                        {\"legend\": {\"bgcolor\": \"#F5F6F9\", \"font\": {\"color\": \"#4D5663\"}}, \"paper_bgcolor\": \"#F5F6F9\", \"plot_bgcolor\": \"#F5F6F9\", \"template\": {\"data\": {\"bar\": [{\"error_x\": {\"color\": \"#2a3f5f\"}, \"error_y\": {\"color\": \"#2a3f5f\"}, \"marker\": {\"line\": {\"color\": \"#E5ECF6\", \"width\": 0.5}}, \"type\": \"bar\"}], \"barpolar\": [{\"marker\": {\"line\": {\"color\": \"#E5ECF6\", \"width\": 0.5}}, \"type\": \"barpolar\"}], \"carpet\": [{\"aaxis\": {\"endlinecolor\": \"#2a3f5f\", \"gridcolor\": \"white\", \"linecolor\": \"white\", \"minorgridcolor\": \"white\", \"startlinecolor\": \"#2a3f5f\"}, \"baxis\": {\"endlinecolor\": \"#2a3f5f\", \"gridcolor\": \"white\", \"linecolor\": \"white\", \"minorgridcolor\": \"white\", \"startlinecolor\": \"#2a3f5f\"}, \"type\": \"carpet\"}], \"choropleth\": [{\"colorbar\": {\"outlinewidth\": 0, \"ticks\": \"\"}, \"type\": \"choropleth\"}], \"contour\": [{\"colorbar\": {\"outlinewidth\": 0, \"ticks\": \"\"}, \"colorscale\": [[0.0, \"#0d0887\"], [0.1111111111111111, \"#46039f\"], [0.2222222222222222, \"#7201a8\"], [0.3333333333333333, \"#9c179e\"], [0.4444444444444444, \"#bd3786\"], [0.5555555555555556, \"#d8576b\"], [0.6666666666666666, \"#ed7953\"], [0.7777777777777778, \"#fb9f3a\"], [0.8888888888888888, \"#fdca26\"], [1.0, \"#f0f921\"]], \"type\": \"contour\"}], \"contourcarpet\": [{\"colorbar\": {\"outlinewidth\": 0, \"ticks\": \"\"}, \"type\": \"contourcarpet\"}], \"heatmap\": [{\"colorbar\": {\"outlinewidth\": 0, \"ticks\": \"\"}, \"colorscale\": [[0.0, \"#0d0887\"], [0.1111111111111111, \"#46039f\"], [0.2222222222222222, \"#7201a8\"], [0.3333333333333333, \"#9c179e\"], [0.4444444444444444, \"#bd3786\"], [0.5555555555555556, \"#d8576b\"], [0.6666666666666666, \"#ed7953\"], [0.7777777777777778, \"#fb9f3a\"], [0.8888888888888888, \"#fdca26\"], [1.0, \"#f0f921\"]], \"type\": \"heatmap\"}], \"heatmapgl\": [{\"colorbar\": {\"outlinewidth\": 0, \"ticks\": \"\"}, \"colorscale\": [[0.0, \"#0d0887\"], [0.1111111111111111, \"#46039f\"], [0.2222222222222222, \"#7201a8\"], [0.3333333333333333, \"#9c179e\"], [0.4444444444444444, \"#bd3786\"], [0.5555555555555556, \"#d8576b\"], [0.6666666666666666, \"#ed7953\"], [0.7777777777777778, \"#fb9f3a\"], [0.8888888888888888, \"#fdca26\"], [1.0, \"#f0f921\"]], \"type\": \"heatmapgl\"}], \"histogram\": [{\"marker\": {\"colorbar\": {\"outlinewidth\": 0, \"ticks\": \"\"}}, \"type\": \"histogram\"}], \"histogram2d\": [{\"colorbar\": {\"outlinewidth\": 0, \"ticks\": \"\"}, \"colorscale\": [[0.0, \"#0d0887\"], [0.1111111111111111, \"#46039f\"], [0.2222222222222222, \"#7201a8\"], [0.3333333333333333, \"#9c179e\"], [0.4444444444444444, \"#bd3786\"], [0.5555555555555556, \"#d8576b\"], [0.6666666666666666, \"#ed7953\"], [0.7777777777777778, \"#fb9f3a\"], [0.8888888888888888, \"#fdca26\"], [1.0, \"#f0f921\"]], \"type\": \"histogram2d\"}], \"histogram2dcontour\": [{\"colorbar\": {\"outlinewidth\": 0, \"ticks\": \"\"}, \"colorscale\": [[0.0, \"#0d0887\"], [0.1111111111111111, \"#46039f\"], [0.2222222222222222, \"#7201a8\"], [0.3333333333333333, \"#9c179e\"], [0.4444444444444444, \"#bd3786\"], [0.5555555555555556, \"#d8576b\"], [0.6666666666666666, \"#ed7953\"], [0.7777777777777778, \"#fb9f3a\"], [0.8888888888888888, \"#fdca26\"], [1.0, \"#f0f921\"]], \"type\": \"histogram2dcontour\"}], \"mesh3d\": [{\"colorbar\": {\"outlinewidth\": 0, \"ticks\": \"\"}, \"type\": \"mesh3d\"}], \"parcoords\": [{\"line\": {\"colorbar\": {\"outlinewidth\": 0, \"ticks\": \"\"}}, \"type\": \"parcoords\"}], \"pie\": [{\"automargin\": true, \"type\": \"pie\"}], \"scatter\": [{\"marker\": {\"colorbar\": {\"outlinewidth\": 0, \"ticks\": \"\"}}, \"type\": \"scatter\"}], \"scatter3d\": [{\"line\": {\"colorbar\": {\"outlinewidth\": 0, \"ticks\": \"\"}}, \"marker\": {\"colorbar\": {\"outlinewidth\": 0, \"ticks\": \"\"}}, \"type\": \"scatter3d\"}], \"scattercarpet\": [{\"marker\": {\"colorbar\": {\"outlinewidth\": 0, \"ticks\": \"\"}}, \"type\": \"scattercarpet\"}], \"scattergeo\": [{\"marker\": {\"colorbar\": {\"outlinewidth\": 0, \"ticks\": \"\"}}, \"type\": \"scattergeo\"}], \"scattergl\": [{\"marker\": {\"colorbar\": {\"outlinewidth\": 0, \"ticks\": \"\"}}, \"type\": \"scattergl\"}], \"scattermapbox\": [{\"marker\": {\"colorbar\": {\"outlinewidth\": 0, \"ticks\": \"\"}}, \"type\": \"scattermapbox\"}], \"scatterpolar\": [{\"marker\": {\"colorbar\": {\"outlinewidth\": 0, \"ticks\": \"\"}}, \"type\": \"scatterpolar\"}], \"scatterpolargl\": [{\"marker\": {\"colorbar\": {\"outlinewidth\": 0, \"ticks\": \"\"}}, \"type\": \"scatterpolargl\"}], \"scatterternary\": [{\"marker\": {\"colorbar\": {\"outlinewidth\": 0, \"ticks\": \"\"}}, \"type\": \"scatterternary\"}], \"surface\": [{\"colorbar\": {\"outlinewidth\": 0, \"ticks\": \"\"}, \"colorscale\": [[0.0, \"#0d0887\"], [0.1111111111111111, \"#46039f\"], [0.2222222222222222, \"#7201a8\"], [0.3333333333333333, \"#9c179e\"], [0.4444444444444444, \"#bd3786\"], [0.5555555555555556, \"#d8576b\"], [0.6666666666666666, \"#ed7953\"], [0.7777777777777778, \"#fb9f3a\"], [0.8888888888888888, \"#fdca26\"], [1.0, \"#f0f921\"]], \"type\": \"surface\"}], \"table\": [{\"cells\": {\"fill\": {\"color\": \"#EBF0F8\"}, \"line\": {\"color\": \"white\"}}, \"header\": {\"fill\": {\"color\": \"#C8D4E3\"}, \"line\": {\"color\": \"white\"}}, \"type\": \"table\"}]}, \"layout\": {\"annotationdefaults\": {\"arrowcolor\": \"#2a3f5f\", \"arrowhead\": 0, \"arrowwidth\": 1}, \"autotypenumbers\": \"strict\", \"coloraxis\": {\"colorbar\": {\"outlinewidth\": 0, \"ticks\": \"\"}}, \"colorscale\": {\"diverging\": [[0, \"#8e0152\"], [0.1, \"#c51b7d\"], [0.2, \"#de77ae\"], [0.3, \"#f1b6da\"], [0.4, \"#fde0ef\"], [0.5, \"#f7f7f7\"], [0.6, \"#e6f5d0\"], [0.7, \"#b8e186\"], [0.8, \"#7fbc41\"], [0.9, \"#4d9221\"], [1, \"#276419\"]], \"sequential\": [[0.0, \"#0d0887\"], [0.1111111111111111, \"#46039f\"], [0.2222222222222222, \"#7201a8\"], [0.3333333333333333, \"#9c179e\"], [0.4444444444444444, \"#bd3786\"], [0.5555555555555556, \"#d8576b\"], [0.6666666666666666, \"#ed7953\"], [0.7777777777777778, \"#fb9f3a\"], [0.8888888888888888, \"#fdca26\"], [1.0, \"#f0f921\"]], \"sequentialminus\": [[0.0, \"#0d0887\"], [0.1111111111111111, \"#46039f\"], [0.2222222222222222, \"#7201a8\"], [0.3333333333333333, \"#9c179e\"], [0.4444444444444444, \"#bd3786\"], [0.5555555555555556, \"#d8576b\"], [0.6666666666666666, \"#ed7953\"], [0.7777777777777778, \"#fb9f3a\"], [0.8888888888888888, \"#fdca26\"], [1.0, \"#f0f921\"]]}, \"colorway\": [\"#636efa\", \"#EF553B\", \"#00cc96\", \"#ab63fa\", \"#FFA15A\", \"#19d3f3\", \"#FF6692\", \"#B6E880\", \"#FF97FF\", \"#FECB52\"], \"font\": {\"color\": \"#2a3f5f\"}, \"geo\": {\"bgcolor\": \"white\", \"lakecolor\": \"white\", \"landcolor\": \"#E5ECF6\", \"showlakes\": true, \"showland\": true, \"subunitcolor\": \"white\"}, \"hoverlabel\": {\"align\": \"left\"}, \"hovermode\": \"closest\", \"mapbox\": {\"style\": \"light\"}, \"paper_bgcolor\": \"white\", \"plot_bgcolor\": \"#E5ECF6\", \"polar\": {\"angularaxis\": {\"gridcolor\": \"white\", \"linecolor\": \"white\", \"ticks\": \"\"}, \"bgcolor\": \"#E5ECF6\", \"radialaxis\": {\"gridcolor\": \"white\", \"linecolor\": \"white\", \"ticks\": \"\"}}, \"scene\": {\"xaxis\": {\"backgroundcolor\": \"#E5ECF6\", \"gridcolor\": \"white\", \"gridwidth\": 2, \"linecolor\": \"white\", \"showbackground\": true, \"ticks\": \"\", \"zerolinecolor\": \"white\"}, \"yaxis\": {\"backgroundcolor\": \"#E5ECF6\", \"gridcolor\": \"white\", \"gridwidth\": 2, \"linecolor\": \"white\", \"showbackground\": true, \"ticks\": \"\", \"zerolinecolor\": \"white\"}, \"zaxis\": {\"backgroundcolor\": \"#E5ECF6\", \"gridcolor\": \"white\", \"gridwidth\": 2, \"linecolor\": \"white\", \"showbackground\": true, \"ticks\": \"\", \"zerolinecolor\": \"white\"}}, \"shapedefaults\": {\"line\": {\"color\": \"#2a3f5f\"}}, \"ternary\": {\"aaxis\": {\"gridcolor\": \"white\", \"linecolor\": \"white\", \"ticks\": \"\"}, \"baxis\": {\"gridcolor\": \"white\", \"linecolor\": \"white\", \"ticks\": \"\"}, \"bgcolor\": \"#E5ECF6\", \"caxis\": {\"gridcolor\": \"white\", \"linecolor\": \"white\", \"ticks\": \"\"}}, \"title\": {\"x\": 0.05}, \"xaxis\": {\"automargin\": true, \"gridcolor\": \"white\", \"linecolor\": \"white\", \"ticks\": \"\", \"title\": {\"standoff\": 15}, \"zerolinecolor\": \"white\", \"zerolinewidth\": 2}, \"yaxis\": {\"automargin\": true, \"gridcolor\": \"white\", \"linecolor\": \"white\", \"ticks\": \"\", \"title\": {\"standoff\": 15}, \"zerolinecolor\": \"white\", \"zerolinewidth\": 2}}}, \"title\": {\"font\": {\"color\": \"#4D5663\"}}, \"xaxis\": {\"gridcolor\": \"#E1E5ED\", \"showgrid\": true, \"tickfont\": {\"color\": \"#4D5663\"}, \"title\": {\"font\": {\"color\": \"#4D5663\"}, \"text\": \"\"}, \"zerolinecolor\": \"#E1E5ED\"}, \"yaxis\": {\"gridcolor\": \"#E1E5ED\", \"showgrid\": true, \"tickfont\": {\"color\": \"#4D5663\"}, \"title\": {\"font\": {\"color\": \"#4D5663\"}, \"text\": \"\"}, \"zerolinecolor\": \"#E1E5ED\"}},                        {\"showLink\": true, \"linkText\": \"Export to plot.ly\", \"plotlyServerURL\": \"https://plot.ly\", \"responsive\": true}                    ).then(function(){\n",
       "                            \n",
       "var gd = document.getElementById('d3a1e27c-4aa9-42fb-9b05-23b409fb63cf');\n",
       "var x = new MutationObserver(function (mutations, observer) {{\n",
       "        var display = window.getComputedStyle(gd).display;\n",
       "        if (!display || display === 'none') {{\n",
       "            console.log([gd, 'removed!']);\n",
       "            Plotly.purge(gd);\n",
       "            observer.disconnect();\n",
       "        }}\n",
       "}});\n",
       "\n",
       "// Listen for the removal of the full notebook cells\n",
       "var notebookContainer = gd.closest('#notebook-container');\n",
       "if (notebookContainer) {{\n",
       "    x.observe(notebookContainer, {childList: true});\n",
       "}}\n",
       "\n",
       "// Listen for the clearing of the current output cell\n",
       "var outputEl = gd.closest('.output');\n",
       "if (outputEl) {{\n",
       "    x.observe(outputEl, {childList: true});\n",
       "}}\n",
       "\n",
       "                        })                };                });            </script>        </div>"
      ]
     },
     "metadata": {},
     "output_type": "display_data"
    }
   ],
   "source": [
    "df.iplot(kind='bar')"
   ]
  },
  {
   "cell_type": "code",
   "execution_count": 14,
   "id": "extra-chile",
   "metadata": {},
   "outputs": [
    {
     "data": {
      "application/vnd.plotly.v1+json": {
       "config": {
        "linkText": "Export to plot.ly",
        "plotlyServerURL": "https://plot.ly",
        "showLink": true
       },
       "data": [
        {
         "marker": {
          "color": "rgba(255, 153, 51, 0.6)",
          "line": {
           "color": "rgba(255, 153, 51, 1.0)",
           "width": 1
          }
         },
         "name": "None",
         "orientation": "v",
         "text": "",
         "type": "bar",
         "x": [
          "A",
          "B",
          "C",
          "D"
         ],
         "y": [
          100,
          100,
          100,
          100
         ]
        }
       ],
       "layout": {
        "legend": {
         "bgcolor": "#F5F6F9",
         "font": {
          "color": "#4D5663"
         }
        },
        "paper_bgcolor": "#F5F6F9",
        "plot_bgcolor": "#F5F6F9",
        "template": {
         "data": {
          "bar": [
           {
            "error_x": {
             "color": "#2a3f5f"
            },
            "error_y": {
             "color": "#2a3f5f"
            },
            "marker": {
             "line": {
              "color": "#E5ECF6",
              "width": 0.5
             }
            },
            "type": "bar"
           }
          ],
          "barpolar": [
           {
            "marker": {
             "line": {
              "color": "#E5ECF6",
              "width": 0.5
             }
            },
            "type": "barpolar"
           }
          ],
          "carpet": [
           {
            "aaxis": {
             "endlinecolor": "#2a3f5f",
             "gridcolor": "white",
             "linecolor": "white",
             "minorgridcolor": "white",
             "startlinecolor": "#2a3f5f"
            },
            "baxis": {
             "endlinecolor": "#2a3f5f",
             "gridcolor": "white",
             "linecolor": "white",
             "minorgridcolor": "white",
             "startlinecolor": "#2a3f5f"
            },
            "type": "carpet"
           }
          ],
          "choropleth": [
           {
            "colorbar": {
             "outlinewidth": 0,
             "ticks": ""
            },
            "type": "choropleth"
           }
          ],
          "contour": [
           {
            "colorbar": {
             "outlinewidth": 0,
             "ticks": ""
            },
            "colorscale": [
             [
              0,
              "#0d0887"
             ],
             [
              0.1111111111111111,
              "#46039f"
             ],
             [
              0.2222222222222222,
              "#7201a8"
             ],
             [
              0.3333333333333333,
              "#9c179e"
             ],
             [
              0.4444444444444444,
              "#bd3786"
             ],
             [
              0.5555555555555556,
              "#d8576b"
             ],
             [
              0.6666666666666666,
              "#ed7953"
             ],
             [
              0.7777777777777778,
              "#fb9f3a"
             ],
             [
              0.8888888888888888,
              "#fdca26"
             ],
             [
              1,
              "#f0f921"
             ]
            ],
            "type": "contour"
           }
          ],
          "contourcarpet": [
           {
            "colorbar": {
             "outlinewidth": 0,
             "ticks": ""
            },
            "type": "contourcarpet"
           }
          ],
          "heatmap": [
           {
            "colorbar": {
             "outlinewidth": 0,
             "ticks": ""
            },
            "colorscale": [
             [
              0,
              "#0d0887"
             ],
             [
              0.1111111111111111,
              "#46039f"
             ],
             [
              0.2222222222222222,
              "#7201a8"
             ],
             [
              0.3333333333333333,
              "#9c179e"
             ],
             [
              0.4444444444444444,
              "#bd3786"
             ],
             [
              0.5555555555555556,
              "#d8576b"
             ],
             [
              0.6666666666666666,
              "#ed7953"
             ],
             [
              0.7777777777777778,
              "#fb9f3a"
             ],
             [
              0.8888888888888888,
              "#fdca26"
             ],
             [
              1,
              "#f0f921"
             ]
            ],
            "type": "heatmap"
           }
          ],
          "heatmapgl": [
           {
            "colorbar": {
             "outlinewidth": 0,
             "ticks": ""
            },
            "colorscale": [
             [
              0,
              "#0d0887"
             ],
             [
              0.1111111111111111,
              "#46039f"
             ],
             [
              0.2222222222222222,
              "#7201a8"
             ],
             [
              0.3333333333333333,
              "#9c179e"
             ],
             [
              0.4444444444444444,
              "#bd3786"
             ],
             [
              0.5555555555555556,
              "#d8576b"
             ],
             [
              0.6666666666666666,
              "#ed7953"
             ],
             [
              0.7777777777777778,
              "#fb9f3a"
             ],
             [
              0.8888888888888888,
              "#fdca26"
             ],
             [
              1,
              "#f0f921"
             ]
            ],
            "type": "heatmapgl"
           }
          ],
          "histogram": [
           {
            "marker": {
             "colorbar": {
              "outlinewidth": 0,
              "ticks": ""
             }
            },
            "type": "histogram"
           }
          ],
          "histogram2d": [
           {
            "colorbar": {
             "outlinewidth": 0,
             "ticks": ""
            },
            "colorscale": [
             [
              0,
              "#0d0887"
             ],
             [
              0.1111111111111111,
              "#46039f"
             ],
             [
              0.2222222222222222,
              "#7201a8"
             ],
             [
              0.3333333333333333,
              "#9c179e"
             ],
             [
              0.4444444444444444,
              "#bd3786"
             ],
             [
              0.5555555555555556,
              "#d8576b"
             ],
             [
              0.6666666666666666,
              "#ed7953"
             ],
             [
              0.7777777777777778,
              "#fb9f3a"
             ],
             [
              0.8888888888888888,
              "#fdca26"
             ],
             [
              1,
              "#f0f921"
             ]
            ],
            "type": "histogram2d"
           }
          ],
          "histogram2dcontour": [
           {
            "colorbar": {
             "outlinewidth": 0,
             "ticks": ""
            },
            "colorscale": [
             [
              0,
              "#0d0887"
             ],
             [
              0.1111111111111111,
              "#46039f"
             ],
             [
              0.2222222222222222,
              "#7201a8"
             ],
             [
              0.3333333333333333,
              "#9c179e"
             ],
             [
              0.4444444444444444,
              "#bd3786"
             ],
             [
              0.5555555555555556,
              "#d8576b"
             ],
             [
              0.6666666666666666,
              "#ed7953"
             ],
             [
              0.7777777777777778,
              "#fb9f3a"
             ],
             [
              0.8888888888888888,
              "#fdca26"
             ],
             [
              1,
              "#f0f921"
             ]
            ],
            "type": "histogram2dcontour"
           }
          ],
          "mesh3d": [
           {
            "colorbar": {
             "outlinewidth": 0,
             "ticks": ""
            },
            "type": "mesh3d"
           }
          ],
          "parcoords": [
           {
            "line": {
             "colorbar": {
              "outlinewidth": 0,
              "ticks": ""
             }
            },
            "type": "parcoords"
           }
          ],
          "pie": [
           {
            "automargin": true,
            "type": "pie"
           }
          ],
          "scatter": [
           {
            "marker": {
             "colorbar": {
              "outlinewidth": 0,
              "ticks": ""
             }
            },
            "type": "scatter"
           }
          ],
          "scatter3d": [
           {
            "line": {
             "colorbar": {
              "outlinewidth": 0,
              "ticks": ""
             }
            },
            "marker": {
             "colorbar": {
              "outlinewidth": 0,
              "ticks": ""
             }
            },
            "type": "scatter3d"
           }
          ],
          "scattercarpet": [
           {
            "marker": {
             "colorbar": {
              "outlinewidth": 0,
              "ticks": ""
             }
            },
            "type": "scattercarpet"
           }
          ],
          "scattergeo": [
           {
            "marker": {
             "colorbar": {
              "outlinewidth": 0,
              "ticks": ""
             }
            },
            "type": "scattergeo"
           }
          ],
          "scattergl": [
           {
            "marker": {
             "colorbar": {
              "outlinewidth": 0,
              "ticks": ""
             }
            },
            "type": "scattergl"
           }
          ],
          "scattermapbox": [
           {
            "marker": {
             "colorbar": {
              "outlinewidth": 0,
              "ticks": ""
             }
            },
            "type": "scattermapbox"
           }
          ],
          "scatterpolar": [
           {
            "marker": {
             "colorbar": {
              "outlinewidth": 0,
              "ticks": ""
             }
            },
            "type": "scatterpolar"
           }
          ],
          "scatterpolargl": [
           {
            "marker": {
             "colorbar": {
              "outlinewidth": 0,
              "ticks": ""
             }
            },
            "type": "scatterpolargl"
           }
          ],
          "scatterternary": [
           {
            "marker": {
             "colorbar": {
              "outlinewidth": 0,
              "ticks": ""
             }
            },
            "type": "scatterternary"
           }
          ],
          "surface": [
           {
            "colorbar": {
             "outlinewidth": 0,
             "ticks": ""
            },
            "colorscale": [
             [
              0,
              "#0d0887"
             ],
             [
              0.1111111111111111,
              "#46039f"
             ],
             [
              0.2222222222222222,
              "#7201a8"
             ],
             [
              0.3333333333333333,
              "#9c179e"
             ],
             [
              0.4444444444444444,
              "#bd3786"
             ],
             [
              0.5555555555555556,
              "#d8576b"
             ],
             [
              0.6666666666666666,
              "#ed7953"
             ],
             [
              0.7777777777777778,
              "#fb9f3a"
             ],
             [
              0.8888888888888888,
              "#fdca26"
             ],
             [
              1,
              "#f0f921"
             ]
            ],
            "type": "surface"
           }
          ],
          "table": [
           {
            "cells": {
             "fill": {
              "color": "#EBF0F8"
             },
             "line": {
              "color": "white"
             }
            },
            "header": {
             "fill": {
              "color": "#C8D4E3"
             },
             "line": {
              "color": "white"
             }
            },
            "type": "table"
           }
          ]
         },
         "layout": {
          "annotationdefaults": {
           "arrowcolor": "#2a3f5f",
           "arrowhead": 0,
           "arrowwidth": 1
          },
          "autotypenumbers": "strict",
          "coloraxis": {
           "colorbar": {
            "outlinewidth": 0,
            "ticks": ""
           }
          },
          "colorscale": {
           "diverging": [
            [
             0,
             "#8e0152"
            ],
            [
             0.1,
             "#c51b7d"
            ],
            [
             0.2,
             "#de77ae"
            ],
            [
             0.3,
             "#f1b6da"
            ],
            [
             0.4,
             "#fde0ef"
            ],
            [
             0.5,
             "#f7f7f7"
            ],
            [
             0.6,
             "#e6f5d0"
            ],
            [
             0.7,
             "#b8e186"
            ],
            [
             0.8,
             "#7fbc41"
            ],
            [
             0.9,
             "#4d9221"
            ],
            [
             1,
             "#276419"
            ]
           ],
           "sequential": [
            [
             0,
             "#0d0887"
            ],
            [
             0.1111111111111111,
             "#46039f"
            ],
            [
             0.2222222222222222,
             "#7201a8"
            ],
            [
             0.3333333333333333,
             "#9c179e"
            ],
            [
             0.4444444444444444,
             "#bd3786"
            ],
            [
             0.5555555555555556,
             "#d8576b"
            ],
            [
             0.6666666666666666,
             "#ed7953"
            ],
            [
             0.7777777777777778,
             "#fb9f3a"
            ],
            [
             0.8888888888888888,
             "#fdca26"
            ],
            [
             1,
             "#f0f921"
            ]
           ],
           "sequentialminus": [
            [
             0,
             "#0d0887"
            ],
            [
             0.1111111111111111,
             "#46039f"
            ],
            [
             0.2222222222222222,
             "#7201a8"
            ],
            [
             0.3333333333333333,
             "#9c179e"
            ],
            [
             0.4444444444444444,
             "#bd3786"
            ],
            [
             0.5555555555555556,
             "#d8576b"
            ],
            [
             0.6666666666666666,
             "#ed7953"
            ],
            [
             0.7777777777777778,
             "#fb9f3a"
            ],
            [
             0.8888888888888888,
             "#fdca26"
            ],
            [
             1,
             "#f0f921"
            ]
           ]
          },
          "colorway": [
           "#636efa",
           "#EF553B",
           "#00cc96",
           "#ab63fa",
           "#FFA15A",
           "#19d3f3",
           "#FF6692",
           "#B6E880",
           "#FF97FF",
           "#FECB52"
          ],
          "font": {
           "color": "#2a3f5f"
          },
          "geo": {
           "bgcolor": "white",
           "lakecolor": "white",
           "landcolor": "#E5ECF6",
           "showlakes": true,
           "showland": true,
           "subunitcolor": "white"
          },
          "hoverlabel": {
           "align": "left"
          },
          "hovermode": "closest",
          "mapbox": {
           "style": "light"
          },
          "paper_bgcolor": "white",
          "plot_bgcolor": "#E5ECF6",
          "polar": {
           "angularaxis": {
            "gridcolor": "white",
            "linecolor": "white",
            "ticks": ""
           },
           "bgcolor": "#E5ECF6",
           "radialaxis": {
            "gridcolor": "white",
            "linecolor": "white",
            "ticks": ""
           }
          },
          "scene": {
           "xaxis": {
            "backgroundcolor": "#E5ECF6",
            "gridcolor": "white",
            "gridwidth": 2,
            "linecolor": "white",
            "showbackground": true,
            "ticks": "",
            "zerolinecolor": "white"
           },
           "yaxis": {
            "backgroundcolor": "#E5ECF6",
            "gridcolor": "white",
            "gridwidth": 2,
            "linecolor": "white",
            "showbackground": true,
            "ticks": "",
            "zerolinecolor": "white"
           },
           "zaxis": {
            "backgroundcolor": "#E5ECF6",
            "gridcolor": "white",
            "gridwidth": 2,
            "linecolor": "white",
            "showbackground": true,
            "ticks": "",
            "zerolinecolor": "white"
           }
          },
          "shapedefaults": {
           "line": {
            "color": "#2a3f5f"
           }
          },
          "ternary": {
           "aaxis": {
            "gridcolor": "white",
            "linecolor": "white",
            "ticks": ""
           },
           "baxis": {
            "gridcolor": "white",
            "linecolor": "white",
            "ticks": ""
           },
           "bgcolor": "#E5ECF6",
           "caxis": {
            "gridcolor": "white",
            "linecolor": "white",
            "ticks": ""
           }
          },
          "title": {
           "x": 0.05
          },
          "xaxis": {
           "automargin": true,
           "gridcolor": "white",
           "linecolor": "white",
           "ticks": "",
           "title": {
            "standoff": 15
           },
           "zerolinecolor": "white",
           "zerolinewidth": 2
          },
          "yaxis": {
           "automargin": true,
           "gridcolor": "white",
           "linecolor": "white",
           "ticks": "",
           "title": {
            "standoff": 15
           },
           "zerolinecolor": "white",
           "zerolinewidth": 2
          }
         }
        },
        "title": {
         "font": {
          "color": "#4D5663"
         }
        },
        "xaxis": {
         "gridcolor": "#E1E5ED",
         "showgrid": true,
         "tickfont": {
          "color": "#4D5663"
         },
         "title": {
          "font": {
           "color": "#4D5663"
          },
          "text": ""
         },
         "zerolinecolor": "#E1E5ED"
        },
        "yaxis": {
         "gridcolor": "#E1E5ED",
         "showgrid": true,
         "tickfont": {
          "color": "#4D5663"
         },
         "title": {
          "font": {
           "color": "#4D5663"
          },
          "text": ""
         },
         "zerolinecolor": "#E1E5ED"
        }
       }
      },
      "text/html": [
       "<div>                            <div id=\"4adff2e7-239a-4d2d-a1a1-921ac6589042\" class=\"plotly-graph-div\" style=\"height:525px; width:100%;\"></div>            <script type=\"text/javascript\">                require([\"plotly\"], function(Plotly) {                    window.PLOTLYENV=window.PLOTLYENV || {};\n",
       "                    window.PLOTLYENV.BASE_URL='https://plot.ly';                                    if (document.getElementById(\"4adff2e7-239a-4d2d-a1a1-921ac6589042\")) {                    Plotly.newPlot(                        \"4adff2e7-239a-4d2d-a1a1-921ac6589042\",                        [{\"marker\": {\"color\": \"rgba(255, 153, 51, 0.6)\", \"line\": {\"color\": \"rgba(255, 153, 51, 1.0)\", \"width\": 1}}, \"name\": \"None\", \"orientation\": \"v\", \"text\": \"\", \"type\": \"bar\", \"x\": [\"A\", \"B\", \"C\", \"D\"], \"y\": [100, 100, 100, 100]}],                        {\"legend\": {\"bgcolor\": \"#F5F6F9\", \"font\": {\"color\": \"#4D5663\"}}, \"paper_bgcolor\": \"#F5F6F9\", \"plot_bgcolor\": \"#F5F6F9\", \"template\": {\"data\": {\"bar\": [{\"error_x\": {\"color\": \"#2a3f5f\"}, \"error_y\": {\"color\": \"#2a3f5f\"}, \"marker\": {\"line\": {\"color\": \"#E5ECF6\", \"width\": 0.5}}, \"type\": \"bar\"}], \"barpolar\": [{\"marker\": {\"line\": {\"color\": \"#E5ECF6\", \"width\": 0.5}}, \"type\": \"barpolar\"}], \"carpet\": [{\"aaxis\": {\"endlinecolor\": \"#2a3f5f\", \"gridcolor\": \"white\", \"linecolor\": \"white\", \"minorgridcolor\": \"white\", \"startlinecolor\": \"#2a3f5f\"}, \"baxis\": {\"endlinecolor\": \"#2a3f5f\", \"gridcolor\": \"white\", \"linecolor\": \"white\", \"minorgridcolor\": \"white\", \"startlinecolor\": \"#2a3f5f\"}, \"type\": \"carpet\"}], \"choropleth\": [{\"colorbar\": {\"outlinewidth\": 0, \"ticks\": \"\"}, \"type\": \"choropleth\"}], \"contour\": [{\"colorbar\": {\"outlinewidth\": 0, \"ticks\": \"\"}, \"colorscale\": [[0.0, \"#0d0887\"], [0.1111111111111111, \"#46039f\"], [0.2222222222222222, \"#7201a8\"], [0.3333333333333333, \"#9c179e\"], [0.4444444444444444, \"#bd3786\"], [0.5555555555555556, \"#d8576b\"], [0.6666666666666666, \"#ed7953\"], [0.7777777777777778, \"#fb9f3a\"], [0.8888888888888888, \"#fdca26\"], [1.0, \"#f0f921\"]], \"type\": \"contour\"}], \"contourcarpet\": [{\"colorbar\": {\"outlinewidth\": 0, \"ticks\": \"\"}, \"type\": \"contourcarpet\"}], \"heatmap\": [{\"colorbar\": {\"outlinewidth\": 0, \"ticks\": \"\"}, \"colorscale\": [[0.0, \"#0d0887\"], [0.1111111111111111, \"#46039f\"], [0.2222222222222222, \"#7201a8\"], [0.3333333333333333, \"#9c179e\"], [0.4444444444444444, \"#bd3786\"], [0.5555555555555556, \"#d8576b\"], [0.6666666666666666, \"#ed7953\"], [0.7777777777777778, \"#fb9f3a\"], [0.8888888888888888, \"#fdca26\"], [1.0, \"#f0f921\"]], \"type\": \"heatmap\"}], \"heatmapgl\": [{\"colorbar\": {\"outlinewidth\": 0, \"ticks\": \"\"}, \"colorscale\": [[0.0, \"#0d0887\"], [0.1111111111111111, \"#46039f\"], [0.2222222222222222, \"#7201a8\"], [0.3333333333333333, \"#9c179e\"], [0.4444444444444444, \"#bd3786\"], [0.5555555555555556, \"#d8576b\"], [0.6666666666666666, \"#ed7953\"], [0.7777777777777778, \"#fb9f3a\"], [0.8888888888888888, \"#fdca26\"], [1.0, \"#f0f921\"]], \"type\": \"heatmapgl\"}], \"histogram\": [{\"marker\": {\"colorbar\": {\"outlinewidth\": 0, \"ticks\": \"\"}}, \"type\": \"histogram\"}], \"histogram2d\": [{\"colorbar\": {\"outlinewidth\": 0, \"ticks\": \"\"}, \"colorscale\": [[0.0, \"#0d0887\"], [0.1111111111111111, \"#46039f\"], [0.2222222222222222, \"#7201a8\"], [0.3333333333333333, \"#9c179e\"], [0.4444444444444444, \"#bd3786\"], [0.5555555555555556, \"#d8576b\"], [0.6666666666666666, \"#ed7953\"], [0.7777777777777778, \"#fb9f3a\"], [0.8888888888888888, \"#fdca26\"], [1.0, \"#f0f921\"]], \"type\": \"histogram2d\"}], \"histogram2dcontour\": [{\"colorbar\": {\"outlinewidth\": 0, \"ticks\": \"\"}, \"colorscale\": [[0.0, \"#0d0887\"], [0.1111111111111111, \"#46039f\"], [0.2222222222222222, \"#7201a8\"], [0.3333333333333333, \"#9c179e\"], [0.4444444444444444, \"#bd3786\"], [0.5555555555555556, \"#d8576b\"], [0.6666666666666666, \"#ed7953\"], [0.7777777777777778, \"#fb9f3a\"], [0.8888888888888888, \"#fdca26\"], [1.0, \"#f0f921\"]], \"type\": \"histogram2dcontour\"}], \"mesh3d\": [{\"colorbar\": {\"outlinewidth\": 0, \"ticks\": \"\"}, \"type\": \"mesh3d\"}], \"parcoords\": [{\"line\": {\"colorbar\": {\"outlinewidth\": 0, \"ticks\": \"\"}}, \"type\": \"parcoords\"}], \"pie\": [{\"automargin\": true, \"type\": \"pie\"}], \"scatter\": [{\"marker\": {\"colorbar\": {\"outlinewidth\": 0, \"ticks\": \"\"}}, \"type\": \"scatter\"}], \"scatter3d\": [{\"line\": {\"colorbar\": {\"outlinewidth\": 0, \"ticks\": \"\"}}, \"marker\": {\"colorbar\": {\"outlinewidth\": 0, \"ticks\": \"\"}}, \"type\": \"scatter3d\"}], \"scattercarpet\": [{\"marker\": {\"colorbar\": {\"outlinewidth\": 0, \"ticks\": \"\"}}, \"type\": \"scattercarpet\"}], \"scattergeo\": [{\"marker\": {\"colorbar\": {\"outlinewidth\": 0, \"ticks\": \"\"}}, \"type\": \"scattergeo\"}], \"scattergl\": [{\"marker\": {\"colorbar\": {\"outlinewidth\": 0, \"ticks\": \"\"}}, \"type\": \"scattergl\"}], \"scattermapbox\": [{\"marker\": {\"colorbar\": {\"outlinewidth\": 0, \"ticks\": \"\"}}, \"type\": \"scattermapbox\"}], \"scatterpolar\": [{\"marker\": {\"colorbar\": {\"outlinewidth\": 0, \"ticks\": \"\"}}, \"type\": \"scatterpolar\"}], \"scatterpolargl\": [{\"marker\": {\"colorbar\": {\"outlinewidth\": 0, \"ticks\": \"\"}}, \"type\": \"scatterpolargl\"}], \"scatterternary\": [{\"marker\": {\"colorbar\": {\"outlinewidth\": 0, \"ticks\": \"\"}}, \"type\": \"scatterternary\"}], \"surface\": [{\"colorbar\": {\"outlinewidth\": 0, \"ticks\": \"\"}, \"colorscale\": [[0.0, \"#0d0887\"], [0.1111111111111111, \"#46039f\"], [0.2222222222222222, \"#7201a8\"], [0.3333333333333333, \"#9c179e\"], [0.4444444444444444, \"#bd3786\"], [0.5555555555555556, \"#d8576b\"], [0.6666666666666666, \"#ed7953\"], [0.7777777777777778, \"#fb9f3a\"], [0.8888888888888888, \"#fdca26\"], [1.0, \"#f0f921\"]], \"type\": \"surface\"}], \"table\": [{\"cells\": {\"fill\": {\"color\": \"#EBF0F8\"}, \"line\": {\"color\": \"white\"}}, \"header\": {\"fill\": {\"color\": \"#C8D4E3\"}, \"line\": {\"color\": \"white\"}}, \"type\": \"table\"}]}, \"layout\": {\"annotationdefaults\": {\"arrowcolor\": \"#2a3f5f\", \"arrowhead\": 0, \"arrowwidth\": 1}, \"autotypenumbers\": \"strict\", \"coloraxis\": {\"colorbar\": {\"outlinewidth\": 0, \"ticks\": \"\"}}, \"colorscale\": {\"diverging\": [[0, \"#8e0152\"], [0.1, \"#c51b7d\"], [0.2, \"#de77ae\"], [0.3, \"#f1b6da\"], [0.4, \"#fde0ef\"], [0.5, \"#f7f7f7\"], [0.6, \"#e6f5d0\"], [0.7, \"#b8e186\"], [0.8, \"#7fbc41\"], [0.9, \"#4d9221\"], [1, \"#276419\"]], \"sequential\": [[0.0, \"#0d0887\"], [0.1111111111111111, \"#46039f\"], [0.2222222222222222, \"#7201a8\"], [0.3333333333333333, \"#9c179e\"], [0.4444444444444444, \"#bd3786\"], [0.5555555555555556, \"#d8576b\"], [0.6666666666666666, \"#ed7953\"], [0.7777777777777778, \"#fb9f3a\"], [0.8888888888888888, \"#fdca26\"], [1.0, \"#f0f921\"]], \"sequentialminus\": [[0.0, \"#0d0887\"], [0.1111111111111111, \"#46039f\"], [0.2222222222222222, \"#7201a8\"], [0.3333333333333333, \"#9c179e\"], [0.4444444444444444, \"#bd3786\"], [0.5555555555555556, \"#d8576b\"], [0.6666666666666666, \"#ed7953\"], [0.7777777777777778, \"#fb9f3a\"], [0.8888888888888888, \"#fdca26\"], [1.0, \"#f0f921\"]]}, \"colorway\": [\"#636efa\", \"#EF553B\", \"#00cc96\", \"#ab63fa\", \"#FFA15A\", \"#19d3f3\", \"#FF6692\", \"#B6E880\", \"#FF97FF\", \"#FECB52\"], \"font\": {\"color\": \"#2a3f5f\"}, \"geo\": {\"bgcolor\": \"white\", \"lakecolor\": \"white\", \"landcolor\": \"#E5ECF6\", \"showlakes\": true, \"showland\": true, \"subunitcolor\": \"white\"}, \"hoverlabel\": {\"align\": \"left\"}, \"hovermode\": \"closest\", \"mapbox\": {\"style\": \"light\"}, \"paper_bgcolor\": \"white\", \"plot_bgcolor\": \"#E5ECF6\", \"polar\": {\"angularaxis\": {\"gridcolor\": \"white\", \"linecolor\": \"white\", \"ticks\": \"\"}, \"bgcolor\": \"#E5ECF6\", \"radialaxis\": {\"gridcolor\": \"white\", \"linecolor\": \"white\", \"ticks\": \"\"}}, \"scene\": {\"xaxis\": {\"backgroundcolor\": \"#E5ECF6\", \"gridcolor\": \"white\", \"gridwidth\": 2, \"linecolor\": \"white\", \"showbackground\": true, \"ticks\": \"\", \"zerolinecolor\": \"white\"}, \"yaxis\": {\"backgroundcolor\": \"#E5ECF6\", \"gridcolor\": \"white\", \"gridwidth\": 2, \"linecolor\": \"white\", \"showbackground\": true, \"ticks\": \"\", \"zerolinecolor\": \"white\"}, \"zaxis\": {\"backgroundcolor\": \"#E5ECF6\", \"gridcolor\": \"white\", \"gridwidth\": 2, \"linecolor\": \"white\", \"showbackground\": true, \"ticks\": \"\", \"zerolinecolor\": \"white\"}}, \"shapedefaults\": {\"line\": {\"color\": \"#2a3f5f\"}}, \"ternary\": {\"aaxis\": {\"gridcolor\": \"white\", \"linecolor\": \"white\", \"ticks\": \"\"}, \"baxis\": {\"gridcolor\": \"white\", \"linecolor\": \"white\", \"ticks\": \"\"}, \"bgcolor\": \"#E5ECF6\", \"caxis\": {\"gridcolor\": \"white\", \"linecolor\": \"white\", \"ticks\": \"\"}}, \"title\": {\"x\": 0.05}, \"xaxis\": {\"automargin\": true, \"gridcolor\": \"white\", \"linecolor\": \"white\", \"ticks\": \"\", \"title\": {\"standoff\": 15}, \"zerolinecolor\": \"white\", \"zerolinewidth\": 2}, \"yaxis\": {\"automargin\": true, \"gridcolor\": \"white\", \"linecolor\": \"white\", \"ticks\": \"\", \"title\": {\"standoff\": 15}, \"zerolinecolor\": \"white\", \"zerolinewidth\": 2}}}, \"title\": {\"font\": {\"color\": \"#4D5663\"}}, \"xaxis\": {\"gridcolor\": \"#E1E5ED\", \"showgrid\": true, \"tickfont\": {\"color\": \"#4D5663\"}, \"title\": {\"font\": {\"color\": \"#4D5663\"}, \"text\": \"\"}, \"zerolinecolor\": \"#E1E5ED\"}, \"yaxis\": {\"gridcolor\": \"#E1E5ED\", \"showgrid\": true, \"tickfont\": {\"color\": \"#4D5663\"}, \"title\": {\"font\": {\"color\": \"#4D5663\"}, \"text\": \"\"}, \"zerolinecolor\": \"#E1E5ED\"}},                        {\"showLink\": true, \"linkText\": \"Export to plot.ly\", \"plotlyServerURL\": \"https://plot.ly\", \"responsive\": true}                    ).then(function(){\n",
       "                            \n",
       "var gd = document.getElementById('4adff2e7-239a-4d2d-a1a1-921ac6589042');\n",
       "var x = new MutationObserver(function (mutations, observer) {{\n",
       "        var display = window.getComputedStyle(gd).display;\n",
       "        if (!display || display === 'none') {{\n",
       "            console.log([gd, 'removed!']);\n",
       "            Plotly.purge(gd);\n",
       "            observer.disconnect();\n",
       "        }}\n",
       "}});\n",
       "\n",
       "// Listen for the removal of the full notebook cells\n",
       "var notebookContainer = gd.closest('#notebook-container');\n",
       "if (notebookContainer) {{\n",
       "    x.observe(notebookContainer, {childList: true});\n",
       "}}\n",
       "\n",
       "// Listen for the clearing of the current output cell\n",
       "var outputEl = gd.closest('.output');\n",
       "if (outputEl) {{\n",
       "    x.observe(outputEl, {childList: true});\n",
       "}}\n",
       "\n",
       "                        })                };                });            </script>        </div>"
      ]
     },
     "metadata": {},
     "output_type": "display_data"
    }
   ],
   "source": [
    "df.count().iplot(kind='bar')"
   ]
  },
  {
   "cell_type": "code",
   "execution_count": 15,
   "id": "identified-progressive",
   "metadata": {},
   "outputs": [
    {
     "data": {
      "application/vnd.plotly.v1+json": {
       "config": {
        "linkText": "Export to plot.ly",
        "plotlyServerURL": "https://plot.ly",
        "showLink": true
       },
       "data": [
        {
         "marker": {
          "color": "rgba(255, 153, 51, 0.6)",
          "line": {
           "color": "rgba(255, 153, 51, 1.0)",
           "width": 1
          }
         },
         "name": "Values",
         "orientation": "v",
         "text": "",
         "type": "bar",
         "x": [
          "A",
          "B",
          "C"
         ],
         "y": [
          32,
          43,
          50
         ]
        }
       ],
       "layout": {
        "legend": {
         "bgcolor": "#F5F6F9",
         "font": {
          "color": "#4D5663"
         }
        },
        "paper_bgcolor": "#F5F6F9",
        "plot_bgcolor": "#F5F6F9",
        "template": {
         "data": {
          "bar": [
           {
            "error_x": {
             "color": "#2a3f5f"
            },
            "error_y": {
             "color": "#2a3f5f"
            },
            "marker": {
             "line": {
              "color": "#E5ECF6",
              "width": 0.5
             }
            },
            "type": "bar"
           }
          ],
          "barpolar": [
           {
            "marker": {
             "line": {
              "color": "#E5ECF6",
              "width": 0.5
             }
            },
            "type": "barpolar"
           }
          ],
          "carpet": [
           {
            "aaxis": {
             "endlinecolor": "#2a3f5f",
             "gridcolor": "white",
             "linecolor": "white",
             "minorgridcolor": "white",
             "startlinecolor": "#2a3f5f"
            },
            "baxis": {
             "endlinecolor": "#2a3f5f",
             "gridcolor": "white",
             "linecolor": "white",
             "minorgridcolor": "white",
             "startlinecolor": "#2a3f5f"
            },
            "type": "carpet"
           }
          ],
          "choropleth": [
           {
            "colorbar": {
             "outlinewidth": 0,
             "ticks": ""
            },
            "type": "choropleth"
           }
          ],
          "contour": [
           {
            "colorbar": {
             "outlinewidth": 0,
             "ticks": ""
            },
            "colorscale": [
             [
              0,
              "#0d0887"
             ],
             [
              0.1111111111111111,
              "#46039f"
             ],
             [
              0.2222222222222222,
              "#7201a8"
             ],
             [
              0.3333333333333333,
              "#9c179e"
             ],
             [
              0.4444444444444444,
              "#bd3786"
             ],
             [
              0.5555555555555556,
              "#d8576b"
             ],
             [
              0.6666666666666666,
              "#ed7953"
             ],
             [
              0.7777777777777778,
              "#fb9f3a"
             ],
             [
              0.8888888888888888,
              "#fdca26"
             ],
             [
              1,
              "#f0f921"
             ]
            ],
            "type": "contour"
           }
          ],
          "contourcarpet": [
           {
            "colorbar": {
             "outlinewidth": 0,
             "ticks": ""
            },
            "type": "contourcarpet"
           }
          ],
          "heatmap": [
           {
            "colorbar": {
             "outlinewidth": 0,
             "ticks": ""
            },
            "colorscale": [
             [
              0,
              "#0d0887"
             ],
             [
              0.1111111111111111,
              "#46039f"
             ],
             [
              0.2222222222222222,
              "#7201a8"
             ],
             [
              0.3333333333333333,
              "#9c179e"
             ],
             [
              0.4444444444444444,
              "#bd3786"
             ],
             [
              0.5555555555555556,
              "#d8576b"
             ],
             [
              0.6666666666666666,
              "#ed7953"
             ],
             [
              0.7777777777777778,
              "#fb9f3a"
             ],
             [
              0.8888888888888888,
              "#fdca26"
             ],
             [
              1,
              "#f0f921"
             ]
            ],
            "type": "heatmap"
           }
          ],
          "heatmapgl": [
           {
            "colorbar": {
             "outlinewidth": 0,
             "ticks": ""
            },
            "colorscale": [
             [
              0,
              "#0d0887"
             ],
             [
              0.1111111111111111,
              "#46039f"
             ],
             [
              0.2222222222222222,
              "#7201a8"
             ],
             [
              0.3333333333333333,
              "#9c179e"
             ],
             [
              0.4444444444444444,
              "#bd3786"
             ],
             [
              0.5555555555555556,
              "#d8576b"
             ],
             [
              0.6666666666666666,
              "#ed7953"
             ],
             [
              0.7777777777777778,
              "#fb9f3a"
             ],
             [
              0.8888888888888888,
              "#fdca26"
             ],
             [
              1,
              "#f0f921"
             ]
            ],
            "type": "heatmapgl"
           }
          ],
          "histogram": [
           {
            "marker": {
             "colorbar": {
              "outlinewidth": 0,
              "ticks": ""
             }
            },
            "type": "histogram"
           }
          ],
          "histogram2d": [
           {
            "colorbar": {
             "outlinewidth": 0,
             "ticks": ""
            },
            "colorscale": [
             [
              0,
              "#0d0887"
             ],
             [
              0.1111111111111111,
              "#46039f"
             ],
             [
              0.2222222222222222,
              "#7201a8"
             ],
             [
              0.3333333333333333,
              "#9c179e"
             ],
             [
              0.4444444444444444,
              "#bd3786"
             ],
             [
              0.5555555555555556,
              "#d8576b"
             ],
             [
              0.6666666666666666,
              "#ed7953"
             ],
             [
              0.7777777777777778,
              "#fb9f3a"
             ],
             [
              0.8888888888888888,
              "#fdca26"
             ],
             [
              1,
              "#f0f921"
             ]
            ],
            "type": "histogram2d"
           }
          ],
          "histogram2dcontour": [
           {
            "colorbar": {
             "outlinewidth": 0,
             "ticks": ""
            },
            "colorscale": [
             [
              0,
              "#0d0887"
             ],
             [
              0.1111111111111111,
              "#46039f"
             ],
             [
              0.2222222222222222,
              "#7201a8"
             ],
             [
              0.3333333333333333,
              "#9c179e"
             ],
             [
              0.4444444444444444,
              "#bd3786"
             ],
             [
              0.5555555555555556,
              "#d8576b"
             ],
             [
              0.6666666666666666,
              "#ed7953"
             ],
             [
              0.7777777777777778,
              "#fb9f3a"
             ],
             [
              0.8888888888888888,
              "#fdca26"
             ],
             [
              1,
              "#f0f921"
             ]
            ],
            "type": "histogram2dcontour"
           }
          ],
          "mesh3d": [
           {
            "colorbar": {
             "outlinewidth": 0,
             "ticks": ""
            },
            "type": "mesh3d"
           }
          ],
          "parcoords": [
           {
            "line": {
             "colorbar": {
              "outlinewidth": 0,
              "ticks": ""
             }
            },
            "type": "parcoords"
           }
          ],
          "pie": [
           {
            "automargin": true,
            "type": "pie"
           }
          ],
          "scatter": [
           {
            "marker": {
             "colorbar": {
              "outlinewidth": 0,
              "ticks": ""
             }
            },
            "type": "scatter"
           }
          ],
          "scatter3d": [
           {
            "line": {
             "colorbar": {
              "outlinewidth": 0,
              "ticks": ""
             }
            },
            "marker": {
             "colorbar": {
              "outlinewidth": 0,
              "ticks": ""
             }
            },
            "type": "scatter3d"
           }
          ],
          "scattercarpet": [
           {
            "marker": {
             "colorbar": {
              "outlinewidth": 0,
              "ticks": ""
             }
            },
            "type": "scattercarpet"
           }
          ],
          "scattergeo": [
           {
            "marker": {
             "colorbar": {
              "outlinewidth": 0,
              "ticks": ""
             }
            },
            "type": "scattergeo"
           }
          ],
          "scattergl": [
           {
            "marker": {
             "colorbar": {
              "outlinewidth": 0,
              "ticks": ""
             }
            },
            "type": "scattergl"
           }
          ],
          "scattermapbox": [
           {
            "marker": {
             "colorbar": {
              "outlinewidth": 0,
              "ticks": ""
             }
            },
            "type": "scattermapbox"
           }
          ],
          "scatterpolar": [
           {
            "marker": {
             "colorbar": {
              "outlinewidth": 0,
              "ticks": ""
             }
            },
            "type": "scatterpolar"
           }
          ],
          "scatterpolargl": [
           {
            "marker": {
             "colorbar": {
              "outlinewidth": 0,
              "ticks": ""
             }
            },
            "type": "scatterpolargl"
           }
          ],
          "scatterternary": [
           {
            "marker": {
             "colorbar": {
              "outlinewidth": 0,
              "ticks": ""
             }
            },
            "type": "scatterternary"
           }
          ],
          "surface": [
           {
            "colorbar": {
             "outlinewidth": 0,
             "ticks": ""
            },
            "colorscale": [
             [
              0,
              "#0d0887"
             ],
             [
              0.1111111111111111,
              "#46039f"
             ],
             [
              0.2222222222222222,
              "#7201a8"
             ],
             [
              0.3333333333333333,
              "#9c179e"
             ],
             [
              0.4444444444444444,
              "#bd3786"
             ],
             [
              0.5555555555555556,
              "#d8576b"
             ],
             [
              0.6666666666666666,
              "#ed7953"
             ],
             [
              0.7777777777777778,
              "#fb9f3a"
             ],
             [
              0.8888888888888888,
              "#fdca26"
             ],
             [
              1,
              "#f0f921"
             ]
            ],
            "type": "surface"
           }
          ],
          "table": [
           {
            "cells": {
             "fill": {
              "color": "#EBF0F8"
             },
             "line": {
              "color": "white"
             }
            },
            "header": {
             "fill": {
              "color": "#C8D4E3"
             },
             "line": {
              "color": "white"
             }
            },
            "type": "table"
           }
          ]
         },
         "layout": {
          "annotationdefaults": {
           "arrowcolor": "#2a3f5f",
           "arrowhead": 0,
           "arrowwidth": 1
          },
          "autotypenumbers": "strict",
          "coloraxis": {
           "colorbar": {
            "outlinewidth": 0,
            "ticks": ""
           }
          },
          "colorscale": {
           "diverging": [
            [
             0,
             "#8e0152"
            ],
            [
             0.1,
             "#c51b7d"
            ],
            [
             0.2,
             "#de77ae"
            ],
            [
             0.3,
             "#f1b6da"
            ],
            [
             0.4,
             "#fde0ef"
            ],
            [
             0.5,
             "#f7f7f7"
            ],
            [
             0.6,
             "#e6f5d0"
            ],
            [
             0.7,
             "#b8e186"
            ],
            [
             0.8,
             "#7fbc41"
            ],
            [
             0.9,
             "#4d9221"
            ],
            [
             1,
             "#276419"
            ]
           ],
           "sequential": [
            [
             0,
             "#0d0887"
            ],
            [
             0.1111111111111111,
             "#46039f"
            ],
            [
             0.2222222222222222,
             "#7201a8"
            ],
            [
             0.3333333333333333,
             "#9c179e"
            ],
            [
             0.4444444444444444,
             "#bd3786"
            ],
            [
             0.5555555555555556,
             "#d8576b"
            ],
            [
             0.6666666666666666,
             "#ed7953"
            ],
            [
             0.7777777777777778,
             "#fb9f3a"
            ],
            [
             0.8888888888888888,
             "#fdca26"
            ],
            [
             1,
             "#f0f921"
            ]
           ],
           "sequentialminus": [
            [
             0,
             "#0d0887"
            ],
            [
             0.1111111111111111,
             "#46039f"
            ],
            [
             0.2222222222222222,
             "#7201a8"
            ],
            [
             0.3333333333333333,
             "#9c179e"
            ],
            [
             0.4444444444444444,
             "#bd3786"
            ],
            [
             0.5555555555555556,
             "#d8576b"
            ],
            [
             0.6666666666666666,
             "#ed7953"
            ],
            [
             0.7777777777777778,
             "#fb9f3a"
            ],
            [
             0.8888888888888888,
             "#fdca26"
            ],
            [
             1,
             "#f0f921"
            ]
           ]
          },
          "colorway": [
           "#636efa",
           "#EF553B",
           "#00cc96",
           "#ab63fa",
           "#FFA15A",
           "#19d3f3",
           "#FF6692",
           "#B6E880",
           "#FF97FF",
           "#FECB52"
          ],
          "font": {
           "color": "#2a3f5f"
          },
          "geo": {
           "bgcolor": "white",
           "lakecolor": "white",
           "landcolor": "#E5ECF6",
           "showlakes": true,
           "showland": true,
           "subunitcolor": "white"
          },
          "hoverlabel": {
           "align": "left"
          },
          "hovermode": "closest",
          "mapbox": {
           "style": "light"
          },
          "paper_bgcolor": "white",
          "plot_bgcolor": "#E5ECF6",
          "polar": {
           "angularaxis": {
            "gridcolor": "white",
            "linecolor": "white",
            "ticks": ""
           },
           "bgcolor": "#E5ECF6",
           "radialaxis": {
            "gridcolor": "white",
            "linecolor": "white",
            "ticks": ""
           }
          },
          "scene": {
           "xaxis": {
            "backgroundcolor": "#E5ECF6",
            "gridcolor": "white",
            "gridwidth": 2,
            "linecolor": "white",
            "showbackground": true,
            "ticks": "",
            "zerolinecolor": "white"
           },
           "yaxis": {
            "backgroundcolor": "#E5ECF6",
            "gridcolor": "white",
            "gridwidth": 2,
            "linecolor": "white",
            "showbackground": true,
            "ticks": "",
            "zerolinecolor": "white"
           },
           "zaxis": {
            "backgroundcolor": "#E5ECF6",
            "gridcolor": "white",
            "gridwidth": 2,
            "linecolor": "white",
            "showbackground": true,
            "ticks": "",
            "zerolinecolor": "white"
           }
          },
          "shapedefaults": {
           "line": {
            "color": "#2a3f5f"
           }
          },
          "ternary": {
           "aaxis": {
            "gridcolor": "white",
            "linecolor": "white",
            "ticks": ""
           },
           "baxis": {
            "gridcolor": "white",
            "linecolor": "white",
            "ticks": ""
           },
           "bgcolor": "#E5ECF6",
           "caxis": {
            "gridcolor": "white",
            "linecolor": "white",
            "ticks": ""
           }
          },
          "title": {
           "x": 0.05
          },
          "xaxis": {
           "automargin": true,
           "gridcolor": "white",
           "linecolor": "white",
           "ticks": "",
           "title": {
            "standoff": 15
           },
           "zerolinecolor": "white",
           "zerolinewidth": 2
          },
          "yaxis": {
           "automargin": true,
           "gridcolor": "white",
           "linecolor": "white",
           "ticks": "",
           "title": {
            "standoff": 15
           },
           "zerolinecolor": "white",
           "zerolinewidth": 2
          }
         }
        },
        "title": {
         "font": {
          "color": "#4D5663"
         }
        },
        "xaxis": {
         "gridcolor": "#E1E5ED",
         "showgrid": true,
         "tickfont": {
          "color": "#4D5663"
         },
         "title": {
          "font": {
           "color": "#4D5663"
          },
          "text": ""
         },
         "zerolinecolor": "#E1E5ED"
        },
        "yaxis": {
         "gridcolor": "#E1E5ED",
         "showgrid": true,
         "tickfont": {
          "color": "#4D5663"
         },
         "title": {
          "font": {
           "color": "#4D5663"
          },
          "text": ""
         },
         "zerolinecolor": "#E1E5ED"
        }
       }
      },
      "text/html": [
       "<div>                            <div id=\"307df9e2-2a5d-4cdd-99a7-cfa6b0436769\" class=\"plotly-graph-div\" style=\"height:525px; width:100%;\"></div>            <script type=\"text/javascript\">                require([\"plotly\"], function(Plotly) {                    window.PLOTLYENV=window.PLOTLYENV || {};\n",
       "                    window.PLOTLYENV.BASE_URL='https://plot.ly';                                    if (document.getElementById(\"307df9e2-2a5d-4cdd-99a7-cfa6b0436769\")) {                    Plotly.newPlot(                        \"307df9e2-2a5d-4cdd-99a7-cfa6b0436769\",                        [{\"marker\": {\"color\": \"rgba(255, 153, 51, 0.6)\", \"line\": {\"color\": \"rgba(255, 153, 51, 1.0)\", \"width\": 1}}, \"name\": \"Values\", \"orientation\": \"v\", \"text\": \"\", \"type\": \"bar\", \"x\": [\"A\", \"B\", \"C\"], \"y\": [32, 43, 50]}],                        {\"legend\": {\"bgcolor\": \"#F5F6F9\", \"font\": {\"color\": \"#4D5663\"}}, \"paper_bgcolor\": \"#F5F6F9\", \"plot_bgcolor\": \"#F5F6F9\", \"template\": {\"data\": {\"bar\": [{\"error_x\": {\"color\": \"#2a3f5f\"}, \"error_y\": {\"color\": \"#2a3f5f\"}, \"marker\": {\"line\": {\"color\": \"#E5ECF6\", \"width\": 0.5}}, \"type\": \"bar\"}], \"barpolar\": [{\"marker\": {\"line\": {\"color\": \"#E5ECF6\", \"width\": 0.5}}, \"type\": \"barpolar\"}], \"carpet\": [{\"aaxis\": {\"endlinecolor\": \"#2a3f5f\", \"gridcolor\": \"white\", \"linecolor\": \"white\", \"minorgridcolor\": \"white\", \"startlinecolor\": \"#2a3f5f\"}, \"baxis\": {\"endlinecolor\": \"#2a3f5f\", \"gridcolor\": \"white\", \"linecolor\": \"white\", \"minorgridcolor\": \"white\", \"startlinecolor\": \"#2a3f5f\"}, \"type\": \"carpet\"}], \"choropleth\": [{\"colorbar\": {\"outlinewidth\": 0, \"ticks\": \"\"}, \"type\": \"choropleth\"}], \"contour\": [{\"colorbar\": {\"outlinewidth\": 0, \"ticks\": \"\"}, \"colorscale\": [[0.0, \"#0d0887\"], [0.1111111111111111, \"#46039f\"], [0.2222222222222222, \"#7201a8\"], [0.3333333333333333, \"#9c179e\"], [0.4444444444444444, \"#bd3786\"], [0.5555555555555556, \"#d8576b\"], [0.6666666666666666, \"#ed7953\"], [0.7777777777777778, \"#fb9f3a\"], [0.8888888888888888, \"#fdca26\"], [1.0, \"#f0f921\"]], \"type\": \"contour\"}], \"contourcarpet\": [{\"colorbar\": {\"outlinewidth\": 0, \"ticks\": \"\"}, \"type\": \"contourcarpet\"}], \"heatmap\": [{\"colorbar\": {\"outlinewidth\": 0, \"ticks\": \"\"}, \"colorscale\": [[0.0, \"#0d0887\"], [0.1111111111111111, \"#46039f\"], [0.2222222222222222, \"#7201a8\"], [0.3333333333333333, \"#9c179e\"], [0.4444444444444444, \"#bd3786\"], [0.5555555555555556, \"#d8576b\"], [0.6666666666666666, \"#ed7953\"], [0.7777777777777778, \"#fb9f3a\"], [0.8888888888888888, \"#fdca26\"], [1.0, \"#f0f921\"]], \"type\": \"heatmap\"}], \"heatmapgl\": [{\"colorbar\": {\"outlinewidth\": 0, \"ticks\": \"\"}, \"colorscale\": [[0.0, \"#0d0887\"], [0.1111111111111111, \"#46039f\"], [0.2222222222222222, \"#7201a8\"], [0.3333333333333333, \"#9c179e\"], [0.4444444444444444, \"#bd3786\"], [0.5555555555555556, \"#d8576b\"], [0.6666666666666666, \"#ed7953\"], [0.7777777777777778, \"#fb9f3a\"], [0.8888888888888888, \"#fdca26\"], [1.0, \"#f0f921\"]], \"type\": \"heatmapgl\"}], \"histogram\": [{\"marker\": {\"colorbar\": {\"outlinewidth\": 0, \"ticks\": \"\"}}, \"type\": \"histogram\"}], \"histogram2d\": [{\"colorbar\": {\"outlinewidth\": 0, \"ticks\": \"\"}, \"colorscale\": [[0.0, \"#0d0887\"], [0.1111111111111111, \"#46039f\"], [0.2222222222222222, \"#7201a8\"], [0.3333333333333333, \"#9c179e\"], [0.4444444444444444, \"#bd3786\"], [0.5555555555555556, \"#d8576b\"], [0.6666666666666666, \"#ed7953\"], [0.7777777777777778, \"#fb9f3a\"], [0.8888888888888888, \"#fdca26\"], [1.0, \"#f0f921\"]], \"type\": \"histogram2d\"}], \"histogram2dcontour\": [{\"colorbar\": {\"outlinewidth\": 0, \"ticks\": \"\"}, \"colorscale\": [[0.0, \"#0d0887\"], [0.1111111111111111, \"#46039f\"], [0.2222222222222222, \"#7201a8\"], [0.3333333333333333, \"#9c179e\"], [0.4444444444444444, \"#bd3786\"], [0.5555555555555556, \"#d8576b\"], [0.6666666666666666, \"#ed7953\"], [0.7777777777777778, \"#fb9f3a\"], [0.8888888888888888, \"#fdca26\"], [1.0, \"#f0f921\"]], \"type\": \"histogram2dcontour\"}], \"mesh3d\": [{\"colorbar\": {\"outlinewidth\": 0, \"ticks\": \"\"}, \"type\": \"mesh3d\"}], \"parcoords\": [{\"line\": {\"colorbar\": {\"outlinewidth\": 0, \"ticks\": \"\"}}, \"type\": \"parcoords\"}], \"pie\": [{\"automargin\": true, \"type\": \"pie\"}], \"scatter\": [{\"marker\": {\"colorbar\": {\"outlinewidth\": 0, \"ticks\": \"\"}}, \"type\": \"scatter\"}], \"scatter3d\": [{\"line\": {\"colorbar\": {\"outlinewidth\": 0, \"ticks\": \"\"}}, \"marker\": {\"colorbar\": {\"outlinewidth\": 0, \"ticks\": \"\"}}, \"type\": \"scatter3d\"}], \"scattercarpet\": [{\"marker\": {\"colorbar\": {\"outlinewidth\": 0, \"ticks\": \"\"}}, \"type\": \"scattercarpet\"}], \"scattergeo\": [{\"marker\": {\"colorbar\": {\"outlinewidth\": 0, \"ticks\": \"\"}}, \"type\": \"scattergeo\"}], \"scattergl\": [{\"marker\": {\"colorbar\": {\"outlinewidth\": 0, \"ticks\": \"\"}}, \"type\": \"scattergl\"}], \"scattermapbox\": [{\"marker\": {\"colorbar\": {\"outlinewidth\": 0, \"ticks\": \"\"}}, \"type\": \"scattermapbox\"}], \"scatterpolar\": [{\"marker\": {\"colorbar\": {\"outlinewidth\": 0, \"ticks\": \"\"}}, \"type\": \"scatterpolar\"}], \"scatterpolargl\": [{\"marker\": {\"colorbar\": {\"outlinewidth\": 0, \"ticks\": \"\"}}, \"type\": \"scatterpolargl\"}], \"scatterternary\": [{\"marker\": {\"colorbar\": {\"outlinewidth\": 0, \"ticks\": \"\"}}, \"type\": \"scatterternary\"}], \"surface\": [{\"colorbar\": {\"outlinewidth\": 0, \"ticks\": \"\"}, \"colorscale\": [[0.0, \"#0d0887\"], [0.1111111111111111, \"#46039f\"], [0.2222222222222222, \"#7201a8\"], [0.3333333333333333, \"#9c179e\"], [0.4444444444444444, \"#bd3786\"], [0.5555555555555556, \"#d8576b\"], [0.6666666666666666, \"#ed7953\"], [0.7777777777777778, \"#fb9f3a\"], [0.8888888888888888, \"#fdca26\"], [1.0, \"#f0f921\"]], \"type\": \"surface\"}], \"table\": [{\"cells\": {\"fill\": {\"color\": \"#EBF0F8\"}, \"line\": {\"color\": \"white\"}}, \"header\": {\"fill\": {\"color\": \"#C8D4E3\"}, \"line\": {\"color\": \"white\"}}, \"type\": \"table\"}]}, \"layout\": {\"annotationdefaults\": {\"arrowcolor\": \"#2a3f5f\", \"arrowhead\": 0, \"arrowwidth\": 1}, \"autotypenumbers\": \"strict\", \"coloraxis\": {\"colorbar\": {\"outlinewidth\": 0, \"ticks\": \"\"}}, \"colorscale\": {\"diverging\": [[0, \"#8e0152\"], [0.1, \"#c51b7d\"], [0.2, \"#de77ae\"], [0.3, \"#f1b6da\"], [0.4, \"#fde0ef\"], [0.5, \"#f7f7f7\"], [0.6, \"#e6f5d0\"], [0.7, \"#b8e186\"], [0.8, \"#7fbc41\"], [0.9, \"#4d9221\"], [1, \"#276419\"]], \"sequential\": [[0.0, \"#0d0887\"], [0.1111111111111111, \"#46039f\"], [0.2222222222222222, \"#7201a8\"], [0.3333333333333333, \"#9c179e\"], [0.4444444444444444, \"#bd3786\"], [0.5555555555555556, \"#d8576b\"], [0.6666666666666666, \"#ed7953\"], [0.7777777777777778, \"#fb9f3a\"], [0.8888888888888888, \"#fdca26\"], [1.0, \"#f0f921\"]], \"sequentialminus\": [[0.0, \"#0d0887\"], [0.1111111111111111, \"#46039f\"], [0.2222222222222222, \"#7201a8\"], [0.3333333333333333, \"#9c179e\"], [0.4444444444444444, \"#bd3786\"], [0.5555555555555556, \"#d8576b\"], [0.6666666666666666, \"#ed7953\"], [0.7777777777777778, \"#fb9f3a\"], [0.8888888888888888, \"#fdca26\"], [1.0, \"#f0f921\"]]}, \"colorway\": [\"#636efa\", \"#EF553B\", \"#00cc96\", \"#ab63fa\", \"#FFA15A\", \"#19d3f3\", \"#FF6692\", \"#B6E880\", \"#FF97FF\", \"#FECB52\"], \"font\": {\"color\": \"#2a3f5f\"}, \"geo\": {\"bgcolor\": \"white\", \"lakecolor\": \"white\", \"landcolor\": \"#E5ECF6\", \"showlakes\": true, \"showland\": true, \"subunitcolor\": \"white\"}, \"hoverlabel\": {\"align\": \"left\"}, \"hovermode\": \"closest\", \"mapbox\": {\"style\": \"light\"}, \"paper_bgcolor\": \"white\", \"plot_bgcolor\": \"#E5ECF6\", \"polar\": {\"angularaxis\": {\"gridcolor\": \"white\", \"linecolor\": \"white\", \"ticks\": \"\"}, \"bgcolor\": \"#E5ECF6\", \"radialaxis\": {\"gridcolor\": \"white\", \"linecolor\": \"white\", \"ticks\": \"\"}}, \"scene\": {\"xaxis\": {\"backgroundcolor\": \"#E5ECF6\", \"gridcolor\": \"white\", \"gridwidth\": 2, \"linecolor\": \"white\", \"showbackground\": true, \"ticks\": \"\", \"zerolinecolor\": \"white\"}, \"yaxis\": {\"backgroundcolor\": \"#E5ECF6\", \"gridcolor\": \"white\", \"gridwidth\": 2, \"linecolor\": \"white\", \"showbackground\": true, \"ticks\": \"\", \"zerolinecolor\": \"white\"}, \"zaxis\": {\"backgroundcolor\": \"#E5ECF6\", \"gridcolor\": \"white\", \"gridwidth\": 2, \"linecolor\": \"white\", \"showbackground\": true, \"ticks\": \"\", \"zerolinecolor\": \"white\"}}, \"shapedefaults\": {\"line\": {\"color\": \"#2a3f5f\"}}, \"ternary\": {\"aaxis\": {\"gridcolor\": \"white\", \"linecolor\": \"white\", \"ticks\": \"\"}, \"baxis\": {\"gridcolor\": \"white\", \"linecolor\": \"white\", \"ticks\": \"\"}, \"bgcolor\": \"#E5ECF6\", \"caxis\": {\"gridcolor\": \"white\", \"linecolor\": \"white\", \"ticks\": \"\"}}, \"title\": {\"x\": 0.05}, \"xaxis\": {\"automargin\": true, \"gridcolor\": \"white\", \"linecolor\": \"white\", \"ticks\": \"\", \"title\": {\"standoff\": 15}, \"zerolinecolor\": \"white\", \"zerolinewidth\": 2}, \"yaxis\": {\"automargin\": true, \"gridcolor\": \"white\", \"linecolor\": \"white\", \"ticks\": \"\", \"title\": {\"standoff\": 15}, \"zerolinecolor\": \"white\", \"zerolinewidth\": 2}}}, \"title\": {\"font\": {\"color\": \"#4D5663\"}}, \"xaxis\": {\"gridcolor\": \"#E1E5ED\", \"showgrid\": true, \"tickfont\": {\"color\": \"#4D5663\"}, \"title\": {\"font\": {\"color\": \"#4D5663\"}, \"text\": \"\"}, \"zerolinecolor\": \"#E1E5ED\"}, \"yaxis\": {\"gridcolor\": \"#E1E5ED\", \"showgrid\": true, \"tickfont\": {\"color\": \"#4D5663\"}, \"title\": {\"font\": {\"color\": \"#4D5663\"}, \"text\": \"\"}, \"zerolinecolor\": \"#E1E5ED\"}},                        {\"showLink\": true, \"linkText\": \"Export to plot.ly\", \"plotlyServerURL\": \"https://plot.ly\", \"responsive\": true}                    ).then(function(){\n",
       "                            \n",
       "var gd = document.getElementById('307df9e2-2a5d-4cdd-99a7-cfa6b0436769');\n",
       "var x = new MutationObserver(function (mutations, observer) {{\n",
       "        var display = window.getComputedStyle(gd).display;\n",
       "        if (!display || display === 'none') {{\n",
       "            console.log([gd, 'removed!']);\n",
       "            Plotly.purge(gd);\n",
       "            observer.disconnect();\n",
       "        }}\n",
       "}});\n",
       "\n",
       "// Listen for the removal of the full notebook cells\n",
       "var notebookContainer = gd.closest('#notebook-container');\n",
       "if (notebookContainer) {{\n",
       "    x.observe(notebookContainer, {childList: true});\n",
       "}}\n",
       "\n",
       "// Listen for the clearing of the current output cell\n",
       "var outputEl = gd.closest('.output');\n",
       "if (outputEl) {{\n",
       "    x.observe(outputEl, {childList: true});\n",
       "}}\n",
       "\n",
       "                        })                };                });            </script>        </div>"
      ]
     },
     "metadata": {},
     "output_type": "display_data"
    }
   ],
   "source": [
    "df2.iplot(kind='bar', x='Category', y='Values')"
   ]
  },
  {
   "cell_type": "markdown",
   "id": "greenhouse-liberia",
   "metadata": {},
   "source": [
    "## Boxplot"
   ]
  },
  {
   "cell_type": "code",
   "execution_count": 16,
   "id": "general-heaven",
   "metadata": {},
   "outputs": [
    {
     "data": {
      "application/vnd.plotly.v1+json": {
       "config": {
        "linkText": "Export to plot.ly",
        "plotlyServerURL": "https://plot.ly",
        "showLink": true
       },
       "data": [
        {
         "boxpoints": false,
         "line": {
          "width": 1.3
         },
         "marker": {
          "color": "rgba(255, 153, 51, 1.0)"
         },
         "name": "A",
         "orientation": "v",
         "type": "box",
         "y": [
          0.2803514486783903,
          -1.3529818744563427,
          0.5349335415489098,
          -0.46485644825077904,
          0.23995054472161614,
          0.015400907103716222,
          -0.2916104698915431,
          -0.23667497168901144,
          -0.6960369293674991,
          0.05795719862127771,
          -2.707673763127651,
          0.7613704053442429,
          0.3038232136903593,
          0.47448335399814273,
          -0.164943487319802,
          -0.1746685114526522,
          0.2737289201669528,
          -1.595378768993628,
          -1.5108845426369344,
          0.24616265746478627,
          0.3065102838166673,
          0.5813583720340318,
          0.6865830735731809,
          -0.6258184147645117,
          -0.5546572199896735,
          -0.7466622678544448,
          -0.7270465111699874,
          -0.47816758216383126,
          -0.6669280389560786,
          0.76101743324588,
          -0.013679710392465254,
          1.2232943573945159,
          2.5559833518724893,
          -0.07060403482627899,
          0.13004671884714766,
          -0.45520923256722334,
          0.29918460014033516,
          -0.5924241017540582,
          -0.15759225564599727,
          -1.4004988620018581,
          -1.7732366422243238,
          0.19030716935011002,
          -1.8019881668928215,
          -0.557204660426035,
          -0.44856054866864037,
          -1.4060925644133255,
          -1.022320245094843,
          -0.8941673627250798,
          -2.245692439956184,
          0.2521689296172425,
          0.07855183616603281,
          -1.880184235826735,
          -0.3547545024536497,
          -0.15901492812930434,
          1.4885512061851904,
          1.154473168088508,
          0.3506429831171856,
          0.033939225063162694,
          -0.745605997038604,
          -0.08313589301236117,
          -0.40493746348498305,
          -0.41768247476306836,
          -0.4717648718246529,
          -1.1171886583955546,
          -2.129045780023768,
          -1.4832090385240868,
          -0.9441306566317546,
          1.322478523659654,
          0.42861599484286816,
          -0.009349041903356899,
          -1.116475110689967,
          -1.604227395364169,
          -2.6458410752338737,
          0.11056779914131323,
          -0.4965388245769563,
          0.17496256936776317,
          -0.2188956562305676,
          0.6945059949492234,
          -1.5537040988224653,
          -0.4187519315700034,
          -1.5423386677726243,
          0.06656236481758367,
          0.6071611139142862,
          -0.2086185228188934,
          -0.6639641879325863,
          1.0091151944427543,
          -0.45485719742929204,
          0.7407282713470051,
          0.7926935792564782,
          0.8401881183890121,
          0.9707636921175228,
          -0.8331596615803011,
          -0.6412226880173394,
          0.5776137452811525,
          -0.709783389228246,
          0.06455705181996911,
          1.5612392254536525,
          0.6579971954098929,
          -0.1399662625786303,
          1.1855510000724214
         ]
        },
        {
         "boxpoints": false,
         "line": {
          "width": 1.3
         },
         "marker": {
          "color": "rgba(55, 128, 191, 1.0)"
         },
         "name": "B",
         "orientation": "v",
         "type": "box",
         "y": [
          0.17706896277187162,
          -0.6249373118454554,
          0.3272590749722181,
          -0.9940401674343684,
          -2.530950849847117,
          0.2636658317371174,
          1.354219131183047,
          0.6643474062171079,
          -1.6533612970498077,
          0.7416715750244077,
          -0.9932428321735989,
          -0.6414343494166856,
          0.8299153265150462,
          -1.021986403702533,
          0.8987779717506097,
          1.0164569804648547,
          -0.35952334786171086,
          1.1094843584394358,
          1.5121019739205415,
          -0.2604947937239252,
          -0.3690942205578536,
          0.3615252687732477,
          -1.025107085234413,
          -1.4493849627756665,
          -0.8199570845444943,
          0.4505595988304898,
          1.1605376269740642,
          -1.188009381927696,
          0.6787286337625219,
          0.8039586299595403,
          -3.0833656542362573,
          1.269449272266462,
          -0.3149057116993393,
          -1.2939815954736011,
          0.12182680125676709,
          0.33006216460025506,
          0.21363583429407815,
          1.6588885458762022,
          -0.19557754724933765,
          1.0547923730917923,
          0.6954831684772481,
          -0.34584471468312034,
          0.6057788359167456,
          0.1590495270200915,
          1.5273126423059864,
          0.348566619616232,
          -0.18952539532798401,
          0.6252396166243234,
          1.1062954259320954,
          -0.687910545726598,
          -0.9078626099526047,
          0.48194398183866477,
          0.5342528457953383,
          -0.23774105751875005,
          0.06247792047270879,
          -0.3363551491205612,
          -1.4667065221044309,
          0.0951224432524548,
          1.0856472862022295,
          -0.5269712156766507,
          -0.3898477752743443,
          0.6154660142894058,
          -1.7415795762625443,
          -0.316102495625554,
          -0.02737132768909968,
          -1.6443310620854097,
          -1.456726450295568,
          -0.54900368339122,
          0.6835144512512027,
          0.6592334242785094,
          -0.7801848924134268,
          0.055159435884052276,
          -0.41360718927975393,
          -0.6787915069209751,
          0.1528205833072065,
          -1.241618365094969,
          -0.11126935795339148,
          1.0446944850176876,
          -0.39328046132648636,
          -0.9198930417706479,
          1.5521279360686067,
          -0.5390003413131172,
          -0.2064753229521223,
          0.6444836441877287,
          -2.490722034504807,
          0.11470952204713913,
          1.2685106961111818,
          1.1869956882656112,
          -0.5344110224171819,
          -1.2146728790266499,
          -0.2380292931578603,
          0.35164800826546266,
          0.6321143673388616,
          -1.8475654305346552,
          0.31649382271570314,
          -0.9371543855285568,
          1.314046527434895,
          -0.12930965638675102,
          -0.2226154810643709,
          0.9161026149352096
         ]
        },
        {
         "boxpoints": false,
         "line": {
          "width": 1.3
         },
         "marker": {
          "color": "rgba(50, 171, 96, 1.0)"
         },
         "name": "C",
         "orientation": "v",
         "type": "box",
         "y": [
          -2.392449090745727,
          -1.0617610195517124,
          2.217577774879199,
          -2.1779444355321353,
          -0.8121055877240545,
          -0.7746532570244032,
          0.7030526756647797,
          1.5960705297915396,
          0.9697825046201582,
          0.09654561836098974,
          -0.4111470689105436,
          -1.714433409650028,
          0.9305071704462848,
          -0.34927440847572006,
          -1.2836356184490894,
          0.37071448751114106,
          -1.0065758264180849,
          -0.21234678778496685,
          1.4548132175994113,
          1.367560293167318,
          -0.3834926316147219,
          -1.1162160395077914,
          0.27014406239797,
          -1.8241545117574738,
          -0.5719640611581355,
          0.35064663858170936,
          -0.11607432917288818,
          -1.2130003627713901,
          0.1944688606000843,
          0.9473014612309798,
          -0.3771930345287786,
          0.3150503017865192,
          0.7941128256660478,
          -0.16901109098163897,
          0.7857527425599498,
          0.20501827976607556,
          -0.30329038211263465,
          1.2967584326539083,
          0.015311590896882568,
          1.2046927466472341,
          0.24295398729853393,
          1.507870989115243,
          -1.3620291934431374,
          -1.2029309697776815,
          -1.33851449728627,
          -0.4400825665526056,
          -0.4640808404095627,
          1.1453226418826887,
          -0.5316768403463288,
          -0.6244809450309862,
          -0.11946151940180644,
          2.56150376466554,
          0.18471940380253912,
          0.663430075062486,
          -2.3085509848434023,
          1.7976013757255478,
          -0.6904563964744526,
          2.7909713645302636,
          -0.6428921267102796,
          -0.5822092806174856,
          0.9513219009855614,
          0.0686603140688749,
          1.320262270992589,
          -0.9285445800039841,
          -0.5554649960632836,
          0.4764140059804784,
          -1.4463556836268234,
          -1.2631022186673608,
          -2.9247977287174445,
          0.9090892062818072,
          1.6423475047197922,
          -1.3001758539335535,
          -1.1808477175120704,
          0.2705472095520638,
          1.0876381779091167,
          -0.17523884543821572,
          -0.1334008391090635,
          0.5147391648902362,
          0.6751204577550315,
          -0.6178474564556888,
          -1.689505147493363,
          0.4374628571706745,
          -1.562310762800644,
          -0.2504486862566129,
          0.8744056262125431,
          -0.7753440359013597,
          0.4321155399840242,
          -0.10522895301904903,
          0.3050607058928969,
          -0.9462718881676678,
          -1.318911504859071,
          -1.8950386360261857,
          0.14491189531719736,
          0.21966745452151398,
          0.6822693670204852,
          2.7793665898883817,
          -0.45363989798818377,
          0.5958180244618567,
          -0.20141467567739665,
          0.27809903575079464
         ]
        },
        {
         "boxpoints": false,
         "line": {
          "width": 1.3
         },
         "marker": {
          "color": "rgba(128, 0, 128, 1.0)"
         },
         "name": "D",
         "orientation": "v",
         "type": "box",
         "y": [
          1.1799654205219414,
          -0.900168005349071,
          -0.04451479704022886,
          1.0653684715245106,
          0.1764817562654781,
          -0.8349127232369903,
          -0.6960952821297788,
          -1.9455580284231706,
          1.0533620636016847,
          0.09333401668230523,
          -1.6060535940338903,
          1.2594127954087435,
          -1.4065403106576317,
          0.2339046800235441,
          -0.3990753387793068,
          0.14615553406265083,
          -0.22350669947064497,
          0.640765174595041,
          -0.01781445016880167,
          0.03805637164732594,
          -0.5319945548529844,
          0.48867166111317945,
          0.984428316137575,
          -0.03300147507971211,
          -0.4460017887530481,
          0.6605359725750817,
          1.0419966648711196,
          0.3102082312382125,
          0.4790833644265756,
          0.3011265455026397,
          0.7106774292313758,
          -1.8873548298757337,
          -0.5137549468477939,
          0.8398922989685574,
          1.0871651095232162,
          -0.6095935911603446,
          -0.9572471512220628,
          -0.09168866772342649,
          0.9006727983883414,
          -0.5324291315386876,
          -1.726570160418048,
          1.0140854466616918,
          0.07895740073962702,
          0.028232441746865927,
          0.1292868222577738,
          -0.47837331868394956,
          1.3766507537397314,
          1.95145601238955,
          0.506741706843716,
          1.2533742976373865,
          -0.3619270048935121,
          -0.8616935877086113,
          -0.2655896252796371,
          0.2271565839704893,
          2.4137730541621982,
          0.9732167058624435,
          1.9659798542459828,
          1.0949859809977442,
          0.5445608800317912,
          -0.17559363806582184,
          -0.17602397006631898,
          2.126044789094438,
          -0.2679660738387135,
          -0.5899014259574387,
          0.8233918972239539,
          0.5982102131868876,
          -0.23974548763690395,
          -0.7625645661411272,
          2.131255846154423,
          -0.16089139609515746,
          0.18381944256905272,
          0.2267617909081373,
          0.7803127983852142,
          0.20624611159253428,
          -0.29663636897520196,
          0.35153327070056284,
          0.2533433329388325,
          1.3385403406301426,
          0.39338621737609836,
          -1.2594537167617184,
          0.7822207461721324,
          -0.996742549160656,
          0.35159121972752716,
          -1.814256381533014,
          -0.37513101639477564,
          0.750078538828769,
          0.46153055686012423,
          1.0646275597072927,
          -1.473212781815409,
          -0.29988514652464204,
          0.0250383601161776,
          -1.2807437185006134,
          -0.04386155936399598,
          -0.5689608056658727,
          1.3878061561455213,
          -0.038124352960860156,
          -0.10663655667386701,
          -0.7727476047248021,
          -2.0244093820446296,
          0.16588996022679559
         ]
        }
       ],
       "layout": {
        "legend": {
         "bgcolor": "#F5F6F9",
         "font": {
          "color": "#4D5663"
         }
        },
        "paper_bgcolor": "#F5F6F9",
        "plot_bgcolor": "#F5F6F9",
        "template": {
         "data": {
          "bar": [
           {
            "error_x": {
             "color": "#2a3f5f"
            },
            "error_y": {
             "color": "#2a3f5f"
            },
            "marker": {
             "line": {
              "color": "#E5ECF6",
              "width": 0.5
             }
            },
            "type": "bar"
           }
          ],
          "barpolar": [
           {
            "marker": {
             "line": {
              "color": "#E5ECF6",
              "width": 0.5
             }
            },
            "type": "barpolar"
           }
          ],
          "carpet": [
           {
            "aaxis": {
             "endlinecolor": "#2a3f5f",
             "gridcolor": "white",
             "linecolor": "white",
             "minorgridcolor": "white",
             "startlinecolor": "#2a3f5f"
            },
            "baxis": {
             "endlinecolor": "#2a3f5f",
             "gridcolor": "white",
             "linecolor": "white",
             "minorgridcolor": "white",
             "startlinecolor": "#2a3f5f"
            },
            "type": "carpet"
           }
          ],
          "choropleth": [
           {
            "colorbar": {
             "outlinewidth": 0,
             "ticks": ""
            },
            "type": "choropleth"
           }
          ],
          "contour": [
           {
            "colorbar": {
             "outlinewidth": 0,
             "ticks": ""
            },
            "colorscale": [
             [
              0,
              "#0d0887"
             ],
             [
              0.1111111111111111,
              "#46039f"
             ],
             [
              0.2222222222222222,
              "#7201a8"
             ],
             [
              0.3333333333333333,
              "#9c179e"
             ],
             [
              0.4444444444444444,
              "#bd3786"
             ],
             [
              0.5555555555555556,
              "#d8576b"
             ],
             [
              0.6666666666666666,
              "#ed7953"
             ],
             [
              0.7777777777777778,
              "#fb9f3a"
             ],
             [
              0.8888888888888888,
              "#fdca26"
             ],
             [
              1,
              "#f0f921"
             ]
            ],
            "type": "contour"
           }
          ],
          "contourcarpet": [
           {
            "colorbar": {
             "outlinewidth": 0,
             "ticks": ""
            },
            "type": "contourcarpet"
           }
          ],
          "heatmap": [
           {
            "colorbar": {
             "outlinewidth": 0,
             "ticks": ""
            },
            "colorscale": [
             [
              0,
              "#0d0887"
             ],
             [
              0.1111111111111111,
              "#46039f"
             ],
             [
              0.2222222222222222,
              "#7201a8"
             ],
             [
              0.3333333333333333,
              "#9c179e"
             ],
             [
              0.4444444444444444,
              "#bd3786"
             ],
             [
              0.5555555555555556,
              "#d8576b"
             ],
             [
              0.6666666666666666,
              "#ed7953"
             ],
             [
              0.7777777777777778,
              "#fb9f3a"
             ],
             [
              0.8888888888888888,
              "#fdca26"
             ],
             [
              1,
              "#f0f921"
             ]
            ],
            "type": "heatmap"
           }
          ],
          "heatmapgl": [
           {
            "colorbar": {
             "outlinewidth": 0,
             "ticks": ""
            },
            "colorscale": [
             [
              0,
              "#0d0887"
             ],
             [
              0.1111111111111111,
              "#46039f"
             ],
             [
              0.2222222222222222,
              "#7201a8"
             ],
             [
              0.3333333333333333,
              "#9c179e"
             ],
             [
              0.4444444444444444,
              "#bd3786"
             ],
             [
              0.5555555555555556,
              "#d8576b"
             ],
             [
              0.6666666666666666,
              "#ed7953"
             ],
             [
              0.7777777777777778,
              "#fb9f3a"
             ],
             [
              0.8888888888888888,
              "#fdca26"
             ],
             [
              1,
              "#f0f921"
             ]
            ],
            "type": "heatmapgl"
           }
          ],
          "histogram": [
           {
            "marker": {
             "colorbar": {
              "outlinewidth": 0,
              "ticks": ""
             }
            },
            "type": "histogram"
           }
          ],
          "histogram2d": [
           {
            "colorbar": {
             "outlinewidth": 0,
             "ticks": ""
            },
            "colorscale": [
             [
              0,
              "#0d0887"
             ],
             [
              0.1111111111111111,
              "#46039f"
             ],
             [
              0.2222222222222222,
              "#7201a8"
             ],
             [
              0.3333333333333333,
              "#9c179e"
             ],
             [
              0.4444444444444444,
              "#bd3786"
             ],
             [
              0.5555555555555556,
              "#d8576b"
             ],
             [
              0.6666666666666666,
              "#ed7953"
             ],
             [
              0.7777777777777778,
              "#fb9f3a"
             ],
             [
              0.8888888888888888,
              "#fdca26"
             ],
             [
              1,
              "#f0f921"
             ]
            ],
            "type": "histogram2d"
           }
          ],
          "histogram2dcontour": [
           {
            "colorbar": {
             "outlinewidth": 0,
             "ticks": ""
            },
            "colorscale": [
             [
              0,
              "#0d0887"
             ],
             [
              0.1111111111111111,
              "#46039f"
             ],
             [
              0.2222222222222222,
              "#7201a8"
             ],
             [
              0.3333333333333333,
              "#9c179e"
             ],
             [
              0.4444444444444444,
              "#bd3786"
             ],
             [
              0.5555555555555556,
              "#d8576b"
             ],
             [
              0.6666666666666666,
              "#ed7953"
             ],
             [
              0.7777777777777778,
              "#fb9f3a"
             ],
             [
              0.8888888888888888,
              "#fdca26"
             ],
             [
              1,
              "#f0f921"
             ]
            ],
            "type": "histogram2dcontour"
           }
          ],
          "mesh3d": [
           {
            "colorbar": {
             "outlinewidth": 0,
             "ticks": ""
            },
            "type": "mesh3d"
           }
          ],
          "parcoords": [
           {
            "line": {
             "colorbar": {
              "outlinewidth": 0,
              "ticks": ""
             }
            },
            "type": "parcoords"
           }
          ],
          "pie": [
           {
            "automargin": true,
            "type": "pie"
           }
          ],
          "scatter": [
           {
            "marker": {
             "colorbar": {
              "outlinewidth": 0,
              "ticks": ""
             }
            },
            "type": "scatter"
           }
          ],
          "scatter3d": [
           {
            "line": {
             "colorbar": {
              "outlinewidth": 0,
              "ticks": ""
             }
            },
            "marker": {
             "colorbar": {
              "outlinewidth": 0,
              "ticks": ""
             }
            },
            "type": "scatter3d"
           }
          ],
          "scattercarpet": [
           {
            "marker": {
             "colorbar": {
              "outlinewidth": 0,
              "ticks": ""
             }
            },
            "type": "scattercarpet"
           }
          ],
          "scattergeo": [
           {
            "marker": {
             "colorbar": {
              "outlinewidth": 0,
              "ticks": ""
             }
            },
            "type": "scattergeo"
           }
          ],
          "scattergl": [
           {
            "marker": {
             "colorbar": {
              "outlinewidth": 0,
              "ticks": ""
             }
            },
            "type": "scattergl"
           }
          ],
          "scattermapbox": [
           {
            "marker": {
             "colorbar": {
              "outlinewidth": 0,
              "ticks": ""
             }
            },
            "type": "scattermapbox"
           }
          ],
          "scatterpolar": [
           {
            "marker": {
             "colorbar": {
              "outlinewidth": 0,
              "ticks": ""
             }
            },
            "type": "scatterpolar"
           }
          ],
          "scatterpolargl": [
           {
            "marker": {
             "colorbar": {
              "outlinewidth": 0,
              "ticks": ""
             }
            },
            "type": "scatterpolargl"
           }
          ],
          "scatterternary": [
           {
            "marker": {
             "colorbar": {
              "outlinewidth": 0,
              "ticks": ""
             }
            },
            "type": "scatterternary"
           }
          ],
          "surface": [
           {
            "colorbar": {
             "outlinewidth": 0,
             "ticks": ""
            },
            "colorscale": [
             [
              0,
              "#0d0887"
             ],
             [
              0.1111111111111111,
              "#46039f"
             ],
             [
              0.2222222222222222,
              "#7201a8"
             ],
             [
              0.3333333333333333,
              "#9c179e"
             ],
             [
              0.4444444444444444,
              "#bd3786"
             ],
             [
              0.5555555555555556,
              "#d8576b"
             ],
             [
              0.6666666666666666,
              "#ed7953"
             ],
             [
              0.7777777777777778,
              "#fb9f3a"
             ],
             [
              0.8888888888888888,
              "#fdca26"
             ],
             [
              1,
              "#f0f921"
             ]
            ],
            "type": "surface"
           }
          ],
          "table": [
           {
            "cells": {
             "fill": {
              "color": "#EBF0F8"
             },
             "line": {
              "color": "white"
             }
            },
            "header": {
             "fill": {
              "color": "#C8D4E3"
             },
             "line": {
              "color": "white"
             }
            },
            "type": "table"
           }
          ]
         },
         "layout": {
          "annotationdefaults": {
           "arrowcolor": "#2a3f5f",
           "arrowhead": 0,
           "arrowwidth": 1
          },
          "autotypenumbers": "strict",
          "coloraxis": {
           "colorbar": {
            "outlinewidth": 0,
            "ticks": ""
           }
          },
          "colorscale": {
           "diverging": [
            [
             0,
             "#8e0152"
            ],
            [
             0.1,
             "#c51b7d"
            ],
            [
             0.2,
             "#de77ae"
            ],
            [
             0.3,
             "#f1b6da"
            ],
            [
             0.4,
             "#fde0ef"
            ],
            [
             0.5,
             "#f7f7f7"
            ],
            [
             0.6,
             "#e6f5d0"
            ],
            [
             0.7,
             "#b8e186"
            ],
            [
             0.8,
             "#7fbc41"
            ],
            [
             0.9,
             "#4d9221"
            ],
            [
             1,
             "#276419"
            ]
           ],
           "sequential": [
            [
             0,
             "#0d0887"
            ],
            [
             0.1111111111111111,
             "#46039f"
            ],
            [
             0.2222222222222222,
             "#7201a8"
            ],
            [
             0.3333333333333333,
             "#9c179e"
            ],
            [
             0.4444444444444444,
             "#bd3786"
            ],
            [
             0.5555555555555556,
             "#d8576b"
            ],
            [
             0.6666666666666666,
             "#ed7953"
            ],
            [
             0.7777777777777778,
             "#fb9f3a"
            ],
            [
             0.8888888888888888,
             "#fdca26"
            ],
            [
             1,
             "#f0f921"
            ]
           ],
           "sequentialminus": [
            [
             0,
             "#0d0887"
            ],
            [
             0.1111111111111111,
             "#46039f"
            ],
            [
             0.2222222222222222,
             "#7201a8"
            ],
            [
             0.3333333333333333,
             "#9c179e"
            ],
            [
             0.4444444444444444,
             "#bd3786"
            ],
            [
             0.5555555555555556,
             "#d8576b"
            ],
            [
             0.6666666666666666,
             "#ed7953"
            ],
            [
             0.7777777777777778,
             "#fb9f3a"
            ],
            [
             0.8888888888888888,
             "#fdca26"
            ],
            [
             1,
             "#f0f921"
            ]
           ]
          },
          "colorway": [
           "#636efa",
           "#EF553B",
           "#00cc96",
           "#ab63fa",
           "#FFA15A",
           "#19d3f3",
           "#FF6692",
           "#B6E880",
           "#FF97FF",
           "#FECB52"
          ],
          "font": {
           "color": "#2a3f5f"
          },
          "geo": {
           "bgcolor": "white",
           "lakecolor": "white",
           "landcolor": "#E5ECF6",
           "showlakes": true,
           "showland": true,
           "subunitcolor": "white"
          },
          "hoverlabel": {
           "align": "left"
          },
          "hovermode": "closest",
          "mapbox": {
           "style": "light"
          },
          "paper_bgcolor": "white",
          "plot_bgcolor": "#E5ECF6",
          "polar": {
           "angularaxis": {
            "gridcolor": "white",
            "linecolor": "white",
            "ticks": ""
           },
           "bgcolor": "#E5ECF6",
           "radialaxis": {
            "gridcolor": "white",
            "linecolor": "white",
            "ticks": ""
           }
          },
          "scene": {
           "xaxis": {
            "backgroundcolor": "#E5ECF6",
            "gridcolor": "white",
            "gridwidth": 2,
            "linecolor": "white",
            "showbackground": true,
            "ticks": "",
            "zerolinecolor": "white"
           },
           "yaxis": {
            "backgroundcolor": "#E5ECF6",
            "gridcolor": "white",
            "gridwidth": 2,
            "linecolor": "white",
            "showbackground": true,
            "ticks": "",
            "zerolinecolor": "white"
           },
           "zaxis": {
            "backgroundcolor": "#E5ECF6",
            "gridcolor": "white",
            "gridwidth": 2,
            "linecolor": "white",
            "showbackground": true,
            "ticks": "",
            "zerolinecolor": "white"
           }
          },
          "shapedefaults": {
           "line": {
            "color": "#2a3f5f"
           }
          },
          "ternary": {
           "aaxis": {
            "gridcolor": "white",
            "linecolor": "white",
            "ticks": ""
           },
           "baxis": {
            "gridcolor": "white",
            "linecolor": "white",
            "ticks": ""
           },
           "bgcolor": "#E5ECF6",
           "caxis": {
            "gridcolor": "white",
            "linecolor": "white",
            "ticks": ""
           }
          },
          "title": {
           "x": 0.05
          },
          "xaxis": {
           "automargin": true,
           "gridcolor": "white",
           "linecolor": "white",
           "ticks": "",
           "title": {
            "standoff": 15
           },
           "zerolinecolor": "white",
           "zerolinewidth": 2
          },
          "yaxis": {
           "automargin": true,
           "gridcolor": "white",
           "linecolor": "white",
           "ticks": "",
           "title": {
            "standoff": 15
           },
           "zerolinecolor": "white",
           "zerolinewidth": 2
          }
         }
        },
        "title": {
         "font": {
          "color": "#4D5663"
         }
        },
        "xaxis": {
         "gridcolor": "#E1E5ED",
         "showgrid": true,
         "tickfont": {
          "color": "#4D5663"
         },
         "title": {
          "font": {
           "color": "#4D5663"
          },
          "text": ""
         },
         "zerolinecolor": "#E1E5ED"
        },
        "yaxis": {
         "gridcolor": "#E1E5ED",
         "showgrid": true,
         "tickfont": {
          "color": "#4D5663"
         },
         "title": {
          "font": {
           "color": "#4D5663"
          },
          "text": ""
         },
         "zerolinecolor": "#E1E5ED"
        }
       }
      },
      "text/html": [
       "<div>                            <div id=\"eac9fff8-3200-4a40-a995-cc44f5828a5c\" class=\"plotly-graph-div\" style=\"height:525px; width:100%;\"></div>            <script type=\"text/javascript\">                require([\"plotly\"], function(Plotly) {                    window.PLOTLYENV=window.PLOTLYENV || {};\n",
       "                    window.PLOTLYENV.BASE_URL='https://plot.ly';                                    if (document.getElementById(\"eac9fff8-3200-4a40-a995-cc44f5828a5c\")) {                    Plotly.newPlot(                        \"eac9fff8-3200-4a40-a995-cc44f5828a5c\",                        [{\"boxpoints\": false, \"line\": {\"width\": 1.3}, \"marker\": {\"color\": \"rgba(255, 153, 51, 1.0)\"}, \"name\": \"A\", \"orientation\": \"v\", \"type\": \"box\", \"y\": [0.2803514486783903, -1.3529818744563427, 0.5349335415489098, -0.46485644825077904, 0.23995054472161614, 0.015400907103716222, -0.2916104698915431, -0.23667497168901144, -0.6960369293674991, 0.05795719862127771, -2.707673763127651, 0.7613704053442429, 0.3038232136903593, 0.47448335399814273, -0.164943487319802, -0.1746685114526522, 0.2737289201669528, -1.595378768993628, -1.5108845426369344, 0.24616265746478627, 0.3065102838166673, 0.5813583720340318, 0.6865830735731809, -0.6258184147645117, -0.5546572199896735, -0.7466622678544448, -0.7270465111699874, -0.47816758216383126, -0.6669280389560786, 0.76101743324588, -0.013679710392465254, 1.2232943573945159, 2.5559833518724893, -0.07060403482627899, 0.13004671884714766, -0.45520923256722334, 0.29918460014033516, -0.5924241017540582, -0.15759225564599727, -1.4004988620018581, -1.7732366422243238, 0.19030716935011002, -1.8019881668928215, -0.557204660426035, -0.44856054866864037, -1.4060925644133255, -1.022320245094843, -0.8941673627250798, -2.245692439956184, 0.2521689296172425, 0.07855183616603281, -1.880184235826735, -0.3547545024536497, -0.15901492812930434, 1.4885512061851904, 1.154473168088508, 0.3506429831171856, 0.033939225063162694, -0.745605997038604, -0.08313589301236117, -0.40493746348498305, -0.41768247476306836, -0.4717648718246529, -1.1171886583955546, -2.129045780023768, -1.4832090385240868, -0.9441306566317546, 1.322478523659654, 0.42861599484286816, -0.009349041903356899, -1.116475110689967, -1.604227395364169, -2.6458410752338737, 0.11056779914131323, -0.4965388245769563, 0.17496256936776317, -0.2188956562305676, 0.6945059949492234, -1.5537040988224653, -0.4187519315700034, -1.5423386677726243, 0.06656236481758367, 0.6071611139142862, -0.2086185228188934, -0.6639641879325863, 1.0091151944427543, -0.45485719742929204, 0.7407282713470051, 0.7926935792564782, 0.8401881183890121, 0.9707636921175228, -0.8331596615803011, -0.6412226880173394, 0.5776137452811525, -0.709783389228246, 0.06455705181996911, 1.5612392254536525, 0.6579971954098929, -0.1399662625786303, 1.1855510000724214]}, {\"boxpoints\": false, \"line\": {\"width\": 1.3}, \"marker\": {\"color\": \"rgba(55, 128, 191, 1.0)\"}, \"name\": \"B\", \"orientation\": \"v\", \"type\": \"box\", \"y\": [0.17706896277187162, -0.6249373118454554, 0.3272590749722181, -0.9940401674343684, -2.530950849847117, 0.2636658317371174, 1.354219131183047, 0.6643474062171079, -1.6533612970498077, 0.7416715750244077, -0.9932428321735989, -0.6414343494166856, 0.8299153265150462, -1.021986403702533, 0.8987779717506097, 1.0164569804648547, -0.35952334786171086, 1.1094843584394358, 1.5121019739205415, -0.2604947937239252, -0.3690942205578536, 0.3615252687732477, -1.025107085234413, -1.4493849627756665, -0.8199570845444943, 0.4505595988304898, 1.1605376269740642, -1.188009381927696, 0.6787286337625219, 0.8039586299595403, -3.0833656542362573, 1.269449272266462, -0.3149057116993393, -1.2939815954736011, 0.12182680125676709, 0.33006216460025506, 0.21363583429407815, 1.6588885458762022, -0.19557754724933765, 1.0547923730917923, 0.6954831684772481, -0.34584471468312034, 0.6057788359167456, 0.1590495270200915, 1.5273126423059864, 0.348566619616232, -0.18952539532798401, 0.6252396166243234, 1.1062954259320954, -0.687910545726598, -0.9078626099526047, 0.48194398183866477, 0.5342528457953383, -0.23774105751875005, 0.06247792047270879, -0.3363551491205612, -1.4667065221044309, 0.0951224432524548, 1.0856472862022295, -0.5269712156766507, -0.3898477752743443, 0.6154660142894058, -1.7415795762625443, -0.316102495625554, -0.02737132768909968, -1.6443310620854097, -1.456726450295568, -0.54900368339122, 0.6835144512512027, 0.6592334242785094, -0.7801848924134268, 0.055159435884052276, -0.41360718927975393, -0.6787915069209751, 0.1528205833072065, -1.241618365094969, -0.11126935795339148, 1.0446944850176876, -0.39328046132648636, -0.9198930417706479, 1.5521279360686067, -0.5390003413131172, -0.2064753229521223, 0.6444836441877287, -2.490722034504807, 0.11470952204713913, 1.2685106961111818, 1.1869956882656112, -0.5344110224171819, -1.2146728790266499, -0.2380292931578603, 0.35164800826546266, 0.6321143673388616, -1.8475654305346552, 0.31649382271570314, -0.9371543855285568, 1.314046527434895, -0.12930965638675102, -0.2226154810643709, 0.9161026149352096]}, {\"boxpoints\": false, \"line\": {\"width\": 1.3}, \"marker\": {\"color\": \"rgba(50, 171, 96, 1.0)\"}, \"name\": \"C\", \"orientation\": \"v\", \"type\": \"box\", \"y\": [-2.392449090745727, -1.0617610195517124, 2.217577774879199, -2.1779444355321353, -0.8121055877240545, -0.7746532570244032, 0.7030526756647797, 1.5960705297915396, 0.9697825046201582, 0.09654561836098974, -0.4111470689105436, -1.714433409650028, 0.9305071704462848, -0.34927440847572006, -1.2836356184490894, 0.37071448751114106, -1.0065758264180849, -0.21234678778496685, 1.4548132175994113, 1.367560293167318, -0.3834926316147219, -1.1162160395077914, 0.27014406239797, -1.8241545117574738, -0.5719640611581355, 0.35064663858170936, -0.11607432917288818, -1.2130003627713901, 0.1944688606000843, 0.9473014612309798, -0.3771930345287786, 0.3150503017865192, 0.7941128256660478, -0.16901109098163897, 0.7857527425599498, 0.20501827976607556, -0.30329038211263465, 1.2967584326539083, 0.015311590896882568, 1.2046927466472341, 0.24295398729853393, 1.507870989115243, -1.3620291934431374, -1.2029309697776815, -1.33851449728627, -0.4400825665526056, -0.4640808404095627, 1.1453226418826887, -0.5316768403463288, -0.6244809450309862, -0.11946151940180644, 2.56150376466554, 0.18471940380253912, 0.663430075062486, -2.3085509848434023, 1.7976013757255478, -0.6904563964744526, 2.7909713645302636, -0.6428921267102796, -0.5822092806174856, 0.9513219009855614, 0.0686603140688749, 1.320262270992589, -0.9285445800039841, -0.5554649960632836, 0.4764140059804784, -1.4463556836268234, -1.2631022186673608, -2.9247977287174445, 0.9090892062818072, 1.6423475047197922, -1.3001758539335535, -1.1808477175120704, 0.2705472095520638, 1.0876381779091167, -0.17523884543821572, -0.1334008391090635, 0.5147391648902362, 0.6751204577550315, -0.6178474564556888, -1.689505147493363, 0.4374628571706745, -1.562310762800644, -0.2504486862566129, 0.8744056262125431, -0.7753440359013597, 0.4321155399840242, -0.10522895301904903, 0.3050607058928969, -0.9462718881676678, -1.318911504859071, -1.8950386360261857, 0.14491189531719736, 0.21966745452151398, 0.6822693670204852, 2.7793665898883817, -0.45363989798818377, 0.5958180244618567, -0.20141467567739665, 0.27809903575079464]}, {\"boxpoints\": false, \"line\": {\"width\": 1.3}, \"marker\": {\"color\": \"rgba(128, 0, 128, 1.0)\"}, \"name\": \"D\", \"orientation\": \"v\", \"type\": \"box\", \"y\": [1.1799654205219414, -0.900168005349071, -0.04451479704022886, 1.0653684715245106, 0.1764817562654781, -0.8349127232369903, -0.6960952821297788, -1.9455580284231706, 1.0533620636016847, 0.09333401668230523, -1.6060535940338903, 1.2594127954087435, -1.4065403106576317, 0.2339046800235441, -0.3990753387793068, 0.14615553406265083, -0.22350669947064497, 0.640765174595041, -0.01781445016880167, 0.03805637164732594, -0.5319945548529844, 0.48867166111317945, 0.984428316137575, -0.03300147507971211, -0.4460017887530481, 0.6605359725750817, 1.0419966648711196, 0.3102082312382125, 0.4790833644265756, 0.3011265455026397, 0.7106774292313758, -1.8873548298757337, -0.5137549468477939, 0.8398922989685574, 1.0871651095232162, -0.6095935911603446, -0.9572471512220628, -0.09168866772342649, 0.9006727983883414, -0.5324291315386876, -1.726570160418048, 1.0140854466616918, 0.07895740073962702, 0.028232441746865927, 0.1292868222577738, -0.47837331868394956, 1.3766507537397314, 1.95145601238955, 0.506741706843716, 1.2533742976373865, -0.3619270048935121, -0.8616935877086113, -0.2655896252796371, 0.2271565839704893, 2.4137730541621982, 0.9732167058624435, 1.9659798542459828, 1.0949859809977442, 0.5445608800317912, -0.17559363806582184, -0.17602397006631898, 2.126044789094438, -0.2679660738387135, -0.5899014259574387, 0.8233918972239539, 0.5982102131868876, -0.23974548763690395, -0.7625645661411272, 2.131255846154423, -0.16089139609515746, 0.18381944256905272, 0.2267617909081373, 0.7803127983852142, 0.20624611159253428, -0.29663636897520196, 0.35153327070056284, 0.2533433329388325, 1.3385403406301426, 0.39338621737609836, -1.2594537167617184, 0.7822207461721324, -0.996742549160656, 0.35159121972752716, -1.814256381533014, -0.37513101639477564, 0.750078538828769, 0.46153055686012423, 1.0646275597072927, -1.473212781815409, -0.29988514652464204, 0.0250383601161776, -1.2807437185006134, -0.04386155936399598, -0.5689608056658727, 1.3878061561455213, -0.038124352960860156, -0.10663655667386701, -0.7727476047248021, -2.0244093820446296, 0.16588996022679559]}],                        {\"legend\": {\"bgcolor\": \"#F5F6F9\", \"font\": {\"color\": \"#4D5663\"}}, \"paper_bgcolor\": \"#F5F6F9\", \"plot_bgcolor\": \"#F5F6F9\", \"template\": {\"data\": {\"bar\": [{\"error_x\": {\"color\": \"#2a3f5f\"}, \"error_y\": {\"color\": \"#2a3f5f\"}, \"marker\": {\"line\": {\"color\": \"#E5ECF6\", \"width\": 0.5}}, \"type\": \"bar\"}], \"barpolar\": [{\"marker\": {\"line\": {\"color\": \"#E5ECF6\", \"width\": 0.5}}, \"type\": \"barpolar\"}], \"carpet\": [{\"aaxis\": {\"endlinecolor\": \"#2a3f5f\", \"gridcolor\": \"white\", \"linecolor\": \"white\", \"minorgridcolor\": \"white\", \"startlinecolor\": \"#2a3f5f\"}, \"baxis\": {\"endlinecolor\": \"#2a3f5f\", \"gridcolor\": \"white\", \"linecolor\": \"white\", \"minorgridcolor\": \"white\", \"startlinecolor\": \"#2a3f5f\"}, \"type\": \"carpet\"}], \"choropleth\": [{\"colorbar\": {\"outlinewidth\": 0, \"ticks\": \"\"}, \"type\": \"choropleth\"}], \"contour\": [{\"colorbar\": {\"outlinewidth\": 0, \"ticks\": \"\"}, \"colorscale\": [[0.0, \"#0d0887\"], [0.1111111111111111, \"#46039f\"], [0.2222222222222222, \"#7201a8\"], [0.3333333333333333, \"#9c179e\"], [0.4444444444444444, \"#bd3786\"], [0.5555555555555556, \"#d8576b\"], [0.6666666666666666, \"#ed7953\"], [0.7777777777777778, \"#fb9f3a\"], [0.8888888888888888, \"#fdca26\"], [1.0, \"#f0f921\"]], \"type\": \"contour\"}], \"contourcarpet\": [{\"colorbar\": {\"outlinewidth\": 0, \"ticks\": \"\"}, \"type\": \"contourcarpet\"}], \"heatmap\": [{\"colorbar\": {\"outlinewidth\": 0, \"ticks\": \"\"}, \"colorscale\": [[0.0, \"#0d0887\"], [0.1111111111111111, \"#46039f\"], [0.2222222222222222, \"#7201a8\"], [0.3333333333333333, \"#9c179e\"], [0.4444444444444444, \"#bd3786\"], [0.5555555555555556, \"#d8576b\"], [0.6666666666666666, \"#ed7953\"], [0.7777777777777778, \"#fb9f3a\"], [0.8888888888888888, \"#fdca26\"], [1.0, \"#f0f921\"]], \"type\": \"heatmap\"}], \"heatmapgl\": [{\"colorbar\": {\"outlinewidth\": 0, \"ticks\": \"\"}, \"colorscale\": [[0.0, \"#0d0887\"], [0.1111111111111111, \"#46039f\"], [0.2222222222222222, \"#7201a8\"], [0.3333333333333333, \"#9c179e\"], [0.4444444444444444, \"#bd3786\"], [0.5555555555555556, \"#d8576b\"], [0.6666666666666666, \"#ed7953\"], [0.7777777777777778, \"#fb9f3a\"], [0.8888888888888888, \"#fdca26\"], [1.0, \"#f0f921\"]], \"type\": \"heatmapgl\"}], \"histogram\": [{\"marker\": {\"colorbar\": {\"outlinewidth\": 0, \"ticks\": \"\"}}, \"type\": \"histogram\"}], \"histogram2d\": [{\"colorbar\": {\"outlinewidth\": 0, \"ticks\": \"\"}, \"colorscale\": [[0.0, \"#0d0887\"], [0.1111111111111111, \"#46039f\"], [0.2222222222222222, \"#7201a8\"], [0.3333333333333333, \"#9c179e\"], [0.4444444444444444, \"#bd3786\"], [0.5555555555555556, \"#d8576b\"], [0.6666666666666666, \"#ed7953\"], [0.7777777777777778, \"#fb9f3a\"], [0.8888888888888888, \"#fdca26\"], [1.0, \"#f0f921\"]], \"type\": \"histogram2d\"}], \"histogram2dcontour\": [{\"colorbar\": {\"outlinewidth\": 0, \"ticks\": \"\"}, \"colorscale\": [[0.0, \"#0d0887\"], [0.1111111111111111, \"#46039f\"], [0.2222222222222222, \"#7201a8\"], [0.3333333333333333, \"#9c179e\"], [0.4444444444444444, \"#bd3786\"], [0.5555555555555556, \"#d8576b\"], [0.6666666666666666, \"#ed7953\"], [0.7777777777777778, \"#fb9f3a\"], [0.8888888888888888, \"#fdca26\"], [1.0, \"#f0f921\"]], \"type\": \"histogram2dcontour\"}], \"mesh3d\": [{\"colorbar\": {\"outlinewidth\": 0, \"ticks\": \"\"}, \"type\": \"mesh3d\"}], \"parcoords\": [{\"line\": {\"colorbar\": {\"outlinewidth\": 0, \"ticks\": \"\"}}, \"type\": \"parcoords\"}], \"pie\": [{\"automargin\": true, \"type\": \"pie\"}], \"scatter\": [{\"marker\": {\"colorbar\": {\"outlinewidth\": 0, \"ticks\": \"\"}}, \"type\": \"scatter\"}], \"scatter3d\": [{\"line\": {\"colorbar\": {\"outlinewidth\": 0, \"ticks\": \"\"}}, \"marker\": {\"colorbar\": {\"outlinewidth\": 0, \"ticks\": \"\"}}, \"type\": \"scatter3d\"}], \"scattercarpet\": [{\"marker\": {\"colorbar\": {\"outlinewidth\": 0, \"ticks\": \"\"}}, \"type\": \"scattercarpet\"}], \"scattergeo\": [{\"marker\": {\"colorbar\": {\"outlinewidth\": 0, \"ticks\": \"\"}}, \"type\": \"scattergeo\"}], \"scattergl\": [{\"marker\": {\"colorbar\": {\"outlinewidth\": 0, \"ticks\": \"\"}}, \"type\": \"scattergl\"}], \"scattermapbox\": [{\"marker\": {\"colorbar\": {\"outlinewidth\": 0, \"ticks\": \"\"}}, \"type\": \"scattermapbox\"}], \"scatterpolar\": [{\"marker\": {\"colorbar\": {\"outlinewidth\": 0, \"ticks\": \"\"}}, \"type\": \"scatterpolar\"}], \"scatterpolargl\": [{\"marker\": {\"colorbar\": {\"outlinewidth\": 0, \"ticks\": \"\"}}, \"type\": \"scatterpolargl\"}], \"scatterternary\": [{\"marker\": {\"colorbar\": {\"outlinewidth\": 0, \"ticks\": \"\"}}, \"type\": \"scatterternary\"}], \"surface\": [{\"colorbar\": {\"outlinewidth\": 0, \"ticks\": \"\"}, \"colorscale\": [[0.0, \"#0d0887\"], [0.1111111111111111, \"#46039f\"], [0.2222222222222222, \"#7201a8\"], [0.3333333333333333, \"#9c179e\"], [0.4444444444444444, \"#bd3786\"], [0.5555555555555556, \"#d8576b\"], [0.6666666666666666, \"#ed7953\"], [0.7777777777777778, \"#fb9f3a\"], [0.8888888888888888, \"#fdca26\"], [1.0, \"#f0f921\"]], \"type\": \"surface\"}], \"table\": [{\"cells\": {\"fill\": {\"color\": \"#EBF0F8\"}, \"line\": {\"color\": \"white\"}}, \"header\": {\"fill\": {\"color\": \"#C8D4E3\"}, \"line\": {\"color\": \"white\"}}, \"type\": \"table\"}]}, \"layout\": {\"annotationdefaults\": {\"arrowcolor\": \"#2a3f5f\", \"arrowhead\": 0, \"arrowwidth\": 1}, \"autotypenumbers\": \"strict\", \"coloraxis\": {\"colorbar\": {\"outlinewidth\": 0, \"ticks\": \"\"}}, \"colorscale\": {\"diverging\": [[0, \"#8e0152\"], [0.1, \"#c51b7d\"], [0.2, \"#de77ae\"], [0.3, \"#f1b6da\"], [0.4, \"#fde0ef\"], [0.5, \"#f7f7f7\"], [0.6, \"#e6f5d0\"], [0.7, \"#b8e186\"], [0.8, \"#7fbc41\"], [0.9, \"#4d9221\"], [1, \"#276419\"]], \"sequential\": [[0.0, \"#0d0887\"], [0.1111111111111111, \"#46039f\"], [0.2222222222222222, \"#7201a8\"], [0.3333333333333333, \"#9c179e\"], [0.4444444444444444, \"#bd3786\"], [0.5555555555555556, \"#d8576b\"], [0.6666666666666666, \"#ed7953\"], [0.7777777777777778, \"#fb9f3a\"], [0.8888888888888888, \"#fdca26\"], [1.0, \"#f0f921\"]], \"sequentialminus\": [[0.0, \"#0d0887\"], [0.1111111111111111, \"#46039f\"], [0.2222222222222222, \"#7201a8\"], [0.3333333333333333, \"#9c179e\"], [0.4444444444444444, \"#bd3786\"], [0.5555555555555556, \"#d8576b\"], [0.6666666666666666, \"#ed7953\"], [0.7777777777777778, \"#fb9f3a\"], [0.8888888888888888, \"#fdca26\"], [1.0, \"#f0f921\"]]}, \"colorway\": [\"#636efa\", \"#EF553B\", \"#00cc96\", \"#ab63fa\", \"#FFA15A\", \"#19d3f3\", \"#FF6692\", \"#B6E880\", \"#FF97FF\", \"#FECB52\"], \"font\": {\"color\": \"#2a3f5f\"}, \"geo\": {\"bgcolor\": \"white\", \"lakecolor\": \"white\", \"landcolor\": \"#E5ECF6\", \"showlakes\": true, \"showland\": true, \"subunitcolor\": \"white\"}, \"hoverlabel\": {\"align\": \"left\"}, \"hovermode\": \"closest\", \"mapbox\": {\"style\": \"light\"}, \"paper_bgcolor\": \"white\", \"plot_bgcolor\": \"#E5ECF6\", \"polar\": {\"angularaxis\": {\"gridcolor\": \"white\", \"linecolor\": \"white\", \"ticks\": \"\"}, \"bgcolor\": \"#E5ECF6\", \"radialaxis\": {\"gridcolor\": \"white\", \"linecolor\": \"white\", \"ticks\": \"\"}}, \"scene\": {\"xaxis\": {\"backgroundcolor\": \"#E5ECF6\", \"gridcolor\": \"white\", \"gridwidth\": 2, \"linecolor\": \"white\", \"showbackground\": true, \"ticks\": \"\", \"zerolinecolor\": \"white\"}, \"yaxis\": {\"backgroundcolor\": \"#E5ECF6\", \"gridcolor\": \"white\", \"gridwidth\": 2, \"linecolor\": \"white\", \"showbackground\": true, \"ticks\": \"\", \"zerolinecolor\": \"white\"}, \"zaxis\": {\"backgroundcolor\": \"#E5ECF6\", \"gridcolor\": \"white\", \"gridwidth\": 2, \"linecolor\": \"white\", \"showbackground\": true, \"ticks\": \"\", \"zerolinecolor\": \"white\"}}, \"shapedefaults\": {\"line\": {\"color\": \"#2a3f5f\"}}, \"ternary\": {\"aaxis\": {\"gridcolor\": \"white\", \"linecolor\": \"white\", \"ticks\": \"\"}, \"baxis\": {\"gridcolor\": \"white\", \"linecolor\": \"white\", \"ticks\": \"\"}, \"bgcolor\": \"#E5ECF6\", \"caxis\": {\"gridcolor\": \"white\", \"linecolor\": \"white\", \"ticks\": \"\"}}, \"title\": {\"x\": 0.05}, \"xaxis\": {\"automargin\": true, \"gridcolor\": \"white\", \"linecolor\": \"white\", \"ticks\": \"\", \"title\": {\"standoff\": 15}, \"zerolinecolor\": \"white\", \"zerolinewidth\": 2}, \"yaxis\": {\"automargin\": true, \"gridcolor\": \"white\", \"linecolor\": \"white\", \"ticks\": \"\", \"title\": {\"standoff\": 15}, \"zerolinecolor\": \"white\", \"zerolinewidth\": 2}}}, \"title\": {\"font\": {\"color\": \"#4D5663\"}}, \"xaxis\": {\"gridcolor\": \"#E1E5ED\", \"showgrid\": true, \"tickfont\": {\"color\": \"#4D5663\"}, \"title\": {\"font\": {\"color\": \"#4D5663\"}, \"text\": \"\"}, \"zerolinecolor\": \"#E1E5ED\"}, \"yaxis\": {\"gridcolor\": \"#E1E5ED\", \"showgrid\": true, \"tickfont\": {\"color\": \"#4D5663\"}, \"title\": {\"font\": {\"color\": \"#4D5663\"}, \"text\": \"\"}, \"zerolinecolor\": \"#E1E5ED\"}},                        {\"showLink\": true, \"linkText\": \"Export to plot.ly\", \"plotlyServerURL\": \"https://plot.ly\", \"responsive\": true}                    ).then(function(){\n",
       "                            \n",
       "var gd = document.getElementById('eac9fff8-3200-4a40-a995-cc44f5828a5c');\n",
       "var x = new MutationObserver(function (mutations, observer) {{\n",
       "        var display = window.getComputedStyle(gd).display;\n",
       "        if (!display || display === 'none') {{\n",
       "            console.log([gd, 'removed!']);\n",
       "            Plotly.purge(gd);\n",
       "            observer.disconnect();\n",
       "        }}\n",
       "}});\n",
       "\n",
       "// Listen for the removal of the full notebook cells\n",
       "var notebookContainer = gd.closest('#notebook-container');\n",
       "if (notebookContainer) {{\n",
       "    x.observe(notebookContainer, {childList: true});\n",
       "}}\n",
       "\n",
       "// Listen for the clearing of the current output cell\n",
       "var outputEl = gd.closest('.output');\n",
       "if (outputEl) {{\n",
       "    x.observe(outputEl, {childList: true});\n",
       "}}\n",
       "\n",
       "                        })                };                });            </script>        </div>"
      ]
     },
     "metadata": {},
     "output_type": "display_data"
    }
   ],
   "source": [
    "df.iplot(kind='box')"
   ]
  },
  {
   "cell_type": "markdown",
   "id": "combined-judgment",
   "metadata": {},
   "source": [
    "## 3d Surface"
   ]
  },
  {
   "cell_type": "code",
   "execution_count": 17,
   "id": "threatened-closure",
   "metadata": {},
   "outputs": [
    {
     "data": {
      "application/vnd.plotly.v1+json": {
       "config": {
        "linkText": "Export to plot.ly",
        "plotlyServerURL": "https://plot.ly",
        "showLink": true
       },
       "data": [
        {
         "colorscale": [
          [
           0,
           "rgb(255, 153, 51)"
          ],
          [
           0.1111111111111111,
           "rgb(55, 128, 191)"
          ],
          [
           0.2222222222222222,
           "rgb(50, 171, 96)"
          ],
          [
           0.3333333333333333,
           "rgb(128, 0, 128)"
          ],
          [
           0.4444444444444444,
           "rgb(219, 64, 82)"
          ],
          [
           0.5555555555555556,
           "rgb(0, 128, 128)"
          ],
          [
           0.6666666666666666,
           "rgb(255, 255, 51)"
          ],
          [
           0.7777777777777778,
           "rgb(128, 128, 0)"
          ],
          [
           0.8888888888888888,
           "rgb(251, 128, 114)"
          ],
          [
           1,
           "rgb(128, 177, 211)"
          ]
         ],
         "type": "surface",
         "x": [
          0,
          1,
          2,
          3,
          4
         ],
         "y": [
          "x",
          "y",
          "z"
         ],
         "z": [
          [
           1,
           2,
           3,
           4,
           5
          ],
          [
           10,
           20,
           30,
           40,
           50
          ],
          [
           5,
           4,
           3,
           2,
           1
          ]
         ]
        }
       ],
       "layout": {
        "legend": {
         "bgcolor": "#F5F6F9",
         "font": {
          "color": "#4D5663"
         }
        },
        "paper_bgcolor": "#F5F6F9",
        "plot_bgcolor": "#F5F6F9",
        "template": {
         "data": {
          "bar": [
           {
            "error_x": {
             "color": "#2a3f5f"
            },
            "error_y": {
             "color": "#2a3f5f"
            },
            "marker": {
             "line": {
              "color": "#E5ECF6",
              "width": 0.5
             }
            },
            "type": "bar"
           }
          ],
          "barpolar": [
           {
            "marker": {
             "line": {
              "color": "#E5ECF6",
              "width": 0.5
             }
            },
            "type": "barpolar"
           }
          ],
          "carpet": [
           {
            "aaxis": {
             "endlinecolor": "#2a3f5f",
             "gridcolor": "white",
             "linecolor": "white",
             "minorgridcolor": "white",
             "startlinecolor": "#2a3f5f"
            },
            "baxis": {
             "endlinecolor": "#2a3f5f",
             "gridcolor": "white",
             "linecolor": "white",
             "minorgridcolor": "white",
             "startlinecolor": "#2a3f5f"
            },
            "type": "carpet"
           }
          ],
          "choropleth": [
           {
            "colorbar": {
             "outlinewidth": 0,
             "ticks": ""
            },
            "type": "choropleth"
           }
          ],
          "contour": [
           {
            "colorbar": {
             "outlinewidth": 0,
             "ticks": ""
            },
            "colorscale": [
             [
              0,
              "#0d0887"
             ],
             [
              0.1111111111111111,
              "#46039f"
             ],
             [
              0.2222222222222222,
              "#7201a8"
             ],
             [
              0.3333333333333333,
              "#9c179e"
             ],
             [
              0.4444444444444444,
              "#bd3786"
             ],
             [
              0.5555555555555556,
              "#d8576b"
             ],
             [
              0.6666666666666666,
              "#ed7953"
             ],
             [
              0.7777777777777778,
              "#fb9f3a"
             ],
             [
              0.8888888888888888,
              "#fdca26"
             ],
             [
              1,
              "#f0f921"
             ]
            ],
            "type": "contour"
           }
          ],
          "contourcarpet": [
           {
            "colorbar": {
             "outlinewidth": 0,
             "ticks": ""
            },
            "type": "contourcarpet"
           }
          ],
          "heatmap": [
           {
            "colorbar": {
             "outlinewidth": 0,
             "ticks": ""
            },
            "colorscale": [
             [
              0,
              "#0d0887"
             ],
             [
              0.1111111111111111,
              "#46039f"
             ],
             [
              0.2222222222222222,
              "#7201a8"
             ],
             [
              0.3333333333333333,
              "#9c179e"
             ],
             [
              0.4444444444444444,
              "#bd3786"
             ],
             [
              0.5555555555555556,
              "#d8576b"
             ],
             [
              0.6666666666666666,
              "#ed7953"
             ],
             [
              0.7777777777777778,
              "#fb9f3a"
             ],
             [
              0.8888888888888888,
              "#fdca26"
             ],
             [
              1,
              "#f0f921"
             ]
            ],
            "type": "heatmap"
           }
          ],
          "heatmapgl": [
           {
            "colorbar": {
             "outlinewidth": 0,
             "ticks": ""
            },
            "colorscale": [
             [
              0,
              "#0d0887"
             ],
             [
              0.1111111111111111,
              "#46039f"
             ],
             [
              0.2222222222222222,
              "#7201a8"
             ],
             [
              0.3333333333333333,
              "#9c179e"
             ],
             [
              0.4444444444444444,
              "#bd3786"
             ],
             [
              0.5555555555555556,
              "#d8576b"
             ],
             [
              0.6666666666666666,
              "#ed7953"
             ],
             [
              0.7777777777777778,
              "#fb9f3a"
             ],
             [
              0.8888888888888888,
              "#fdca26"
             ],
             [
              1,
              "#f0f921"
             ]
            ],
            "type": "heatmapgl"
           }
          ],
          "histogram": [
           {
            "marker": {
             "colorbar": {
              "outlinewidth": 0,
              "ticks": ""
             }
            },
            "type": "histogram"
           }
          ],
          "histogram2d": [
           {
            "colorbar": {
             "outlinewidth": 0,
             "ticks": ""
            },
            "colorscale": [
             [
              0,
              "#0d0887"
             ],
             [
              0.1111111111111111,
              "#46039f"
             ],
             [
              0.2222222222222222,
              "#7201a8"
             ],
             [
              0.3333333333333333,
              "#9c179e"
             ],
             [
              0.4444444444444444,
              "#bd3786"
             ],
             [
              0.5555555555555556,
              "#d8576b"
             ],
             [
              0.6666666666666666,
              "#ed7953"
             ],
             [
              0.7777777777777778,
              "#fb9f3a"
             ],
             [
              0.8888888888888888,
              "#fdca26"
             ],
             [
              1,
              "#f0f921"
             ]
            ],
            "type": "histogram2d"
           }
          ],
          "histogram2dcontour": [
           {
            "colorbar": {
             "outlinewidth": 0,
             "ticks": ""
            },
            "colorscale": [
             [
              0,
              "#0d0887"
             ],
             [
              0.1111111111111111,
              "#46039f"
             ],
             [
              0.2222222222222222,
              "#7201a8"
             ],
             [
              0.3333333333333333,
              "#9c179e"
             ],
             [
              0.4444444444444444,
              "#bd3786"
             ],
             [
              0.5555555555555556,
              "#d8576b"
             ],
             [
              0.6666666666666666,
              "#ed7953"
             ],
             [
              0.7777777777777778,
              "#fb9f3a"
             ],
             [
              0.8888888888888888,
              "#fdca26"
             ],
             [
              1,
              "#f0f921"
             ]
            ],
            "type": "histogram2dcontour"
           }
          ],
          "mesh3d": [
           {
            "colorbar": {
             "outlinewidth": 0,
             "ticks": ""
            },
            "type": "mesh3d"
           }
          ],
          "parcoords": [
           {
            "line": {
             "colorbar": {
              "outlinewidth": 0,
              "ticks": ""
             }
            },
            "type": "parcoords"
           }
          ],
          "pie": [
           {
            "automargin": true,
            "type": "pie"
           }
          ],
          "scatter": [
           {
            "marker": {
             "colorbar": {
              "outlinewidth": 0,
              "ticks": ""
             }
            },
            "type": "scatter"
           }
          ],
          "scatter3d": [
           {
            "line": {
             "colorbar": {
              "outlinewidth": 0,
              "ticks": ""
             }
            },
            "marker": {
             "colorbar": {
              "outlinewidth": 0,
              "ticks": ""
             }
            },
            "type": "scatter3d"
           }
          ],
          "scattercarpet": [
           {
            "marker": {
             "colorbar": {
              "outlinewidth": 0,
              "ticks": ""
             }
            },
            "type": "scattercarpet"
           }
          ],
          "scattergeo": [
           {
            "marker": {
             "colorbar": {
              "outlinewidth": 0,
              "ticks": ""
             }
            },
            "type": "scattergeo"
           }
          ],
          "scattergl": [
           {
            "marker": {
             "colorbar": {
              "outlinewidth": 0,
              "ticks": ""
             }
            },
            "type": "scattergl"
           }
          ],
          "scattermapbox": [
           {
            "marker": {
             "colorbar": {
              "outlinewidth": 0,
              "ticks": ""
             }
            },
            "type": "scattermapbox"
           }
          ],
          "scatterpolar": [
           {
            "marker": {
             "colorbar": {
              "outlinewidth": 0,
              "ticks": ""
             }
            },
            "type": "scatterpolar"
           }
          ],
          "scatterpolargl": [
           {
            "marker": {
             "colorbar": {
              "outlinewidth": 0,
              "ticks": ""
             }
            },
            "type": "scatterpolargl"
           }
          ],
          "scatterternary": [
           {
            "marker": {
             "colorbar": {
              "outlinewidth": 0,
              "ticks": ""
             }
            },
            "type": "scatterternary"
           }
          ],
          "surface": [
           {
            "colorbar": {
             "outlinewidth": 0,
             "ticks": ""
            },
            "colorscale": [
             [
              0,
              "#0d0887"
             ],
             [
              0.1111111111111111,
              "#46039f"
             ],
             [
              0.2222222222222222,
              "#7201a8"
             ],
             [
              0.3333333333333333,
              "#9c179e"
             ],
             [
              0.4444444444444444,
              "#bd3786"
             ],
             [
              0.5555555555555556,
              "#d8576b"
             ],
             [
              0.6666666666666666,
              "#ed7953"
             ],
             [
              0.7777777777777778,
              "#fb9f3a"
             ],
             [
              0.8888888888888888,
              "#fdca26"
             ],
             [
              1,
              "#f0f921"
             ]
            ],
            "type": "surface"
           }
          ],
          "table": [
           {
            "cells": {
             "fill": {
              "color": "#EBF0F8"
             },
             "line": {
              "color": "white"
             }
            },
            "header": {
             "fill": {
              "color": "#C8D4E3"
             },
             "line": {
              "color": "white"
             }
            },
            "type": "table"
           }
          ]
         },
         "layout": {
          "annotationdefaults": {
           "arrowcolor": "#2a3f5f",
           "arrowhead": 0,
           "arrowwidth": 1
          },
          "autotypenumbers": "strict",
          "coloraxis": {
           "colorbar": {
            "outlinewidth": 0,
            "ticks": ""
           }
          },
          "colorscale": {
           "diverging": [
            [
             0,
             "#8e0152"
            ],
            [
             0.1,
             "#c51b7d"
            ],
            [
             0.2,
             "#de77ae"
            ],
            [
             0.3,
             "#f1b6da"
            ],
            [
             0.4,
             "#fde0ef"
            ],
            [
             0.5,
             "#f7f7f7"
            ],
            [
             0.6,
             "#e6f5d0"
            ],
            [
             0.7,
             "#b8e186"
            ],
            [
             0.8,
             "#7fbc41"
            ],
            [
             0.9,
             "#4d9221"
            ],
            [
             1,
             "#276419"
            ]
           ],
           "sequential": [
            [
             0,
             "#0d0887"
            ],
            [
             0.1111111111111111,
             "#46039f"
            ],
            [
             0.2222222222222222,
             "#7201a8"
            ],
            [
             0.3333333333333333,
             "#9c179e"
            ],
            [
             0.4444444444444444,
             "#bd3786"
            ],
            [
             0.5555555555555556,
             "#d8576b"
            ],
            [
             0.6666666666666666,
             "#ed7953"
            ],
            [
             0.7777777777777778,
             "#fb9f3a"
            ],
            [
             0.8888888888888888,
             "#fdca26"
            ],
            [
             1,
             "#f0f921"
            ]
           ],
           "sequentialminus": [
            [
             0,
             "#0d0887"
            ],
            [
             0.1111111111111111,
             "#46039f"
            ],
            [
             0.2222222222222222,
             "#7201a8"
            ],
            [
             0.3333333333333333,
             "#9c179e"
            ],
            [
             0.4444444444444444,
             "#bd3786"
            ],
            [
             0.5555555555555556,
             "#d8576b"
            ],
            [
             0.6666666666666666,
             "#ed7953"
            ],
            [
             0.7777777777777778,
             "#fb9f3a"
            ],
            [
             0.8888888888888888,
             "#fdca26"
            ],
            [
             1,
             "#f0f921"
            ]
           ]
          },
          "colorway": [
           "#636efa",
           "#EF553B",
           "#00cc96",
           "#ab63fa",
           "#FFA15A",
           "#19d3f3",
           "#FF6692",
           "#B6E880",
           "#FF97FF",
           "#FECB52"
          ],
          "font": {
           "color": "#2a3f5f"
          },
          "geo": {
           "bgcolor": "white",
           "lakecolor": "white",
           "landcolor": "#E5ECF6",
           "showlakes": true,
           "showland": true,
           "subunitcolor": "white"
          },
          "hoverlabel": {
           "align": "left"
          },
          "hovermode": "closest",
          "mapbox": {
           "style": "light"
          },
          "paper_bgcolor": "white",
          "plot_bgcolor": "#E5ECF6",
          "polar": {
           "angularaxis": {
            "gridcolor": "white",
            "linecolor": "white",
            "ticks": ""
           },
           "bgcolor": "#E5ECF6",
           "radialaxis": {
            "gridcolor": "white",
            "linecolor": "white",
            "ticks": ""
           }
          },
          "scene": {
           "xaxis": {
            "backgroundcolor": "#E5ECF6",
            "gridcolor": "white",
            "gridwidth": 2,
            "linecolor": "white",
            "showbackground": true,
            "ticks": "",
            "zerolinecolor": "white"
           },
           "yaxis": {
            "backgroundcolor": "#E5ECF6",
            "gridcolor": "white",
            "gridwidth": 2,
            "linecolor": "white",
            "showbackground": true,
            "ticks": "",
            "zerolinecolor": "white"
           },
           "zaxis": {
            "backgroundcolor": "#E5ECF6",
            "gridcolor": "white",
            "gridwidth": 2,
            "linecolor": "white",
            "showbackground": true,
            "ticks": "",
            "zerolinecolor": "white"
           }
          },
          "shapedefaults": {
           "line": {
            "color": "#2a3f5f"
           }
          },
          "ternary": {
           "aaxis": {
            "gridcolor": "white",
            "linecolor": "white",
            "ticks": ""
           },
           "baxis": {
            "gridcolor": "white",
            "linecolor": "white",
            "ticks": ""
           },
           "bgcolor": "#E5ECF6",
           "caxis": {
            "gridcolor": "white",
            "linecolor": "white",
            "ticks": ""
           }
          },
          "title": {
           "x": 0.05
          },
          "xaxis": {
           "automargin": true,
           "gridcolor": "white",
           "linecolor": "white",
           "ticks": "",
           "title": {
            "standoff": 15
           },
           "zerolinecolor": "white",
           "zerolinewidth": 2
          },
          "yaxis": {
           "automargin": true,
           "gridcolor": "white",
           "linecolor": "white",
           "ticks": "",
           "title": {
            "standoff": 15
           },
           "zerolinecolor": "white",
           "zerolinewidth": 2
          }
         }
        },
        "title": {
         "font": {
          "color": "#4D5663"
         }
        },
        "xaxis": {
         "gridcolor": "#E1E5ED",
         "showgrid": true,
         "tickfont": {
          "color": "#4D5663"
         },
         "title": {
          "font": {
           "color": "#4D5663"
          },
          "text": ""
         },
         "zerolinecolor": "#E1E5ED"
        },
        "yaxis": {
         "gridcolor": "#E1E5ED",
         "showgrid": true,
         "tickfont": {
          "color": "#4D5663"
         },
         "title": {
          "font": {
           "color": "#4D5663"
          },
          "text": ""
         },
         "zerolinecolor": "#E1E5ED"
        }
       }
      },
      "text/html": [
       "<div>                            <div id=\"ba9cd915-712a-40b6-9025-73431b680d70\" class=\"plotly-graph-div\" style=\"height:525px; width:100%;\"></div>            <script type=\"text/javascript\">                require([\"plotly\"], function(Plotly) {                    window.PLOTLYENV=window.PLOTLYENV || {};\n",
       "                    window.PLOTLYENV.BASE_URL='https://plot.ly';                                    if (document.getElementById(\"ba9cd915-712a-40b6-9025-73431b680d70\")) {                    Plotly.newPlot(                        \"ba9cd915-712a-40b6-9025-73431b680d70\",                        [{\"colorscale\": [[0.0, \"rgb(255, 153, 51)\"], [0.1111111111111111, \"rgb(55, 128, 191)\"], [0.2222222222222222, \"rgb(50, 171, 96)\"], [0.3333333333333333, \"rgb(128, 0, 128)\"], [0.4444444444444444, \"rgb(219, 64, 82)\"], [0.5555555555555556, \"rgb(0, 128, 128)\"], [0.6666666666666666, \"rgb(255, 255, 51)\"], [0.7777777777777778, \"rgb(128, 128, 0)\"], [0.8888888888888888, \"rgb(251, 128, 114)\"], [1.0, \"rgb(128, 177, 211)\"]], \"type\": \"surface\", \"x\": [0, 1, 2, 3, 4], \"y\": [\"x\", \"y\", \"z\"], \"z\": [[1, 2, 3, 4, 5], [10, 20, 30, 40, 50], [5, 4, 3, 2, 1]]}],                        {\"legend\": {\"bgcolor\": \"#F5F6F9\", \"font\": {\"color\": \"#4D5663\"}}, \"paper_bgcolor\": \"#F5F6F9\", \"plot_bgcolor\": \"#F5F6F9\", \"template\": {\"data\": {\"bar\": [{\"error_x\": {\"color\": \"#2a3f5f\"}, \"error_y\": {\"color\": \"#2a3f5f\"}, \"marker\": {\"line\": {\"color\": \"#E5ECF6\", \"width\": 0.5}}, \"type\": \"bar\"}], \"barpolar\": [{\"marker\": {\"line\": {\"color\": \"#E5ECF6\", \"width\": 0.5}}, \"type\": \"barpolar\"}], \"carpet\": [{\"aaxis\": {\"endlinecolor\": \"#2a3f5f\", \"gridcolor\": \"white\", \"linecolor\": \"white\", \"minorgridcolor\": \"white\", \"startlinecolor\": \"#2a3f5f\"}, \"baxis\": {\"endlinecolor\": \"#2a3f5f\", \"gridcolor\": \"white\", \"linecolor\": \"white\", \"minorgridcolor\": \"white\", \"startlinecolor\": \"#2a3f5f\"}, \"type\": \"carpet\"}], \"choropleth\": [{\"colorbar\": {\"outlinewidth\": 0, \"ticks\": \"\"}, \"type\": \"choropleth\"}], \"contour\": [{\"colorbar\": {\"outlinewidth\": 0, \"ticks\": \"\"}, \"colorscale\": [[0.0, \"#0d0887\"], [0.1111111111111111, \"#46039f\"], [0.2222222222222222, \"#7201a8\"], [0.3333333333333333, \"#9c179e\"], [0.4444444444444444, \"#bd3786\"], [0.5555555555555556, \"#d8576b\"], [0.6666666666666666, \"#ed7953\"], [0.7777777777777778, \"#fb9f3a\"], [0.8888888888888888, \"#fdca26\"], [1.0, \"#f0f921\"]], \"type\": \"contour\"}], \"contourcarpet\": [{\"colorbar\": {\"outlinewidth\": 0, \"ticks\": \"\"}, \"type\": \"contourcarpet\"}], \"heatmap\": [{\"colorbar\": {\"outlinewidth\": 0, \"ticks\": \"\"}, \"colorscale\": [[0.0, \"#0d0887\"], [0.1111111111111111, \"#46039f\"], [0.2222222222222222, \"#7201a8\"], [0.3333333333333333, \"#9c179e\"], [0.4444444444444444, \"#bd3786\"], [0.5555555555555556, \"#d8576b\"], [0.6666666666666666, \"#ed7953\"], [0.7777777777777778, \"#fb9f3a\"], [0.8888888888888888, \"#fdca26\"], [1.0, \"#f0f921\"]], \"type\": \"heatmap\"}], \"heatmapgl\": [{\"colorbar\": {\"outlinewidth\": 0, \"ticks\": \"\"}, \"colorscale\": [[0.0, \"#0d0887\"], [0.1111111111111111, \"#46039f\"], [0.2222222222222222, \"#7201a8\"], [0.3333333333333333, \"#9c179e\"], [0.4444444444444444, \"#bd3786\"], [0.5555555555555556, \"#d8576b\"], [0.6666666666666666, \"#ed7953\"], [0.7777777777777778, \"#fb9f3a\"], [0.8888888888888888, \"#fdca26\"], [1.0, \"#f0f921\"]], \"type\": \"heatmapgl\"}], \"histogram\": [{\"marker\": {\"colorbar\": {\"outlinewidth\": 0, \"ticks\": \"\"}}, \"type\": \"histogram\"}], \"histogram2d\": [{\"colorbar\": {\"outlinewidth\": 0, \"ticks\": \"\"}, \"colorscale\": [[0.0, \"#0d0887\"], [0.1111111111111111, \"#46039f\"], [0.2222222222222222, \"#7201a8\"], [0.3333333333333333, \"#9c179e\"], [0.4444444444444444, \"#bd3786\"], [0.5555555555555556, \"#d8576b\"], [0.6666666666666666, \"#ed7953\"], [0.7777777777777778, \"#fb9f3a\"], [0.8888888888888888, \"#fdca26\"], [1.0, \"#f0f921\"]], \"type\": \"histogram2d\"}], \"histogram2dcontour\": [{\"colorbar\": {\"outlinewidth\": 0, \"ticks\": \"\"}, \"colorscale\": [[0.0, \"#0d0887\"], [0.1111111111111111, \"#46039f\"], [0.2222222222222222, \"#7201a8\"], [0.3333333333333333, \"#9c179e\"], [0.4444444444444444, \"#bd3786\"], [0.5555555555555556, \"#d8576b\"], [0.6666666666666666, \"#ed7953\"], [0.7777777777777778, \"#fb9f3a\"], [0.8888888888888888, \"#fdca26\"], [1.0, \"#f0f921\"]], \"type\": \"histogram2dcontour\"}], \"mesh3d\": [{\"colorbar\": {\"outlinewidth\": 0, \"ticks\": \"\"}, \"type\": \"mesh3d\"}], \"parcoords\": [{\"line\": {\"colorbar\": {\"outlinewidth\": 0, \"ticks\": \"\"}}, \"type\": \"parcoords\"}], \"pie\": [{\"automargin\": true, \"type\": \"pie\"}], \"scatter\": [{\"marker\": {\"colorbar\": {\"outlinewidth\": 0, \"ticks\": \"\"}}, \"type\": \"scatter\"}], \"scatter3d\": [{\"line\": {\"colorbar\": {\"outlinewidth\": 0, \"ticks\": \"\"}}, \"marker\": {\"colorbar\": {\"outlinewidth\": 0, \"ticks\": \"\"}}, \"type\": \"scatter3d\"}], \"scattercarpet\": [{\"marker\": {\"colorbar\": {\"outlinewidth\": 0, \"ticks\": \"\"}}, \"type\": \"scattercarpet\"}], \"scattergeo\": [{\"marker\": {\"colorbar\": {\"outlinewidth\": 0, \"ticks\": \"\"}}, \"type\": \"scattergeo\"}], \"scattergl\": [{\"marker\": {\"colorbar\": {\"outlinewidth\": 0, \"ticks\": \"\"}}, \"type\": \"scattergl\"}], \"scattermapbox\": [{\"marker\": {\"colorbar\": {\"outlinewidth\": 0, \"ticks\": \"\"}}, \"type\": \"scattermapbox\"}], \"scatterpolar\": [{\"marker\": {\"colorbar\": {\"outlinewidth\": 0, \"ticks\": \"\"}}, \"type\": \"scatterpolar\"}], \"scatterpolargl\": [{\"marker\": {\"colorbar\": {\"outlinewidth\": 0, \"ticks\": \"\"}}, \"type\": \"scatterpolargl\"}], \"scatterternary\": [{\"marker\": {\"colorbar\": {\"outlinewidth\": 0, \"ticks\": \"\"}}, \"type\": \"scatterternary\"}], \"surface\": [{\"colorbar\": {\"outlinewidth\": 0, \"ticks\": \"\"}, \"colorscale\": [[0.0, \"#0d0887\"], [0.1111111111111111, \"#46039f\"], [0.2222222222222222, \"#7201a8\"], [0.3333333333333333, \"#9c179e\"], [0.4444444444444444, \"#bd3786\"], [0.5555555555555556, \"#d8576b\"], [0.6666666666666666, \"#ed7953\"], [0.7777777777777778, \"#fb9f3a\"], [0.8888888888888888, \"#fdca26\"], [1.0, \"#f0f921\"]], \"type\": \"surface\"}], \"table\": [{\"cells\": {\"fill\": {\"color\": \"#EBF0F8\"}, \"line\": {\"color\": \"white\"}}, \"header\": {\"fill\": {\"color\": \"#C8D4E3\"}, \"line\": {\"color\": \"white\"}}, \"type\": \"table\"}]}, \"layout\": {\"annotationdefaults\": {\"arrowcolor\": \"#2a3f5f\", \"arrowhead\": 0, \"arrowwidth\": 1}, \"autotypenumbers\": \"strict\", \"coloraxis\": {\"colorbar\": {\"outlinewidth\": 0, \"ticks\": \"\"}}, \"colorscale\": {\"diverging\": [[0, \"#8e0152\"], [0.1, \"#c51b7d\"], [0.2, \"#de77ae\"], [0.3, \"#f1b6da\"], [0.4, \"#fde0ef\"], [0.5, \"#f7f7f7\"], [0.6, \"#e6f5d0\"], [0.7, \"#b8e186\"], [0.8, \"#7fbc41\"], [0.9, \"#4d9221\"], [1, \"#276419\"]], \"sequential\": [[0.0, \"#0d0887\"], [0.1111111111111111, \"#46039f\"], [0.2222222222222222, \"#7201a8\"], [0.3333333333333333, \"#9c179e\"], [0.4444444444444444, \"#bd3786\"], [0.5555555555555556, \"#d8576b\"], [0.6666666666666666, \"#ed7953\"], [0.7777777777777778, \"#fb9f3a\"], [0.8888888888888888, \"#fdca26\"], [1.0, \"#f0f921\"]], \"sequentialminus\": [[0.0, \"#0d0887\"], [0.1111111111111111, \"#46039f\"], [0.2222222222222222, \"#7201a8\"], [0.3333333333333333, \"#9c179e\"], [0.4444444444444444, \"#bd3786\"], [0.5555555555555556, \"#d8576b\"], [0.6666666666666666, \"#ed7953\"], [0.7777777777777778, \"#fb9f3a\"], [0.8888888888888888, \"#fdca26\"], [1.0, \"#f0f921\"]]}, \"colorway\": [\"#636efa\", \"#EF553B\", \"#00cc96\", \"#ab63fa\", \"#FFA15A\", \"#19d3f3\", \"#FF6692\", \"#B6E880\", \"#FF97FF\", \"#FECB52\"], \"font\": {\"color\": \"#2a3f5f\"}, \"geo\": {\"bgcolor\": \"white\", \"lakecolor\": \"white\", \"landcolor\": \"#E5ECF6\", \"showlakes\": true, \"showland\": true, \"subunitcolor\": \"white\"}, \"hoverlabel\": {\"align\": \"left\"}, \"hovermode\": \"closest\", \"mapbox\": {\"style\": \"light\"}, \"paper_bgcolor\": \"white\", \"plot_bgcolor\": \"#E5ECF6\", \"polar\": {\"angularaxis\": {\"gridcolor\": \"white\", \"linecolor\": \"white\", \"ticks\": \"\"}, \"bgcolor\": \"#E5ECF6\", \"radialaxis\": {\"gridcolor\": \"white\", \"linecolor\": \"white\", \"ticks\": \"\"}}, \"scene\": {\"xaxis\": {\"backgroundcolor\": \"#E5ECF6\", \"gridcolor\": \"white\", \"gridwidth\": 2, \"linecolor\": \"white\", \"showbackground\": true, \"ticks\": \"\", \"zerolinecolor\": \"white\"}, \"yaxis\": {\"backgroundcolor\": \"#E5ECF6\", \"gridcolor\": \"white\", \"gridwidth\": 2, \"linecolor\": \"white\", \"showbackground\": true, \"ticks\": \"\", \"zerolinecolor\": \"white\"}, \"zaxis\": {\"backgroundcolor\": \"#E5ECF6\", \"gridcolor\": \"white\", \"gridwidth\": 2, \"linecolor\": \"white\", \"showbackground\": true, \"ticks\": \"\", \"zerolinecolor\": \"white\"}}, \"shapedefaults\": {\"line\": {\"color\": \"#2a3f5f\"}}, \"ternary\": {\"aaxis\": {\"gridcolor\": \"white\", \"linecolor\": \"white\", \"ticks\": \"\"}, \"baxis\": {\"gridcolor\": \"white\", \"linecolor\": \"white\", \"ticks\": \"\"}, \"bgcolor\": \"#E5ECF6\", \"caxis\": {\"gridcolor\": \"white\", \"linecolor\": \"white\", \"ticks\": \"\"}}, \"title\": {\"x\": 0.05}, \"xaxis\": {\"automargin\": true, \"gridcolor\": \"white\", \"linecolor\": \"white\", \"ticks\": \"\", \"title\": {\"standoff\": 15}, \"zerolinecolor\": \"white\", \"zerolinewidth\": 2}, \"yaxis\": {\"automargin\": true, \"gridcolor\": \"white\", \"linecolor\": \"white\", \"ticks\": \"\", \"title\": {\"standoff\": 15}, \"zerolinecolor\": \"white\", \"zerolinewidth\": 2}}}, \"title\": {\"font\": {\"color\": \"#4D5663\"}}, \"xaxis\": {\"gridcolor\": \"#E1E5ED\", \"showgrid\": true, \"tickfont\": {\"color\": \"#4D5663\"}, \"title\": {\"font\": {\"color\": \"#4D5663\"}, \"text\": \"\"}, \"zerolinecolor\": \"#E1E5ED\"}, \"yaxis\": {\"gridcolor\": \"#E1E5ED\", \"showgrid\": true, \"tickfont\": {\"color\": \"#4D5663\"}, \"title\": {\"font\": {\"color\": \"#4D5663\"}, \"text\": \"\"}, \"zerolinecolor\": \"#E1E5ED\"}},                        {\"showLink\": true, \"linkText\": \"Export to plot.ly\", \"plotlyServerURL\": \"https://plot.ly\", \"responsive\": true}                    ).then(function(){\n",
       "                            \n",
       "var gd = document.getElementById('ba9cd915-712a-40b6-9025-73431b680d70');\n",
       "var x = new MutationObserver(function (mutations, observer) {{\n",
       "        var display = window.getComputedStyle(gd).display;\n",
       "        if (!display || display === 'none') {{\n",
       "            console.log([gd, 'removed!']);\n",
       "            Plotly.purge(gd);\n",
       "            observer.disconnect();\n",
       "        }}\n",
       "}});\n",
       "\n",
       "// Listen for the removal of the full notebook cells\n",
       "var notebookContainer = gd.closest('#notebook-container');\n",
       "if (notebookContainer) {{\n",
       "    x.observe(notebookContainer, {childList: true});\n",
       "}}\n",
       "\n",
       "// Listen for the clearing of the current output cell\n",
       "var outputEl = gd.closest('.output');\n",
       "if (outputEl) {{\n",
       "    x.observe(outputEl, {childList: true});\n",
       "}}\n",
       "\n",
       "                        })                };                });            </script>        </div>"
      ]
     },
     "metadata": {},
     "output_type": "display_data"
    }
   ],
   "source": [
    "df3.iplot(kind='surface')"
   ]
  },
  {
   "cell_type": "code",
   "execution_count": 18,
   "id": "integral-relationship",
   "metadata": {},
   "outputs": [
    {
     "data": {
      "application/vnd.plotly.v1+json": {
       "config": {
        "linkText": "Export to plot.ly",
        "plotlyServerURL": "https://plot.ly",
        "showLink": true
       },
       "data": [
        {
         "colorscale": [
          [
           0,
           "rgb(165,0,38)"
          ],
          [
           0.1,
           "rgb(215,48,39)"
          ],
          [
           0.2,
           "rgb(244,109,67)"
          ],
          [
           0.3,
           "rgb(253,174,97)"
          ],
          [
           0.4,
           "rgb(254,224,144)"
          ],
          [
           0.5,
           "rgb(255,255,191)"
          ],
          [
           0.6,
           "rgb(224,243,248)"
          ],
          [
           0.7,
           "rgb(171,217,233)"
          ],
          [
           0.8,
           "rgb(116,173,209)"
          ],
          [
           0.9,
           "rgb(69,117,180)"
          ],
          [
           1,
           "rgb(49,54,149)"
          ]
         ],
         "type": "surface",
         "x": [
          0,
          1,
          2,
          3,
          4
         ],
         "y": [
          "x",
          "y",
          "z"
         ],
         "z": [
          [
           1,
           2,
           3,
           4,
           5
          ],
          [
           10,
           20,
           30,
           40,
           50
          ],
          [
           5,
           4,
           3,
           2,
           1
          ]
         ]
        }
       ],
       "layout": {
        "legend": {
         "bgcolor": "#F5F6F9",
         "font": {
          "color": "#4D5663"
         }
        },
        "paper_bgcolor": "#F5F6F9",
        "plot_bgcolor": "#F5F6F9",
        "template": {
         "data": {
          "bar": [
           {
            "error_x": {
             "color": "#2a3f5f"
            },
            "error_y": {
             "color": "#2a3f5f"
            },
            "marker": {
             "line": {
              "color": "#E5ECF6",
              "width": 0.5
             }
            },
            "type": "bar"
           }
          ],
          "barpolar": [
           {
            "marker": {
             "line": {
              "color": "#E5ECF6",
              "width": 0.5
             }
            },
            "type": "barpolar"
           }
          ],
          "carpet": [
           {
            "aaxis": {
             "endlinecolor": "#2a3f5f",
             "gridcolor": "white",
             "linecolor": "white",
             "minorgridcolor": "white",
             "startlinecolor": "#2a3f5f"
            },
            "baxis": {
             "endlinecolor": "#2a3f5f",
             "gridcolor": "white",
             "linecolor": "white",
             "minorgridcolor": "white",
             "startlinecolor": "#2a3f5f"
            },
            "type": "carpet"
           }
          ],
          "choropleth": [
           {
            "colorbar": {
             "outlinewidth": 0,
             "ticks": ""
            },
            "type": "choropleth"
           }
          ],
          "contour": [
           {
            "colorbar": {
             "outlinewidth": 0,
             "ticks": ""
            },
            "colorscale": [
             [
              0,
              "#0d0887"
             ],
             [
              0.1111111111111111,
              "#46039f"
             ],
             [
              0.2222222222222222,
              "#7201a8"
             ],
             [
              0.3333333333333333,
              "#9c179e"
             ],
             [
              0.4444444444444444,
              "#bd3786"
             ],
             [
              0.5555555555555556,
              "#d8576b"
             ],
             [
              0.6666666666666666,
              "#ed7953"
             ],
             [
              0.7777777777777778,
              "#fb9f3a"
             ],
             [
              0.8888888888888888,
              "#fdca26"
             ],
             [
              1,
              "#f0f921"
             ]
            ],
            "type": "contour"
           }
          ],
          "contourcarpet": [
           {
            "colorbar": {
             "outlinewidth": 0,
             "ticks": ""
            },
            "type": "contourcarpet"
           }
          ],
          "heatmap": [
           {
            "colorbar": {
             "outlinewidth": 0,
             "ticks": ""
            },
            "colorscale": [
             [
              0,
              "#0d0887"
             ],
             [
              0.1111111111111111,
              "#46039f"
             ],
             [
              0.2222222222222222,
              "#7201a8"
             ],
             [
              0.3333333333333333,
              "#9c179e"
             ],
             [
              0.4444444444444444,
              "#bd3786"
             ],
             [
              0.5555555555555556,
              "#d8576b"
             ],
             [
              0.6666666666666666,
              "#ed7953"
             ],
             [
              0.7777777777777778,
              "#fb9f3a"
             ],
             [
              0.8888888888888888,
              "#fdca26"
             ],
             [
              1,
              "#f0f921"
             ]
            ],
            "type": "heatmap"
           }
          ],
          "heatmapgl": [
           {
            "colorbar": {
             "outlinewidth": 0,
             "ticks": ""
            },
            "colorscale": [
             [
              0,
              "#0d0887"
             ],
             [
              0.1111111111111111,
              "#46039f"
             ],
             [
              0.2222222222222222,
              "#7201a8"
             ],
             [
              0.3333333333333333,
              "#9c179e"
             ],
             [
              0.4444444444444444,
              "#bd3786"
             ],
             [
              0.5555555555555556,
              "#d8576b"
             ],
             [
              0.6666666666666666,
              "#ed7953"
             ],
             [
              0.7777777777777778,
              "#fb9f3a"
             ],
             [
              0.8888888888888888,
              "#fdca26"
             ],
             [
              1,
              "#f0f921"
             ]
            ],
            "type": "heatmapgl"
           }
          ],
          "histogram": [
           {
            "marker": {
             "colorbar": {
              "outlinewidth": 0,
              "ticks": ""
             }
            },
            "type": "histogram"
           }
          ],
          "histogram2d": [
           {
            "colorbar": {
             "outlinewidth": 0,
             "ticks": ""
            },
            "colorscale": [
             [
              0,
              "#0d0887"
             ],
             [
              0.1111111111111111,
              "#46039f"
             ],
             [
              0.2222222222222222,
              "#7201a8"
             ],
             [
              0.3333333333333333,
              "#9c179e"
             ],
             [
              0.4444444444444444,
              "#bd3786"
             ],
             [
              0.5555555555555556,
              "#d8576b"
             ],
             [
              0.6666666666666666,
              "#ed7953"
             ],
             [
              0.7777777777777778,
              "#fb9f3a"
             ],
             [
              0.8888888888888888,
              "#fdca26"
             ],
             [
              1,
              "#f0f921"
             ]
            ],
            "type": "histogram2d"
           }
          ],
          "histogram2dcontour": [
           {
            "colorbar": {
             "outlinewidth": 0,
             "ticks": ""
            },
            "colorscale": [
             [
              0,
              "#0d0887"
             ],
             [
              0.1111111111111111,
              "#46039f"
             ],
             [
              0.2222222222222222,
              "#7201a8"
             ],
             [
              0.3333333333333333,
              "#9c179e"
             ],
             [
              0.4444444444444444,
              "#bd3786"
             ],
             [
              0.5555555555555556,
              "#d8576b"
             ],
             [
              0.6666666666666666,
              "#ed7953"
             ],
             [
              0.7777777777777778,
              "#fb9f3a"
             ],
             [
              0.8888888888888888,
              "#fdca26"
             ],
             [
              1,
              "#f0f921"
             ]
            ],
            "type": "histogram2dcontour"
           }
          ],
          "mesh3d": [
           {
            "colorbar": {
             "outlinewidth": 0,
             "ticks": ""
            },
            "type": "mesh3d"
           }
          ],
          "parcoords": [
           {
            "line": {
             "colorbar": {
              "outlinewidth": 0,
              "ticks": ""
             }
            },
            "type": "parcoords"
           }
          ],
          "pie": [
           {
            "automargin": true,
            "type": "pie"
           }
          ],
          "scatter": [
           {
            "marker": {
             "colorbar": {
              "outlinewidth": 0,
              "ticks": ""
             }
            },
            "type": "scatter"
           }
          ],
          "scatter3d": [
           {
            "line": {
             "colorbar": {
              "outlinewidth": 0,
              "ticks": ""
             }
            },
            "marker": {
             "colorbar": {
              "outlinewidth": 0,
              "ticks": ""
             }
            },
            "type": "scatter3d"
           }
          ],
          "scattercarpet": [
           {
            "marker": {
             "colorbar": {
              "outlinewidth": 0,
              "ticks": ""
             }
            },
            "type": "scattercarpet"
           }
          ],
          "scattergeo": [
           {
            "marker": {
             "colorbar": {
              "outlinewidth": 0,
              "ticks": ""
             }
            },
            "type": "scattergeo"
           }
          ],
          "scattergl": [
           {
            "marker": {
             "colorbar": {
              "outlinewidth": 0,
              "ticks": ""
             }
            },
            "type": "scattergl"
           }
          ],
          "scattermapbox": [
           {
            "marker": {
             "colorbar": {
              "outlinewidth": 0,
              "ticks": ""
             }
            },
            "type": "scattermapbox"
           }
          ],
          "scatterpolar": [
           {
            "marker": {
             "colorbar": {
              "outlinewidth": 0,
              "ticks": ""
             }
            },
            "type": "scatterpolar"
           }
          ],
          "scatterpolargl": [
           {
            "marker": {
             "colorbar": {
              "outlinewidth": 0,
              "ticks": ""
             }
            },
            "type": "scatterpolargl"
           }
          ],
          "scatterternary": [
           {
            "marker": {
             "colorbar": {
              "outlinewidth": 0,
              "ticks": ""
             }
            },
            "type": "scatterternary"
           }
          ],
          "surface": [
           {
            "colorbar": {
             "outlinewidth": 0,
             "ticks": ""
            },
            "colorscale": [
             [
              0,
              "#0d0887"
             ],
             [
              0.1111111111111111,
              "#46039f"
             ],
             [
              0.2222222222222222,
              "#7201a8"
             ],
             [
              0.3333333333333333,
              "#9c179e"
             ],
             [
              0.4444444444444444,
              "#bd3786"
             ],
             [
              0.5555555555555556,
              "#d8576b"
             ],
             [
              0.6666666666666666,
              "#ed7953"
             ],
             [
              0.7777777777777778,
              "#fb9f3a"
             ],
             [
              0.8888888888888888,
              "#fdca26"
             ],
             [
              1,
              "#f0f921"
             ]
            ],
            "type": "surface"
           }
          ],
          "table": [
           {
            "cells": {
             "fill": {
              "color": "#EBF0F8"
             },
             "line": {
              "color": "white"
             }
            },
            "header": {
             "fill": {
              "color": "#C8D4E3"
             },
             "line": {
              "color": "white"
             }
            },
            "type": "table"
           }
          ]
         },
         "layout": {
          "annotationdefaults": {
           "arrowcolor": "#2a3f5f",
           "arrowhead": 0,
           "arrowwidth": 1
          },
          "autotypenumbers": "strict",
          "coloraxis": {
           "colorbar": {
            "outlinewidth": 0,
            "ticks": ""
           }
          },
          "colorscale": {
           "diverging": [
            [
             0,
             "#8e0152"
            ],
            [
             0.1,
             "#c51b7d"
            ],
            [
             0.2,
             "#de77ae"
            ],
            [
             0.3,
             "#f1b6da"
            ],
            [
             0.4,
             "#fde0ef"
            ],
            [
             0.5,
             "#f7f7f7"
            ],
            [
             0.6,
             "#e6f5d0"
            ],
            [
             0.7,
             "#b8e186"
            ],
            [
             0.8,
             "#7fbc41"
            ],
            [
             0.9,
             "#4d9221"
            ],
            [
             1,
             "#276419"
            ]
           ],
           "sequential": [
            [
             0,
             "#0d0887"
            ],
            [
             0.1111111111111111,
             "#46039f"
            ],
            [
             0.2222222222222222,
             "#7201a8"
            ],
            [
             0.3333333333333333,
             "#9c179e"
            ],
            [
             0.4444444444444444,
             "#bd3786"
            ],
            [
             0.5555555555555556,
             "#d8576b"
            ],
            [
             0.6666666666666666,
             "#ed7953"
            ],
            [
             0.7777777777777778,
             "#fb9f3a"
            ],
            [
             0.8888888888888888,
             "#fdca26"
            ],
            [
             1,
             "#f0f921"
            ]
           ],
           "sequentialminus": [
            [
             0,
             "#0d0887"
            ],
            [
             0.1111111111111111,
             "#46039f"
            ],
            [
             0.2222222222222222,
             "#7201a8"
            ],
            [
             0.3333333333333333,
             "#9c179e"
            ],
            [
             0.4444444444444444,
             "#bd3786"
            ],
            [
             0.5555555555555556,
             "#d8576b"
            ],
            [
             0.6666666666666666,
             "#ed7953"
            ],
            [
             0.7777777777777778,
             "#fb9f3a"
            ],
            [
             0.8888888888888888,
             "#fdca26"
            ],
            [
             1,
             "#f0f921"
            ]
           ]
          },
          "colorway": [
           "#636efa",
           "#EF553B",
           "#00cc96",
           "#ab63fa",
           "#FFA15A",
           "#19d3f3",
           "#FF6692",
           "#B6E880",
           "#FF97FF",
           "#FECB52"
          ],
          "font": {
           "color": "#2a3f5f"
          },
          "geo": {
           "bgcolor": "white",
           "lakecolor": "white",
           "landcolor": "#E5ECF6",
           "showlakes": true,
           "showland": true,
           "subunitcolor": "white"
          },
          "hoverlabel": {
           "align": "left"
          },
          "hovermode": "closest",
          "mapbox": {
           "style": "light"
          },
          "paper_bgcolor": "white",
          "plot_bgcolor": "#E5ECF6",
          "polar": {
           "angularaxis": {
            "gridcolor": "white",
            "linecolor": "white",
            "ticks": ""
           },
           "bgcolor": "#E5ECF6",
           "radialaxis": {
            "gridcolor": "white",
            "linecolor": "white",
            "ticks": ""
           }
          },
          "scene": {
           "xaxis": {
            "backgroundcolor": "#E5ECF6",
            "gridcolor": "white",
            "gridwidth": 2,
            "linecolor": "white",
            "showbackground": true,
            "ticks": "",
            "zerolinecolor": "white"
           },
           "yaxis": {
            "backgroundcolor": "#E5ECF6",
            "gridcolor": "white",
            "gridwidth": 2,
            "linecolor": "white",
            "showbackground": true,
            "ticks": "",
            "zerolinecolor": "white"
           },
           "zaxis": {
            "backgroundcolor": "#E5ECF6",
            "gridcolor": "white",
            "gridwidth": 2,
            "linecolor": "white",
            "showbackground": true,
            "ticks": "",
            "zerolinecolor": "white"
           }
          },
          "shapedefaults": {
           "line": {
            "color": "#2a3f5f"
           }
          },
          "ternary": {
           "aaxis": {
            "gridcolor": "white",
            "linecolor": "white",
            "ticks": ""
           },
           "baxis": {
            "gridcolor": "white",
            "linecolor": "white",
            "ticks": ""
           },
           "bgcolor": "#E5ECF6",
           "caxis": {
            "gridcolor": "white",
            "linecolor": "white",
            "ticks": ""
           }
          },
          "title": {
           "x": 0.05
          },
          "xaxis": {
           "automargin": true,
           "gridcolor": "white",
           "linecolor": "white",
           "ticks": "",
           "title": {
            "standoff": 15
           },
           "zerolinecolor": "white",
           "zerolinewidth": 2
          },
          "yaxis": {
           "automargin": true,
           "gridcolor": "white",
           "linecolor": "white",
           "ticks": "",
           "title": {
            "standoff": 15
           },
           "zerolinecolor": "white",
           "zerolinewidth": 2
          }
         }
        },
        "title": {
         "font": {
          "color": "#4D5663"
         }
        },
        "xaxis": {
         "gridcolor": "#E1E5ED",
         "showgrid": true,
         "tickfont": {
          "color": "#4D5663"
         },
         "title": {
          "font": {
           "color": "#4D5663"
          },
          "text": ""
         },
         "zerolinecolor": "#E1E5ED"
        },
        "yaxis": {
         "gridcolor": "#E1E5ED",
         "showgrid": true,
         "tickfont": {
          "color": "#4D5663"
         },
         "title": {
          "font": {
           "color": "#4D5663"
          },
          "text": ""
         },
         "zerolinecolor": "#E1E5ED"
        }
       }
      },
      "text/html": [
       "<div>                            <div id=\"956f8c04-ca11-4168-a9f0-e5c6a351a8b1\" class=\"plotly-graph-div\" style=\"height:525px; width:100%;\"></div>            <script type=\"text/javascript\">                require([\"plotly\"], function(Plotly) {                    window.PLOTLYENV=window.PLOTLYENV || {};\n",
       "                    window.PLOTLYENV.BASE_URL='https://plot.ly';                                    if (document.getElementById(\"956f8c04-ca11-4168-a9f0-e5c6a351a8b1\")) {                    Plotly.newPlot(                        \"956f8c04-ca11-4168-a9f0-e5c6a351a8b1\",                        [{\"colorscale\": [[0.0, \"rgb(165,0,38)\"], [0.1, \"rgb(215,48,39)\"], [0.2, \"rgb(244,109,67)\"], [0.3, \"rgb(253,174,97)\"], [0.4, \"rgb(254,224,144)\"], [0.5, \"rgb(255,255,191)\"], [0.6, \"rgb(224,243,248)\"], [0.7, \"rgb(171,217,233)\"], [0.8, \"rgb(116,173,209)\"], [0.9, \"rgb(69,117,180)\"], [1.0, \"rgb(49,54,149)\"]], \"type\": \"surface\", \"x\": [0, 1, 2, 3, 4], \"y\": [\"x\", \"y\", \"z\"], \"z\": [[1, 2, 3, 4, 5], [10, 20, 30, 40, 50], [5, 4, 3, 2, 1]]}],                        {\"legend\": {\"bgcolor\": \"#F5F6F9\", \"font\": {\"color\": \"#4D5663\"}}, \"paper_bgcolor\": \"#F5F6F9\", \"plot_bgcolor\": \"#F5F6F9\", \"template\": {\"data\": {\"bar\": [{\"error_x\": {\"color\": \"#2a3f5f\"}, \"error_y\": {\"color\": \"#2a3f5f\"}, \"marker\": {\"line\": {\"color\": \"#E5ECF6\", \"width\": 0.5}}, \"type\": \"bar\"}], \"barpolar\": [{\"marker\": {\"line\": {\"color\": \"#E5ECF6\", \"width\": 0.5}}, \"type\": \"barpolar\"}], \"carpet\": [{\"aaxis\": {\"endlinecolor\": \"#2a3f5f\", \"gridcolor\": \"white\", \"linecolor\": \"white\", \"minorgridcolor\": \"white\", \"startlinecolor\": \"#2a3f5f\"}, \"baxis\": {\"endlinecolor\": \"#2a3f5f\", \"gridcolor\": \"white\", \"linecolor\": \"white\", \"minorgridcolor\": \"white\", \"startlinecolor\": \"#2a3f5f\"}, \"type\": \"carpet\"}], \"choropleth\": [{\"colorbar\": {\"outlinewidth\": 0, \"ticks\": \"\"}, \"type\": \"choropleth\"}], \"contour\": [{\"colorbar\": {\"outlinewidth\": 0, \"ticks\": \"\"}, \"colorscale\": [[0.0, \"#0d0887\"], [0.1111111111111111, \"#46039f\"], [0.2222222222222222, \"#7201a8\"], [0.3333333333333333, \"#9c179e\"], [0.4444444444444444, \"#bd3786\"], [0.5555555555555556, \"#d8576b\"], [0.6666666666666666, \"#ed7953\"], [0.7777777777777778, \"#fb9f3a\"], [0.8888888888888888, \"#fdca26\"], [1.0, \"#f0f921\"]], \"type\": \"contour\"}], \"contourcarpet\": [{\"colorbar\": {\"outlinewidth\": 0, \"ticks\": \"\"}, \"type\": \"contourcarpet\"}], \"heatmap\": [{\"colorbar\": {\"outlinewidth\": 0, \"ticks\": \"\"}, \"colorscale\": [[0.0, \"#0d0887\"], [0.1111111111111111, \"#46039f\"], [0.2222222222222222, \"#7201a8\"], [0.3333333333333333, \"#9c179e\"], [0.4444444444444444, \"#bd3786\"], [0.5555555555555556, \"#d8576b\"], [0.6666666666666666, \"#ed7953\"], [0.7777777777777778, \"#fb9f3a\"], [0.8888888888888888, \"#fdca26\"], [1.0, \"#f0f921\"]], \"type\": \"heatmap\"}], \"heatmapgl\": [{\"colorbar\": {\"outlinewidth\": 0, \"ticks\": \"\"}, \"colorscale\": [[0.0, \"#0d0887\"], [0.1111111111111111, \"#46039f\"], [0.2222222222222222, \"#7201a8\"], [0.3333333333333333, \"#9c179e\"], [0.4444444444444444, \"#bd3786\"], [0.5555555555555556, \"#d8576b\"], [0.6666666666666666, \"#ed7953\"], [0.7777777777777778, \"#fb9f3a\"], [0.8888888888888888, \"#fdca26\"], [1.0, \"#f0f921\"]], \"type\": \"heatmapgl\"}], \"histogram\": [{\"marker\": {\"colorbar\": {\"outlinewidth\": 0, \"ticks\": \"\"}}, \"type\": \"histogram\"}], \"histogram2d\": [{\"colorbar\": {\"outlinewidth\": 0, \"ticks\": \"\"}, \"colorscale\": [[0.0, \"#0d0887\"], [0.1111111111111111, \"#46039f\"], [0.2222222222222222, \"#7201a8\"], [0.3333333333333333, \"#9c179e\"], [0.4444444444444444, \"#bd3786\"], [0.5555555555555556, \"#d8576b\"], [0.6666666666666666, \"#ed7953\"], [0.7777777777777778, \"#fb9f3a\"], [0.8888888888888888, \"#fdca26\"], [1.0, \"#f0f921\"]], \"type\": \"histogram2d\"}], \"histogram2dcontour\": [{\"colorbar\": {\"outlinewidth\": 0, \"ticks\": \"\"}, \"colorscale\": [[0.0, \"#0d0887\"], [0.1111111111111111, \"#46039f\"], [0.2222222222222222, \"#7201a8\"], [0.3333333333333333, \"#9c179e\"], [0.4444444444444444, \"#bd3786\"], [0.5555555555555556, \"#d8576b\"], [0.6666666666666666, \"#ed7953\"], [0.7777777777777778, \"#fb9f3a\"], [0.8888888888888888, \"#fdca26\"], [1.0, \"#f0f921\"]], \"type\": \"histogram2dcontour\"}], \"mesh3d\": [{\"colorbar\": {\"outlinewidth\": 0, \"ticks\": \"\"}, \"type\": \"mesh3d\"}], \"parcoords\": [{\"line\": {\"colorbar\": {\"outlinewidth\": 0, \"ticks\": \"\"}}, \"type\": \"parcoords\"}], \"pie\": [{\"automargin\": true, \"type\": \"pie\"}], \"scatter\": [{\"marker\": {\"colorbar\": {\"outlinewidth\": 0, \"ticks\": \"\"}}, \"type\": \"scatter\"}], \"scatter3d\": [{\"line\": {\"colorbar\": {\"outlinewidth\": 0, \"ticks\": \"\"}}, \"marker\": {\"colorbar\": {\"outlinewidth\": 0, \"ticks\": \"\"}}, \"type\": \"scatter3d\"}], \"scattercarpet\": [{\"marker\": {\"colorbar\": {\"outlinewidth\": 0, \"ticks\": \"\"}}, \"type\": \"scattercarpet\"}], \"scattergeo\": [{\"marker\": {\"colorbar\": {\"outlinewidth\": 0, \"ticks\": \"\"}}, \"type\": \"scattergeo\"}], \"scattergl\": [{\"marker\": {\"colorbar\": {\"outlinewidth\": 0, \"ticks\": \"\"}}, \"type\": \"scattergl\"}], \"scattermapbox\": [{\"marker\": {\"colorbar\": {\"outlinewidth\": 0, \"ticks\": \"\"}}, \"type\": \"scattermapbox\"}], \"scatterpolar\": [{\"marker\": {\"colorbar\": {\"outlinewidth\": 0, \"ticks\": \"\"}}, \"type\": \"scatterpolar\"}], \"scatterpolargl\": [{\"marker\": {\"colorbar\": {\"outlinewidth\": 0, \"ticks\": \"\"}}, \"type\": \"scatterpolargl\"}], \"scatterternary\": [{\"marker\": {\"colorbar\": {\"outlinewidth\": 0, \"ticks\": \"\"}}, \"type\": \"scatterternary\"}], \"surface\": [{\"colorbar\": {\"outlinewidth\": 0, \"ticks\": \"\"}, \"colorscale\": [[0.0, \"#0d0887\"], [0.1111111111111111, \"#46039f\"], [0.2222222222222222, \"#7201a8\"], [0.3333333333333333, \"#9c179e\"], [0.4444444444444444, \"#bd3786\"], [0.5555555555555556, \"#d8576b\"], [0.6666666666666666, \"#ed7953\"], [0.7777777777777778, \"#fb9f3a\"], [0.8888888888888888, \"#fdca26\"], [1.0, \"#f0f921\"]], \"type\": \"surface\"}], \"table\": [{\"cells\": {\"fill\": {\"color\": \"#EBF0F8\"}, \"line\": {\"color\": \"white\"}}, \"header\": {\"fill\": {\"color\": \"#C8D4E3\"}, \"line\": {\"color\": \"white\"}}, \"type\": \"table\"}]}, \"layout\": {\"annotationdefaults\": {\"arrowcolor\": \"#2a3f5f\", \"arrowhead\": 0, \"arrowwidth\": 1}, \"autotypenumbers\": \"strict\", \"coloraxis\": {\"colorbar\": {\"outlinewidth\": 0, \"ticks\": \"\"}}, \"colorscale\": {\"diverging\": [[0, \"#8e0152\"], [0.1, \"#c51b7d\"], [0.2, \"#de77ae\"], [0.3, \"#f1b6da\"], [0.4, \"#fde0ef\"], [0.5, \"#f7f7f7\"], [0.6, \"#e6f5d0\"], [0.7, \"#b8e186\"], [0.8, \"#7fbc41\"], [0.9, \"#4d9221\"], [1, \"#276419\"]], \"sequential\": [[0.0, \"#0d0887\"], [0.1111111111111111, \"#46039f\"], [0.2222222222222222, \"#7201a8\"], [0.3333333333333333, \"#9c179e\"], [0.4444444444444444, \"#bd3786\"], [0.5555555555555556, \"#d8576b\"], [0.6666666666666666, \"#ed7953\"], [0.7777777777777778, \"#fb9f3a\"], [0.8888888888888888, \"#fdca26\"], [1.0, \"#f0f921\"]], \"sequentialminus\": [[0.0, \"#0d0887\"], [0.1111111111111111, \"#46039f\"], [0.2222222222222222, \"#7201a8\"], [0.3333333333333333, \"#9c179e\"], [0.4444444444444444, \"#bd3786\"], [0.5555555555555556, \"#d8576b\"], [0.6666666666666666, \"#ed7953\"], [0.7777777777777778, \"#fb9f3a\"], [0.8888888888888888, \"#fdca26\"], [1.0, \"#f0f921\"]]}, \"colorway\": [\"#636efa\", \"#EF553B\", \"#00cc96\", \"#ab63fa\", \"#FFA15A\", \"#19d3f3\", \"#FF6692\", \"#B6E880\", \"#FF97FF\", \"#FECB52\"], \"font\": {\"color\": \"#2a3f5f\"}, \"geo\": {\"bgcolor\": \"white\", \"lakecolor\": \"white\", \"landcolor\": \"#E5ECF6\", \"showlakes\": true, \"showland\": true, \"subunitcolor\": \"white\"}, \"hoverlabel\": {\"align\": \"left\"}, \"hovermode\": \"closest\", \"mapbox\": {\"style\": \"light\"}, \"paper_bgcolor\": \"white\", \"plot_bgcolor\": \"#E5ECF6\", \"polar\": {\"angularaxis\": {\"gridcolor\": \"white\", \"linecolor\": \"white\", \"ticks\": \"\"}, \"bgcolor\": \"#E5ECF6\", \"radialaxis\": {\"gridcolor\": \"white\", \"linecolor\": \"white\", \"ticks\": \"\"}}, \"scene\": {\"xaxis\": {\"backgroundcolor\": \"#E5ECF6\", \"gridcolor\": \"white\", \"gridwidth\": 2, \"linecolor\": \"white\", \"showbackground\": true, \"ticks\": \"\", \"zerolinecolor\": \"white\"}, \"yaxis\": {\"backgroundcolor\": \"#E5ECF6\", \"gridcolor\": \"white\", \"gridwidth\": 2, \"linecolor\": \"white\", \"showbackground\": true, \"ticks\": \"\", \"zerolinecolor\": \"white\"}, \"zaxis\": {\"backgroundcolor\": \"#E5ECF6\", \"gridcolor\": \"white\", \"gridwidth\": 2, \"linecolor\": \"white\", \"showbackground\": true, \"ticks\": \"\", \"zerolinecolor\": \"white\"}}, \"shapedefaults\": {\"line\": {\"color\": \"#2a3f5f\"}}, \"ternary\": {\"aaxis\": {\"gridcolor\": \"white\", \"linecolor\": \"white\", \"ticks\": \"\"}, \"baxis\": {\"gridcolor\": \"white\", \"linecolor\": \"white\", \"ticks\": \"\"}, \"bgcolor\": \"#E5ECF6\", \"caxis\": {\"gridcolor\": \"white\", \"linecolor\": \"white\", \"ticks\": \"\"}}, \"title\": {\"x\": 0.05}, \"xaxis\": {\"automargin\": true, \"gridcolor\": \"white\", \"linecolor\": \"white\", \"ticks\": \"\", \"title\": {\"standoff\": 15}, \"zerolinecolor\": \"white\", \"zerolinewidth\": 2}, \"yaxis\": {\"automargin\": true, \"gridcolor\": \"white\", \"linecolor\": \"white\", \"ticks\": \"\", \"title\": {\"standoff\": 15}, \"zerolinecolor\": \"white\", \"zerolinewidth\": 2}}}, \"title\": {\"font\": {\"color\": \"#4D5663\"}}, \"xaxis\": {\"gridcolor\": \"#E1E5ED\", \"showgrid\": true, \"tickfont\": {\"color\": \"#4D5663\"}, \"title\": {\"font\": {\"color\": \"#4D5663\"}, \"text\": \"\"}, \"zerolinecolor\": \"#E1E5ED\"}, \"yaxis\": {\"gridcolor\": \"#E1E5ED\", \"showgrid\": true, \"tickfont\": {\"color\": \"#4D5663\"}, \"title\": {\"font\": {\"color\": \"#4D5663\"}, \"text\": \"\"}, \"zerolinecolor\": \"#E1E5ED\"}},                        {\"showLink\": true, \"linkText\": \"Export to plot.ly\", \"plotlyServerURL\": \"https://plot.ly\", \"responsive\": true}                    ).then(function(){\n",
       "                            \n",
       "var gd = document.getElementById('956f8c04-ca11-4168-a9f0-e5c6a351a8b1');\n",
       "var x = new MutationObserver(function (mutations, observer) {{\n",
       "        var display = window.getComputedStyle(gd).display;\n",
       "        if (!display || display === 'none') {{\n",
       "            console.log([gd, 'removed!']);\n",
       "            Plotly.purge(gd);\n",
       "            observer.disconnect();\n",
       "        }}\n",
       "}});\n",
       "\n",
       "// Listen for the removal of the full notebook cells\n",
       "var notebookContainer = gd.closest('#notebook-container');\n",
       "if (notebookContainer) {{\n",
       "    x.observe(notebookContainer, {childList: true});\n",
       "}}\n",
       "\n",
       "// Listen for the clearing of the current output cell\n",
       "var outputEl = gd.closest('.output');\n",
       "if (outputEl) {{\n",
       "    x.observe(outputEl, {childList: true});\n",
       "}}\n",
       "\n",
       "                        })                };                });            </script>        </div>"
      ]
     },
     "metadata": {},
     "output_type": "display_data"
    }
   ],
   "source": [
    "df3.iplot(kind='surface', colorscale='rdylbu')"
   ]
  },
  {
   "cell_type": "markdown",
   "id": "molecular-newsletter",
   "metadata": {},
   "source": [
    "## Spread"
   ]
  },
  {
   "cell_type": "code",
   "execution_count": 19,
   "id": "challenging-masters",
   "metadata": {},
   "outputs": [
    {
     "name": "stderr",
     "output_type": "stream",
     "text": [
      "/home/bruno/Documents/dev/learning-data-science/venv-learning-data-science/lib/python3.8/site-packages/cufflinks/plotlytools.py:849: FutureWarning:\n",
      "\n",
      "The pandas.np module is deprecated and will be removed from pandas in a future version. Import numpy directly instead\n",
      "\n",
      "/home/bruno/Documents/dev/learning-data-science/venv-learning-data-science/lib/python3.8/site-packages/cufflinks/plotlytools.py:850: FutureWarning:\n",
      "\n",
      "The pandas.np module is deprecated and will be removed from pandas in a future version. Import numpy directly instead\n",
      "\n"
     ]
    },
    {
     "data": {
      "application/vnd.plotly.v1+json": {
       "config": {
        "linkText": "Export to plot.ly",
        "plotlyServerURL": "https://plot.ly",
        "showLink": true
       },
       "data": [
        {
         "line": {
          "color": "rgba(255, 153, 51, 1.0)",
          "dash": "solid",
          "shape": "linear",
          "width": 1.3
         },
         "mode": "lines",
         "name": "A",
         "text": "",
         "type": "scatter",
         "x": [
          0,
          1,
          2,
          3,
          4,
          5,
          6,
          7,
          8,
          9,
          10,
          11,
          12,
          13,
          14,
          15,
          16,
          17,
          18,
          19,
          20,
          21,
          22,
          23,
          24,
          25,
          26,
          27,
          28,
          29,
          30,
          31,
          32,
          33,
          34,
          35,
          36,
          37,
          38,
          39,
          40,
          41,
          42,
          43,
          44,
          45,
          46,
          47,
          48,
          49,
          50,
          51,
          52,
          53,
          54,
          55,
          56,
          57,
          58,
          59,
          60,
          61,
          62,
          63,
          64,
          65,
          66,
          67,
          68,
          69,
          70,
          71,
          72,
          73,
          74,
          75,
          76,
          77,
          78,
          79,
          80,
          81,
          82,
          83,
          84,
          85,
          86,
          87,
          88,
          89,
          90,
          91,
          92,
          93,
          94,
          95,
          96,
          97,
          98,
          99
         ],
         "y": [
          0.2803514486783903,
          -1.3529818744563427,
          0.5349335415489098,
          -0.46485644825077904,
          0.23995054472161614,
          0.015400907103716222,
          -0.2916104698915431,
          -0.23667497168901144,
          -0.6960369293674991,
          0.05795719862127771,
          -2.707673763127651,
          0.7613704053442429,
          0.3038232136903593,
          0.47448335399814273,
          -0.164943487319802,
          -0.1746685114526522,
          0.2737289201669528,
          -1.595378768993628,
          -1.5108845426369344,
          0.24616265746478627,
          0.3065102838166673,
          0.5813583720340318,
          0.6865830735731809,
          -0.6258184147645117,
          -0.5546572199896735,
          -0.7466622678544448,
          -0.7270465111699874,
          -0.47816758216383126,
          -0.6669280389560786,
          0.76101743324588,
          -0.013679710392465254,
          1.2232943573945159,
          2.5559833518724893,
          -0.07060403482627899,
          0.13004671884714766,
          -0.45520923256722334,
          0.29918460014033516,
          -0.5924241017540582,
          -0.15759225564599727,
          -1.4004988620018581,
          -1.7732366422243238,
          0.19030716935011002,
          -1.8019881668928215,
          -0.557204660426035,
          -0.44856054866864037,
          -1.4060925644133255,
          -1.022320245094843,
          -0.8941673627250798,
          -2.245692439956184,
          0.2521689296172425,
          0.07855183616603281,
          -1.880184235826735,
          -0.3547545024536497,
          -0.15901492812930434,
          1.4885512061851904,
          1.154473168088508,
          0.3506429831171856,
          0.033939225063162694,
          -0.745605997038604,
          -0.08313589301236117,
          -0.40493746348498305,
          -0.41768247476306836,
          -0.4717648718246529,
          -1.1171886583955546,
          -2.129045780023768,
          -1.4832090385240868,
          -0.9441306566317546,
          1.322478523659654,
          0.42861599484286816,
          -0.009349041903356899,
          -1.116475110689967,
          -1.604227395364169,
          -2.6458410752338737,
          0.11056779914131323,
          -0.4965388245769563,
          0.17496256936776317,
          -0.2188956562305676,
          0.6945059949492234,
          -1.5537040988224653,
          -0.4187519315700034,
          -1.5423386677726243,
          0.06656236481758367,
          0.6071611139142862,
          -0.2086185228188934,
          -0.6639641879325863,
          1.0091151944427543,
          -0.45485719742929204,
          0.7407282713470051,
          0.7926935792564782,
          0.8401881183890121,
          0.9707636921175228,
          -0.8331596615803011,
          -0.6412226880173394,
          0.5776137452811525,
          -0.709783389228246,
          0.06455705181996911,
          1.5612392254536525,
          0.6579971954098929,
          -0.1399662625786303,
          1.1855510000724214
         ]
        },
        {
         "line": {
          "color": "rgba(55, 128, 191, 1.0)",
          "dash": "solid",
          "shape": "linear",
          "width": 1.3
         },
         "mode": "lines",
         "name": "B",
         "text": "",
         "type": "scatter",
         "x": [
          0,
          1,
          2,
          3,
          4,
          5,
          6,
          7,
          8,
          9,
          10,
          11,
          12,
          13,
          14,
          15,
          16,
          17,
          18,
          19,
          20,
          21,
          22,
          23,
          24,
          25,
          26,
          27,
          28,
          29,
          30,
          31,
          32,
          33,
          34,
          35,
          36,
          37,
          38,
          39,
          40,
          41,
          42,
          43,
          44,
          45,
          46,
          47,
          48,
          49,
          50,
          51,
          52,
          53,
          54,
          55,
          56,
          57,
          58,
          59,
          60,
          61,
          62,
          63,
          64,
          65,
          66,
          67,
          68,
          69,
          70,
          71,
          72,
          73,
          74,
          75,
          76,
          77,
          78,
          79,
          80,
          81,
          82,
          83,
          84,
          85,
          86,
          87,
          88,
          89,
          90,
          91,
          92,
          93,
          94,
          95,
          96,
          97,
          98,
          99
         ],
         "y": [
          0.17706896277187162,
          -0.6249373118454554,
          0.3272590749722181,
          -0.9940401674343684,
          -2.530950849847117,
          0.2636658317371174,
          1.354219131183047,
          0.6643474062171079,
          -1.6533612970498077,
          0.7416715750244077,
          -0.9932428321735989,
          -0.6414343494166856,
          0.8299153265150462,
          -1.021986403702533,
          0.8987779717506097,
          1.0164569804648547,
          -0.35952334786171086,
          1.1094843584394358,
          1.5121019739205415,
          -0.2604947937239252,
          -0.3690942205578536,
          0.3615252687732477,
          -1.025107085234413,
          -1.4493849627756665,
          -0.8199570845444943,
          0.4505595988304898,
          1.1605376269740642,
          -1.188009381927696,
          0.6787286337625219,
          0.8039586299595403,
          -3.0833656542362573,
          1.269449272266462,
          -0.3149057116993393,
          -1.2939815954736011,
          0.12182680125676709,
          0.33006216460025506,
          0.21363583429407815,
          1.6588885458762022,
          -0.19557754724933765,
          1.0547923730917923,
          0.6954831684772481,
          -0.34584471468312034,
          0.6057788359167456,
          0.1590495270200915,
          1.5273126423059864,
          0.348566619616232,
          -0.18952539532798401,
          0.6252396166243234,
          1.1062954259320954,
          -0.687910545726598,
          -0.9078626099526047,
          0.48194398183866477,
          0.5342528457953383,
          -0.23774105751875005,
          0.06247792047270879,
          -0.3363551491205612,
          -1.4667065221044309,
          0.0951224432524548,
          1.0856472862022295,
          -0.5269712156766507,
          -0.3898477752743443,
          0.6154660142894058,
          -1.7415795762625443,
          -0.316102495625554,
          -0.02737132768909968,
          -1.6443310620854097,
          -1.456726450295568,
          -0.54900368339122,
          0.6835144512512027,
          0.6592334242785094,
          -0.7801848924134268,
          0.055159435884052276,
          -0.41360718927975393,
          -0.6787915069209751,
          0.1528205833072065,
          -1.241618365094969,
          -0.11126935795339148,
          1.0446944850176876,
          -0.39328046132648636,
          -0.9198930417706479,
          1.5521279360686067,
          -0.5390003413131172,
          -0.2064753229521223,
          0.6444836441877287,
          -2.490722034504807,
          0.11470952204713913,
          1.2685106961111818,
          1.1869956882656112,
          -0.5344110224171819,
          -1.2146728790266499,
          -0.2380292931578603,
          0.35164800826546266,
          0.6321143673388616,
          -1.8475654305346552,
          0.31649382271570314,
          -0.9371543855285568,
          1.314046527434895,
          -0.12930965638675102,
          -0.2226154810643709,
          0.9161026149352096
         ]
        },
        {
         "connectgaps": false,
         "fill": "tozeroy",
         "line": {
          "color": "green",
          "dash": "solid",
          "shape": "linear",
          "width": 0.5
         },
         "mode": "lines",
         "name": "Spread",
         "showlegend": false,
         "type": "scatter",
         "x": [
          0,
          1,
          2,
          3,
          4,
          5,
          6,
          7,
          8,
          9,
          10,
          11,
          12,
          13,
          14,
          15,
          16,
          17,
          18,
          19,
          20,
          21,
          22,
          23,
          24,
          25,
          26,
          27,
          28,
          29,
          30,
          31,
          32,
          33,
          34,
          35,
          36,
          37,
          38,
          39,
          40,
          41,
          42,
          43,
          44,
          45,
          46,
          47,
          48,
          49,
          50,
          51,
          52,
          53,
          54,
          55,
          56,
          57,
          58,
          59,
          60,
          61,
          62,
          63,
          64,
          65,
          66,
          67,
          68,
          69,
          70,
          71,
          72,
          73,
          74,
          75,
          76,
          77,
          78,
          79,
          80,
          81,
          82,
          83,
          84,
          85,
          86,
          87,
          88,
          89,
          90,
          91,
          92,
          93,
          94,
          95,
          96,
          97,
          98,
          99
         ],
         "xaxis": "x2",
         "y": [
          0.10328248590651867,
          "",
          0.2076744665766917,
          0.5291837191835893,
          2.770901394568733,
          "",
          "",
          "",
          0.9573243676823087,
          "",
          "",
          1.4028047547609286,
          "",
          1.4964697577006758,
          "",
          "",
          0.6332522680286636,
          "",
          "",
          0.5066574511887114,
          0.6756045043745209,
          0.21983310326078415,
          1.7116901588075941,
          0.8235665480111548,
          0.2652998645548208,
          "",
          "",
          0.7098417997638647,
          "",
          "",
          3.0696859438437922,
          "",
          2.8708890635718287,
          1.223377560647322,
          0.008219917590380571,
          "",
          0.08554876584625701,
          "",
          0.03798529160334038,
          "",
          "",
          0.5361518840332303,
          "",
          "",
          "",
          "",
          "",
          "",
          "",
          0.9400794753438406,
          0.9864144461186375,
          "",
          "",
          0.0787261293894457,
          1.4260732857124816,
          1.4908283172090693,
          1.8173495052216164,
          "",
          "",
          0.44383532266428954,
          "",
          "",
          1.2698147044378914,
          "",
          "",
          0.16112202356132288,
          0.5125957936638134,
          1.8714822070508739,
          "",
          "",
          "",
          "",
          "",
          0.7893593060622883,
          "",
          1.4165809344627323,
          "",
          "",
          "",
          0.5011411102006444,
          "",
          0.605562706130701,
          0.8136364368664084,
          "",
          1.8267578465722205,
          0.8944056723956152,
          "",
          "",
          1.32710460167366,
          2.0548609974156617,
          1.2087929852753831,
          "",
          "",
          2.4251791758158077,
          "",
          1.0017114373485259,
          0.24719269801875754,
          0.787306851796644,
          0.08264921848574061,
          0.2694483851372118
         ],
         "yaxis": "y2"
        },
        {
         "connectgaps": false,
         "fill": "tozeroy",
         "line": {
          "color": "red",
          "dash": "solid",
          "shape": "linear",
          "width": 0.5
         },
         "mode": "lines",
         "name": "Spread",
         "showlegend": false,
         "type": "scatter",
         "x": [
          0,
          1,
          2,
          3,
          4,
          5,
          6,
          7,
          8,
          9,
          10,
          11,
          12,
          13,
          14,
          15,
          16,
          17,
          18,
          19,
          20,
          21,
          22,
          23,
          24,
          25,
          26,
          27,
          28,
          29,
          30,
          31,
          32,
          33,
          34,
          35,
          36,
          37,
          38,
          39,
          40,
          41,
          42,
          43,
          44,
          45,
          46,
          47,
          48,
          49,
          50,
          51,
          52,
          53,
          54,
          55,
          56,
          57,
          58,
          59,
          60,
          61,
          62,
          63,
          64,
          65,
          66,
          67,
          68,
          69,
          70,
          71,
          72,
          73,
          74,
          75,
          76,
          77,
          78,
          79,
          80,
          81,
          82,
          83,
          84,
          85,
          86,
          87,
          88,
          89,
          90,
          91,
          92,
          93,
          94,
          95,
          96,
          97,
          98,
          99
         ],
         "xaxis": "x2",
         "y": [
          "",
          -0.7280445626108872,
          "",
          "",
          "",
          -0.24826492463340116,
          -1.64582960107459,
          -0.9010223779061193,
          "",
          -0.68371437640313,
          -1.7144309309540522,
          "",
          -0.5260921128246869,
          "",
          -1.0637214590704116,
          -1.191125491917507,
          "",
          -2.7048631274330637,
          -3.022986516557476,
          "",
          "",
          "",
          "",
          "",
          "",
          -1.1972218666849346,
          -1.8875841381440517,
          "",
          -1.3456566727186003,
          -0.04294119671366026,
          "",
          -0.04615491487194623,
          "",
          "",
          "",
          -0.7852713971674784,
          "",
          -2.2513126476302605,
          "",
          -2.45529123509365,
          -2.4687198107015718,
          "",
          -2.407767002809567,
          -0.7162541874461266,
          -1.9758731909746268,
          -1.7546591840295576,
          -0.8327948497668589,
          -1.5194069793494032,
          -3.3519878658882796,
          "",
          "",
          -2.3621282176653997,
          -0.889007348248988,
          "",
          "",
          "",
          "",
          -0.0611832181892921,
          -1.8312532832408335,
          "",
          -0.015089688210638774,
          -1.0331484890524743,
          "",
          -0.8010861627700006,
          -2.101674452334668,
          "",
          "",
          "",
          -0.25489845640833453,
          -0.6685824661818663,
          -0.33629021827654026,
          -1.6593868312482214,
          -2.2322338859541198,
          "",
          -0.6493594078841628,
          "",
          -0.10762629827717611,
          -0.3501884900684642,
          -1.1604236374959789,
          "",
          -3.094466603841231,
          "",
          "",
          -0.8531021670066221,
          "",
          "",
          -1.723367893540474,
          -0.44626741691860605,
          "",
          "",
          "",
          -1.1848076698457637,
          -1.2733370553562011,
          "",
          -1.0262772119439492,
          "",
          "",
          "",
          "",
          ""
         ],
         "yaxis": "y2"
        }
       ],
       "layout": {
        "hovermode": "x",
        "legend": {
         "bgcolor": "#F5F6F9",
         "font": {
          "color": "#4D5663"
         }
        },
        "paper_bgcolor": "#F5F6F9",
        "plot_bgcolor": "#F5F6F9",
        "template": {
         "data": {
          "bar": [
           {
            "error_x": {
             "color": "#2a3f5f"
            },
            "error_y": {
             "color": "#2a3f5f"
            },
            "marker": {
             "line": {
              "color": "#E5ECF6",
              "width": 0.5
             }
            },
            "type": "bar"
           }
          ],
          "barpolar": [
           {
            "marker": {
             "line": {
              "color": "#E5ECF6",
              "width": 0.5
             }
            },
            "type": "barpolar"
           }
          ],
          "carpet": [
           {
            "aaxis": {
             "endlinecolor": "#2a3f5f",
             "gridcolor": "white",
             "linecolor": "white",
             "minorgridcolor": "white",
             "startlinecolor": "#2a3f5f"
            },
            "baxis": {
             "endlinecolor": "#2a3f5f",
             "gridcolor": "white",
             "linecolor": "white",
             "minorgridcolor": "white",
             "startlinecolor": "#2a3f5f"
            },
            "type": "carpet"
           }
          ],
          "choropleth": [
           {
            "colorbar": {
             "outlinewidth": 0,
             "ticks": ""
            },
            "type": "choropleth"
           }
          ],
          "contour": [
           {
            "colorbar": {
             "outlinewidth": 0,
             "ticks": ""
            },
            "colorscale": [
             [
              0,
              "#0d0887"
             ],
             [
              0.1111111111111111,
              "#46039f"
             ],
             [
              0.2222222222222222,
              "#7201a8"
             ],
             [
              0.3333333333333333,
              "#9c179e"
             ],
             [
              0.4444444444444444,
              "#bd3786"
             ],
             [
              0.5555555555555556,
              "#d8576b"
             ],
             [
              0.6666666666666666,
              "#ed7953"
             ],
             [
              0.7777777777777778,
              "#fb9f3a"
             ],
             [
              0.8888888888888888,
              "#fdca26"
             ],
             [
              1,
              "#f0f921"
             ]
            ],
            "type": "contour"
           }
          ],
          "contourcarpet": [
           {
            "colorbar": {
             "outlinewidth": 0,
             "ticks": ""
            },
            "type": "contourcarpet"
           }
          ],
          "heatmap": [
           {
            "colorbar": {
             "outlinewidth": 0,
             "ticks": ""
            },
            "colorscale": [
             [
              0,
              "#0d0887"
             ],
             [
              0.1111111111111111,
              "#46039f"
             ],
             [
              0.2222222222222222,
              "#7201a8"
             ],
             [
              0.3333333333333333,
              "#9c179e"
             ],
             [
              0.4444444444444444,
              "#bd3786"
             ],
             [
              0.5555555555555556,
              "#d8576b"
             ],
             [
              0.6666666666666666,
              "#ed7953"
             ],
             [
              0.7777777777777778,
              "#fb9f3a"
             ],
             [
              0.8888888888888888,
              "#fdca26"
             ],
             [
              1,
              "#f0f921"
             ]
            ],
            "type": "heatmap"
           }
          ],
          "heatmapgl": [
           {
            "colorbar": {
             "outlinewidth": 0,
             "ticks": ""
            },
            "colorscale": [
             [
              0,
              "#0d0887"
             ],
             [
              0.1111111111111111,
              "#46039f"
             ],
             [
              0.2222222222222222,
              "#7201a8"
             ],
             [
              0.3333333333333333,
              "#9c179e"
             ],
             [
              0.4444444444444444,
              "#bd3786"
             ],
             [
              0.5555555555555556,
              "#d8576b"
             ],
             [
              0.6666666666666666,
              "#ed7953"
             ],
             [
              0.7777777777777778,
              "#fb9f3a"
             ],
             [
              0.8888888888888888,
              "#fdca26"
             ],
             [
              1,
              "#f0f921"
             ]
            ],
            "type": "heatmapgl"
           }
          ],
          "histogram": [
           {
            "marker": {
             "colorbar": {
              "outlinewidth": 0,
              "ticks": ""
             }
            },
            "type": "histogram"
           }
          ],
          "histogram2d": [
           {
            "colorbar": {
             "outlinewidth": 0,
             "ticks": ""
            },
            "colorscale": [
             [
              0,
              "#0d0887"
             ],
             [
              0.1111111111111111,
              "#46039f"
             ],
             [
              0.2222222222222222,
              "#7201a8"
             ],
             [
              0.3333333333333333,
              "#9c179e"
             ],
             [
              0.4444444444444444,
              "#bd3786"
             ],
             [
              0.5555555555555556,
              "#d8576b"
             ],
             [
              0.6666666666666666,
              "#ed7953"
             ],
             [
              0.7777777777777778,
              "#fb9f3a"
             ],
             [
              0.8888888888888888,
              "#fdca26"
             ],
             [
              1,
              "#f0f921"
             ]
            ],
            "type": "histogram2d"
           }
          ],
          "histogram2dcontour": [
           {
            "colorbar": {
             "outlinewidth": 0,
             "ticks": ""
            },
            "colorscale": [
             [
              0,
              "#0d0887"
             ],
             [
              0.1111111111111111,
              "#46039f"
             ],
             [
              0.2222222222222222,
              "#7201a8"
             ],
             [
              0.3333333333333333,
              "#9c179e"
             ],
             [
              0.4444444444444444,
              "#bd3786"
             ],
             [
              0.5555555555555556,
              "#d8576b"
             ],
             [
              0.6666666666666666,
              "#ed7953"
             ],
             [
              0.7777777777777778,
              "#fb9f3a"
             ],
             [
              0.8888888888888888,
              "#fdca26"
             ],
             [
              1,
              "#f0f921"
             ]
            ],
            "type": "histogram2dcontour"
           }
          ],
          "mesh3d": [
           {
            "colorbar": {
             "outlinewidth": 0,
             "ticks": ""
            },
            "type": "mesh3d"
           }
          ],
          "parcoords": [
           {
            "line": {
             "colorbar": {
              "outlinewidth": 0,
              "ticks": ""
             }
            },
            "type": "parcoords"
           }
          ],
          "pie": [
           {
            "automargin": true,
            "type": "pie"
           }
          ],
          "scatter": [
           {
            "marker": {
             "colorbar": {
              "outlinewidth": 0,
              "ticks": ""
             }
            },
            "type": "scatter"
           }
          ],
          "scatter3d": [
           {
            "line": {
             "colorbar": {
              "outlinewidth": 0,
              "ticks": ""
             }
            },
            "marker": {
             "colorbar": {
              "outlinewidth": 0,
              "ticks": ""
             }
            },
            "type": "scatter3d"
           }
          ],
          "scattercarpet": [
           {
            "marker": {
             "colorbar": {
              "outlinewidth": 0,
              "ticks": ""
             }
            },
            "type": "scattercarpet"
           }
          ],
          "scattergeo": [
           {
            "marker": {
             "colorbar": {
              "outlinewidth": 0,
              "ticks": ""
             }
            },
            "type": "scattergeo"
           }
          ],
          "scattergl": [
           {
            "marker": {
             "colorbar": {
              "outlinewidth": 0,
              "ticks": ""
             }
            },
            "type": "scattergl"
           }
          ],
          "scattermapbox": [
           {
            "marker": {
             "colorbar": {
              "outlinewidth": 0,
              "ticks": ""
             }
            },
            "type": "scattermapbox"
           }
          ],
          "scatterpolar": [
           {
            "marker": {
             "colorbar": {
              "outlinewidth": 0,
              "ticks": ""
             }
            },
            "type": "scatterpolar"
           }
          ],
          "scatterpolargl": [
           {
            "marker": {
             "colorbar": {
              "outlinewidth": 0,
              "ticks": ""
             }
            },
            "type": "scatterpolargl"
           }
          ],
          "scatterternary": [
           {
            "marker": {
             "colorbar": {
              "outlinewidth": 0,
              "ticks": ""
             }
            },
            "type": "scatterternary"
           }
          ],
          "surface": [
           {
            "colorbar": {
             "outlinewidth": 0,
             "ticks": ""
            },
            "colorscale": [
             [
              0,
              "#0d0887"
             ],
             [
              0.1111111111111111,
              "#46039f"
             ],
             [
              0.2222222222222222,
              "#7201a8"
             ],
             [
              0.3333333333333333,
              "#9c179e"
             ],
             [
              0.4444444444444444,
              "#bd3786"
             ],
             [
              0.5555555555555556,
              "#d8576b"
             ],
             [
              0.6666666666666666,
              "#ed7953"
             ],
             [
              0.7777777777777778,
              "#fb9f3a"
             ],
             [
              0.8888888888888888,
              "#fdca26"
             ],
             [
              1,
              "#f0f921"
             ]
            ],
            "type": "surface"
           }
          ],
          "table": [
           {
            "cells": {
             "fill": {
              "color": "#EBF0F8"
             },
             "line": {
              "color": "white"
             }
            },
            "header": {
             "fill": {
              "color": "#C8D4E3"
             },
             "line": {
              "color": "white"
             }
            },
            "type": "table"
           }
          ]
         },
         "layout": {
          "annotationdefaults": {
           "arrowcolor": "#2a3f5f",
           "arrowhead": 0,
           "arrowwidth": 1
          },
          "autotypenumbers": "strict",
          "coloraxis": {
           "colorbar": {
            "outlinewidth": 0,
            "ticks": ""
           }
          },
          "colorscale": {
           "diverging": [
            [
             0,
             "#8e0152"
            ],
            [
             0.1,
             "#c51b7d"
            ],
            [
             0.2,
             "#de77ae"
            ],
            [
             0.3,
             "#f1b6da"
            ],
            [
             0.4,
             "#fde0ef"
            ],
            [
             0.5,
             "#f7f7f7"
            ],
            [
             0.6,
             "#e6f5d0"
            ],
            [
             0.7,
             "#b8e186"
            ],
            [
             0.8,
             "#7fbc41"
            ],
            [
             0.9,
             "#4d9221"
            ],
            [
             1,
             "#276419"
            ]
           ],
           "sequential": [
            [
             0,
             "#0d0887"
            ],
            [
             0.1111111111111111,
             "#46039f"
            ],
            [
             0.2222222222222222,
             "#7201a8"
            ],
            [
             0.3333333333333333,
             "#9c179e"
            ],
            [
             0.4444444444444444,
             "#bd3786"
            ],
            [
             0.5555555555555556,
             "#d8576b"
            ],
            [
             0.6666666666666666,
             "#ed7953"
            ],
            [
             0.7777777777777778,
             "#fb9f3a"
            ],
            [
             0.8888888888888888,
             "#fdca26"
            ],
            [
             1,
             "#f0f921"
            ]
           ],
           "sequentialminus": [
            [
             0,
             "#0d0887"
            ],
            [
             0.1111111111111111,
             "#46039f"
            ],
            [
             0.2222222222222222,
             "#7201a8"
            ],
            [
             0.3333333333333333,
             "#9c179e"
            ],
            [
             0.4444444444444444,
             "#bd3786"
            ],
            [
             0.5555555555555556,
             "#d8576b"
            ],
            [
             0.6666666666666666,
             "#ed7953"
            ],
            [
             0.7777777777777778,
             "#fb9f3a"
            ],
            [
             0.8888888888888888,
             "#fdca26"
            ],
            [
             1,
             "#f0f921"
            ]
           ]
          },
          "colorway": [
           "#636efa",
           "#EF553B",
           "#00cc96",
           "#ab63fa",
           "#FFA15A",
           "#19d3f3",
           "#FF6692",
           "#B6E880",
           "#FF97FF",
           "#FECB52"
          ],
          "font": {
           "color": "#2a3f5f"
          },
          "geo": {
           "bgcolor": "white",
           "lakecolor": "white",
           "landcolor": "#E5ECF6",
           "showlakes": true,
           "showland": true,
           "subunitcolor": "white"
          },
          "hoverlabel": {
           "align": "left"
          },
          "hovermode": "closest",
          "mapbox": {
           "style": "light"
          },
          "paper_bgcolor": "white",
          "plot_bgcolor": "#E5ECF6",
          "polar": {
           "angularaxis": {
            "gridcolor": "white",
            "linecolor": "white",
            "ticks": ""
           },
           "bgcolor": "#E5ECF6",
           "radialaxis": {
            "gridcolor": "white",
            "linecolor": "white",
            "ticks": ""
           }
          },
          "scene": {
           "xaxis": {
            "backgroundcolor": "#E5ECF6",
            "gridcolor": "white",
            "gridwidth": 2,
            "linecolor": "white",
            "showbackground": true,
            "ticks": "",
            "zerolinecolor": "white"
           },
           "yaxis": {
            "backgroundcolor": "#E5ECF6",
            "gridcolor": "white",
            "gridwidth": 2,
            "linecolor": "white",
            "showbackground": true,
            "ticks": "",
            "zerolinecolor": "white"
           },
           "zaxis": {
            "backgroundcolor": "#E5ECF6",
            "gridcolor": "white",
            "gridwidth": 2,
            "linecolor": "white",
            "showbackground": true,
            "ticks": "",
            "zerolinecolor": "white"
           }
          },
          "shapedefaults": {
           "line": {
            "color": "#2a3f5f"
           }
          },
          "ternary": {
           "aaxis": {
            "gridcolor": "white",
            "linecolor": "white",
            "ticks": ""
           },
           "baxis": {
            "gridcolor": "white",
            "linecolor": "white",
            "ticks": ""
           },
           "bgcolor": "#E5ECF6",
           "caxis": {
            "gridcolor": "white",
            "linecolor": "white",
            "ticks": ""
           }
          },
          "title": {
           "x": 0.05
          },
          "xaxis": {
           "automargin": true,
           "gridcolor": "white",
           "linecolor": "white",
           "ticks": "",
           "title": {
            "standoff": 15
           },
           "zerolinecolor": "white",
           "zerolinewidth": 2
          },
          "yaxis": {
           "automargin": true,
           "gridcolor": "white",
           "linecolor": "white",
           "ticks": "",
           "title": {
            "standoff": 15
           },
           "zerolinecolor": "white",
           "zerolinewidth": 2
          }
         }
        },
        "title": {
         "font": {
          "color": "#4D5663"
         }
        },
        "xaxis": {
         "gridcolor": "#E1E5ED",
         "showgrid": true,
         "tickfont": {
          "color": "#4D5663"
         },
         "title": {
          "font": {
           "color": "#4D5663"
          },
          "text": ""
         },
         "zerolinecolor": "#E1E5ED"
        },
        "xaxis2": {
         "anchor": "y2",
         "gridcolor": "#E1E5ED",
         "showgrid": true,
         "showticklabels": false,
         "tickfont": {
          "color": "#4D5663"
         },
         "title": {
          "font": {
           "color": "#4D5663"
          },
          "text": ""
         },
         "zerolinecolor": "#E1E5ED"
        },
        "yaxis": {
         "domain": [
          0.3,
          1
         ],
         "gridcolor": "#E1E5ED",
         "showgrid": true,
         "tickfont": {
          "color": "#4D5663"
         },
         "title": {
          "font": {
           "color": "#4D5663"
          },
          "text": ""
         },
         "zerolinecolor": "#E1E5ED"
        },
        "yaxis2": {
         "domain": [
          0,
          0.25
         ],
         "gridcolor": "#E1E5ED",
         "showgrid": true,
         "tickfont": {
          "color": "#4D5663"
         },
         "title": {
          "font": {
           "color": "#4D5663"
          },
          "text": "Spread"
         },
         "zerolinecolor": "#E1E5ED"
        }
       }
      },
      "text/html": [
       "<div>                            <div id=\"0d35232c-1204-45ff-974b-626c21939c42\" class=\"plotly-graph-div\" style=\"height:525px; width:100%;\"></div>            <script type=\"text/javascript\">                require([\"plotly\"], function(Plotly) {                    window.PLOTLYENV=window.PLOTLYENV || {};\n",
       "                    window.PLOTLYENV.BASE_URL='https://plot.ly';                                    if (document.getElementById(\"0d35232c-1204-45ff-974b-626c21939c42\")) {                    Plotly.newPlot(                        \"0d35232c-1204-45ff-974b-626c21939c42\",                        [{\"line\": {\"color\": \"rgba(255, 153, 51, 1.0)\", \"dash\": \"solid\", \"shape\": \"linear\", \"width\": 1.3}, \"mode\": \"lines\", \"name\": \"A\", \"text\": \"\", \"type\": \"scatter\", \"x\": [0, 1, 2, 3, 4, 5, 6, 7, 8, 9, 10, 11, 12, 13, 14, 15, 16, 17, 18, 19, 20, 21, 22, 23, 24, 25, 26, 27, 28, 29, 30, 31, 32, 33, 34, 35, 36, 37, 38, 39, 40, 41, 42, 43, 44, 45, 46, 47, 48, 49, 50, 51, 52, 53, 54, 55, 56, 57, 58, 59, 60, 61, 62, 63, 64, 65, 66, 67, 68, 69, 70, 71, 72, 73, 74, 75, 76, 77, 78, 79, 80, 81, 82, 83, 84, 85, 86, 87, 88, 89, 90, 91, 92, 93, 94, 95, 96, 97, 98, 99], \"y\": [0.2803514486783903, -1.3529818744563427, 0.5349335415489098, -0.46485644825077904, 0.23995054472161614, 0.015400907103716222, -0.2916104698915431, -0.23667497168901144, -0.6960369293674991, 0.05795719862127771, -2.707673763127651, 0.7613704053442429, 0.3038232136903593, 0.47448335399814273, -0.164943487319802, -0.1746685114526522, 0.2737289201669528, -1.595378768993628, -1.5108845426369344, 0.24616265746478627, 0.3065102838166673, 0.5813583720340318, 0.6865830735731809, -0.6258184147645117, -0.5546572199896735, -0.7466622678544448, -0.7270465111699874, -0.47816758216383126, -0.6669280389560786, 0.76101743324588, -0.013679710392465254, 1.2232943573945159, 2.5559833518724893, -0.07060403482627899, 0.13004671884714766, -0.45520923256722334, 0.29918460014033516, -0.5924241017540582, -0.15759225564599727, -1.4004988620018581, -1.7732366422243238, 0.19030716935011002, -1.8019881668928215, -0.557204660426035, -0.44856054866864037, -1.4060925644133255, -1.022320245094843, -0.8941673627250798, -2.245692439956184, 0.2521689296172425, 0.07855183616603281, -1.880184235826735, -0.3547545024536497, -0.15901492812930434, 1.4885512061851904, 1.154473168088508, 0.3506429831171856, 0.033939225063162694, -0.745605997038604, -0.08313589301236117, -0.40493746348498305, -0.41768247476306836, -0.4717648718246529, -1.1171886583955546, -2.129045780023768, -1.4832090385240868, -0.9441306566317546, 1.322478523659654, 0.42861599484286816, -0.009349041903356899, -1.116475110689967, -1.604227395364169, -2.6458410752338737, 0.11056779914131323, -0.4965388245769563, 0.17496256936776317, -0.2188956562305676, 0.6945059949492234, -1.5537040988224653, -0.4187519315700034, -1.5423386677726243, 0.06656236481758367, 0.6071611139142862, -0.2086185228188934, -0.6639641879325863, 1.0091151944427543, -0.45485719742929204, 0.7407282713470051, 0.7926935792564782, 0.8401881183890121, 0.9707636921175228, -0.8331596615803011, -0.6412226880173394, 0.5776137452811525, -0.709783389228246, 0.06455705181996911, 1.5612392254536525, 0.6579971954098929, -0.1399662625786303, 1.1855510000724214]}, {\"line\": {\"color\": \"rgba(55, 128, 191, 1.0)\", \"dash\": \"solid\", \"shape\": \"linear\", \"width\": 1.3}, \"mode\": \"lines\", \"name\": \"B\", \"text\": \"\", \"type\": \"scatter\", \"x\": [0, 1, 2, 3, 4, 5, 6, 7, 8, 9, 10, 11, 12, 13, 14, 15, 16, 17, 18, 19, 20, 21, 22, 23, 24, 25, 26, 27, 28, 29, 30, 31, 32, 33, 34, 35, 36, 37, 38, 39, 40, 41, 42, 43, 44, 45, 46, 47, 48, 49, 50, 51, 52, 53, 54, 55, 56, 57, 58, 59, 60, 61, 62, 63, 64, 65, 66, 67, 68, 69, 70, 71, 72, 73, 74, 75, 76, 77, 78, 79, 80, 81, 82, 83, 84, 85, 86, 87, 88, 89, 90, 91, 92, 93, 94, 95, 96, 97, 98, 99], \"y\": [0.17706896277187162, -0.6249373118454554, 0.3272590749722181, -0.9940401674343684, -2.530950849847117, 0.2636658317371174, 1.354219131183047, 0.6643474062171079, -1.6533612970498077, 0.7416715750244077, -0.9932428321735989, -0.6414343494166856, 0.8299153265150462, -1.021986403702533, 0.8987779717506097, 1.0164569804648547, -0.35952334786171086, 1.1094843584394358, 1.5121019739205415, -0.2604947937239252, -0.3690942205578536, 0.3615252687732477, -1.025107085234413, -1.4493849627756665, -0.8199570845444943, 0.4505595988304898, 1.1605376269740642, -1.188009381927696, 0.6787286337625219, 0.8039586299595403, -3.0833656542362573, 1.269449272266462, -0.3149057116993393, -1.2939815954736011, 0.12182680125676709, 0.33006216460025506, 0.21363583429407815, 1.6588885458762022, -0.19557754724933765, 1.0547923730917923, 0.6954831684772481, -0.34584471468312034, 0.6057788359167456, 0.1590495270200915, 1.5273126423059864, 0.348566619616232, -0.18952539532798401, 0.6252396166243234, 1.1062954259320954, -0.687910545726598, -0.9078626099526047, 0.48194398183866477, 0.5342528457953383, -0.23774105751875005, 0.06247792047270879, -0.3363551491205612, -1.4667065221044309, 0.0951224432524548, 1.0856472862022295, -0.5269712156766507, -0.3898477752743443, 0.6154660142894058, -1.7415795762625443, -0.316102495625554, -0.02737132768909968, -1.6443310620854097, -1.456726450295568, -0.54900368339122, 0.6835144512512027, 0.6592334242785094, -0.7801848924134268, 0.055159435884052276, -0.41360718927975393, -0.6787915069209751, 0.1528205833072065, -1.241618365094969, -0.11126935795339148, 1.0446944850176876, -0.39328046132648636, -0.9198930417706479, 1.5521279360686067, -0.5390003413131172, -0.2064753229521223, 0.6444836441877287, -2.490722034504807, 0.11470952204713913, 1.2685106961111818, 1.1869956882656112, -0.5344110224171819, -1.2146728790266499, -0.2380292931578603, 0.35164800826546266, 0.6321143673388616, -1.8475654305346552, 0.31649382271570314, -0.9371543855285568, 1.314046527434895, -0.12930965638675102, -0.2226154810643709, 0.9161026149352096]}, {\"connectgaps\": false, \"fill\": \"tozeroy\", \"line\": {\"color\": \"green\", \"dash\": \"solid\", \"shape\": \"linear\", \"width\": 0.5}, \"mode\": \"lines\", \"name\": \"Spread\", \"showlegend\": false, \"type\": \"scatter\", \"x\": [0, 1, 2, 3, 4, 5, 6, 7, 8, 9, 10, 11, 12, 13, 14, 15, 16, 17, 18, 19, 20, 21, 22, 23, 24, 25, 26, 27, 28, 29, 30, 31, 32, 33, 34, 35, 36, 37, 38, 39, 40, 41, 42, 43, 44, 45, 46, 47, 48, 49, 50, 51, 52, 53, 54, 55, 56, 57, 58, 59, 60, 61, 62, 63, 64, 65, 66, 67, 68, 69, 70, 71, 72, 73, 74, 75, 76, 77, 78, 79, 80, 81, 82, 83, 84, 85, 86, 87, 88, 89, 90, 91, 92, 93, 94, 95, 96, 97, 98, 99], \"xaxis\": \"x2\", \"y\": [0.10328248590651867, \"\", 0.2076744665766917, 0.5291837191835893, 2.770901394568733, \"\", \"\", \"\", 0.9573243676823087, \"\", \"\", 1.4028047547609286, \"\", 1.4964697577006758, \"\", \"\", 0.6332522680286636, \"\", \"\", 0.5066574511887114, 0.6756045043745209, 0.21983310326078415, 1.7116901588075941, 0.8235665480111548, 0.2652998645548208, \"\", \"\", 0.7098417997638647, \"\", \"\", 3.0696859438437922, \"\", 2.8708890635718287, 1.223377560647322, 0.008219917590380571, \"\", 0.08554876584625701, \"\", 0.03798529160334038, \"\", \"\", 0.5361518840332303, \"\", \"\", \"\", \"\", \"\", \"\", \"\", 0.9400794753438406, 0.9864144461186375, \"\", \"\", 0.0787261293894457, 1.4260732857124816, 1.4908283172090693, 1.8173495052216164, \"\", \"\", 0.44383532266428954, \"\", \"\", 1.2698147044378914, \"\", \"\", 0.16112202356132288, 0.5125957936638134, 1.8714822070508739, \"\", \"\", \"\", \"\", \"\", 0.7893593060622883, \"\", 1.4165809344627323, \"\", \"\", \"\", 0.5011411102006444, \"\", 0.605562706130701, 0.8136364368664084, \"\", 1.8267578465722205, 0.8944056723956152, \"\", \"\", 1.32710460167366, 2.0548609974156617, 1.2087929852753831, \"\", \"\", 2.4251791758158077, \"\", 1.0017114373485259, 0.24719269801875754, 0.787306851796644, 0.08264921848574061, 0.2694483851372118], \"yaxis\": \"y2\"}, {\"connectgaps\": false, \"fill\": \"tozeroy\", \"line\": {\"color\": \"red\", \"dash\": \"solid\", \"shape\": \"linear\", \"width\": 0.5}, \"mode\": \"lines\", \"name\": \"Spread\", \"showlegend\": false, \"type\": \"scatter\", \"x\": [0, 1, 2, 3, 4, 5, 6, 7, 8, 9, 10, 11, 12, 13, 14, 15, 16, 17, 18, 19, 20, 21, 22, 23, 24, 25, 26, 27, 28, 29, 30, 31, 32, 33, 34, 35, 36, 37, 38, 39, 40, 41, 42, 43, 44, 45, 46, 47, 48, 49, 50, 51, 52, 53, 54, 55, 56, 57, 58, 59, 60, 61, 62, 63, 64, 65, 66, 67, 68, 69, 70, 71, 72, 73, 74, 75, 76, 77, 78, 79, 80, 81, 82, 83, 84, 85, 86, 87, 88, 89, 90, 91, 92, 93, 94, 95, 96, 97, 98, 99], \"xaxis\": \"x2\", \"y\": [\"\", -0.7280445626108872, \"\", \"\", \"\", -0.24826492463340116, -1.64582960107459, -0.9010223779061193, \"\", -0.68371437640313, -1.7144309309540522, \"\", -0.5260921128246869, \"\", -1.0637214590704116, -1.191125491917507, \"\", -2.7048631274330637, -3.022986516557476, \"\", \"\", \"\", \"\", \"\", \"\", -1.1972218666849346, -1.8875841381440517, \"\", -1.3456566727186003, -0.04294119671366026, \"\", -0.04615491487194623, \"\", \"\", \"\", -0.7852713971674784, \"\", -2.2513126476302605, \"\", -2.45529123509365, -2.4687198107015718, \"\", -2.407767002809567, -0.7162541874461266, -1.9758731909746268, -1.7546591840295576, -0.8327948497668589, -1.5194069793494032, -3.3519878658882796, \"\", \"\", -2.3621282176653997, -0.889007348248988, \"\", \"\", \"\", \"\", -0.0611832181892921, -1.8312532832408335, \"\", -0.015089688210638774, -1.0331484890524743, \"\", -0.8010861627700006, -2.101674452334668, \"\", \"\", \"\", -0.25489845640833453, -0.6685824661818663, -0.33629021827654026, -1.6593868312482214, -2.2322338859541198, \"\", -0.6493594078841628, \"\", -0.10762629827717611, -0.3501884900684642, -1.1604236374959789, \"\", -3.094466603841231, \"\", \"\", -0.8531021670066221, \"\", \"\", -1.723367893540474, -0.44626741691860605, \"\", \"\", \"\", -1.1848076698457637, -1.2733370553562011, \"\", -1.0262772119439492, \"\", \"\", \"\", \"\", \"\"], \"yaxis\": \"y2\"}],                        {\"hovermode\": \"x\", \"legend\": {\"bgcolor\": \"#F5F6F9\", \"font\": {\"color\": \"#4D5663\"}}, \"paper_bgcolor\": \"#F5F6F9\", \"plot_bgcolor\": \"#F5F6F9\", \"template\": {\"data\": {\"bar\": [{\"error_x\": {\"color\": \"#2a3f5f\"}, \"error_y\": {\"color\": \"#2a3f5f\"}, \"marker\": {\"line\": {\"color\": \"#E5ECF6\", \"width\": 0.5}}, \"type\": \"bar\"}], \"barpolar\": [{\"marker\": {\"line\": {\"color\": \"#E5ECF6\", \"width\": 0.5}}, \"type\": \"barpolar\"}], \"carpet\": [{\"aaxis\": {\"endlinecolor\": \"#2a3f5f\", \"gridcolor\": \"white\", \"linecolor\": \"white\", \"minorgridcolor\": \"white\", \"startlinecolor\": \"#2a3f5f\"}, \"baxis\": {\"endlinecolor\": \"#2a3f5f\", \"gridcolor\": \"white\", \"linecolor\": \"white\", \"minorgridcolor\": \"white\", \"startlinecolor\": \"#2a3f5f\"}, \"type\": \"carpet\"}], \"choropleth\": [{\"colorbar\": {\"outlinewidth\": 0, \"ticks\": \"\"}, \"type\": \"choropleth\"}], \"contour\": [{\"colorbar\": {\"outlinewidth\": 0, \"ticks\": \"\"}, \"colorscale\": [[0.0, \"#0d0887\"], [0.1111111111111111, \"#46039f\"], [0.2222222222222222, \"#7201a8\"], [0.3333333333333333, \"#9c179e\"], [0.4444444444444444, \"#bd3786\"], [0.5555555555555556, \"#d8576b\"], [0.6666666666666666, \"#ed7953\"], [0.7777777777777778, \"#fb9f3a\"], [0.8888888888888888, \"#fdca26\"], [1.0, \"#f0f921\"]], \"type\": \"contour\"}], \"contourcarpet\": [{\"colorbar\": {\"outlinewidth\": 0, \"ticks\": \"\"}, \"type\": \"contourcarpet\"}], \"heatmap\": [{\"colorbar\": {\"outlinewidth\": 0, \"ticks\": \"\"}, \"colorscale\": [[0.0, \"#0d0887\"], [0.1111111111111111, \"#46039f\"], [0.2222222222222222, \"#7201a8\"], [0.3333333333333333, \"#9c179e\"], [0.4444444444444444, \"#bd3786\"], [0.5555555555555556, \"#d8576b\"], [0.6666666666666666, \"#ed7953\"], [0.7777777777777778, \"#fb9f3a\"], [0.8888888888888888, \"#fdca26\"], [1.0, \"#f0f921\"]], \"type\": \"heatmap\"}], \"heatmapgl\": [{\"colorbar\": {\"outlinewidth\": 0, \"ticks\": \"\"}, \"colorscale\": [[0.0, \"#0d0887\"], [0.1111111111111111, \"#46039f\"], [0.2222222222222222, \"#7201a8\"], [0.3333333333333333, \"#9c179e\"], [0.4444444444444444, \"#bd3786\"], [0.5555555555555556, \"#d8576b\"], [0.6666666666666666, \"#ed7953\"], [0.7777777777777778, \"#fb9f3a\"], [0.8888888888888888, \"#fdca26\"], [1.0, \"#f0f921\"]], \"type\": \"heatmapgl\"}], \"histogram\": [{\"marker\": {\"colorbar\": {\"outlinewidth\": 0, \"ticks\": \"\"}}, \"type\": \"histogram\"}], \"histogram2d\": [{\"colorbar\": {\"outlinewidth\": 0, \"ticks\": \"\"}, \"colorscale\": [[0.0, \"#0d0887\"], [0.1111111111111111, \"#46039f\"], [0.2222222222222222, \"#7201a8\"], [0.3333333333333333, \"#9c179e\"], [0.4444444444444444, \"#bd3786\"], [0.5555555555555556, \"#d8576b\"], [0.6666666666666666, \"#ed7953\"], [0.7777777777777778, \"#fb9f3a\"], [0.8888888888888888, \"#fdca26\"], [1.0, \"#f0f921\"]], \"type\": \"histogram2d\"}], \"histogram2dcontour\": [{\"colorbar\": {\"outlinewidth\": 0, \"ticks\": \"\"}, \"colorscale\": [[0.0, \"#0d0887\"], [0.1111111111111111, \"#46039f\"], [0.2222222222222222, \"#7201a8\"], [0.3333333333333333, \"#9c179e\"], [0.4444444444444444, \"#bd3786\"], [0.5555555555555556, \"#d8576b\"], [0.6666666666666666, \"#ed7953\"], [0.7777777777777778, \"#fb9f3a\"], [0.8888888888888888, \"#fdca26\"], [1.0, \"#f0f921\"]], \"type\": \"histogram2dcontour\"}], \"mesh3d\": [{\"colorbar\": {\"outlinewidth\": 0, \"ticks\": \"\"}, \"type\": \"mesh3d\"}], \"parcoords\": [{\"line\": {\"colorbar\": {\"outlinewidth\": 0, \"ticks\": \"\"}}, \"type\": \"parcoords\"}], \"pie\": [{\"automargin\": true, \"type\": \"pie\"}], \"scatter\": [{\"marker\": {\"colorbar\": {\"outlinewidth\": 0, \"ticks\": \"\"}}, \"type\": \"scatter\"}], \"scatter3d\": [{\"line\": {\"colorbar\": {\"outlinewidth\": 0, \"ticks\": \"\"}}, \"marker\": {\"colorbar\": {\"outlinewidth\": 0, \"ticks\": \"\"}}, \"type\": \"scatter3d\"}], \"scattercarpet\": [{\"marker\": {\"colorbar\": {\"outlinewidth\": 0, \"ticks\": \"\"}}, \"type\": \"scattercarpet\"}], \"scattergeo\": [{\"marker\": {\"colorbar\": {\"outlinewidth\": 0, \"ticks\": \"\"}}, \"type\": \"scattergeo\"}], \"scattergl\": [{\"marker\": {\"colorbar\": {\"outlinewidth\": 0, \"ticks\": \"\"}}, \"type\": \"scattergl\"}], \"scattermapbox\": [{\"marker\": {\"colorbar\": {\"outlinewidth\": 0, \"ticks\": \"\"}}, \"type\": \"scattermapbox\"}], \"scatterpolar\": [{\"marker\": {\"colorbar\": {\"outlinewidth\": 0, \"ticks\": \"\"}}, \"type\": \"scatterpolar\"}], \"scatterpolargl\": [{\"marker\": {\"colorbar\": {\"outlinewidth\": 0, \"ticks\": \"\"}}, \"type\": \"scatterpolargl\"}], \"scatterternary\": [{\"marker\": {\"colorbar\": {\"outlinewidth\": 0, \"ticks\": \"\"}}, \"type\": \"scatterternary\"}], \"surface\": [{\"colorbar\": {\"outlinewidth\": 0, \"ticks\": \"\"}, \"colorscale\": [[0.0, \"#0d0887\"], [0.1111111111111111, \"#46039f\"], [0.2222222222222222, \"#7201a8\"], [0.3333333333333333, \"#9c179e\"], [0.4444444444444444, \"#bd3786\"], [0.5555555555555556, \"#d8576b\"], [0.6666666666666666, \"#ed7953\"], [0.7777777777777778, \"#fb9f3a\"], [0.8888888888888888, \"#fdca26\"], [1.0, \"#f0f921\"]], \"type\": \"surface\"}], \"table\": [{\"cells\": {\"fill\": {\"color\": \"#EBF0F8\"}, \"line\": {\"color\": \"white\"}}, \"header\": {\"fill\": {\"color\": \"#C8D4E3\"}, \"line\": {\"color\": \"white\"}}, \"type\": \"table\"}]}, \"layout\": {\"annotationdefaults\": {\"arrowcolor\": \"#2a3f5f\", \"arrowhead\": 0, \"arrowwidth\": 1}, \"autotypenumbers\": \"strict\", \"coloraxis\": {\"colorbar\": {\"outlinewidth\": 0, \"ticks\": \"\"}}, \"colorscale\": {\"diverging\": [[0, \"#8e0152\"], [0.1, \"#c51b7d\"], [0.2, \"#de77ae\"], [0.3, \"#f1b6da\"], [0.4, \"#fde0ef\"], [0.5, \"#f7f7f7\"], [0.6, \"#e6f5d0\"], [0.7, \"#b8e186\"], [0.8, \"#7fbc41\"], [0.9, \"#4d9221\"], [1, \"#276419\"]], \"sequential\": [[0.0, \"#0d0887\"], [0.1111111111111111, \"#46039f\"], [0.2222222222222222, \"#7201a8\"], [0.3333333333333333, \"#9c179e\"], [0.4444444444444444, \"#bd3786\"], [0.5555555555555556, \"#d8576b\"], [0.6666666666666666, \"#ed7953\"], [0.7777777777777778, \"#fb9f3a\"], [0.8888888888888888, \"#fdca26\"], [1.0, \"#f0f921\"]], \"sequentialminus\": [[0.0, \"#0d0887\"], [0.1111111111111111, \"#46039f\"], [0.2222222222222222, \"#7201a8\"], [0.3333333333333333, \"#9c179e\"], [0.4444444444444444, \"#bd3786\"], [0.5555555555555556, \"#d8576b\"], [0.6666666666666666, \"#ed7953\"], [0.7777777777777778, \"#fb9f3a\"], [0.8888888888888888, \"#fdca26\"], [1.0, \"#f0f921\"]]}, \"colorway\": [\"#636efa\", \"#EF553B\", \"#00cc96\", \"#ab63fa\", \"#FFA15A\", \"#19d3f3\", \"#FF6692\", \"#B6E880\", \"#FF97FF\", \"#FECB52\"], \"font\": {\"color\": \"#2a3f5f\"}, \"geo\": {\"bgcolor\": \"white\", \"lakecolor\": \"white\", \"landcolor\": \"#E5ECF6\", \"showlakes\": true, \"showland\": true, \"subunitcolor\": \"white\"}, \"hoverlabel\": {\"align\": \"left\"}, \"hovermode\": \"closest\", \"mapbox\": {\"style\": \"light\"}, \"paper_bgcolor\": \"white\", \"plot_bgcolor\": \"#E5ECF6\", \"polar\": {\"angularaxis\": {\"gridcolor\": \"white\", \"linecolor\": \"white\", \"ticks\": \"\"}, \"bgcolor\": \"#E5ECF6\", \"radialaxis\": {\"gridcolor\": \"white\", \"linecolor\": \"white\", \"ticks\": \"\"}}, \"scene\": {\"xaxis\": {\"backgroundcolor\": \"#E5ECF6\", \"gridcolor\": \"white\", \"gridwidth\": 2, \"linecolor\": \"white\", \"showbackground\": true, \"ticks\": \"\", \"zerolinecolor\": \"white\"}, \"yaxis\": {\"backgroundcolor\": \"#E5ECF6\", \"gridcolor\": \"white\", \"gridwidth\": 2, \"linecolor\": \"white\", \"showbackground\": true, \"ticks\": \"\", \"zerolinecolor\": \"white\"}, \"zaxis\": {\"backgroundcolor\": \"#E5ECF6\", \"gridcolor\": \"white\", \"gridwidth\": 2, \"linecolor\": \"white\", \"showbackground\": true, \"ticks\": \"\", \"zerolinecolor\": \"white\"}}, \"shapedefaults\": {\"line\": {\"color\": \"#2a3f5f\"}}, \"ternary\": {\"aaxis\": {\"gridcolor\": \"white\", \"linecolor\": \"white\", \"ticks\": \"\"}, \"baxis\": {\"gridcolor\": \"white\", \"linecolor\": \"white\", \"ticks\": \"\"}, \"bgcolor\": \"#E5ECF6\", \"caxis\": {\"gridcolor\": \"white\", \"linecolor\": \"white\", \"ticks\": \"\"}}, \"title\": {\"x\": 0.05}, \"xaxis\": {\"automargin\": true, \"gridcolor\": \"white\", \"linecolor\": \"white\", \"ticks\": \"\", \"title\": {\"standoff\": 15}, \"zerolinecolor\": \"white\", \"zerolinewidth\": 2}, \"yaxis\": {\"automargin\": true, \"gridcolor\": \"white\", \"linecolor\": \"white\", \"ticks\": \"\", \"title\": {\"standoff\": 15}, \"zerolinecolor\": \"white\", \"zerolinewidth\": 2}}}, \"title\": {\"font\": {\"color\": \"#4D5663\"}}, \"xaxis\": {\"gridcolor\": \"#E1E5ED\", \"showgrid\": true, \"tickfont\": {\"color\": \"#4D5663\"}, \"title\": {\"font\": {\"color\": \"#4D5663\"}, \"text\": \"\"}, \"zerolinecolor\": \"#E1E5ED\"}, \"xaxis2\": {\"anchor\": \"y2\", \"gridcolor\": \"#E1E5ED\", \"showgrid\": true, \"showticklabels\": false, \"tickfont\": {\"color\": \"#4D5663\"}, \"title\": {\"font\": {\"color\": \"#4D5663\"}, \"text\": \"\"}, \"zerolinecolor\": \"#E1E5ED\"}, \"yaxis\": {\"domain\": [0.3, 1], \"gridcolor\": \"#E1E5ED\", \"showgrid\": true, \"tickfont\": {\"color\": \"#4D5663\"}, \"title\": {\"font\": {\"color\": \"#4D5663\"}, \"text\": \"\"}, \"zerolinecolor\": \"#E1E5ED\"}, \"yaxis2\": {\"domain\": [0, 0.25], \"gridcolor\": \"#E1E5ED\", \"showgrid\": true, \"tickfont\": {\"color\": \"#4D5663\"}, \"title\": {\"font\": {\"color\": \"#4D5663\"}, \"text\": \"Spread\"}, \"zerolinecolor\": \"#E1E5ED\"}},                        {\"showLink\": true, \"linkText\": \"Export to plot.ly\", \"plotlyServerURL\": \"https://plot.ly\", \"responsive\": true}                    ).then(function(){\n",
       "                            \n",
       "var gd = document.getElementById('0d35232c-1204-45ff-974b-626c21939c42');\n",
       "var x = new MutationObserver(function (mutations, observer) {{\n",
       "        var display = window.getComputedStyle(gd).display;\n",
       "        if (!display || display === 'none') {{\n",
       "            console.log([gd, 'removed!']);\n",
       "            Plotly.purge(gd);\n",
       "            observer.disconnect();\n",
       "        }}\n",
       "}});\n",
       "\n",
       "// Listen for the removal of the full notebook cells\n",
       "var notebookContainer = gd.closest('#notebook-container');\n",
       "if (notebookContainer) {{\n",
       "    x.observe(notebookContainer, {childList: true});\n",
       "}}\n",
       "\n",
       "// Listen for the clearing of the current output cell\n",
       "var outputEl = gd.closest('.output');\n",
       "if (outputEl) {{\n",
       "    x.observe(outputEl, {childList: true});\n",
       "}}\n",
       "\n",
       "                        })                };                });            </script>        </div>"
      ]
     },
     "metadata": {},
     "output_type": "display_data"
    }
   ],
   "source": [
    "df[['A', 'B']].iplot(kind='spread')"
   ]
  },
  {
   "cell_type": "markdown",
   "id": "inappropriate-surgery",
   "metadata": {},
   "source": [
    "## Histogram"
   ]
  },
  {
   "cell_type": "code",
   "execution_count": 23,
   "id": "moved-genre",
   "metadata": {},
   "outputs": [
    {
     "data": {
      "application/vnd.plotly.v1+json": {
       "config": {
        "linkText": "Export to plot.ly",
        "plotlyServerURL": "https://plot.ly",
        "showLink": true
       },
       "data": [
        {
         "histfunc": "count",
         "histnorm": "",
         "marker": {
          "color": "rgba(255, 153, 51, 1.0)",
          "line": {
           "color": "#4D5663",
           "width": 1.3
          }
         },
         "name": "A",
         "opacity": 0.8,
         "orientation": "v",
         "type": "histogram",
         "x": [
          0.2803514486783903,
          -1.3529818744563427,
          0.5349335415489098,
          -0.46485644825077904,
          0.23995054472161614,
          0.015400907103716222,
          -0.2916104698915431,
          -0.23667497168901144,
          -0.6960369293674991,
          0.05795719862127771,
          -2.707673763127651,
          0.7613704053442429,
          0.3038232136903593,
          0.47448335399814273,
          -0.164943487319802,
          -0.1746685114526522,
          0.2737289201669528,
          -1.595378768993628,
          -1.5108845426369344,
          0.24616265746478627,
          0.3065102838166673,
          0.5813583720340318,
          0.6865830735731809,
          -0.6258184147645117,
          -0.5546572199896735,
          -0.7466622678544448,
          -0.7270465111699874,
          -0.47816758216383126,
          -0.6669280389560786,
          0.76101743324588,
          -0.013679710392465254,
          1.2232943573945159,
          2.5559833518724893,
          -0.07060403482627899,
          0.13004671884714766,
          -0.45520923256722334,
          0.29918460014033516,
          -0.5924241017540582,
          -0.15759225564599727,
          -1.4004988620018581,
          -1.7732366422243238,
          0.19030716935011002,
          -1.8019881668928215,
          -0.557204660426035,
          -0.44856054866864037,
          -1.4060925644133255,
          -1.022320245094843,
          -0.8941673627250798,
          -2.245692439956184,
          0.2521689296172425,
          0.07855183616603281,
          -1.880184235826735,
          -0.3547545024536497,
          -0.15901492812930434,
          1.4885512061851904,
          1.154473168088508,
          0.3506429831171856,
          0.033939225063162694,
          -0.745605997038604,
          -0.08313589301236117,
          -0.40493746348498305,
          -0.41768247476306836,
          -0.4717648718246529,
          -1.1171886583955546,
          -2.129045780023768,
          -1.4832090385240868,
          -0.9441306566317546,
          1.322478523659654,
          0.42861599484286816,
          -0.009349041903356899,
          -1.116475110689967,
          -1.604227395364169,
          -2.6458410752338737,
          0.11056779914131323,
          -0.4965388245769563,
          0.17496256936776317,
          -0.2188956562305676,
          0.6945059949492234,
          -1.5537040988224653,
          -0.4187519315700034,
          -1.5423386677726243,
          0.06656236481758367,
          0.6071611139142862,
          -0.2086185228188934,
          -0.6639641879325863,
          1.0091151944427543,
          -0.45485719742929204,
          0.7407282713470051,
          0.7926935792564782,
          0.8401881183890121,
          0.9707636921175228,
          -0.8331596615803011,
          -0.6412226880173394,
          0.5776137452811525,
          -0.709783389228246,
          0.06455705181996911,
          1.5612392254536525,
          0.6579971954098929,
          -0.1399662625786303,
          1.1855510000724214
         ]
        }
       ],
       "layout": {
        "barmode": "overlay",
        "legend": {
         "bgcolor": "#F5F6F9",
         "font": {
          "color": "#4D5663"
         }
        },
        "paper_bgcolor": "#F5F6F9",
        "plot_bgcolor": "#F5F6F9",
        "template": {
         "data": {
          "bar": [
           {
            "error_x": {
             "color": "#2a3f5f"
            },
            "error_y": {
             "color": "#2a3f5f"
            },
            "marker": {
             "line": {
              "color": "#E5ECF6",
              "width": 0.5
             }
            },
            "type": "bar"
           }
          ],
          "barpolar": [
           {
            "marker": {
             "line": {
              "color": "#E5ECF6",
              "width": 0.5
             }
            },
            "type": "barpolar"
           }
          ],
          "carpet": [
           {
            "aaxis": {
             "endlinecolor": "#2a3f5f",
             "gridcolor": "white",
             "linecolor": "white",
             "minorgridcolor": "white",
             "startlinecolor": "#2a3f5f"
            },
            "baxis": {
             "endlinecolor": "#2a3f5f",
             "gridcolor": "white",
             "linecolor": "white",
             "minorgridcolor": "white",
             "startlinecolor": "#2a3f5f"
            },
            "type": "carpet"
           }
          ],
          "choropleth": [
           {
            "colorbar": {
             "outlinewidth": 0,
             "ticks": ""
            },
            "type": "choropleth"
           }
          ],
          "contour": [
           {
            "colorbar": {
             "outlinewidth": 0,
             "ticks": ""
            },
            "colorscale": [
             [
              0,
              "#0d0887"
             ],
             [
              0.1111111111111111,
              "#46039f"
             ],
             [
              0.2222222222222222,
              "#7201a8"
             ],
             [
              0.3333333333333333,
              "#9c179e"
             ],
             [
              0.4444444444444444,
              "#bd3786"
             ],
             [
              0.5555555555555556,
              "#d8576b"
             ],
             [
              0.6666666666666666,
              "#ed7953"
             ],
             [
              0.7777777777777778,
              "#fb9f3a"
             ],
             [
              0.8888888888888888,
              "#fdca26"
             ],
             [
              1,
              "#f0f921"
             ]
            ],
            "type": "contour"
           }
          ],
          "contourcarpet": [
           {
            "colorbar": {
             "outlinewidth": 0,
             "ticks": ""
            },
            "type": "contourcarpet"
           }
          ],
          "heatmap": [
           {
            "colorbar": {
             "outlinewidth": 0,
             "ticks": ""
            },
            "colorscale": [
             [
              0,
              "#0d0887"
             ],
             [
              0.1111111111111111,
              "#46039f"
             ],
             [
              0.2222222222222222,
              "#7201a8"
             ],
             [
              0.3333333333333333,
              "#9c179e"
             ],
             [
              0.4444444444444444,
              "#bd3786"
             ],
             [
              0.5555555555555556,
              "#d8576b"
             ],
             [
              0.6666666666666666,
              "#ed7953"
             ],
             [
              0.7777777777777778,
              "#fb9f3a"
             ],
             [
              0.8888888888888888,
              "#fdca26"
             ],
             [
              1,
              "#f0f921"
             ]
            ],
            "type": "heatmap"
           }
          ],
          "heatmapgl": [
           {
            "colorbar": {
             "outlinewidth": 0,
             "ticks": ""
            },
            "colorscale": [
             [
              0,
              "#0d0887"
             ],
             [
              0.1111111111111111,
              "#46039f"
             ],
             [
              0.2222222222222222,
              "#7201a8"
             ],
             [
              0.3333333333333333,
              "#9c179e"
             ],
             [
              0.4444444444444444,
              "#bd3786"
             ],
             [
              0.5555555555555556,
              "#d8576b"
             ],
             [
              0.6666666666666666,
              "#ed7953"
             ],
             [
              0.7777777777777778,
              "#fb9f3a"
             ],
             [
              0.8888888888888888,
              "#fdca26"
             ],
             [
              1,
              "#f0f921"
             ]
            ],
            "type": "heatmapgl"
           }
          ],
          "histogram": [
           {
            "marker": {
             "colorbar": {
              "outlinewidth": 0,
              "ticks": ""
             }
            },
            "type": "histogram"
           }
          ],
          "histogram2d": [
           {
            "colorbar": {
             "outlinewidth": 0,
             "ticks": ""
            },
            "colorscale": [
             [
              0,
              "#0d0887"
             ],
             [
              0.1111111111111111,
              "#46039f"
             ],
             [
              0.2222222222222222,
              "#7201a8"
             ],
             [
              0.3333333333333333,
              "#9c179e"
             ],
             [
              0.4444444444444444,
              "#bd3786"
             ],
             [
              0.5555555555555556,
              "#d8576b"
             ],
             [
              0.6666666666666666,
              "#ed7953"
             ],
             [
              0.7777777777777778,
              "#fb9f3a"
             ],
             [
              0.8888888888888888,
              "#fdca26"
             ],
             [
              1,
              "#f0f921"
             ]
            ],
            "type": "histogram2d"
           }
          ],
          "histogram2dcontour": [
           {
            "colorbar": {
             "outlinewidth": 0,
             "ticks": ""
            },
            "colorscale": [
             [
              0,
              "#0d0887"
             ],
             [
              0.1111111111111111,
              "#46039f"
             ],
             [
              0.2222222222222222,
              "#7201a8"
             ],
             [
              0.3333333333333333,
              "#9c179e"
             ],
             [
              0.4444444444444444,
              "#bd3786"
             ],
             [
              0.5555555555555556,
              "#d8576b"
             ],
             [
              0.6666666666666666,
              "#ed7953"
             ],
             [
              0.7777777777777778,
              "#fb9f3a"
             ],
             [
              0.8888888888888888,
              "#fdca26"
             ],
             [
              1,
              "#f0f921"
             ]
            ],
            "type": "histogram2dcontour"
           }
          ],
          "mesh3d": [
           {
            "colorbar": {
             "outlinewidth": 0,
             "ticks": ""
            },
            "type": "mesh3d"
           }
          ],
          "parcoords": [
           {
            "line": {
             "colorbar": {
              "outlinewidth": 0,
              "ticks": ""
             }
            },
            "type": "parcoords"
           }
          ],
          "pie": [
           {
            "automargin": true,
            "type": "pie"
           }
          ],
          "scatter": [
           {
            "marker": {
             "colorbar": {
              "outlinewidth": 0,
              "ticks": ""
             }
            },
            "type": "scatter"
           }
          ],
          "scatter3d": [
           {
            "line": {
             "colorbar": {
              "outlinewidth": 0,
              "ticks": ""
             }
            },
            "marker": {
             "colorbar": {
              "outlinewidth": 0,
              "ticks": ""
             }
            },
            "type": "scatter3d"
           }
          ],
          "scattercarpet": [
           {
            "marker": {
             "colorbar": {
              "outlinewidth": 0,
              "ticks": ""
             }
            },
            "type": "scattercarpet"
           }
          ],
          "scattergeo": [
           {
            "marker": {
             "colorbar": {
              "outlinewidth": 0,
              "ticks": ""
             }
            },
            "type": "scattergeo"
           }
          ],
          "scattergl": [
           {
            "marker": {
             "colorbar": {
              "outlinewidth": 0,
              "ticks": ""
             }
            },
            "type": "scattergl"
           }
          ],
          "scattermapbox": [
           {
            "marker": {
             "colorbar": {
              "outlinewidth": 0,
              "ticks": ""
             }
            },
            "type": "scattermapbox"
           }
          ],
          "scatterpolar": [
           {
            "marker": {
             "colorbar": {
              "outlinewidth": 0,
              "ticks": ""
             }
            },
            "type": "scatterpolar"
           }
          ],
          "scatterpolargl": [
           {
            "marker": {
             "colorbar": {
              "outlinewidth": 0,
              "ticks": ""
             }
            },
            "type": "scatterpolargl"
           }
          ],
          "scatterternary": [
           {
            "marker": {
             "colorbar": {
              "outlinewidth": 0,
              "ticks": ""
             }
            },
            "type": "scatterternary"
           }
          ],
          "surface": [
           {
            "colorbar": {
             "outlinewidth": 0,
             "ticks": ""
            },
            "colorscale": [
             [
              0,
              "#0d0887"
             ],
             [
              0.1111111111111111,
              "#46039f"
             ],
             [
              0.2222222222222222,
              "#7201a8"
             ],
             [
              0.3333333333333333,
              "#9c179e"
             ],
             [
              0.4444444444444444,
              "#bd3786"
             ],
             [
              0.5555555555555556,
              "#d8576b"
             ],
             [
              0.6666666666666666,
              "#ed7953"
             ],
             [
              0.7777777777777778,
              "#fb9f3a"
             ],
             [
              0.8888888888888888,
              "#fdca26"
             ],
             [
              1,
              "#f0f921"
             ]
            ],
            "type": "surface"
           }
          ],
          "table": [
           {
            "cells": {
             "fill": {
              "color": "#EBF0F8"
             },
             "line": {
              "color": "white"
             }
            },
            "header": {
             "fill": {
              "color": "#C8D4E3"
             },
             "line": {
              "color": "white"
             }
            },
            "type": "table"
           }
          ]
         },
         "layout": {
          "annotationdefaults": {
           "arrowcolor": "#2a3f5f",
           "arrowhead": 0,
           "arrowwidth": 1
          },
          "autotypenumbers": "strict",
          "coloraxis": {
           "colorbar": {
            "outlinewidth": 0,
            "ticks": ""
           }
          },
          "colorscale": {
           "diverging": [
            [
             0,
             "#8e0152"
            ],
            [
             0.1,
             "#c51b7d"
            ],
            [
             0.2,
             "#de77ae"
            ],
            [
             0.3,
             "#f1b6da"
            ],
            [
             0.4,
             "#fde0ef"
            ],
            [
             0.5,
             "#f7f7f7"
            ],
            [
             0.6,
             "#e6f5d0"
            ],
            [
             0.7,
             "#b8e186"
            ],
            [
             0.8,
             "#7fbc41"
            ],
            [
             0.9,
             "#4d9221"
            ],
            [
             1,
             "#276419"
            ]
           ],
           "sequential": [
            [
             0,
             "#0d0887"
            ],
            [
             0.1111111111111111,
             "#46039f"
            ],
            [
             0.2222222222222222,
             "#7201a8"
            ],
            [
             0.3333333333333333,
             "#9c179e"
            ],
            [
             0.4444444444444444,
             "#bd3786"
            ],
            [
             0.5555555555555556,
             "#d8576b"
            ],
            [
             0.6666666666666666,
             "#ed7953"
            ],
            [
             0.7777777777777778,
             "#fb9f3a"
            ],
            [
             0.8888888888888888,
             "#fdca26"
            ],
            [
             1,
             "#f0f921"
            ]
           ],
           "sequentialminus": [
            [
             0,
             "#0d0887"
            ],
            [
             0.1111111111111111,
             "#46039f"
            ],
            [
             0.2222222222222222,
             "#7201a8"
            ],
            [
             0.3333333333333333,
             "#9c179e"
            ],
            [
             0.4444444444444444,
             "#bd3786"
            ],
            [
             0.5555555555555556,
             "#d8576b"
            ],
            [
             0.6666666666666666,
             "#ed7953"
            ],
            [
             0.7777777777777778,
             "#fb9f3a"
            ],
            [
             0.8888888888888888,
             "#fdca26"
            ],
            [
             1,
             "#f0f921"
            ]
           ]
          },
          "colorway": [
           "#636efa",
           "#EF553B",
           "#00cc96",
           "#ab63fa",
           "#FFA15A",
           "#19d3f3",
           "#FF6692",
           "#B6E880",
           "#FF97FF",
           "#FECB52"
          ],
          "font": {
           "color": "#2a3f5f"
          },
          "geo": {
           "bgcolor": "white",
           "lakecolor": "white",
           "landcolor": "#E5ECF6",
           "showlakes": true,
           "showland": true,
           "subunitcolor": "white"
          },
          "hoverlabel": {
           "align": "left"
          },
          "hovermode": "closest",
          "mapbox": {
           "style": "light"
          },
          "paper_bgcolor": "white",
          "plot_bgcolor": "#E5ECF6",
          "polar": {
           "angularaxis": {
            "gridcolor": "white",
            "linecolor": "white",
            "ticks": ""
           },
           "bgcolor": "#E5ECF6",
           "radialaxis": {
            "gridcolor": "white",
            "linecolor": "white",
            "ticks": ""
           }
          },
          "scene": {
           "xaxis": {
            "backgroundcolor": "#E5ECF6",
            "gridcolor": "white",
            "gridwidth": 2,
            "linecolor": "white",
            "showbackground": true,
            "ticks": "",
            "zerolinecolor": "white"
           },
           "yaxis": {
            "backgroundcolor": "#E5ECF6",
            "gridcolor": "white",
            "gridwidth": 2,
            "linecolor": "white",
            "showbackground": true,
            "ticks": "",
            "zerolinecolor": "white"
           },
           "zaxis": {
            "backgroundcolor": "#E5ECF6",
            "gridcolor": "white",
            "gridwidth": 2,
            "linecolor": "white",
            "showbackground": true,
            "ticks": "",
            "zerolinecolor": "white"
           }
          },
          "shapedefaults": {
           "line": {
            "color": "#2a3f5f"
           }
          },
          "ternary": {
           "aaxis": {
            "gridcolor": "white",
            "linecolor": "white",
            "ticks": ""
           },
           "baxis": {
            "gridcolor": "white",
            "linecolor": "white",
            "ticks": ""
           },
           "bgcolor": "#E5ECF6",
           "caxis": {
            "gridcolor": "white",
            "linecolor": "white",
            "ticks": ""
           }
          },
          "title": {
           "x": 0.05
          },
          "xaxis": {
           "automargin": true,
           "gridcolor": "white",
           "linecolor": "white",
           "ticks": "",
           "title": {
            "standoff": 15
           },
           "zerolinecolor": "white",
           "zerolinewidth": 2
          },
          "yaxis": {
           "automargin": true,
           "gridcolor": "white",
           "linecolor": "white",
           "ticks": "",
           "title": {
            "standoff": 15
           },
           "zerolinecolor": "white",
           "zerolinewidth": 2
          }
         }
        },
        "title": {
         "font": {
          "color": "#4D5663"
         }
        },
        "xaxis": {
         "gridcolor": "#E1E5ED",
         "showgrid": true,
         "tickfont": {
          "color": "#4D5663"
         },
         "title": {
          "font": {
           "color": "#4D5663"
          },
          "text": ""
         },
         "zerolinecolor": "#E1E5ED"
        },
        "yaxis": {
         "gridcolor": "#E1E5ED",
         "showgrid": true,
         "tickfont": {
          "color": "#4D5663"
         },
         "title": {
          "font": {
           "color": "#4D5663"
          },
          "text": ""
         },
         "zerolinecolor": "#E1E5ED"
        }
       }
      },
      "text/html": [
       "<div>                            <div id=\"44642694-3617-4a5e-bf91-cd9209206ac8\" class=\"plotly-graph-div\" style=\"height:525px; width:100%;\"></div>            <script type=\"text/javascript\">                require([\"plotly\"], function(Plotly) {                    window.PLOTLYENV=window.PLOTLYENV || {};\n",
       "                    window.PLOTLYENV.BASE_URL='https://plot.ly';                                    if (document.getElementById(\"44642694-3617-4a5e-bf91-cd9209206ac8\")) {                    Plotly.newPlot(                        \"44642694-3617-4a5e-bf91-cd9209206ac8\",                        [{\"histfunc\": \"count\", \"histnorm\": \"\", \"marker\": {\"color\": \"rgba(255, 153, 51, 1.0)\", \"line\": {\"color\": \"#4D5663\", \"width\": 1.3}}, \"name\": \"A\", \"opacity\": 0.8, \"orientation\": \"v\", \"type\": \"histogram\", \"x\": [0.2803514486783903, -1.3529818744563427, 0.5349335415489098, -0.46485644825077904, 0.23995054472161614, 0.015400907103716222, -0.2916104698915431, -0.23667497168901144, -0.6960369293674991, 0.05795719862127771, -2.707673763127651, 0.7613704053442429, 0.3038232136903593, 0.47448335399814273, -0.164943487319802, -0.1746685114526522, 0.2737289201669528, -1.595378768993628, -1.5108845426369344, 0.24616265746478627, 0.3065102838166673, 0.5813583720340318, 0.6865830735731809, -0.6258184147645117, -0.5546572199896735, -0.7466622678544448, -0.7270465111699874, -0.47816758216383126, -0.6669280389560786, 0.76101743324588, -0.013679710392465254, 1.2232943573945159, 2.5559833518724893, -0.07060403482627899, 0.13004671884714766, -0.45520923256722334, 0.29918460014033516, -0.5924241017540582, -0.15759225564599727, -1.4004988620018581, -1.7732366422243238, 0.19030716935011002, -1.8019881668928215, -0.557204660426035, -0.44856054866864037, -1.4060925644133255, -1.022320245094843, -0.8941673627250798, -2.245692439956184, 0.2521689296172425, 0.07855183616603281, -1.880184235826735, -0.3547545024536497, -0.15901492812930434, 1.4885512061851904, 1.154473168088508, 0.3506429831171856, 0.033939225063162694, -0.745605997038604, -0.08313589301236117, -0.40493746348498305, -0.41768247476306836, -0.4717648718246529, -1.1171886583955546, -2.129045780023768, -1.4832090385240868, -0.9441306566317546, 1.322478523659654, 0.42861599484286816, -0.009349041903356899, -1.116475110689967, -1.604227395364169, -2.6458410752338737, 0.11056779914131323, -0.4965388245769563, 0.17496256936776317, -0.2188956562305676, 0.6945059949492234, -1.5537040988224653, -0.4187519315700034, -1.5423386677726243, 0.06656236481758367, 0.6071611139142862, -0.2086185228188934, -0.6639641879325863, 1.0091151944427543, -0.45485719742929204, 0.7407282713470051, 0.7926935792564782, 0.8401881183890121, 0.9707636921175228, -0.8331596615803011, -0.6412226880173394, 0.5776137452811525, -0.709783389228246, 0.06455705181996911, 1.5612392254536525, 0.6579971954098929, -0.1399662625786303, 1.1855510000724214]}],                        {\"barmode\": \"overlay\", \"legend\": {\"bgcolor\": \"#F5F6F9\", \"font\": {\"color\": \"#4D5663\"}}, \"paper_bgcolor\": \"#F5F6F9\", \"plot_bgcolor\": \"#F5F6F9\", \"template\": {\"data\": {\"bar\": [{\"error_x\": {\"color\": \"#2a3f5f\"}, \"error_y\": {\"color\": \"#2a3f5f\"}, \"marker\": {\"line\": {\"color\": \"#E5ECF6\", \"width\": 0.5}}, \"type\": \"bar\"}], \"barpolar\": [{\"marker\": {\"line\": {\"color\": \"#E5ECF6\", \"width\": 0.5}}, \"type\": \"barpolar\"}], \"carpet\": [{\"aaxis\": {\"endlinecolor\": \"#2a3f5f\", \"gridcolor\": \"white\", \"linecolor\": \"white\", \"minorgridcolor\": \"white\", \"startlinecolor\": \"#2a3f5f\"}, \"baxis\": {\"endlinecolor\": \"#2a3f5f\", \"gridcolor\": \"white\", \"linecolor\": \"white\", \"minorgridcolor\": \"white\", \"startlinecolor\": \"#2a3f5f\"}, \"type\": \"carpet\"}], \"choropleth\": [{\"colorbar\": {\"outlinewidth\": 0, \"ticks\": \"\"}, \"type\": \"choropleth\"}], \"contour\": [{\"colorbar\": {\"outlinewidth\": 0, \"ticks\": \"\"}, \"colorscale\": [[0.0, \"#0d0887\"], [0.1111111111111111, \"#46039f\"], [0.2222222222222222, \"#7201a8\"], [0.3333333333333333, \"#9c179e\"], [0.4444444444444444, \"#bd3786\"], [0.5555555555555556, \"#d8576b\"], [0.6666666666666666, \"#ed7953\"], [0.7777777777777778, \"#fb9f3a\"], [0.8888888888888888, \"#fdca26\"], [1.0, \"#f0f921\"]], \"type\": \"contour\"}], \"contourcarpet\": [{\"colorbar\": {\"outlinewidth\": 0, \"ticks\": \"\"}, \"type\": \"contourcarpet\"}], \"heatmap\": [{\"colorbar\": {\"outlinewidth\": 0, \"ticks\": \"\"}, \"colorscale\": [[0.0, \"#0d0887\"], [0.1111111111111111, \"#46039f\"], [0.2222222222222222, \"#7201a8\"], [0.3333333333333333, \"#9c179e\"], [0.4444444444444444, \"#bd3786\"], [0.5555555555555556, \"#d8576b\"], [0.6666666666666666, \"#ed7953\"], [0.7777777777777778, \"#fb9f3a\"], [0.8888888888888888, \"#fdca26\"], [1.0, \"#f0f921\"]], \"type\": \"heatmap\"}], \"heatmapgl\": [{\"colorbar\": {\"outlinewidth\": 0, \"ticks\": \"\"}, \"colorscale\": [[0.0, \"#0d0887\"], [0.1111111111111111, \"#46039f\"], [0.2222222222222222, \"#7201a8\"], [0.3333333333333333, \"#9c179e\"], [0.4444444444444444, \"#bd3786\"], [0.5555555555555556, \"#d8576b\"], [0.6666666666666666, \"#ed7953\"], [0.7777777777777778, \"#fb9f3a\"], [0.8888888888888888, \"#fdca26\"], [1.0, \"#f0f921\"]], \"type\": \"heatmapgl\"}], \"histogram\": [{\"marker\": {\"colorbar\": {\"outlinewidth\": 0, \"ticks\": \"\"}}, \"type\": \"histogram\"}], \"histogram2d\": [{\"colorbar\": {\"outlinewidth\": 0, \"ticks\": \"\"}, \"colorscale\": [[0.0, \"#0d0887\"], [0.1111111111111111, \"#46039f\"], [0.2222222222222222, \"#7201a8\"], [0.3333333333333333, \"#9c179e\"], [0.4444444444444444, \"#bd3786\"], [0.5555555555555556, \"#d8576b\"], [0.6666666666666666, \"#ed7953\"], [0.7777777777777778, \"#fb9f3a\"], [0.8888888888888888, \"#fdca26\"], [1.0, \"#f0f921\"]], \"type\": \"histogram2d\"}], \"histogram2dcontour\": [{\"colorbar\": {\"outlinewidth\": 0, \"ticks\": \"\"}, \"colorscale\": [[0.0, \"#0d0887\"], [0.1111111111111111, \"#46039f\"], [0.2222222222222222, \"#7201a8\"], [0.3333333333333333, \"#9c179e\"], [0.4444444444444444, \"#bd3786\"], [0.5555555555555556, \"#d8576b\"], [0.6666666666666666, \"#ed7953\"], [0.7777777777777778, \"#fb9f3a\"], [0.8888888888888888, \"#fdca26\"], [1.0, \"#f0f921\"]], \"type\": \"histogram2dcontour\"}], \"mesh3d\": [{\"colorbar\": {\"outlinewidth\": 0, \"ticks\": \"\"}, \"type\": \"mesh3d\"}], \"parcoords\": [{\"line\": {\"colorbar\": {\"outlinewidth\": 0, \"ticks\": \"\"}}, \"type\": \"parcoords\"}], \"pie\": [{\"automargin\": true, \"type\": \"pie\"}], \"scatter\": [{\"marker\": {\"colorbar\": {\"outlinewidth\": 0, \"ticks\": \"\"}}, \"type\": \"scatter\"}], \"scatter3d\": [{\"line\": {\"colorbar\": {\"outlinewidth\": 0, \"ticks\": \"\"}}, \"marker\": {\"colorbar\": {\"outlinewidth\": 0, \"ticks\": \"\"}}, \"type\": \"scatter3d\"}], \"scattercarpet\": [{\"marker\": {\"colorbar\": {\"outlinewidth\": 0, \"ticks\": \"\"}}, \"type\": \"scattercarpet\"}], \"scattergeo\": [{\"marker\": {\"colorbar\": {\"outlinewidth\": 0, \"ticks\": \"\"}}, \"type\": \"scattergeo\"}], \"scattergl\": [{\"marker\": {\"colorbar\": {\"outlinewidth\": 0, \"ticks\": \"\"}}, \"type\": \"scattergl\"}], \"scattermapbox\": [{\"marker\": {\"colorbar\": {\"outlinewidth\": 0, \"ticks\": \"\"}}, \"type\": \"scattermapbox\"}], \"scatterpolar\": [{\"marker\": {\"colorbar\": {\"outlinewidth\": 0, \"ticks\": \"\"}}, \"type\": \"scatterpolar\"}], \"scatterpolargl\": [{\"marker\": {\"colorbar\": {\"outlinewidth\": 0, \"ticks\": \"\"}}, \"type\": \"scatterpolargl\"}], \"scatterternary\": [{\"marker\": {\"colorbar\": {\"outlinewidth\": 0, \"ticks\": \"\"}}, \"type\": \"scatterternary\"}], \"surface\": [{\"colorbar\": {\"outlinewidth\": 0, \"ticks\": \"\"}, \"colorscale\": [[0.0, \"#0d0887\"], [0.1111111111111111, \"#46039f\"], [0.2222222222222222, \"#7201a8\"], [0.3333333333333333, \"#9c179e\"], [0.4444444444444444, \"#bd3786\"], [0.5555555555555556, \"#d8576b\"], [0.6666666666666666, \"#ed7953\"], [0.7777777777777778, \"#fb9f3a\"], [0.8888888888888888, \"#fdca26\"], [1.0, \"#f0f921\"]], \"type\": \"surface\"}], \"table\": [{\"cells\": {\"fill\": {\"color\": \"#EBF0F8\"}, \"line\": {\"color\": \"white\"}}, \"header\": {\"fill\": {\"color\": \"#C8D4E3\"}, \"line\": {\"color\": \"white\"}}, \"type\": \"table\"}]}, \"layout\": {\"annotationdefaults\": {\"arrowcolor\": \"#2a3f5f\", \"arrowhead\": 0, \"arrowwidth\": 1}, \"autotypenumbers\": \"strict\", \"coloraxis\": {\"colorbar\": {\"outlinewidth\": 0, \"ticks\": \"\"}}, \"colorscale\": {\"diverging\": [[0, \"#8e0152\"], [0.1, \"#c51b7d\"], [0.2, \"#de77ae\"], [0.3, \"#f1b6da\"], [0.4, \"#fde0ef\"], [0.5, \"#f7f7f7\"], [0.6, \"#e6f5d0\"], [0.7, \"#b8e186\"], [0.8, \"#7fbc41\"], [0.9, \"#4d9221\"], [1, \"#276419\"]], \"sequential\": [[0.0, \"#0d0887\"], [0.1111111111111111, \"#46039f\"], [0.2222222222222222, \"#7201a8\"], [0.3333333333333333, \"#9c179e\"], [0.4444444444444444, \"#bd3786\"], [0.5555555555555556, \"#d8576b\"], [0.6666666666666666, \"#ed7953\"], [0.7777777777777778, \"#fb9f3a\"], [0.8888888888888888, \"#fdca26\"], [1.0, \"#f0f921\"]], \"sequentialminus\": [[0.0, \"#0d0887\"], [0.1111111111111111, \"#46039f\"], [0.2222222222222222, \"#7201a8\"], [0.3333333333333333, \"#9c179e\"], [0.4444444444444444, \"#bd3786\"], [0.5555555555555556, \"#d8576b\"], [0.6666666666666666, \"#ed7953\"], [0.7777777777777778, \"#fb9f3a\"], [0.8888888888888888, \"#fdca26\"], [1.0, \"#f0f921\"]]}, \"colorway\": [\"#636efa\", \"#EF553B\", \"#00cc96\", \"#ab63fa\", \"#FFA15A\", \"#19d3f3\", \"#FF6692\", \"#B6E880\", \"#FF97FF\", \"#FECB52\"], \"font\": {\"color\": \"#2a3f5f\"}, \"geo\": {\"bgcolor\": \"white\", \"lakecolor\": \"white\", \"landcolor\": \"#E5ECF6\", \"showlakes\": true, \"showland\": true, \"subunitcolor\": \"white\"}, \"hoverlabel\": {\"align\": \"left\"}, \"hovermode\": \"closest\", \"mapbox\": {\"style\": \"light\"}, \"paper_bgcolor\": \"white\", \"plot_bgcolor\": \"#E5ECF6\", \"polar\": {\"angularaxis\": {\"gridcolor\": \"white\", \"linecolor\": \"white\", \"ticks\": \"\"}, \"bgcolor\": \"#E5ECF6\", \"radialaxis\": {\"gridcolor\": \"white\", \"linecolor\": \"white\", \"ticks\": \"\"}}, \"scene\": {\"xaxis\": {\"backgroundcolor\": \"#E5ECF6\", \"gridcolor\": \"white\", \"gridwidth\": 2, \"linecolor\": \"white\", \"showbackground\": true, \"ticks\": \"\", \"zerolinecolor\": \"white\"}, \"yaxis\": {\"backgroundcolor\": \"#E5ECF6\", \"gridcolor\": \"white\", \"gridwidth\": 2, \"linecolor\": \"white\", \"showbackground\": true, \"ticks\": \"\", \"zerolinecolor\": \"white\"}, \"zaxis\": {\"backgroundcolor\": \"#E5ECF6\", \"gridcolor\": \"white\", \"gridwidth\": 2, \"linecolor\": \"white\", \"showbackground\": true, \"ticks\": \"\", \"zerolinecolor\": \"white\"}}, \"shapedefaults\": {\"line\": {\"color\": \"#2a3f5f\"}}, \"ternary\": {\"aaxis\": {\"gridcolor\": \"white\", \"linecolor\": \"white\", \"ticks\": \"\"}, \"baxis\": {\"gridcolor\": \"white\", \"linecolor\": \"white\", \"ticks\": \"\"}, \"bgcolor\": \"#E5ECF6\", \"caxis\": {\"gridcolor\": \"white\", \"linecolor\": \"white\", \"ticks\": \"\"}}, \"title\": {\"x\": 0.05}, \"xaxis\": {\"automargin\": true, \"gridcolor\": \"white\", \"linecolor\": \"white\", \"ticks\": \"\", \"title\": {\"standoff\": 15}, \"zerolinecolor\": \"white\", \"zerolinewidth\": 2}, \"yaxis\": {\"automargin\": true, \"gridcolor\": \"white\", \"linecolor\": \"white\", \"ticks\": \"\", \"title\": {\"standoff\": 15}, \"zerolinecolor\": \"white\", \"zerolinewidth\": 2}}}, \"title\": {\"font\": {\"color\": \"#4D5663\"}}, \"xaxis\": {\"gridcolor\": \"#E1E5ED\", \"showgrid\": true, \"tickfont\": {\"color\": \"#4D5663\"}, \"title\": {\"font\": {\"color\": \"#4D5663\"}, \"text\": \"\"}, \"zerolinecolor\": \"#E1E5ED\"}, \"yaxis\": {\"gridcolor\": \"#E1E5ED\", \"showgrid\": true, \"tickfont\": {\"color\": \"#4D5663\"}, \"title\": {\"font\": {\"color\": \"#4D5663\"}, \"text\": \"\"}, \"zerolinecolor\": \"#E1E5ED\"}},                        {\"showLink\": true, \"linkText\": \"Export to plot.ly\", \"plotlyServerURL\": \"https://plot.ly\", \"responsive\": true}                    ).then(function(){\n",
       "                            \n",
       "var gd = document.getElementById('44642694-3617-4a5e-bf91-cd9209206ac8');\n",
       "var x = new MutationObserver(function (mutations, observer) {{\n",
       "        var display = window.getComputedStyle(gd).display;\n",
       "        if (!display || display === 'none') {{\n",
       "            console.log([gd, 'removed!']);\n",
       "            Plotly.purge(gd);\n",
       "            observer.disconnect();\n",
       "        }}\n",
       "}});\n",
       "\n",
       "// Listen for the removal of the full notebook cells\n",
       "var notebookContainer = gd.closest('#notebook-container');\n",
       "if (notebookContainer) {{\n",
       "    x.observe(notebookContainer, {childList: true});\n",
       "}}\n",
       "\n",
       "// Listen for the clearing of the current output cell\n",
       "var outputEl = gd.closest('.output');\n",
       "if (outputEl) {{\n",
       "    x.observe(outputEl, {childList: true});\n",
       "}}\n",
       "\n",
       "                        })                };                });            </script>        </div>"
      ]
     },
     "metadata": {},
     "output_type": "display_data"
    }
   ],
   "source": [
    "df['A'].iplot(kind='hist')"
   ]
  },
  {
   "cell_type": "code",
   "execution_count": 24,
   "id": "representative-helen",
   "metadata": {},
   "outputs": [
    {
     "data": {
      "application/vnd.plotly.v1+json": {
       "config": {
        "linkText": "Export to plot.ly",
        "plotlyServerURL": "https://plot.ly",
        "showLink": true
       },
       "data": [
        {
         "histfunc": "count",
         "histnorm": "",
         "marker": {
          "color": "rgba(255, 153, 51, 1.0)",
          "line": {
           "color": "#4D5663",
           "width": 1.3
          }
         },
         "name": "A",
         "nbinsx": 50,
         "opacity": 0.8,
         "orientation": "v",
         "type": "histogram",
         "x": [
          0.2803514486783903,
          -1.3529818744563427,
          0.5349335415489098,
          -0.46485644825077904,
          0.23995054472161614,
          0.015400907103716222,
          -0.2916104698915431,
          -0.23667497168901144,
          -0.6960369293674991,
          0.05795719862127771,
          -2.707673763127651,
          0.7613704053442429,
          0.3038232136903593,
          0.47448335399814273,
          -0.164943487319802,
          -0.1746685114526522,
          0.2737289201669528,
          -1.595378768993628,
          -1.5108845426369344,
          0.24616265746478627,
          0.3065102838166673,
          0.5813583720340318,
          0.6865830735731809,
          -0.6258184147645117,
          -0.5546572199896735,
          -0.7466622678544448,
          -0.7270465111699874,
          -0.47816758216383126,
          -0.6669280389560786,
          0.76101743324588,
          -0.013679710392465254,
          1.2232943573945159,
          2.5559833518724893,
          -0.07060403482627899,
          0.13004671884714766,
          -0.45520923256722334,
          0.29918460014033516,
          -0.5924241017540582,
          -0.15759225564599727,
          -1.4004988620018581,
          -1.7732366422243238,
          0.19030716935011002,
          -1.8019881668928215,
          -0.557204660426035,
          -0.44856054866864037,
          -1.4060925644133255,
          -1.022320245094843,
          -0.8941673627250798,
          -2.245692439956184,
          0.2521689296172425,
          0.07855183616603281,
          -1.880184235826735,
          -0.3547545024536497,
          -0.15901492812930434,
          1.4885512061851904,
          1.154473168088508,
          0.3506429831171856,
          0.033939225063162694,
          -0.745605997038604,
          -0.08313589301236117,
          -0.40493746348498305,
          -0.41768247476306836,
          -0.4717648718246529,
          -1.1171886583955546,
          -2.129045780023768,
          -1.4832090385240868,
          -0.9441306566317546,
          1.322478523659654,
          0.42861599484286816,
          -0.009349041903356899,
          -1.116475110689967,
          -1.604227395364169,
          -2.6458410752338737,
          0.11056779914131323,
          -0.4965388245769563,
          0.17496256936776317,
          -0.2188956562305676,
          0.6945059949492234,
          -1.5537040988224653,
          -0.4187519315700034,
          -1.5423386677726243,
          0.06656236481758367,
          0.6071611139142862,
          -0.2086185228188934,
          -0.6639641879325863,
          1.0091151944427543,
          -0.45485719742929204,
          0.7407282713470051,
          0.7926935792564782,
          0.8401881183890121,
          0.9707636921175228,
          -0.8331596615803011,
          -0.6412226880173394,
          0.5776137452811525,
          -0.709783389228246,
          0.06455705181996911,
          1.5612392254536525,
          0.6579971954098929,
          -0.1399662625786303,
          1.1855510000724214
         ]
        }
       ],
       "layout": {
        "barmode": "overlay",
        "legend": {
         "bgcolor": "#F5F6F9",
         "font": {
          "color": "#4D5663"
         }
        },
        "paper_bgcolor": "#F5F6F9",
        "plot_bgcolor": "#F5F6F9",
        "template": {
         "data": {
          "bar": [
           {
            "error_x": {
             "color": "#2a3f5f"
            },
            "error_y": {
             "color": "#2a3f5f"
            },
            "marker": {
             "line": {
              "color": "#E5ECF6",
              "width": 0.5
             }
            },
            "type": "bar"
           }
          ],
          "barpolar": [
           {
            "marker": {
             "line": {
              "color": "#E5ECF6",
              "width": 0.5
             }
            },
            "type": "barpolar"
           }
          ],
          "carpet": [
           {
            "aaxis": {
             "endlinecolor": "#2a3f5f",
             "gridcolor": "white",
             "linecolor": "white",
             "minorgridcolor": "white",
             "startlinecolor": "#2a3f5f"
            },
            "baxis": {
             "endlinecolor": "#2a3f5f",
             "gridcolor": "white",
             "linecolor": "white",
             "minorgridcolor": "white",
             "startlinecolor": "#2a3f5f"
            },
            "type": "carpet"
           }
          ],
          "choropleth": [
           {
            "colorbar": {
             "outlinewidth": 0,
             "ticks": ""
            },
            "type": "choropleth"
           }
          ],
          "contour": [
           {
            "colorbar": {
             "outlinewidth": 0,
             "ticks": ""
            },
            "colorscale": [
             [
              0,
              "#0d0887"
             ],
             [
              0.1111111111111111,
              "#46039f"
             ],
             [
              0.2222222222222222,
              "#7201a8"
             ],
             [
              0.3333333333333333,
              "#9c179e"
             ],
             [
              0.4444444444444444,
              "#bd3786"
             ],
             [
              0.5555555555555556,
              "#d8576b"
             ],
             [
              0.6666666666666666,
              "#ed7953"
             ],
             [
              0.7777777777777778,
              "#fb9f3a"
             ],
             [
              0.8888888888888888,
              "#fdca26"
             ],
             [
              1,
              "#f0f921"
             ]
            ],
            "type": "contour"
           }
          ],
          "contourcarpet": [
           {
            "colorbar": {
             "outlinewidth": 0,
             "ticks": ""
            },
            "type": "contourcarpet"
           }
          ],
          "heatmap": [
           {
            "colorbar": {
             "outlinewidth": 0,
             "ticks": ""
            },
            "colorscale": [
             [
              0,
              "#0d0887"
             ],
             [
              0.1111111111111111,
              "#46039f"
             ],
             [
              0.2222222222222222,
              "#7201a8"
             ],
             [
              0.3333333333333333,
              "#9c179e"
             ],
             [
              0.4444444444444444,
              "#bd3786"
             ],
             [
              0.5555555555555556,
              "#d8576b"
             ],
             [
              0.6666666666666666,
              "#ed7953"
             ],
             [
              0.7777777777777778,
              "#fb9f3a"
             ],
             [
              0.8888888888888888,
              "#fdca26"
             ],
             [
              1,
              "#f0f921"
             ]
            ],
            "type": "heatmap"
           }
          ],
          "heatmapgl": [
           {
            "colorbar": {
             "outlinewidth": 0,
             "ticks": ""
            },
            "colorscale": [
             [
              0,
              "#0d0887"
             ],
             [
              0.1111111111111111,
              "#46039f"
             ],
             [
              0.2222222222222222,
              "#7201a8"
             ],
             [
              0.3333333333333333,
              "#9c179e"
             ],
             [
              0.4444444444444444,
              "#bd3786"
             ],
             [
              0.5555555555555556,
              "#d8576b"
             ],
             [
              0.6666666666666666,
              "#ed7953"
             ],
             [
              0.7777777777777778,
              "#fb9f3a"
             ],
             [
              0.8888888888888888,
              "#fdca26"
             ],
             [
              1,
              "#f0f921"
             ]
            ],
            "type": "heatmapgl"
           }
          ],
          "histogram": [
           {
            "marker": {
             "colorbar": {
              "outlinewidth": 0,
              "ticks": ""
             }
            },
            "type": "histogram"
           }
          ],
          "histogram2d": [
           {
            "colorbar": {
             "outlinewidth": 0,
             "ticks": ""
            },
            "colorscale": [
             [
              0,
              "#0d0887"
             ],
             [
              0.1111111111111111,
              "#46039f"
             ],
             [
              0.2222222222222222,
              "#7201a8"
             ],
             [
              0.3333333333333333,
              "#9c179e"
             ],
             [
              0.4444444444444444,
              "#bd3786"
             ],
             [
              0.5555555555555556,
              "#d8576b"
             ],
             [
              0.6666666666666666,
              "#ed7953"
             ],
             [
              0.7777777777777778,
              "#fb9f3a"
             ],
             [
              0.8888888888888888,
              "#fdca26"
             ],
             [
              1,
              "#f0f921"
             ]
            ],
            "type": "histogram2d"
           }
          ],
          "histogram2dcontour": [
           {
            "colorbar": {
             "outlinewidth": 0,
             "ticks": ""
            },
            "colorscale": [
             [
              0,
              "#0d0887"
             ],
             [
              0.1111111111111111,
              "#46039f"
             ],
             [
              0.2222222222222222,
              "#7201a8"
             ],
             [
              0.3333333333333333,
              "#9c179e"
             ],
             [
              0.4444444444444444,
              "#bd3786"
             ],
             [
              0.5555555555555556,
              "#d8576b"
             ],
             [
              0.6666666666666666,
              "#ed7953"
             ],
             [
              0.7777777777777778,
              "#fb9f3a"
             ],
             [
              0.8888888888888888,
              "#fdca26"
             ],
             [
              1,
              "#f0f921"
             ]
            ],
            "type": "histogram2dcontour"
           }
          ],
          "mesh3d": [
           {
            "colorbar": {
             "outlinewidth": 0,
             "ticks": ""
            },
            "type": "mesh3d"
           }
          ],
          "parcoords": [
           {
            "line": {
             "colorbar": {
              "outlinewidth": 0,
              "ticks": ""
             }
            },
            "type": "parcoords"
           }
          ],
          "pie": [
           {
            "automargin": true,
            "type": "pie"
           }
          ],
          "scatter": [
           {
            "marker": {
             "colorbar": {
              "outlinewidth": 0,
              "ticks": ""
             }
            },
            "type": "scatter"
           }
          ],
          "scatter3d": [
           {
            "line": {
             "colorbar": {
              "outlinewidth": 0,
              "ticks": ""
             }
            },
            "marker": {
             "colorbar": {
              "outlinewidth": 0,
              "ticks": ""
             }
            },
            "type": "scatter3d"
           }
          ],
          "scattercarpet": [
           {
            "marker": {
             "colorbar": {
              "outlinewidth": 0,
              "ticks": ""
             }
            },
            "type": "scattercarpet"
           }
          ],
          "scattergeo": [
           {
            "marker": {
             "colorbar": {
              "outlinewidth": 0,
              "ticks": ""
             }
            },
            "type": "scattergeo"
           }
          ],
          "scattergl": [
           {
            "marker": {
             "colorbar": {
              "outlinewidth": 0,
              "ticks": ""
             }
            },
            "type": "scattergl"
           }
          ],
          "scattermapbox": [
           {
            "marker": {
             "colorbar": {
              "outlinewidth": 0,
              "ticks": ""
             }
            },
            "type": "scattermapbox"
           }
          ],
          "scatterpolar": [
           {
            "marker": {
             "colorbar": {
              "outlinewidth": 0,
              "ticks": ""
             }
            },
            "type": "scatterpolar"
           }
          ],
          "scatterpolargl": [
           {
            "marker": {
             "colorbar": {
              "outlinewidth": 0,
              "ticks": ""
             }
            },
            "type": "scatterpolargl"
           }
          ],
          "scatterternary": [
           {
            "marker": {
             "colorbar": {
              "outlinewidth": 0,
              "ticks": ""
             }
            },
            "type": "scatterternary"
           }
          ],
          "surface": [
           {
            "colorbar": {
             "outlinewidth": 0,
             "ticks": ""
            },
            "colorscale": [
             [
              0,
              "#0d0887"
             ],
             [
              0.1111111111111111,
              "#46039f"
             ],
             [
              0.2222222222222222,
              "#7201a8"
             ],
             [
              0.3333333333333333,
              "#9c179e"
             ],
             [
              0.4444444444444444,
              "#bd3786"
             ],
             [
              0.5555555555555556,
              "#d8576b"
             ],
             [
              0.6666666666666666,
              "#ed7953"
             ],
             [
              0.7777777777777778,
              "#fb9f3a"
             ],
             [
              0.8888888888888888,
              "#fdca26"
             ],
             [
              1,
              "#f0f921"
             ]
            ],
            "type": "surface"
           }
          ],
          "table": [
           {
            "cells": {
             "fill": {
              "color": "#EBF0F8"
             },
             "line": {
              "color": "white"
             }
            },
            "header": {
             "fill": {
              "color": "#C8D4E3"
             },
             "line": {
              "color": "white"
             }
            },
            "type": "table"
           }
          ]
         },
         "layout": {
          "annotationdefaults": {
           "arrowcolor": "#2a3f5f",
           "arrowhead": 0,
           "arrowwidth": 1
          },
          "autotypenumbers": "strict",
          "coloraxis": {
           "colorbar": {
            "outlinewidth": 0,
            "ticks": ""
           }
          },
          "colorscale": {
           "diverging": [
            [
             0,
             "#8e0152"
            ],
            [
             0.1,
             "#c51b7d"
            ],
            [
             0.2,
             "#de77ae"
            ],
            [
             0.3,
             "#f1b6da"
            ],
            [
             0.4,
             "#fde0ef"
            ],
            [
             0.5,
             "#f7f7f7"
            ],
            [
             0.6,
             "#e6f5d0"
            ],
            [
             0.7,
             "#b8e186"
            ],
            [
             0.8,
             "#7fbc41"
            ],
            [
             0.9,
             "#4d9221"
            ],
            [
             1,
             "#276419"
            ]
           ],
           "sequential": [
            [
             0,
             "#0d0887"
            ],
            [
             0.1111111111111111,
             "#46039f"
            ],
            [
             0.2222222222222222,
             "#7201a8"
            ],
            [
             0.3333333333333333,
             "#9c179e"
            ],
            [
             0.4444444444444444,
             "#bd3786"
            ],
            [
             0.5555555555555556,
             "#d8576b"
            ],
            [
             0.6666666666666666,
             "#ed7953"
            ],
            [
             0.7777777777777778,
             "#fb9f3a"
            ],
            [
             0.8888888888888888,
             "#fdca26"
            ],
            [
             1,
             "#f0f921"
            ]
           ],
           "sequentialminus": [
            [
             0,
             "#0d0887"
            ],
            [
             0.1111111111111111,
             "#46039f"
            ],
            [
             0.2222222222222222,
             "#7201a8"
            ],
            [
             0.3333333333333333,
             "#9c179e"
            ],
            [
             0.4444444444444444,
             "#bd3786"
            ],
            [
             0.5555555555555556,
             "#d8576b"
            ],
            [
             0.6666666666666666,
             "#ed7953"
            ],
            [
             0.7777777777777778,
             "#fb9f3a"
            ],
            [
             0.8888888888888888,
             "#fdca26"
            ],
            [
             1,
             "#f0f921"
            ]
           ]
          },
          "colorway": [
           "#636efa",
           "#EF553B",
           "#00cc96",
           "#ab63fa",
           "#FFA15A",
           "#19d3f3",
           "#FF6692",
           "#B6E880",
           "#FF97FF",
           "#FECB52"
          ],
          "font": {
           "color": "#2a3f5f"
          },
          "geo": {
           "bgcolor": "white",
           "lakecolor": "white",
           "landcolor": "#E5ECF6",
           "showlakes": true,
           "showland": true,
           "subunitcolor": "white"
          },
          "hoverlabel": {
           "align": "left"
          },
          "hovermode": "closest",
          "mapbox": {
           "style": "light"
          },
          "paper_bgcolor": "white",
          "plot_bgcolor": "#E5ECF6",
          "polar": {
           "angularaxis": {
            "gridcolor": "white",
            "linecolor": "white",
            "ticks": ""
           },
           "bgcolor": "#E5ECF6",
           "radialaxis": {
            "gridcolor": "white",
            "linecolor": "white",
            "ticks": ""
           }
          },
          "scene": {
           "xaxis": {
            "backgroundcolor": "#E5ECF6",
            "gridcolor": "white",
            "gridwidth": 2,
            "linecolor": "white",
            "showbackground": true,
            "ticks": "",
            "zerolinecolor": "white"
           },
           "yaxis": {
            "backgroundcolor": "#E5ECF6",
            "gridcolor": "white",
            "gridwidth": 2,
            "linecolor": "white",
            "showbackground": true,
            "ticks": "",
            "zerolinecolor": "white"
           },
           "zaxis": {
            "backgroundcolor": "#E5ECF6",
            "gridcolor": "white",
            "gridwidth": 2,
            "linecolor": "white",
            "showbackground": true,
            "ticks": "",
            "zerolinecolor": "white"
           }
          },
          "shapedefaults": {
           "line": {
            "color": "#2a3f5f"
           }
          },
          "ternary": {
           "aaxis": {
            "gridcolor": "white",
            "linecolor": "white",
            "ticks": ""
           },
           "baxis": {
            "gridcolor": "white",
            "linecolor": "white",
            "ticks": ""
           },
           "bgcolor": "#E5ECF6",
           "caxis": {
            "gridcolor": "white",
            "linecolor": "white",
            "ticks": ""
           }
          },
          "title": {
           "x": 0.05
          },
          "xaxis": {
           "automargin": true,
           "gridcolor": "white",
           "linecolor": "white",
           "ticks": "",
           "title": {
            "standoff": 15
           },
           "zerolinecolor": "white",
           "zerolinewidth": 2
          },
          "yaxis": {
           "automargin": true,
           "gridcolor": "white",
           "linecolor": "white",
           "ticks": "",
           "title": {
            "standoff": 15
           },
           "zerolinecolor": "white",
           "zerolinewidth": 2
          }
         }
        },
        "title": {
         "font": {
          "color": "#4D5663"
         }
        },
        "xaxis": {
         "gridcolor": "#E1E5ED",
         "showgrid": true,
         "tickfont": {
          "color": "#4D5663"
         },
         "title": {
          "font": {
           "color": "#4D5663"
          },
          "text": ""
         },
         "zerolinecolor": "#E1E5ED"
        },
        "yaxis": {
         "gridcolor": "#E1E5ED",
         "showgrid": true,
         "tickfont": {
          "color": "#4D5663"
         },
         "title": {
          "font": {
           "color": "#4D5663"
          },
          "text": ""
         },
         "zerolinecolor": "#E1E5ED"
        }
       }
      },
      "text/html": [
       "<div>                            <div id=\"7b91046b-0ac8-4d55-9d6e-20e5d044bb2a\" class=\"plotly-graph-div\" style=\"height:525px; width:100%;\"></div>            <script type=\"text/javascript\">                require([\"plotly\"], function(Plotly) {                    window.PLOTLYENV=window.PLOTLYENV || {};\n",
       "                    window.PLOTLYENV.BASE_URL='https://plot.ly';                                    if (document.getElementById(\"7b91046b-0ac8-4d55-9d6e-20e5d044bb2a\")) {                    Plotly.newPlot(                        \"7b91046b-0ac8-4d55-9d6e-20e5d044bb2a\",                        [{\"histfunc\": \"count\", \"histnorm\": \"\", \"marker\": {\"color\": \"rgba(255, 153, 51, 1.0)\", \"line\": {\"color\": \"#4D5663\", \"width\": 1.3}}, \"name\": \"A\", \"nbinsx\": 50, \"opacity\": 0.8, \"orientation\": \"v\", \"type\": \"histogram\", \"x\": [0.2803514486783903, -1.3529818744563427, 0.5349335415489098, -0.46485644825077904, 0.23995054472161614, 0.015400907103716222, -0.2916104698915431, -0.23667497168901144, -0.6960369293674991, 0.05795719862127771, -2.707673763127651, 0.7613704053442429, 0.3038232136903593, 0.47448335399814273, -0.164943487319802, -0.1746685114526522, 0.2737289201669528, -1.595378768993628, -1.5108845426369344, 0.24616265746478627, 0.3065102838166673, 0.5813583720340318, 0.6865830735731809, -0.6258184147645117, -0.5546572199896735, -0.7466622678544448, -0.7270465111699874, -0.47816758216383126, -0.6669280389560786, 0.76101743324588, -0.013679710392465254, 1.2232943573945159, 2.5559833518724893, -0.07060403482627899, 0.13004671884714766, -0.45520923256722334, 0.29918460014033516, -0.5924241017540582, -0.15759225564599727, -1.4004988620018581, -1.7732366422243238, 0.19030716935011002, -1.8019881668928215, -0.557204660426035, -0.44856054866864037, -1.4060925644133255, -1.022320245094843, -0.8941673627250798, -2.245692439956184, 0.2521689296172425, 0.07855183616603281, -1.880184235826735, -0.3547545024536497, -0.15901492812930434, 1.4885512061851904, 1.154473168088508, 0.3506429831171856, 0.033939225063162694, -0.745605997038604, -0.08313589301236117, -0.40493746348498305, -0.41768247476306836, -0.4717648718246529, -1.1171886583955546, -2.129045780023768, -1.4832090385240868, -0.9441306566317546, 1.322478523659654, 0.42861599484286816, -0.009349041903356899, -1.116475110689967, -1.604227395364169, -2.6458410752338737, 0.11056779914131323, -0.4965388245769563, 0.17496256936776317, -0.2188956562305676, 0.6945059949492234, -1.5537040988224653, -0.4187519315700034, -1.5423386677726243, 0.06656236481758367, 0.6071611139142862, -0.2086185228188934, -0.6639641879325863, 1.0091151944427543, -0.45485719742929204, 0.7407282713470051, 0.7926935792564782, 0.8401881183890121, 0.9707636921175228, -0.8331596615803011, -0.6412226880173394, 0.5776137452811525, -0.709783389228246, 0.06455705181996911, 1.5612392254536525, 0.6579971954098929, -0.1399662625786303, 1.1855510000724214]}],                        {\"barmode\": \"overlay\", \"legend\": {\"bgcolor\": \"#F5F6F9\", \"font\": {\"color\": \"#4D5663\"}}, \"paper_bgcolor\": \"#F5F6F9\", \"plot_bgcolor\": \"#F5F6F9\", \"template\": {\"data\": {\"bar\": [{\"error_x\": {\"color\": \"#2a3f5f\"}, \"error_y\": {\"color\": \"#2a3f5f\"}, \"marker\": {\"line\": {\"color\": \"#E5ECF6\", \"width\": 0.5}}, \"type\": \"bar\"}], \"barpolar\": [{\"marker\": {\"line\": {\"color\": \"#E5ECF6\", \"width\": 0.5}}, \"type\": \"barpolar\"}], \"carpet\": [{\"aaxis\": {\"endlinecolor\": \"#2a3f5f\", \"gridcolor\": \"white\", \"linecolor\": \"white\", \"minorgridcolor\": \"white\", \"startlinecolor\": \"#2a3f5f\"}, \"baxis\": {\"endlinecolor\": \"#2a3f5f\", \"gridcolor\": \"white\", \"linecolor\": \"white\", \"minorgridcolor\": \"white\", \"startlinecolor\": \"#2a3f5f\"}, \"type\": \"carpet\"}], \"choropleth\": [{\"colorbar\": {\"outlinewidth\": 0, \"ticks\": \"\"}, \"type\": \"choropleth\"}], \"contour\": [{\"colorbar\": {\"outlinewidth\": 0, \"ticks\": \"\"}, \"colorscale\": [[0.0, \"#0d0887\"], [0.1111111111111111, \"#46039f\"], [0.2222222222222222, \"#7201a8\"], [0.3333333333333333, \"#9c179e\"], [0.4444444444444444, \"#bd3786\"], [0.5555555555555556, \"#d8576b\"], [0.6666666666666666, \"#ed7953\"], [0.7777777777777778, \"#fb9f3a\"], [0.8888888888888888, \"#fdca26\"], [1.0, \"#f0f921\"]], \"type\": \"contour\"}], \"contourcarpet\": [{\"colorbar\": {\"outlinewidth\": 0, \"ticks\": \"\"}, \"type\": \"contourcarpet\"}], \"heatmap\": [{\"colorbar\": {\"outlinewidth\": 0, \"ticks\": \"\"}, \"colorscale\": [[0.0, \"#0d0887\"], [0.1111111111111111, \"#46039f\"], [0.2222222222222222, \"#7201a8\"], [0.3333333333333333, \"#9c179e\"], [0.4444444444444444, \"#bd3786\"], [0.5555555555555556, \"#d8576b\"], [0.6666666666666666, \"#ed7953\"], [0.7777777777777778, \"#fb9f3a\"], [0.8888888888888888, \"#fdca26\"], [1.0, \"#f0f921\"]], \"type\": \"heatmap\"}], \"heatmapgl\": [{\"colorbar\": {\"outlinewidth\": 0, \"ticks\": \"\"}, \"colorscale\": [[0.0, \"#0d0887\"], [0.1111111111111111, \"#46039f\"], [0.2222222222222222, \"#7201a8\"], [0.3333333333333333, \"#9c179e\"], [0.4444444444444444, \"#bd3786\"], [0.5555555555555556, \"#d8576b\"], [0.6666666666666666, \"#ed7953\"], [0.7777777777777778, \"#fb9f3a\"], [0.8888888888888888, \"#fdca26\"], [1.0, \"#f0f921\"]], \"type\": \"heatmapgl\"}], \"histogram\": [{\"marker\": {\"colorbar\": {\"outlinewidth\": 0, \"ticks\": \"\"}}, \"type\": \"histogram\"}], \"histogram2d\": [{\"colorbar\": {\"outlinewidth\": 0, \"ticks\": \"\"}, \"colorscale\": [[0.0, \"#0d0887\"], [0.1111111111111111, \"#46039f\"], [0.2222222222222222, \"#7201a8\"], [0.3333333333333333, \"#9c179e\"], [0.4444444444444444, \"#bd3786\"], [0.5555555555555556, \"#d8576b\"], [0.6666666666666666, \"#ed7953\"], [0.7777777777777778, \"#fb9f3a\"], [0.8888888888888888, \"#fdca26\"], [1.0, \"#f0f921\"]], \"type\": \"histogram2d\"}], \"histogram2dcontour\": [{\"colorbar\": {\"outlinewidth\": 0, \"ticks\": \"\"}, \"colorscale\": [[0.0, \"#0d0887\"], [0.1111111111111111, \"#46039f\"], [0.2222222222222222, \"#7201a8\"], [0.3333333333333333, \"#9c179e\"], [0.4444444444444444, \"#bd3786\"], [0.5555555555555556, \"#d8576b\"], [0.6666666666666666, \"#ed7953\"], [0.7777777777777778, \"#fb9f3a\"], [0.8888888888888888, \"#fdca26\"], [1.0, \"#f0f921\"]], \"type\": \"histogram2dcontour\"}], \"mesh3d\": [{\"colorbar\": {\"outlinewidth\": 0, \"ticks\": \"\"}, \"type\": \"mesh3d\"}], \"parcoords\": [{\"line\": {\"colorbar\": {\"outlinewidth\": 0, \"ticks\": \"\"}}, \"type\": \"parcoords\"}], \"pie\": [{\"automargin\": true, \"type\": \"pie\"}], \"scatter\": [{\"marker\": {\"colorbar\": {\"outlinewidth\": 0, \"ticks\": \"\"}}, \"type\": \"scatter\"}], \"scatter3d\": [{\"line\": {\"colorbar\": {\"outlinewidth\": 0, \"ticks\": \"\"}}, \"marker\": {\"colorbar\": {\"outlinewidth\": 0, \"ticks\": \"\"}}, \"type\": \"scatter3d\"}], \"scattercarpet\": [{\"marker\": {\"colorbar\": {\"outlinewidth\": 0, \"ticks\": \"\"}}, \"type\": \"scattercarpet\"}], \"scattergeo\": [{\"marker\": {\"colorbar\": {\"outlinewidth\": 0, \"ticks\": \"\"}}, \"type\": \"scattergeo\"}], \"scattergl\": [{\"marker\": {\"colorbar\": {\"outlinewidth\": 0, \"ticks\": \"\"}}, \"type\": \"scattergl\"}], \"scattermapbox\": [{\"marker\": {\"colorbar\": {\"outlinewidth\": 0, \"ticks\": \"\"}}, \"type\": \"scattermapbox\"}], \"scatterpolar\": [{\"marker\": {\"colorbar\": {\"outlinewidth\": 0, \"ticks\": \"\"}}, \"type\": \"scatterpolar\"}], \"scatterpolargl\": [{\"marker\": {\"colorbar\": {\"outlinewidth\": 0, \"ticks\": \"\"}}, \"type\": \"scatterpolargl\"}], \"scatterternary\": [{\"marker\": {\"colorbar\": {\"outlinewidth\": 0, \"ticks\": \"\"}}, \"type\": \"scatterternary\"}], \"surface\": [{\"colorbar\": {\"outlinewidth\": 0, \"ticks\": \"\"}, \"colorscale\": [[0.0, \"#0d0887\"], [0.1111111111111111, \"#46039f\"], [0.2222222222222222, \"#7201a8\"], [0.3333333333333333, \"#9c179e\"], [0.4444444444444444, \"#bd3786\"], [0.5555555555555556, \"#d8576b\"], [0.6666666666666666, \"#ed7953\"], [0.7777777777777778, \"#fb9f3a\"], [0.8888888888888888, \"#fdca26\"], [1.0, \"#f0f921\"]], \"type\": \"surface\"}], \"table\": [{\"cells\": {\"fill\": {\"color\": \"#EBF0F8\"}, \"line\": {\"color\": \"white\"}}, \"header\": {\"fill\": {\"color\": \"#C8D4E3\"}, \"line\": {\"color\": \"white\"}}, \"type\": \"table\"}]}, \"layout\": {\"annotationdefaults\": {\"arrowcolor\": \"#2a3f5f\", \"arrowhead\": 0, \"arrowwidth\": 1}, \"autotypenumbers\": \"strict\", \"coloraxis\": {\"colorbar\": {\"outlinewidth\": 0, \"ticks\": \"\"}}, \"colorscale\": {\"diverging\": [[0, \"#8e0152\"], [0.1, \"#c51b7d\"], [0.2, \"#de77ae\"], [0.3, \"#f1b6da\"], [0.4, \"#fde0ef\"], [0.5, \"#f7f7f7\"], [0.6, \"#e6f5d0\"], [0.7, \"#b8e186\"], [0.8, \"#7fbc41\"], [0.9, \"#4d9221\"], [1, \"#276419\"]], \"sequential\": [[0.0, \"#0d0887\"], [0.1111111111111111, \"#46039f\"], [0.2222222222222222, \"#7201a8\"], [0.3333333333333333, \"#9c179e\"], [0.4444444444444444, \"#bd3786\"], [0.5555555555555556, \"#d8576b\"], [0.6666666666666666, \"#ed7953\"], [0.7777777777777778, \"#fb9f3a\"], [0.8888888888888888, \"#fdca26\"], [1.0, \"#f0f921\"]], \"sequentialminus\": [[0.0, \"#0d0887\"], [0.1111111111111111, \"#46039f\"], [0.2222222222222222, \"#7201a8\"], [0.3333333333333333, \"#9c179e\"], [0.4444444444444444, \"#bd3786\"], [0.5555555555555556, \"#d8576b\"], [0.6666666666666666, \"#ed7953\"], [0.7777777777777778, \"#fb9f3a\"], [0.8888888888888888, \"#fdca26\"], [1.0, \"#f0f921\"]]}, \"colorway\": [\"#636efa\", \"#EF553B\", \"#00cc96\", \"#ab63fa\", \"#FFA15A\", \"#19d3f3\", \"#FF6692\", \"#B6E880\", \"#FF97FF\", \"#FECB52\"], \"font\": {\"color\": \"#2a3f5f\"}, \"geo\": {\"bgcolor\": \"white\", \"lakecolor\": \"white\", \"landcolor\": \"#E5ECF6\", \"showlakes\": true, \"showland\": true, \"subunitcolor\": \"white\"}, \"hoverlabel\": {\"align\": \"left\"}, \"hovermode\": \"closest\", \"mapbox\": {\"style\": \"light\"}, \"paper_bgcolor\": \"white\", \"plot_bgcolor\": \"#E5ECF6\", \"polar\": {\"angularaxis\": {\"gridcolor\": \"white\", \"linecolor\": \"white\", \"ticks\": \"\"}, \"bgcolor\": \"#E5ECF6\", \"radialaxis\": {\"gridcolor\": \"white\", \"linecolor\": \"white\", \"ticks\": \"\"}}, \"scene\": {\"xaxis\": {\"backgroundcolor\": \"#E5ECF6\", \"gridcolor\": \"white\", \"gridwidth\": 2, \"linecolor\": \"white\", \"showbackground\": true, \"ticks\": \"\", \"zerolinecolor\": \"white\"}, \"yaxis\": {\"backgroundcolor\": \"#E5ECF6\", \"gridcolor\": \"white\", \"gridwidth\": 2, \"linecolor\": \"white\", \"showbackground\": true, \"ticks\": \"\", \"zerolinecolor\": \"white\"}, \"zaxis\": {\"backgroundcolor\": \"#E5ECF6\", \"gridcolor\": \"white\", \"gridwidth\": 2, \"linecolor\": \"white\", \"showbackground\": true, \"ticks\": \"\", \"zerolinecolor\": \"white\"}}, \"shapedefaults\": {\"line\": {\"color\": \"#2a3f5f\"}}, \"ternary\": {\"aaxis\": {\"gridcolor\": \"white\", \"linecolor\": \"white\", \"ticks\": \"\"}, \"baxis\": {\"gridcolor\": \"white\", \"linecolor\": \"white\", \"ticks\": \"\"}, \"bgcolor\": \"#E5ECF6\", \"caxis\": {\"gridcolor\": \"white\", \"linecolor\": \"white\", \"ticks\": \"\"}}, \"title\": {\"x\": 0.05}, \"xaxis\": {\"automargin\": true, \"gridcolor\": \"white\", \"linecolor\": \"white\", \"ticks\": \"\", \"title\": {\"standoff\": 15}, \"zerolinecolor\": \"white\", \"zerolinewidth\": 2}, \"yaxis\": {\"automargin\": true, \"gridcolor\": \"white\", \"linecolor\": \"white\", \"ticks\": \"\", \"title\": {\"standoff\": 15}, \"zerolinecolor\": \"white\", \"zerolinewidth\": 2}}}, \"title\": {\"font\": {\"color\": \"#4D5663\"}}, \"xaxis\": {\"gridcolor\": \"#E1E5ED\", \"showgrid\": true, \"tickfont\": {\"color\": \"#4D5663\"}, \"title\": {\"font\": {\"color\": \"#4D5663\"}, \"text\": \"\"}, \"zerolinecolor\": \"#E1E5ED\"}, \"yaxis\": {\"gridcolor\": \"#E1E5ED\", \"showgrid\": true, \"tickfont\": {\"color\": \"#4D5663\"}, \"title\": {\"font\": {\"color\": \"#4D5663\"}, \"text\": \"\"}, \"zerolinecolor\": \"#E1E5ED\"}},                        {\"showLink\": true, \"linkText\": \"Export to plot.ly\", \"plotlyServerURL\": \"https://plot.ly\", \"responsive\": true}                    ).then(function(){\n",
       "                            \n",
       "var gd = document.getElementById('7b91046b-0ac8-4d55-9d6e-20e5d044bb2a');\n",
       "var x = new MutationObserver(function (mutations, observer) {{\n",
       "        var display = window.getComputedStyle(gd).display;\n",
       "        if (!display || display === 'none') {{\n",
       "            console.log([gd, 'removed!']);\n",
       "            Plotly.purge(gd);\n",
       "            observer.disconnect();\n",
       "        }}\n",
       "}});\n",
       "\n",
       "// Listen for the removal of the full notebook cells\n",
       "var notebookContainer = gd.closest('#notebook-container');\n",
       "if (notebookContainer) {{\n",
       "    x.observe(notebookContainer, {childList: true});\n",
       "}}\n",
       "\n",
       "// Listen for the clearing of the current output cell\n",
       "var outputEl = gd.closest('.output');\n",
       "if (outputEl) {{\n",
       "    x.observe(outputEl, {childList: true});\n",
       "}}\n",
       "\n",
       "                        })                };                });            </script>        </div>"
      ]
     },
     "metadata": {},
     "output_type": "display_data"
    }
   ],
   "source": [
    "df['A'].iplot(kind='hist', bins=50)"
   ]
  },
  {
   "cell_type": "markdown",
   "id": "eligible-absence",
   "metadata": {},
   "source": [
    "## Bubble (dispersion)"
   ]
  },
  {
   "cell_type": "code",
   "execution_count": 26,
   "id": "revolutionary-council",
   "metadata": {},
   "outputs": [
    {
     "data": {
      "application/vnd.plotly.v1+json": {
       "config": {
        "linkText": "Export to plot.ly",
        "plotlyServerURL": "https://plot.ly",
        "showLink": true
       },
       "data": [
        {
         "marker": {
          "color": [
           "rgb(255, 153, 51)",
           "rgb(55, 128, 191)",
           "rgb(50, 171, 96)",
           "rgb(128, 0, 128)",
           "rgb(219, 64, 82)",
           "rgb(0, 128, 128)",
           "rgb(255, 255, 51)",
           "rgb(128, 128, 0)",
           "rgb(251, 128, 114)",
           "rgb(128, 177, 211)"
          ],
          "line": {
           "width": 1.3
          },
          "size": [
           21,
           44,
           101,
           25,
           48,
           49,
           75,
           91,
           80,
           64,
           55,
           33,
           79,
           57,
           40,
           69,
           45,
           59,
           88,
           87,
           56,
           43,
           67,
           31,
           53,
           69,
           61,
           41,
           66,
           79,
           56,
           68,
           77,
           60,
           76,
           66,
           57,
           85,
           63,
           84,
           67,
           89,
           39,
           42,
           39,
           55,
           55,
           83,
           53,
           52,
           61,
           107,
           66,
           74,
           22,
           94,
           51,
           112,
           51,
           52,
           79,
           64,
           86,
           46,
           53,
           71,
           37,
           41,
           12,
           79,
           91,
           40,
           42,
           67,
           82,
           60,
           60,
           72,
           74,
           52,
           33,
           70,
           35,
           58,
           78,
           49,
           70,
           61,
           68,
           46,
           40,
           30,
           65,
           67,
           75,
           111,
           55,
           73,
           59,
           68
          ],
          "symbol": "circle"
         },
         "mode": "markers",
         "text": "",
         "type": "scatter",
         "x": [
          0.2803514486783903,
          -1.3529818744563427,
          0.5349335415489098,
          -0.46485644825077904,
          0.23995054472161614,
          0.015400907103716222,
          -0.2916104698915431,
          -0.23667497168901144,
          -0.6960369293674991,
          0.05795719862127771,
          -2.707673763127651,
          0.7613704053442429,
          0.3038232136903593,
          0.47448335399814273,
          -0.164943487319802,
          -0.1746685114526522,
          0.2737289201669528,
          -1.595378768993628,
          -1.5108845426369344,
          0.24616265746478627,
          0.3065102838166673,
          0.5813583720340318,
          0.6865830735731809,
          -0.6258184147645117,
          -0.5546572199896735,
          -0.7466622678544448,
          -0.7270465111699874,
          -0.47816758216383126,
          -0.6669280389560786,
          0.76101743324588,
          -0.013679710392465254,
          1.2232943573945159,
          2.5559833518724893,
          -0.07060403482627899,
          0.13004671884714766,
          -0.45520923256722334,
          0.29918460014033516,
          -0.5924241017540582,
          -0.15759225564599727,
          -1.4004988620018581,
          -1.7732366422243238,
          0.19030716935011002,
          -1.8019881668928215,
          -0.557204660426035,
          -0.44856054866864037,
          -1.4060925644133255,
          -1.022320245094843,
          -0.8941673627250798,
          -2.245692439956184,
          0.2521689296172425,
          0.07855183616603281,
          -1.880184235826735,
          -0.3547545024536497,
          -0.15901492812930434,
          1.4885512061851904,
          1.154473168088508,
          0.3506429831171856,
          0.033939225063162694,
          -0.745605997038604,
          -0.08313589301236117,
          -0.40493746348498305,
          -0.41768247476306836,
          -0.4717648718246529,
          -1.1171886583955546,
          -2.129045780023768,
          -1.4832090385240868,
          -0.9441306566317546,
          1.322478523659654,
          0.42861599484286816,
          -0.009349041903356899,
          -1.116475110689967,
          -1.604227395364169,
          -2.6458410752338737,
          0.11056779914131323,
          -0.4965388245769563,
          0.17496256936776317,
          -0.2188956562305676,
          0.6945059949492234,
          -1.5537040988224653,
          -0.4187519315700034,
          -1.5423386677726243,
          0.06656236481758367,
          0.6071611139142862,
          -0.2086185228188934,
          -0.6639641879325863,
          1.0091151944427543,
          -0.45485719742929204,
          0.7407282713470051,
          0.7926935792564782,
          0.8401881183890121,
          0.9707636921175228,
          -0.8331596615803011,
          -0.6412226880173394,
          0.5776137452811525,
          -0.709783389228246,
          0.06455705181996911,
          1.5612392254536525,
          0.6579971954098929,
          -0.1399662625786303,
          1.1855510000724214
         ],
         "y": [
          0.17706896277187162,
          -0.6249373118454554,
          0.3272590749722181,
          -0.9940401674343684,
          -2.530950849847117,
          0.2636658317371174,
          1.354219131183047,
          0.6643474062171079,
          -1.6533612970498077,
          0.7416715750244077,
          -0.9932428321735989,
          -0.6414343494166856,
          0.8299153265150462,
          -1.021986403702533,
          0.8987779717506097,
          1.0164569804648547,
          -0.35952334786171086,
          1.1094843584394358,
          1.5121019739205415,
          -0.2604947937239252,
          -0.3690942205578536,
          0.3615252687732477,
          -1.025107085234413,
          -1.4493849627756665,
          -0.8199570845444943,
          0.4505595988304898,
          1.1605376269740642,
          -1.188009381927696,
          0.6787286337625219,
          0.8039586299595403,
          -3.0833656542362573,
          1.269449272266462,
          -0.3149057116993393,
          -1.2939815954736011,
          0.12182680125676709,
          0.33006216460025506,
          0.21363583429407815,
          1.6588885458762022,
          -0.19557754724933765,
          1.0547923730917923,
          0.6954831684772481,
          -0.34584471468312034,
          0.6057788359167456,
          0.1590495270200915,
          1.5273126423059864,
          0.348566619616232,
          -0.18952539532798401,
          0.6252396166243234,
          1.1062954259320954,
          -0.687910545726598,
          -0.9078626099526047,
          0.48194398183866477,
          0.5342528457953383,
          -0.23774105751875005,
          0.06247792047270879,
          -0.3363551491205612,
          -1.4667065221044309,
          0.0951224432524548,
          1.0856472862022295,
          -0.5269712156766507,
          -0.3898477752743443,
          0.6154660142894058,
          -1.7415795762625443,
          -0.316102495625554,
          -0.02737132768909968,
          -1.6443310620854097,
          -1.456726450295568,
          -0.54900368339122,
          0.6835144512512027,
          0.6592334242785094,
          -0.7801848924134268,
          0.055159435884052276,
          -0.41360718927975393,
          -0.6787915069209751,
          0.1528205833072065,
          -1.241618365094969,
          -0.11126935795339148,
          1.0446944850176876,
          -0.39328046132648636,
          -0.9198930417706479,
          1.5521279360686067,
          -0.5390003413131172,
          -0.2064753229521223,
          0.6444836441877287,
          -2.490722034504807,
          0.11470952204713913,
          1.2685106961111818,
          1.1869956882656112,
          -0.5344110224171819,
          -1.2146728790266499,
          -0.2380292931578603,
          0.35164800826546266,
          0.6321143673388616,
          -1.8475654305346552,
          0.31649382271570314,
          -0.9371543855285568,
          1.314046527434895,
          -0.12930965638675102,
          -0.2226154810643709,
          0.9161026149352096
         ]
        }
       ],
       "layout": {
        "legend": {
         "bgcolor": "#F5F6F9",
         "font": {
          "color": "#4D5663"
         }
        },
        "paper_bgcolor": "#F5F6F9",
        "plot_bgcolor": "#F5F6F9",
        "template": {
         "data": {
          "bar": [
           {
            "error_x": {
             "color": "#2a3f5f"
            },
            "error_y": {
             "color": "#2a3f5f"
            },
            "marker": {
             "line": {
              "color": "#E5ECF6",
              "width": 0.5
             }
            },
            "type": "bar"
           }
          ],
          "barpolar": [
           {
            "marker": {
             "line": {
              "color": "#E5ECF6",
              "width": 0.5
             }
            },
            "type": "barpolar"
           }
          ],
          "carpet": [
           {
            "aaxis": {
             "endlinecolor": "#2a3f5f",
             "gridcolor": "white",
             "linecolor": "white",
             "minorgridcolor": "white",
             "startlinecolor": "#2a3f5f"
            },
            "baxis": {
             "endlinecolor": "#2a3f5f",
             "gridcolor": "white",
             "linecolor": "white",
             "minorgridcolor": "white",
             "startlinecolor": "#2a3f5f"
            },
            "type": "carpet"
           }
          ],
          "choropleth": [
           {
            "colorbar": {
             "outlinewidth": 0,
             "ticks": ""
            },
            "type": "choropleth"
           }
          ],
          "contour": [
           {
            "colorbar": {
             "outlinewidth": 0,
             "ticks": ""
            },
            "colorscale": [
             [
              0,
              "#0d0887"
             ],
             [
              0.1111111111111111,
              "#46039f"
             ],
             [
              0.2222222222222222,
              "#7201a8"
             ],
             [
              0.3333333333333333,
              "#9c179e"
             ],
             [
              0.4444444444444444,
              "#bd3786"
             ],
             [
              0.5555555555555556,
              "#d8576b"
             ],
             [
              0.6666666666666666,
              "#ed7953"
             ],
             [
              0.7777777777777778,
              "#fb9f3a"
             ],
             [
              0.8888888888888888,
              "#fdca26"
             ],
             [
              1,
              "#f0f921"
             ]
            ],
            "type": "contour"
           }
          ],
          "contourcarpet": [
           {
            "colorbar": {
             "outlinewidth": 0,
             "ticks": ""
            },
            "type": "contourcarpet"
           }
          ],
          "heatmap": [
           {
            "colorbar": {
             "outlinewidth": 0,
             "ticks": ""
            },
            "colorscale": [
             [
              0,
              "#0d0887"
             ],
             [
              0.1111111111111111,
              "#46039f"
             ],
             [
              0.2222222222222222,
              "#7201a8"
             ],
             [
              0.3333333333333333,
              "#9c179e"
             ],
             [
              0.4444444444444444,
              "#bd3786"
             ],
             [
              0.5555555555555556,
              "#d8576b"
             ],
             [
              0.6666666666666666,
              "#ed7953"
             ],
             [
              0.7777777777777778,
              "#fb9f3a"
             ],
             [
              0.8888888888888888,
              "#fdca26"
             ],
             [
              1,
              "#f0f921"
             ]
            ],
            "type": "heatmap"
           }
          ],
          "heatmapgl": [
           {
            "colorbar": {
             "outlinewidth": 0,
             "ticks": ""
            },
            "colorscale": [
             [
              0,
              "#0d0887"
             ],
             [
              0.1111111111111111,
              "#46039f"
             ],
             [
              0.2222222222222222,
              "#7201a8"
             ],
             [
              0.3333333333333333,
              "#9c179e"
             ],
             [
              0.4444444444444444,
              "#bd3786"
             ],
             [
              0.5555555555555556,
              "#d8576b"
             ],
             [
              0.6666666666666666,
              "#ed7953"
             ],
             [
              0.7777777777777778,
              "#fb9f3a"
             ],
             [
              0.8888888888888888,
              "#fdca26"
             ],
             [
              1,
              "#f0f921"
             ]
            ],
            "type": "heatmapgl"
           }
          ],
          "histogram": [
           {
            "marker": {
             "colorbar": {
              "outlinewidth": 0,
              "ticks": ""
             }
            },
            "type": "histogram"
           }
          ],
          "histogram2d": [
           {
            "colorbar": {
             "outlinewidth": 0,
             "ticks": ""
            },
            "colorscale": [
             [
              0,
              "#0d0887"
             ],
             [
              0.1111111111111111,
              "#46039f"
             ],
             [
              0.2222222222222222,
              "#7201a8"
             ],
             [
              0.3333333333333333,
              "#9c179e"
             ],
             [
              0.4444444444444444,
              "#bd3786"
             ],
             [
              0.5555555555555556,
              "#d8576b"
             ],
             [
              0.6666666666666666,
              "#ed7953"
             ],
             [
              0.7777777777777778,
              "#fb9f3a"
             ],
             [
              0.8888888888888888,
              "#fdca26"
             ],
             [
              1,
              "#f0f921"
             ]
            ],
            "type": "histogram2d"
           }
          ],
          "histogram2dcontour": [
           {
            "colorbar": {
             "outlinewidth": 0,
             "ticks": ""
            },
            "colorscale": [
             [
              0,
              "#0d0887"
             ],
             [
              0.1111111111111111,
              "#46039f"
             ],
             [
              0.2222222222222222,
              "#7201a8"
             ],
             [
              0.3333333333333333,
              "#9c179e"
             ],
             [
              0.4444444444444444,
              "#bd3786"
             ],
             [
              0.5555555555555556,
              "#d8576b"
             ],
             [
              0.6666666666666666,
              "#ed7953"
             ],
             [
              0.7777777777777778,
              "#fb9f3a"
             ],
             [
              0.8888888888888888,
              "#fdca26"
             ],
             [
              1,
              "#f0f921"
             ]
            ],
            "type": "histogram2dcontour"
           }
          ],
          "mesh3d": [
           {
            "colorbar": {
             "outlinewidth": 0,
             "ticks": ""
            },
            "type": "mesh3d"
           }
          ],
          "parcoords": [
           {
            "line": {
             "colorbar": {
              "outlinewidth": 0,
              "ticks": ""
             }
            },
            "type": "parcoords"
           }
          ],
          "pie": [
           {
            "automargin": true,
            "type": "pie"
           }
          ],
          "scatter": [
           {
            "marker": {
             "colorbar": {
              "outlinewidth": 0,
              "ticks": ""
             }
            },
            "type": "scatter"
           }
          ],
          "scatter3d": [
           {
            "line": {
             "colorbar": {
              "outlinewidth": 0,
              "ticks": ""
             }
            },
            "marker": {
             "colorbar": {
              "outlinewidth": 0,
              "ticks": ""
             }
            },
            "type": "scatter3d"
           }
          ],
          "scattercarpet": [
           {
            "marker": {
             "colorbar": {
              "outlinewidth": 0,
              "ticks": ""
             }
            },
            "type": "scattercarpet"
           }
          ],
          "scattergeo": [
           {
            "marker": {
             "colorbar": {
              "outlinewidth": 0,
              "ticks": ""
             }
            },
            "type": "scattergeo"
           }
          ],
          "scattergl": [
           {
            "marker": {
             "colorbar": {
              "outlinewidth": 0,
              "ticks": ""
             }
            },
            "type": "scattergl"
           }
          ],
          "scattermapbox": [
           {
            "marker": {
             "colorbar": {
              "outlinewidth": 0,
              "ticks": ""
             }
            },
            "type": "scattermapbox"
           }
          ],
          "scatterpolar": [
           {
            "marker": {
             "colorbar": {
              "outlinewidth": 0,
              "ticks": ""
             }
            },
            "type": "scatterpolar"
           }
          ],
          "scatterpolargl": [
           {
            "marker": {
             "colorbar": {
              "outlinewidth": 0,
              "ticks": ""
             }
            },
            "type": "scatterpolargl"
           }
          ],
          "scatterternary": [
           {
            "marker": {
             "colorbar": {
              "outlinewidth": 0,
              "ticks": ""
             }
            },
            "type": "scatterternary"
           }
          ],
          "surface": [
           {
            "colorbar": {
             "outlinewidth": 0,
             "ticks": ""
            },
            "colorscale": [
             [
              0,
              "#0d0887"
             ],
             [
              0.1111111111111111,
              "#46039f"
             ],
             [
              0.2222222222222222,
              "#7201a8"
             ],
             [
              0.3333333333333333,
              "#9c179e"
             ],
             [
              0.4444444444444444,
              "#bd3786"
             ],
             [
              0.5555555555555556,
              "#d8576b"
             ],
             [
              0.6666666666666666,
              "#ed7953"
             ],
             [
              0.7777777777777778,
              "#fb9f3a"
             ],
             [
              0.8888888888888888,
              "#fdca26"
             ],
             [
              1,
              "#f0f921"
             ]
            ],
            "type": "surface"
           }
          ],
          "table": [
           {
            "cells": {
             "fill": {
              "color": "#EBF0F8"
             },
             "line": {
              "color": "white"
             }
            },
            "header": {
             "fill": {
              "color": "#C8D4E3"
             },
             "line": {
              "color": "white"
             }
            },
            "type": "table"
           }
          ]
         },
         "layout": {
          "annotationdefaults": {
           "arrowcolor": "#2a3f5f",
           "arrowhead": 0,
           "arrowwidth": 1
          },
          "autotypenumbers": "strict",
          "coloraxis": {
           "colorbar": {
            "outlinewidth": 0,
            "ticks": ""
           }
          },
          "colorscale": {
           "diverging": [
            [
             0,
             "#8e0152"
            ],
            [
             0.1,
             "#c51b7d"
            ],
            [
             0.2,
             "#de77ae"
            ],
            [
             0.3,
             "#f1b6da"
            ],
            [
             0.4,
             "#fde0ef"
            ],
            [
             0.5,
             "#f7f7f7"
            ],
            [
             0.6,
             "#e6f5d0"
            ],
            [
             0.7,
             "#b8e186"
            ],
            [
             0.8,
             "#7fbc41"
            ],
            [
             0.9,
             "#4d9221"
            ],
            [
             1,
             "#276419"
            ]
           ],
           "sequential": [
            [
             0,
             "#0d0887"
            ],
            [
             0.1111111111111111,
             "#46039f"
            ],
            [
             0.2222222222222222,
             "#7201a8"
            ],
            [
             0.3333333333333333,
             "#9c179e"
            ],
            [
             0.4444444444444444,
             "#bd3786"
            ],
            [
             0.5555555555555556,
             "#d8576b"
            ],
            [
             0.6666666666666666,
             "#ed7953"
            ],
            [
             0.7777777777777778,
             "#fb9f3a"
            ],
            [
             0.8888888888888888,
             "#fdca26"
            ],
            [
             1,
             "#f0f921"
            ]
           ],
           "sequentialminus": [
            [
             0,
             "#0d0887"
            ],
            [
             0.1111111111111111,
             "#46039f"
            ],
            [
             0.2222222222222222,
             "#7201a8"
            ],
            [
             0.3333333333333333,
             "#9c179e"
            ],
            [
             0.4444444444444444,
             "#bd3786"
            ],
            [
             0.5555555555555556,
             "#d8576b"
            ],
            [
             0.6666666666666666,
             "#ed7953"
            ],
            [
             0.7777777777777778,
             "#fb9f3a"
            ],
            [
             0.8888888888888888,
             "#fdca26"
            ],
            [
             1,
             "#f0f921"
            ]
           ]
          },
          "colorway": [
           "#636efa",
           "#EF553B",
           "#00cc96",
           "#ab63fa",
           "#FFA15A",
           "#19d3f3",
           "#FF6692",
           "#B6E880",
           "#FF97FF",
           "#FECB52"
          ],
          "font": {
           "color": "#2a3f5f"
          },
          "geo": {
           "bgcolor": "white",
           "lakecolor": "white",
           "landcolor": "#E5ECF6",
           "showlakes": true,
           "showland": true,
           "subunitcolor": "white"
          },
          "hoverlabel": {
           "align": "left"
          },
          "hovermode": "closest",
          "mapbox": {
           "style": "light"
          },
          "paper_bgcolor": "white",
          "plot_bgcolor": "#E5ECF6",
          "polar": {
           "angularaxis": {
            "gridcolor": "white",
            "linecolor": "white",
            "ticks": ""
           },
           "bgcolor": "#E5ECF6",
           "radialaxis": {
            "gridcolor": "white",
            "linecolor": "white",
            "ticks": ""
           }
          },
          "scene": {
           "xaxis": {
            "backgroundcolor": "#E5ECF6",
            "gridcolor": "white",
            "gridwidth": 2,
            "linecolor": "white",
            "showbackground": true,
            "ticks": "",
            "zerolinecolor": "white"
           },
           "yaxis": {
            "backgroundcolor": "#E5ECF6",
            "gridcolor": "white",
            "gridwidth": 2,
            "linecolor": "white",
            "showbackground": true,
            "ticks": "",
            "zerolinecolor": "white"
           },
           "zaxis": {
            "backgroundcolor": "#E5ECF6",
            "gridcolor": "white",
            "gridwidth": 2,
            "linecolor": "white",
            "showbackground": true,
            "ticks": "",
            "zerolinecolor": "white"
           }
          },
          "shapedefaults": {
           "line": {
            "color": "#2a3f5f"
           }
          },
          "ternary": {
           "aaxis": {
            "gridcolor": "white",
            "linecolor": "white",
            "ticks": ""
           },
           "baxis": {
            "gridcolor": "white",
            "linecolor": "white",
            "ticks": ""
           },
           "bgcolor": "#E5ECF6",
           "caxis": {
            "gridcolor": "white",
            "linecolor": "white",
            "ticks": ""
           }
          },
          "title": {
           "x": 0.05
          },
          "xaxis": {
           "automargin": true,
           "gridcolor": "white",
           "linecolor": "white",
           "ticks": "",
           "title": {
            "standoff": 15
           },
           "zerolinecolor": "white",
           "zerolinewidth": 2
          },
          "yaxis": {
           "automargin": true,
           "gridcolor": "white",
           "linecolor": "white",
           "ticks": "",
           "title": {
            "standoff": 15
           },
           "zerolinecolor": "white",
           "zerolinewidth": 2
          }
         }
        },
        "title": {
         "font": {
          "color": "#4D5663"
         }
        },
        "xaxis": {
         "gridcolor": "#E1E5ED",
         "showgrid": true,
         "tickfont": {
          "color": "#4D5663"
         },
         "title": {
          "font": {
           "color": "#4D5663"
          },
          "text": ""
         },
         "zerolinecolor": "#E1E5ED"
        },
        "yaxis": {
         "gridcolor": "#E1E5ED",
         "showgrid": true,
         "tickfont": {
          "color": "#4D5663"
         },
         "title": {
          "font": {
           "color": "#4D5663"
          },
          "text": ""
         },
         "zerolinecolor": "#E1E5ED"
        }
       }
      },
      "text/html": [
       "<div>                            <div id=\"456e2131-930b-46d5-8d2c-d2260e90569a\" class=\"plotly-graph-div\" style=\"height:525px; width:100%;\"></div>            <script type=\"text/javascript\">                require([\"plotly\"], function(Plotly) {                    window.PLOTLYENV=window.PLOTLYENV || {};\n",
       "                    window.PLOTLYENV.BASE_URL='https://plot.ly';                                    if (document.getElementById(\"456e2131-930b-46d5-8d2c-d2260e90569a\")) {                    Plotly.newPlot(                        \"456e2131-930b-46d5-8d2c-d2260e90569a\",                        [{\"marker\": {\"color\": [\"rgb(255, 153, 51)\", \"rgb(55, 128, 191)\", \"rgb(50, 171, 96)\", \"rgb(128, 0, 128)\", \"rgb(219, 64, 82)\", \"rgb(0, 128, 128)\", \"rgb(255, 255, 51)\", \"rgb(128, 128, 0)\", \"rgb(251, 128, 114)\", \"rgb(128, 177, 211)\"], \"line\": {\"width\": 1.3}, \"size\": [21, 44, 101, 25, 48, 49, 75, 91, 80, 64, 55, 33, 79, 57, 40, 69, 45, 59, 88, 87, 56, 43, 67, 31, 53, 69, 61, 41, 66, 79, 56, 68, 77, 60, 76, 66, 57, 85, 63, 84, 67, 89, 39, 42, 39, 55, 55, 83, 53, 52, 61, 107, 66, 74, 22, 94, 51, 112, 51, 52, 79, 64, 86, 46, 53, 71, 37, 41, 12, 79, 91, 40, 42, 67, 82, 60, 60, 72, 74, 52, 33, 70, 35, 58, 78, 49, 70, 61, 68, 46, 40, 30, 65, 67, 75, 111, 55, 73, 59, 68], \"symbol\": \"circle\"}, \"mode\": \"markers\", \"text\": \"\", \"type\": \"scatter\", \"x\": [0.2803514486783903, -1.3529818744563427, 0.5349335415489098, -0.46485644825077904, 0.23995054472161614, 0.015400907103716222, -0.2916104698915431, -0.23667497168901144, -0.6960369293674991, 0.05795719862127771, -2.707673763127651, 0.7613704053442429, 0.3038232136903593, 0.47448335399814273, -0.164943487319802, -0.1746685114526522, 0.2737289201669528, -1.595378768993628, -1.5108845426369344, 0.24616265746478627, 0.3065102838166673, 0.5813583720340318, 0.6865830735731809, -0.6258184147645117, -0.5546572199896735, -0.7466622678544448, -0.7270465111699874, -0.47816758216383126, -0.6669280389560786, 0.76101743324588, -0.013679710392465254, 1.2232943573945159, 2.5559833518724893, -0.07060403482627899, 0.13004671884714766, -0.45520923256722334, 0.29918460014033516, -0.5924241017540582, -0.15759225564599727, -1.4004988620018581, -1.7732366422243238, 0.19030716935011002, -1.8019881668928215, -0.557204660426035, -0.44856054866864037, -1.4060925644133255, -1.022320245094843, -0.8941673627250798, -2.245692439956184, 0.2521689296172425, 0.07855183616603281, -1.880184235826735, -0.3547545024536497, -0.15901492812930434, 1.4885512061851904, 1.154473168088508, 0.3506429831171856, 0.033939225063162694, -0.745605997038604, -0.08313589301236117, -0.40493746348498305, -0.41768247476306836, -0.4717648718246529, -1.1171886583955546, -2.129045780023768, -1.4832090385240868, -0.9441306566317546, 1.322478523659654, 0.42861599484286816, -0.009349041903356899, -1.116475110689967, -1.604227395364169, -2.6458410752338737, 0.11056779914131323, -0.4965388245769563, 0.17496256936776317, -0.2188956562305676, 0.6945059949492234, -1.5537040988224653, -0.4187519315700034, -1.5423386677726243, 0.06656236481758367, 0.6071611139142862, -0.2086185228188934, -0.6639641879325863, 1.0091151944427543, -0.45485719742929204, 0.7407282713470051, 0.7926935792564782, 0.8401881183890121, 0.9707636921175228, -0.8331596615803011, -0.6412226880173394, 0.5776137452811525, -0.709783389228246, 0.06455705181996911, 1.5612392254536525, 0.6579971954098929, -0.1399662625786303, 1.1855510000724214], \"y\": [0.17706896277187162, -0.6249373118454554, 0.3272590749722181, -0.9940401674343684, -2.530950849847117, 0.2636658317371174, 1.354219131183047, 0.6643474062171079, -1.6533612970498077, 0.7416715750244077, -0.9932428321735989, -0.6414343494166856, 0.8299153265150462, -1.021986403702533, 0.8987779717506097, 1.0164569804648547, -0.35952334786171086, 1.1094843584394358, 1.5121019739205415, -0.2604947937239252, -0.3690942205578536, 0.3615252687732477, -1.025107085234413, -1.4493849627756665, -0.8199570845444943, 0.4505595988304898, 1.1605376269740642, -1.188009381927696, 0.6787286337625219, 0.8039586299595403, -3.0833656542362573, 1.269449272266462, -0.3149057116993393, -1.2939815954736011, 0.12182680125676709, 0.33006216460025506, 0.21363583429407815, 1.6588885458762022, -0.19557754724933765, 1.0547923730917923, 0.6954831684772481, -0.34584471468312034, 0.6057788359167456, 0.1590495270200915, 1.5273126423059864, 0.348566619616232, -0.18952539532798401, 0.6252396166243234, 1.1062954259320954, -0.687910545726598, -0.9078626099526047, 0.48194398183866477, 0.5342528457953383, -0.23774105751875005, 0.06247792047270879, -0.3363551491205612, -1.4667065221044309, 0.0951224432524548, 1.0856472862022295, -0.5269712156766507, -0.3898477752743443, 0.6154660142894058, -1.7415795762625443, -0.316102495625554, -0.02737132768909968, -1.6443310620854097, -1.456726450295568, -0.54900368339122, 0.6835144512512027, 0.6592334242785094, -0.7801848924134268, 0.055159435884052276, -0.41360718927975393, -0.6787915069209751, 0.1528205833072065, -1.241618365094969, -0.11126935795339148, 1.0446944850176876, -0.39328046132648636, -0.9198930417706479, 1.5521279360686067, -0.5390003413131172, -0.2064753229521223, 0.6444836441877287, -2.490722034504807, 0.11470952204713913, 1.2685106961111818, 1.1869956882656112, -0.5344110224171819, -1.2146728790266499, -0.2380292931578603, 0.35164800826546266, 0.6321143673388616, -1.8475654305346552, 0.31649382271570314, -0.9371543855285568, 1.314046527434895, -0.12930965638675102, -0.2226154810643709, 0.9161026149352096]}],                        {\"legend\": {\"bgcolor\": \"#F5F6F9\", \"font\": {\"color\": \"#4D5663\"}}, \"paper_bgcolor\": \"#F5F6F9\", \"plot_bgcolor\": \"#F5F6F9\", \"template\": {\"data\": {\"bar\": [{\"error_x\": {\"color\": \"#2a3f5f\"}, \"error_y\": {\"color\": \"#2a3f5f\"}, \"marker\": {\"line\": {\"color\": \"#E5ECF6\", \"width\": 0.5}}, \"type\": \"bar\"}], \"barpolar\": [{\"marker\": {\"line\": {\"color\": \"#E5ECF6\", \"width\": 0.5}}, \"type\": \"barpolar\"}], \"carpet\": [{\"aaxis\": {\"endlinecolor\": \"#2a3f5f\", \"gridcolor\": \"white\", \"linecolor\": \"white\", \"minorgridcolor\": \"white\", \"startlinecolor\": \"#2a3f5f\"}, \"baxis\": {\"endlinecolor\": \"#2a3f5f\", \"gridcolor\": \"white\", \"linecolor\": \"white\", \"minorgridcolor\": \"white\", \"startlinecolor\": \"#2a3f5f\"}, \"type\": \"carpet\"}], \"choropleth\": [{\"colorbar\": {\"outlinewidth\": 0, \"ticks\": \"\"}, \"type\": \"choropleth\"}], \"contour\": [{\"colorbar\": {\"outlinewidth\": 0, \"ticks\": \"\"}, \"colorscale\": [[0.0, \"#0d0887\"], [0.1111111111111111, \"#46039f\"], [0.2222222222222222, \"#7201a8\"], [0.3333333333333333, \"#9c179e\"], [0.4444444444444444, \"#bd3786\"], [0.5555555555555556, \"#d8576b\"], [0.6666666666666666, \"#ed7953\"], [0.7777777777777778, \"#fb9f3a\"], [0.8888888888888888, \"#fdca26\"], [1.0, \"#f0f921\"]], \"type\": \"contour\"}], \"contourcarpet\": [{\"colorbar\": {\"outlinewidth\": 0, \"ticks\": \"\"}, \"type\": \"contourcarpet\"}], \"heatmap\": [{\"colorbar\": {\"outlinewidth\": 0, \"ticks\": \"\"}, \"colorscale\": [[0.0, \"#0d0887\"], [0.1111111111111111, \"#46039f\"], [0.2222222222222222, \"#7201a8\"], [0.3333333333333333, \"#9c179e\"], [0.4444444444444444, \"#bd3786\"], [0.5555555555555556, \"#d8576b\"], [0.6666666666666666, \"#ed7953\"], [0.7777777777777778, \"#fb9f3a\"], [0.8888888888888888, \"#fdca26\"], [1.0, \"#f0f921\"]], \"type\": \"heatmap\"}], \"heatmapgl\": [{\"colorbar\": {\"outlinewidth\": 0, \"ticks\": \"\"}, \"colorscale\": [[0.0, \"#0d0887\"], [0.1111111111111111, \"#46039f\"], [0.2222222222222222, \"#7201a8\"], [0.3333333333333333, \"#9c179e\"], [0.4444444444444444, \"#bd3786\"], [0.5555555555555556, \"#d8576b\"], [0.6666666666666666, \"#ed7953\"], [0.7777777777777778, \"#fb9f3a\"], [0.8888888888888888, \"#fdca26\"], [1.0, \"#f0f921\"]], \"type\": \"heatmapgl\"}], \"histogram\": [{\"marker\": {\"colorbar\": {\"outlinewidth\": 0, \"ticks\": \"\"}}, \"type\": \"histogram\"}], \"histogram2d\": [{\"colorbar\": {\"outlinewidth\": 0, \"ticks\": \"\"}, \"colorscale\": [[0.0, \"#0d0887\"], [0.1111111111111111, \"#46039f\"], [0.2222222222222222, \"#7201a8\"], [0.3333333333333333, \"#9c179e\"], [0.4444444444444444, \"#bd3786\"], [0.5555555555555556, \"#d8576b\"], [0.6666666666666666, \"#ed7953\"], [0.7777777777777778, \"#fb9f3a\"], [0.8888888888888888, \"#fdca26\"], [1.0, \"#f0f921\"]], \"type\": \"histogram2d\"}], \"histogram2dcontour\": [{\"colorbar\": {\"outlinewidth\": 0, \"ticks\": \"\"}, \"colorscale\": [[0.0, \"#0d0887\"], [0.1111111111111111, \"#46039f\"], [0.2222222222222222, \"#7201a8\"], [0.3333333333333333, \"#9c179e\"], [0.4444444444444444, \"#bd3786\"], [0.5555555555555556, \"#d8576b\"], [0.6666666666666666, \"#ed7953\"], [0.7777777777777778, \"#fb9f3a\"], [0.8888888888888888, \"#fdca26\"], [1.0, \"#f0f921\"]], \"type\": \"histogram2dcontour\"}], \"mesh3d\": [{\"colorbar\": {\"outlinewidth\": 0, \"ticks\": \"\"}, \"type\": \"mesh3d\"}], \"parcoords\": [{\"line\": {\"colorbar\": {\"outlinewidth\": 0, \"ticks\": \"\"}}, \"type\": \"parcoords\"}], \"pie\": [{\"automargin\": true, \"type\": \"pie\"}], \"scatter\": [{\"marker\": {\"colorbar\": {\"outlinewidth\": 0, \"ticks\": \"\"}}, \"type\": \"scatter\"}], \"scatter3d\": [{\"line\": {\"colorbar\": {\"outlinewidth\": 0, \"ticks\": \"\"}}, \"marker\": {\"colorbar\": {\"outlinewidth\": 0, \"ticks\": \"\"}}, \"type\": \"scatter3d\"}], \"scattercarpet\": [{\"marker\": {\"colorbar\": {\"outlinewidth\": 0, \"ticks\": \"\"}}, \"type\": \"scattercarpet\"}], \"scattergeo\": [{\"marker\": {\"colorbar\": {\"outlinewidth\": 0, \"ticks\": \"\"}}, \"type\": \"scattergeo\"}], \"scattergl\": [{\"marker\": {\"colorbar\": {\"outlinewidth\": 0, \"ticks\": \"\"}}, \"type\": \"scattergl\"}], \"scattermapbox\": [{\"marker\": {\"colorbar\": {\"outlinewidth\": 0, \"ticks\": \"\"}}, \"type\": \"scattermapbox\"}], \"scatterpolar\": [{\"marker\": {\"colorbar\": {\"outlinewidth\": 0, \"ticks\": \"\"}}, \"type\": \"scatterpolar\"}], \"scatterpolargl\": [{\"marker\": {\"colorbar\": {\"outlinewidth\": 0, \"ticks\": \"\"}}, \"type\": \"scatterpolargl\"}], \"scatterternary\": [{\"marker\": {\"colorbar\": {\"outlinewidth\": 0, \"ticks\": \"\"}}, \"type\": \"scatterternary\"}], \"surface\": [{\"colorbar\": {\"outlinewidth\": 0, \"ticks\": \"\"}, \"colorscale\": [[0.0, \"#0d0887\"], [0.1111111111111111, \"#46039f\"], [0.2222222222222222, \"#7201a8\"], [0.3333333333333333, \"#9c179e\"], [0.4444444444444444, \"#bd3786\"], [0.5555555555555556, \"#d8576b\"], [0.6666666666666666, \"#ed7953\"], [0.7777777777777778, \"#fb9f3a\"], [0.8888888888888888, \"#fdca26\"], [1.0, \"#f0f921\"]], \"type\": \"surface\"}], \"table\": [{\"cells\": {\"fill\": {\"color\": \"#EBF0F8\"}, \"line\": {\"color\": \"white\"}}, \"header\": {\"fill\": {\"color\": \"#C8D4E3\"}, \"line\": {\"color\": \"white\"}}, \"type\": \"table\"}]}, \"layout\": {\"annotationdefaults\": {\"arrowcolor\": \"#2a3f5f\", \"arrowhead\": 0, \"arrowwidth\": 1}, \"autotypenumbers\": \"strict\", \"coloraxis\": {\"colorbar\": {\"outlinewidth\": 0, \"ticks\": \"\"}}, \"colorscale\": {\"diverging\": [[0, \"#8e0152\"], [0.1, \"#c51b7d\"], [0.2, \"#de77ae\"], [0.3, \"#f1b6da\"], [0.4, \"#fde0ef\"], [0.5, \"#f7f7f7\"], [0.6, \"#e6f5d0\"], [0.7, \"#b8e186\"], [0.8, \"#7fbc41\"], [0.9, \"#4d9221\"], [1, \"#276419\"]], \"sequential\": [[0.0, \"#0d0887\"], [0.1111111111111111, \"#46039f\"], [0.2222222222222222, \"#7201a8\"], [0.3333333333333333, \"#9c179e\"], [0.4444444444444444, \"#bd3786\"], [0.5555555555555556, \"#d8576b\"], [0.6666666666666666, \"#ed7953\"], [0.7777777777777778, \"#fb9f3a\"], [0.8888888888888888, \"#fdca26\"], [1.0, \"#f0f921\"]], \"sequentialminus\": [[0.0, \"#0d0887\"], [0.1111111111111111, \"#46039f\"], [0.2222222222222222, \"#7201a8\"], [0.3333333333333333, \"#9c179e\"], [0.4444444444444444, \"#bd3786\"], [0.5555555555555556, \"#d8576b\"], [0.6666666666666666, \"#ed7953\"], [0.7777777777777778, \"#fb9f3a\"], [0.8888888888888888, \"#fdca26\"], [1.0, \"#f0f921\"]]}, \"colorway\": [\"#636efa\", \"#EF553B\", \"#00cc96\", \"#ab63fa\", \"#FFA15A\", \"#19d3f3\", \"#FF6692\", \"#B6E880\", \"#FF97FF\", \"#FECB52\"], \"font\": {\"color\": \"#2a3f5f\"}, \"geo\": {\"bgcolor\": \"white\", \"lakecolor\": \"white\", \"landcolor\": \"#E5ECF6\", \"showlakes\": true, \"showland\": true, \"subunitcolor\": \"white\"}, \"hoverlabel\": {\"align\": \"left\"}, \"hovermode\": \"closest\", \"mapbox\": {\"style\": \"light\"}, \"paper_bgcolor\": \"white\", \"plot_bgcolor\": \"#E5ECF6\", \"polar\": {\"angularaxis\": {\"gridcolor\": \"white\", \"linecolor\": \"white\", \"ticks\": \"\"}, \"bgcolor\": \"#E5ECF6\", \"radialaxis\": {\"gridcolor\": \"white\", \"linecolor\": \"white\", \"ticks\": \"\"}}, \"scene\": {\"xaxis\": {\"backgroundcolor\": \"#E5ECF6\", \"gridcolor\": \"white\", \"gridwidth\": 2, \"linecolor\": \"white\", \"showbackground\": true, \"ticks\": \"\", \"zerolinecolor\": \"white\"}, \"yaxis\": {\"backgroundcolor\": \"#E5ECF6\", \"gridcolor\": \"white\", \"gridwidth\": 2, \"linecolor\": \"white\", \"showbackground\": true, \"ticks\": \"\", \"zerolinecolor\": \"white\"}, \"zaxis\": {\"backgroundcolor\": \"#E5ECF6\", \"gridcolor\": \"white\", \"gridwidth\": 2, \"linecolor\": \"white\", \"showbackground\": true, \"ticks\": \"\", \"zerolinecolor\": \"white\"}}, \"shapedefaults\": {\"line\": {\"color\": \"#2a3f5f\"}}, \"ternary\": {\"aaxis\": {\"gridcolor\": \"white\", \"linecolor\": \"white\", \"ticks\": \"\"}, \"baxis\": {\"gridcolor\": \"white\", \"linecolor\": \"white\", \"ticks\": \"\"}, \"bgcolor\": \"#E5ECF6\", \"caxis\": {\"gridcolor\": \"white\", \"linecolor\": \"white\", \"ticks\": \"\"}}, \"title\": {\"x\": 0.05}, \"xaxis\": {\"automargin\": true, \"gridcolor\": \"white\", \"linecolor\": \"white\", \"ticks\": \"\", \"title\": {\"standoff\": 15}, \"zerolinecolor\": \"white\", \"zerolinewidth\": 2}, \"yaxis\": {\"automargin\": true, \"gridcolor\": \"white\", \"linecolor\": \"white\", \"ticks\": \"\", \"title\": {\"standoff\": 15}, \"zerolinecolor\": \"white\", \"zerolinewidth\": 2}}}, \"title\": {\"font\": {\"color\": \"#4D5663\"}}, \"xaxis\": {\"gridcolor\": \"#E1E5ED\", \"showgrid\": true, \"tickfont\": {\"color\": \"#4D5663\"}, \"title\": {\"font\": {\"color\": \"#4D5663\"}, \"text\": \"\"}, \"zerolinecolor\": \"#E1E5ED\"}, \"yaxis\": {\"gridcolor\": \"#E1E5ED\", \"showgrid\": true, \"tickfont\": {\"color\": \"#4D5663\"}, \"title\": {\"font\": {\"color\": \"#4D5663\"}, \"text\": \"\"}, \"zerolinecolor\": \"#E1E5ED\"}},                        {\"showLink\": true, \"linkText\": \"Export to plot.ly\", \"plotlyServerURL\": \"https://plot.ly\", \"responsive\": true}                    ).then(function(){\n",
       "                            \n",
       "var gd = document.getElementById('456e2131-930b-46d5-8d2c-d2260e90569a');\n",
       "var x = new MutationObserver(function (mutations, observer) {{\n",
       "        var display = window.getComputedStyle(gd).display;\n",
       "        if (!display || display === 'none') {{\n",
       "            console.log([gd, 'removed!']);\n",
       "            Plotly.purge(gd);\n",
       "            observer.disconnect();\n",
       "        }}\n",
       "}});\n",
       "\n",
       "// Listen for the removal of the full notebook cells\n",
       "var notebookContainer = gd.closest('#notebook-container');\n",
       "if (notebookContainer) {{\n",
       "    x.observe(notebookContainer, {childList: true});\n",
       "}}\n",
       "\n",
       "// Listen for the clearing of the current output cell\n",
       "var outputEl = gd.closest('.output');\n",
       "if (outputEl) {{\n",
       "    x.observe(outputEl, {childList: true});\n",
       "}}\n",
       "\n",
       "                        })                };                });            </script>        </div>"
      ]
     },
     "metadata": {},
     "output_type": "display_data"
    }
   ],
   "source": [
    "df.iplot(kind='bubble', x='A', y='B', size='C')"
   ]
  },
  {
   "cell_type": "markdown",
   "id": "based-livestock",
   "metadata": {},
   "source": [
    "## scatter_matrix: matrix of dispersions (silimar to seaborn pairplot)"
   ]
  },
  {
   "cell_type": "code",
   "execution_count": 27,
   "id": "technical-overhead",
   "metadata": {},
   "outputs": [
    {
     "data": {
      "application/vnd.plotly.v1+json": {
       "config": {
        "linkText": "Export to plot.ly",
        "plotlyServerURL": "https://plot.ly",
        "showLink": true
       },
       "data": [
        {
         "histfunc": "count",
         "histnorm": "",
         "marker": {
          "color": "rgba(255, 153, 51, 1.0)",
          "line": {
           "color": "#4D5663",
           "width": 1.3
          }
         },
         "name": "A",
         "nbinsx": 10,
         "opacity": 0.8,
         "orientation": "v",
         "type": "histogram",
         "x": [
          0.2803514486783903,
          -1.3529818744563427,
          0.5349335415489098,
          -0.46485644825077904,
          0.23995054472161614,
          0.015400907103716222,
          -0.2916104698915431,
          -0.23667497168901144,
          -0.6960369293674991,
          0.05795719862127771,
          -2.707673763127651,
          0.7613704053442429,
          0.3038232136903593,
          0.47448335399814273,
          -0.164943487319802,
          -0.1746685114526522,
          0.2737289201669528,
          -1.595378768993628,
          -1.5108845426369344,
          0.24616265746478627,
          0.3065102838166673,
          0.5813583720340318,
          0.6865830735731809,
          -0.6258184147645117,
          -0.5546572199896735,
          -0.7466622678544448,
          -0.7270465111699874,
          -0.47816758216383126,
          -0.6669280389560786,
          0.76101743324588,
          -0.013679710392465254,
          1.2232943573945159,
          2.5559833518724893,
          -0.07060403482627899,
          0.13004671884714766,
          -0.45520923256722334,
          0.29918460014033516,
          -0.5924241017540582,
          -0.15759225564599727,
          -1.4004988620018581,
          -1.7732366422243238,
          0.19030716935011002,
          -1.8019881668928215,
          -0.557204660426035,
          -0.44856054866864037,
          -1.4060925644133255,
          -1.022320245094843,
          -0.8941673627250798,
          -2.245692439956184,
          0.2521689296172425,
          0.07855183616603281,
          -1.880184235826735,
          -0.3547545024536497,
          -0.15901492812930434,
          1.4885512061851904,
          1.154473168088508,
          0.3506429831171856,
          0.033939225063162694,
          -0.745605997038604,
          -0.08313589301236117,
          -0.40493746348498305,
          -0.41768247476306836,
          -0.4717648718246529,
          -1.1171886583955546,
          -2.129045780023768,
          -1.4832090385240868,
          -0.9441306566317546,
          1.322478523659654,
          0.42861599484286816,
          -0.009349041903356899,
          -1.116475110689967,
          -1.604227395364169,
          -2.6458410752338737,
          0.11056779914131323,
          -0.4965388245769563,
          0.17496256936776317,
          -0.2188956562305676,
          0.6945059949492234,
          -1.5537040988224653,
          -0.4187519315700034,
          -1.5423386677726243,
          0.06656236481758367,
          0.6071611139142862,
          -0.2086185228188934,
          -0.6639641879325863,
          1.0091151944427543,
          -0.45485719742929204,
          0.7407282713470051,
          0.7926935792564782,
          0.8401881183890121,
          0.9707636921175228,
          -0.8331596615803011,
          -0.6412226880173394,
          0.5776137452811525,
          -0.709783389228246,
          0.06455705181996911,
          1.5612392254536525,
          0.6579971954098929,
          -0.1399662625786303,
          1.1855510000724214
         ],
         "xaxis": "x",
         "yaxis": "y"
        },
        {
         "line": {
          "color": "rgba(128, 128, 128, 1.0)",
          "dash": "solid",
          "shape": "linear",
          "width": 1.3
         },
         "marker": {
          "size": 2,
          "symbol": "circle"
         },
         "mode": "markers",
         "name": "A",
         "text": "",
         "type": "scatter",
         "x": [
          0.17706896277187162,
          -0.6249373118454554,
          0.3272590749722181,
          -0.9940401674343684,
          -2.530950849847117,
          0.2636658317371174,
          1.354219131183047,
          0.6643474062171079,
          -1.6533612970498077,
          0.7416715750244077,
          -0.9932428321735989,
          -0.6414343494166856,
          0.8299153265150462,
          -1.021986403702533,
          0.8987779717506097,
          1.0164569804648547,
          -0.35952334786171086,
          1.1094843584394358,
          1.5121019739205415,
          -0.2604947937239252,
          -0.3690942205578536,
          0.3615252687732477,
          -1.025107085234413,
          -1.4493849627756665,
          -0.8199570845444943,
          0.4505595988304898,
          1.1605376269740642,
          -1.188009381927696,
          0.6787286337625219,
          0.8039586299595403,
          -3.0833656542362573,
          1.269449272266462,
          -0.3149057116993393,
          -1.2939815954736011,
          0.12182680125676709,
          0.33006216460025506,
          0.21363583429407815,
          1.6588885458762022,
          -0.19557754724933765,
          1.0547923730917923,
          0.6954831684772481,
          -0.34584471468312034,
          0.6057788359167456,
          0.1590495270200915,
          1.5273126423059864,
          0.348566619616232,
          -0.18952539532798401,
          0.6252396166243234,
          1.1062954259320954,
          -0.687910545726598,
          -0.9078626099526047,
          0.48194398183866477,
          0.5342528457953383,
          -0.23774105751875005,
          0.06247792047270879,
          -0.3363551491205612,
          -1.4667065221044309,
          0.0951224432524548,
          1.0856472862022295,
          -0.5269712156766507,
          -0.3898477752743443,
          0.6154660142894058,
          -1.7415795762625443,
          -0.316102495625554,
          -0.02737132768909968,
          -1.6443310620854097,
          -1.456726450295568,
          -0.54900368339122,
          0.6835144512512027,
          0.6592334242785094,
          -0.7801848924134268,
          0.055159435884052276,
          -0.41360718927975393,
          -0.6787915069209751,
          0.1528205833072065,
          -1.241618365094969,
          -0.11126935795339148,
          1.0446944850176876,
          -0.39328046132648636,
          -0.9198930417706479,
          1.5521279360686067,
          -0.5390003413131172,
          -0.2064753229521223,
          0.6444836441877287,
          -2.490722034504807,
          0.11470952204713913,
          1.2685106961111818,
          1.1869956882656112,
          -0.5344110224171819,
          -1.2146728790266499,
          -0.2380292931578603,
          0.35164800826546266,
          0.6321143673388616,
          -1.8475654305346552,
          0.31649382271570314,
          -0.9371543855285568,
          1.314046527434895,
          -0.12930965638675102,
          -0.2226154810643709,
          0.9161026149352096
         ],
         "xaxis": "x2",
         "y": [
          0.2803514486783903,
          -1.3529818744563427,
          0.5349335415489098,
          -0.46485644825077904,
          0.23995054472161614,
          0.015400907103716222,
          -0.2916104698915431,
          -0.23667497168901144,
          -0.6960369293674991,
          0.05795719862127771,
          -2.707673763127651,
          0.7613704053442429,
          0.3038232136903593,
          0.47448335399814273,
          -0.164943487319802,
          -0.1746685114526522,
          0.2737289201669528,
          -1.595378768993628,
          -1.5108845426369344,
          0.24616265746478627,
          0.3065102838166673,
          0.5813583720340318,
          0.6865830735731809,
          -0.6258184147645117,
          -0.5546572199896735,
          -0.7466622678544448,
          -0.7270465111699874,
          -0.47816758216383126,
          -0.6669280389560786,
          0.76101743324588,
          -0.013679710392465254,
          1.2232943573945159,
          2.5559833518724893,
          -0.07060403482627899,
          0.13004671884714766,
          -0.45520923256722334,
          0.29918460014033516,
          -0.5924241017540582,
          -0.15759225564599727,
          -1.4004988620018581,
          -1.7732366422243238,
          0.19030716935011002,
          -1.8019881668928215,
          -0.557204660426035,
          -0.44856054866864037,
          -1.4060925644133255,
          -1.022320245094843,
          -0.8941673627250798,
          -2.245692439956184,
          0.2521689296172425,
          0.07855183616603281,
          -1.880184235826735,
          -0.3547545024536497,
          -0.15901492812930434,
          1.4885512061851904,
          1.154473168088508,
          0.3506429831171856,
          0.033939225063162694,
          -0.745605997038604,
          -0.08313589301236117,
          -0.40493746348498305,
          -0.41768247476306836,
          -0.4717648718246529,
          -1.1171886583955546,
          -2.129045780023768,
          -1.4832090385240868,
          -0.9441306566317546,
          1.322478523659654,
          0.42861599484286816,
          -0.009349041903356899,
          -1.116475110689967,
          -1.604227395364169,
          -2.6458410752338737,
          0.11056779914131323,
          -0.4965388245769563,
          0.17496256936776317,
          -0.2188956562305676,
          0.6945059949492234,
          -1.5537040988224653,
          -0.4187519315700034,
          -1.5423386677726243,
          0.06656236481758367,
          0.6071611139142862,
          -0.2086185228188934,
          -0.6639641879325863,
          1.0091151944427543,
          -0.45485719742929204,
          0.7407282713470051,
          0.7926935792564782,
          0.8401881183890121,
          0.9707636921175228,
          -0.8331596615803011,
          -0.6412226880173394,
          0.5776137452811525,
          -0.709783389228246,
          0.06455705181996911,
          1.5612392254536525,
          0.6579971954098929,
          -0.1399662625786303,
          1.1855510000724214
         ],
         "yaxis": "y2"
        },
        {
         "line": {
          "color": "rgba(128, 128, 128, 1.0)",
          "dash": "solid",
          "shape": "linear",
          "width": 1.3
         },
         "marker": {
          "size": 2,
          "symbol": "circle"
         },
         "mode": "markers",
         "name": "A",
         "text": "",
         "type": "scatter",
         "x": [
          -2.392449090745727,
          -1.0617610195517124,
          2.217577774879199,
          -2.1779444355321353,
          -0.8121055877240545,
          -0.7746532570244032,
          0.7030526756647797,
          1.5960705297915396,
          0.9697825046201582,
          0.09654561836098974,
          -0.4111470689105436,
          -1.714433409650028,
          0.9305071704462848,
          -0.34927440847572006,
          -1.2836356184490894,
          0.37071448751114106,
          -1.0065758264180849,
          -0.21234678778496685,
          1.4548132175994113,
          1.367560293167318,
          -0.3834926316147219,
          -1.1162160395077914,
          0.27014406239797,
          -1.8241545117574738,
          -0.5719640611581355,
          0.35064663858170936,
          -0.11607432917288818,
          -1.2130003627713901,
          0.1944688606000843,
          0.9473014612309798,
          -0.3771930345287786,
          0.3150503017865192,
          0.7941128256660478,
          -0.16901109098163897,
          0.7857527425599498,
          0.20501827976607556,
          -0.30329038211263465,
          1.2967584326539083,
          0.015311590896882568,
          1.2046927466472341,
          0.24295398729853393,
          1.507870989115243,
          -1.3620291934431374,
          -1.2029309697776815,
          -1.33851449728627,
          -0.4400825665526056,
          -0.4640808404095627,
          1.1453226418826887,
          -0.5316768403463288,
          -0.6244809450309862,
          -0.11946151940180644,
          2.56150376466554,
          0.18471940380253912,
          0.663430075062486,
          -2.3085509848434023,
          1.7976013757255478,
          -0.6904563964744526,
          2.7909713645302636,
          -0.6428921267102796,
          -0.5822092806174856,
          0.9513219009855614,
          0.0686603140688749,
          1.320262270992589,
          -0.9285445800039841,
          -0.5554649960632836,
          0.4764140059804784,
          -1.4463556836268234,
          -1.2631022186673608,
          -2.9247977287174445,
          0.9090892062818072,
          1.6423475047197922,
          -1.3001758539335535,
          -1.1808477175120704,
          0.2705472095520638,
          1.0876381779091167,
          -0.17523884543821572,
          -0.1334008391090635,
          0.5147391648902362,
          0.6751204577550315,
          -0.6178474564556888,
          -1.689505147493363,
          0.4374628571706745,
          -1.562310762800644,
          -0.2504486862566129,
          0.8744056262125431,
          -0.7753440359013597,
          0.4321155399840242,
          -0.10522895301904903,
          0.3050607058928969,
          -0.9462718881676678,
          -1.318911504859071,
          -1.8950386360261857,
          0.14491189531719736,
          0.21966745452151398,
          0.6822693670204852,
          2.7793665898883817,
          -0.45363989798818377,
          0.5958180244618567,
          -0.20141467567739665,
          0.27809903575079464
         ],
         "xaxis": "x3",
         "y": [
          0.2803514486783903,
          -1.3529818744563427,
          0.5349335415489098,
          -0.46485644825077904,
          0.23995054472161614,
          0.015400907103716222,
          -0.2916104698915431,
          -0.23667497168901144,
          -0.6960369293674991,
          0.05795719862127771,
          -2.707673763127651,
          0.7613704053442429,
          0.3038232136903593,
          0.47448335399814273,
          -0.164943487319802,
          -0.1746685114526522,
          0.2737289201669528,
          -1.595378768993628,
          -1.5108845426369344,
          0.24616265746478627,
          0.3065102838166673,
          0.5813583720340318,
          0.6865830735731809,
          -0.6258184147645117,
          -0.5546572199896735,
          -0.7466622678544448,
          -0.7270465111699874,
          -0.47816758216383126,
          -0.6669280389560786,
          0.76101743324588,
          -0.013679710392465254,
          1.2232943573945159,
          2.5559833518724893,
          -0.07060403482627899,
          0.13004671884714766,
          -0.45520923256722334,
          0.29918460014033516,
          -0.5924241017540582,
          -0.15759225564599727,
          -1.4004988620018581,
          -1.7732366422243238,
          0.19030716935011002,
          -1.8019881668928215,
          -0.557204660426035,
          -0.44856054866864037,
          -1.4060925644133255,
          -1.022320245094843,
          -0.8941673627250798,
          -2.245692439956184,
          0.2521689296172425,
          0.07855183616603281,
          -1.880184235826735,
          -0.3547545024536497,
          -0.15901492812930434,
          1.4885512061851904,
          1.154473168088508,
          0.3506429831171856,
          0.033939225063162694,
          -0.745605997038604,
          -0.08313589301236117,
          -0.40493746348498305,
          -0.41768247476306836,
          -0.4717648718246529,
          -1.1171886583955546,
          -2.129045780023768,
          -1.4832090385240868,
          -0.9441306566317546,
          1.322478523659654,
          0.42861599484286816,
          -0.009349041903356899,
          -1.116475110689967,
          -1.604227395364169,
          -2.6458410752338737,
          0.11056779914131323,
          -0.4965388245769563,
          0.17496256936776317,
          -0.2188956562305676,
          0.6945059949492234,
          -1.5537040988224653,
          -0.4187519315700034,
          -1.5423386677726243,
          0.06656236481758367,
          0.6071611139142862,
          -0.2086185228188934,
          -0.6639641879325863,
          1.0091151944427543,
          -0.45485719742929204,
          0.7407282713470051,
          0.7926935792564782,
          0.8401881183890121,
          0.9707636921175228,
          -0.8331596615803011,
          -0.6412226880173394,
          0.5776137452811525,
          -0.709783389228246,
          0.06455705181996911,
          1.5612392254536525,
          0.6579971954098929,
          -0.1399662625786303,
          1.1855510000724214
         ],
         "yaxis": "y3"
        },
        {
         "line": {
          "color": "rgba(128, 128, 128, 1.0)",
          "dash": "solid",
          "shape": "linear",
          "width": 1.3
         },
         "marker": {
          "size": 2,
          "symbol": "circle"
         },
         "mode": "markers",
         "name": "A",
         "text": "",
         "type": "scatter",
         "x": [
          1.1799654205219414,
          -0.900168005349071,
          -0.04451479704022886,
          1.0653684715245106,
          0.1764817562654781,
          -0.8349127232369903,
          -0.6960952821297788,
          -1.9455580284231706,
          1.0533620636016847,
          0.09333401668230523,
          -1.6060535940338903,
          1.2594127954087435,
          -1.4065403106576317,
          0.2339046800235441,
          -0.3990753387793068,
          0.14615553406265083,
          -0.22350669947064497,
          0.640765174595041,
          -0.01781445016880167,
          0.03805637164732594,
          -0.5319945548529844,
          0.48867166111317945,
          0.984428316137575,
          -0.03300147507971211,
          -0.4460017887530481,
          0.6605359725750817,
          1.0419966648711196,
          0.3102082312382125,
          0.4790833644265756,
          0.3011265455026397,
          0.7106774292313758,
          -1.8873548298757337,
          -0.5137549468477939,
          0.8398922989685574,
          1.0871651095232162,
          -0.6095935911603446,
          -0.9572471512220628,
          -0.09168866772342649,
          0.9006727983883414,
          -0.5324291315386876,
          -1.726570160418048,
          1.0140854466616918,
          0.07895740073962702,
          0.028232441746865927,
          0.1292868222577738,
          -0.47837331868394956,
          1.3766507537397314,
          1.95145601238955,
          0.506741706843716,
          1.2533742976373865,
          -0.3619270048935121,
          -0.8616935877086113,
          -0.2655896252796371,
          0.2271565839704893,
          2.4137730541621982,
          0.9732167058624435,
          1.9659798542459828,
          1.0949859809977442,
          0.5445608800317912,
          -0.17559363806582184,
          -0.17602397006631898,
          2.126044789094438,
          -0.2679660738387135,
          -0.5899014259574387,
          0.8233918972239539,
          0.5982102131868876,
          -0.23974548763690395,
          -0.7625645661411272,
          2.131255846154423,
          -0.16089139609515746,
          0.18381944256905272,
          0.2267617909081373,
          0.7803127983852142,
          0.20624611159253428,
          -0.29663636897520196,
          0.35153327070056284,
          0.2533433329388325,
          1.3385403406301426,
          0.39338621737609836,
          -1.2594537167617184,
          0.7822207461721324,
          -0.996742549160656,
          0.35159121972752716,
          -1.814256381533014,
          -0.37513101639477564,
          0.750078538828769,
          0.46153055686012423,
          1.0646275597072927,
          -1.473212781815409,
          -0.29988514652464204,
          0.0250383601161776,
          -1.2807437185006134,
          -0.04386155936399598,
          -0.5689608056658727,
          1.3878061561455213,
          -0.038124352960860156,
          -0.10663655667386701,
          -0.7727476047248021,
          -2.0244093820446296,
          0.16588996022679559
         ],
         "xaxis": "x4",
         "y": [
          0.2803514486783903,
          -1.3529818744563427,
          0.5349335415489098,
          -0.46485644825077904,
          0.23995054472161614,
          0.015400907103716222,
          -0.2916104698915431,
          -0.23667497168901144,
          -0.6960369293674991,
          0.05795719862127771,
          -2.707673763127651,
          0.7613704053442429,
          0.3038232136903593,
          0.47448335399814273,
          -0.164943487319802,
          -0.1746685114526522,
          0.2737289201669528,
          -1.595378768993628,
          -1.5108845426369344,
          0.24616265746478627,
          0.3065102838166673,
          0.5813583720340318,
          0.6865830735731809,
          -0.6258184147645117,
          -0.5546572199896735,
          -0.7466622678544448,
          -0.7270465111699874,
          -0.47816758216383126,
          -0.6669280389560786,
          0.76101743324588,
          -0.013679710392465254,
          1.2232943573945159,
          2.5559833518724893,
          -0.07060403482627899,
          0.13004671884714766,
          -0.45520923256722334,
          0.29918460014033516,
          -0.5924241017540582,
          -0.15759225564599727,
          -1.4004988620018581,
          -1.7732366422243238,
          0.19030716935011002,
          -1.8019881668928215,
          -0.557204660426035,
          -0.44856054866864037,
          -1.4060925644133255,
          -1.022320245094843,
          -0.8941673627250798,
          -2.245692439956184,
          0.2521689296172425,
          0.07855183616603281,
          -1.880184235826735,
          -0.3547545024536497,
          -0.15901492812930434,
          1.4885512061851904,
          1.154473168088508,
          0.3506429831171856,
          0.033939225063162694,
          -0.745605997038604,
          -0.08313589301236117,
          -0.40493746348498305,
          -0.41768247476306836,
          -0.4717648718246529,
          -1.1171886583955546,
          -2.129045780023768,
          -1.4832090385240868,
          -0.9441306566317546,
          1.322478523659654,
          0.42861599484286816,
          -0.009349041903356899,
          -1.116475110689967,
          -1.604227395364169,
          -2.6458410752338737,
          0.11056779914131323,
          -0.4965388245769563,
          0.17496256936776317,
          -0.2188956562305676,
          0.6945059949492234,
          -1.5537040988224653,
          -0.4187519315700034,
          -1.5423386677726243,
          0.06656236481758367,
          0.6071611139142862,
          -0.2086185228188934,
          -0.6639641879325863,
          1.0091151944427543,
          -0.45485719742929204,
          0.7407282713470051,
          0.7926935792564782,
          0.8401881183890121,
          0.9707636921175228,
          -0.8331596615803011,
          -0.6412226880173394,
          0.5776137452811525,
          -0.709783389228246,
          0.06455705181996911,
          1.5612392254536525,
          0.6579971954098929,
          -0.1399662625786303,
          1.1855510000724214
         ],
         "yaxis": "y4"
        },
        {
         "line": {
          "color": "rgba(128, 128, 128, 1.0)",
          "dash": "solid",
          "shape": "linear",
          "width": 1.3
         },
         "marker": {
          "size": 2,
          "symbol": "circle"
         },
         "mode": "markers",
         "name": "B",
         "text": "",
         "type": "scatter",
         "x": [
          0.2803514486783903,
          -1.3529818744563427,
          0.5349335415489098,
          -0.46485644825077904,
          0.23995054472161614,
          0.015400907103716222,
          -0.2916104698915431,
          -0.23667497168901144,
          -0.6960369293674991,
          0.05795719862127771,
          -2.707673763127651,
          0.7613704053442429,
          0.3038232136903593,
          0.47448335399814273,
          -0.164943487319802,
          -0.1746685114526522,
          0.2737289201669528,
          -1.595378768993628,
          -1.5108845426369344,
          0.24616265746478627,
          0.3065102838166673,
          0.5813583720340318,
          0.6865830735731809,
          -0.6258184147645117,
          -0.5546572199896735,
          -0.7466622678544448,
          -0.7270465111699874,
          -0.47816758216383126,
          -0.6669280389560786,
          0.76101743324588,
          -0.013679710392465254,
          1.2232943573945159,
          2.5559833518724893,
          -0.07060403482627899,
          0.13004671884714766,
          -0.45520923256722334,
          0.29918460014033516,
          -0.5924241017540582,
          -0.15759225564599727,
          -1.4004988620018581,
          -1.7732366422243238,
          0.19030716935011002,
          -1.8019881668928215,
          -0.557204660426035,
          -0.44856054866864037,
          -1.4060925644133255,
          -1.022320245094843,
          -0.8941673627250798,
          -2.245692439956184,
          0.2521689296172425,
          0.07855183616603281,
          -1.880184235826735,
          -0.3547545024536497,
          -0.15901492812930434,
          1.4885512061851904,
          1.154473168088508,
          0.3506429831171856,
          0.033939225063162694,
          -0.745605997038604,
          -0.08313589301236117,
          -0.40493746348498305,
          -0.41768247476306836,
          -0.4717648718246529,
          -1.1171886583955546,
          -2.129045780023768,
          -1.4832090385240868,
          -0.9441306566317546,
          1.322478523659654,
          0.42861599484286816,
          -0.009349041903356899,
          -1.116475110689967,
          -1.604227395364169,
          -2.6458410752338737,
          0.11056779914131323,
          -0.4965388245769563,
          0.17496256936776317,
          -0.2188956562305676,
          0.6945059949492234,
          -1.5537040988224653,
          -0.4187519315700034,
          -1.5423386677726243,
          0.06656236481758367,
          0.6071611139142862,
          -0.2086185228188934,
          -0.6639641879325863,
          1.0091151944427543,
          -0.45485719742929204,
          0.7407282713470051,
          0.7926935792564782,
          0.8401881183890121,
          0.9707636921175228,
          -0.8331596615803011,
          -0.6412226880173394,
          0.5776137452811525,
          -0.709783389228246,
          0.06455705181996911,
          1.5612392254536525,
          0.6579971954098929,
          -0.1399662625786303,
          1.1855510000724214
         ],
         "xaxis": "x5",
         "y": [
          0.17706896277187162,
          -0.6249373118454554,
          0.3272590749722181,
          -0.9940401674343684,
          -2.530950849847117,
          0.2636658317371174,
          1.354219131183047,
          0.6643474062171079,
          -1.6533612970498077,
          0.7416715750244077,
          -0.9932428321735989,
          -0.6414343494166856,
          0.8299153265150462,
          -1.021986403702533,
          0.8987779717506097,
          1.0164569804648547,
          -0.35952334786171086,
          1.1094843584394358,
          1.5121019739205415,
          -0.2604947937239252,
          -0.3690942205578536,
          0.3615252687732477,
          -1.025107085234413,
          -1.4493849627756665,
          -0.8199570845444943,
          0.4505595988304898,
          1.1605376269740642,
          -1.188009381927696,
          0.6787286337625219,
          0.8039586299595403,
          -3.0833656542362573,
          1.269449272266462,
          -0.3149057116993393,
          -1.2939815954736011,
          0.12182680125676709,
          0.33006216460025506,
          0.21363583429407815,
          1.6588885458762022,
          -0.19557754724933765,
          1.0547923730917923,
          0.6954831684772481,
          -0.34584471468312034,
          0.6057788359167456,
          0.1590495270200915,
          1.5273126423059864,
          0.348566619616232,
          -0.18952539532798401,
          0.6252396166243234,
          1.1062954259320954,
          -0.687910545726598,
          -0.9078626099526047,
          0.48194398183866477,
          0.5342528457953383,
          -0.23774105751875005,
          0.06247792047270879,
          -0.3363551491205612,
          -1.4667065221044309,
          0.0951224432524548,
          1.0856472862022295,
          -0.5269712156766507,
          -0.3898477752743443,
          0.6154660142894058,
          -1.7415795762625443,
          -0.316102495625554,
          -0.02737132768909968,
          -1.6443310620854097,
          -1.456726450295568,
          -0.54900368339122,
          0.6835144512512027,
          0.6592334242785094,
          -0.7801848924134268,
          0.055159435884052276,
          -0.41360718927975393,
          -0.6787915069209751,
          0.1528205833072065,
          -1.241618365094969,
          -0.11126935795339148,
          1.0446944850176876,
          -0.39328046132648636,
          -0.9198930417706479,
          1.5521279360686067,
          -0.5390003413131172,
          -0.2064753229521223,
          0.6444836441877287,
          -2.490722034504807,
          0.11470952204713913,
          1.2685106961111818,
          1.1869956882656112,
          -0.5344110224171819,
          -1.2146728790266499,
          -0.2380292931578603,
          0.35164800826546266,
          0.6321143673388616,
          -1.8475654305346552,
          0.31649382271570314,
          -0.9371543855285568,
          1.314046527434895,
          -0.12930965638675102,
          -0.2226154810643709,
          0.9161026149352096
         ],
         "yaxis": "y5"
        },
        {
         "histfunc": "count",
         "histnorm": "",
         "marker": {
          "color": "rgba(55, 128, 191, 1.0)",
          "line": {
           "color": "#4D5663",
           "width": 1.3
          }
         },
         "name": "B",
         "nbinsx": 10,
         "opacity": 0.8,
         "orientation": "v",
         "type": "histogram",
         "x": [
          0.17706896277187162,
          -0.6249373118454554,
          0.3272590749722181,
          -0.9940401674343684,
          -2.530950849847117,
          0.2636658317371174,
          1.354219131183047,
          0.6643474062171079,
          -1.6533612970498077,
          0.7416715750244077,
          -0.9932428321735989,
          -0.6414343494166856,
          0.8299153265150462,
          -1.021986403702533,
          0.8987779717506097,
          1.0164569804648547,
          -0.35952334786171086,
          1.1094843584394358,
          1.5121019739205415,
          -0.2604947937239252,
          -0.3690942205578536,
          0.3615252687732477,
          -1.025107085234413,
          -1.4493849627756665,
          -0.8199570845444943,
          0.4505595988304898,
          1.1605376269740642,
          -1.188009381927696,
          0.6787286337625219,
          0.8039586299595403,
          -3.0833656542362573,
          1.269449272266462,
          -0.3149057116993393,
          -1.2939815954736011,
          0.12182680125676709,
          0.33006216460025506,
          0.21363583429407815,
          1.6588885458762022,
          -0.19557754724933765,
          1.0547923730917923,
          0.6954831684772481,
          -0.34584471468312034,
          0.6057788359167456,
          0.1590495270200915,
          1.5273126423059864,
          0.348566619616232,
          -0.18952539532798401,
          0.6252396166243234,
          1.1062954259320954,
          -0.687910545726598,
          -0.9078626099526047,
          0.48194398183866477,
          0.5342528457953383,
          -0.23774105751875005,
          0.06247792047270879,
          -0.3363551491205612,
          -1.4667065221044309,
          0.0951224432524548,
          1.0856472862022295,
          -0.5269712156766507,
          -0.3898477752743443,
          0.6154660142894058,
          -1.7415795762625443,
          -0.316102495625554,
          -0.02737132768909968,
          -1.6443310620854097,
          -1.456726450295568,
          -0.54900368339122,
          0.6835144512512027,
          0.6592334242785094,
          -0.7801848924134268,
          0.055159435884052276,
          -0.41360718927975393,
          -0.6787915069209751,
          0.1528205833072065,
          -1.241618365094969,
          -0.11126935795339148,
          1.0446944850176876,
          -0.39328046132648636,
          -0.9198930417706479,
          1.5521279360686067,
          -0.5390003413131172,
          -0.2064753229521223,
          0.6444836441877287,
          -2.490722034504807,
          0.11470952204713913,
          1.2685106961111818,
          1.1869956882656112,
          -0.5344110224171819,
          -1.2146728790266499,
          -0.2380292931578603,
          0.35164800826546266,
          0.6321143673388616,
          -1.8475654305346552,
          0.31649382271570314,
          -0.9371543855285568,
          1.314046527434895,
          -0.12930965638675102,
          -0.2226154810643709,
          0.9161026149352096
         ],
         "xaxis": "x6",
         "yaxis": "y6"
        },
        {
         "line": {
          "color": "rgba(128, 128, 128, 1.0)",
          "dash": "solid",
          "shape": "linear",
          "width": 1.3
         },
         "marker": {
          "size": 2,
          "symbol": "circle"
         },
         "mode": "markers",
         "name": "B",
         "text": "",
         "type": "scatter",
         "x": [
          -2.392449090745727,
          -1.0617610195517124,
          2.217577774879199,
          -2.1779444355321353,
          -0.8121055877240545,
          -0.7746532570244032,
          0.7030526756647797,
          1.5960705297915396,
          0.9697825046201582,
          0.09654561836098974,
          -0.4111470689105436,
          -1.714433409650028,
          0.9305071704462848,
          -0.34927440847572006,
          -1.2836356184490894,
          0.37071448751114106,
          -1.0065758264180849,
          -0.21234678778496685,
          1.4548132175994113,
          1.367560293167318,
          -0.3834926316147219,
          -1.1162160395077914,
          0.27014406239797,
          -1.8241545117574738,
          -0.5719640611581355,
          0.35064663858170936,
          -0.11607432917288818,
          -1.2130003627713901,
          0.1944688606000843,
          0.9473014612309798,
          -0.3771930345287786,
          0.3150503017865192,
          0.7941128256660478,
          -0.16901109098163897,
          0.7857527425599498,
          0.20501827976607556,
          -0.30329038211263465,
          1.2967584326539083,
          0.015311590896882568,
          1.2046927466472341,
          0.24295398729853393,
          1.507870989115243,
          -1.3620291934431374,
          -1.2029309697776815,
          -1.33851449728627,
          -0.4400825665526056,
          -0.4640808404095627,
          1.1453226418826887,
          -0.5316768403463288,
          -0.6244809450309862,
          -0.11946151940180644,
          2.56150376466554,
          0.18471940380253912,
          0.663430075062486,
          -2.3085509848434023,
          1.7976013757255478,
          -0.6904563964744526,
          2.7909713645302636,
          -0.6428921267102796,
          -0.5822092806174856,
          0.9513219009855614,
          0.0686603140688749,
          1.320262270992589,
          -0.9285445800039841,
          -0.5554649960632836,
          0.4764140059804784,
          -1.4463556836268234,
          -1.2631022186673608,
          -2.9247977287174445,
          0.9090892062818072,
          1.6423475047197922,
          -1.3001758539335535,
          -1.1808477175120704,
          0.2705472095520638,
          1.0876381779091167,
          -0.17523884543821572,
          -0.1334008391090635,
          0.5147391648902362,
          0.6751204577550315,
          -0.6178474564556888,
          -1.689505147493363,
          0.4374628571706745,
          -1.562310762800644,
          -0.2504486862566129,
          0.8744056262125431,
          -0.7753440359013597,
          0.4321155399840242,
          -0.10522895301904903,
          0.3050607058928969,
          -0.9462718881676678,
          -1.318911504859071,
          -1.8950386360261857,
          0.14491189531719736,
          0.21966745452151398,
          0.6822693670204852,
          2.7793665898883817,
          -0.45363989798818377,
          0.5958180244618567,
          -0.20141467567739665,
          0.27809903575079464
         ],
         "xaxis": "x7",
         "y": [
          0.17706896277187162,
          -0.6249373118454554,
          0.3272590749722181,
          -0.9940401674343684,
          -2.530950849847117,
          0.2636658317371174,
          1.354219131183047,
          0.6643474062171079,
          -1.6533612970498077,
          0.7416715750244077,
          -0.9932428321735989,
          -0.6414343494166856,
          0.8299153265150462,
          -1.021986403702533,
          0.8987779717506097,
          1.0164569804648547,
          -0.35952334786171086,
          1.1094843584394358,
          1.5121019739205415,
          -0.2604947937239252,
          -0.3690942205578536,
          0.3615252687732477,
          -1.025107085234413,
          -1.4493849627756665,
          -0.8199570845444943,
          0.4505595988304898,
          1.1605376269740642,
          -1.188009381927696,
          0.6787286337625219,
          0.8039586299595403,
          -3.0833656542362573,
          1.269449272266462,
          -0.3149057116993393,
          -1.2939815954736011,
          0.12182680125676709,
          0.33006216460025506,
          0.21363583429407815,
          1.6588885458762022,
          -0.19557754724933765,
          1.0547923730917923,
          0.6954831684772481,
          -0.34584471468312034,
          0.6057788359167456,
          0.1590495270200915,
          1.5273126423059864,
          0.348566619616232,
          -0.18952539532798401,
          0.6252396166243234,
          1.1062954259320954,
          -0.687910545726598,
          -0.9078626099526047,
          0.48194398183866477,
          0.5342528457953383,
          -0.23774105751875005,
          0.06247792047270879,
          -0.3363551491205612,
          -1.4667065221044309,
          0.0951224432524548,
          1.0856472862022295,
          -0.5269712156766507,
          -0.3898477752743443,
          0.6154660142894058,
          -1.7415795762625443,
          -0.316102495625554,
          -0.02737132768909968,
          -1.6443310620854097,
          -1.456726450295568,
          -0.54900368339122,
          0.6835144512512027,
          0.6592334242785094,
          -0.7801848924134268,
          0.055159435884052276,
          -0.41360718927975393,
          -0.6787915069209751,
          0.1528205833072065,
          -1.241618365094969,
          -0.11126935795339148,
          1.0446944850176876,
          -0.39328046132648636,
          -0.9198930417706479,
          1.5521279360686067,
          -0.5390003413131172,
          -0.2064753229521223,
          0.6444836441877287,
          -2.490722034504807,
          0.11470952204713913,
          1.2685106961111818,
          1.1869956882656112,
          -0.5344110224171819,
          -1.2146728790266499,
          -0.2380292931578603,
          0.35164800826546266,
          0.6321143673388616,
          -1.8475654305346552,
          0.31649382271570314,
          -0.9371543855285568,
          1.314046527434895,
          -0.12930965638675102,
          -0.2226154810643709,
          0.9161026149352096
         ],
         "yaxis": "y7"
        },
        {
         "line": {
          "color": "rgba(128, 128, 128, 1.0)",
          "dash": "solid",
          "shape": "linear",
          "width": 1.3
         },
         "marker": {
          "size": 2,
          "symbol": "circle"
         },
         "mode": "markers",
         "name": "B",
         "text": "",
         "type": "scatter",
         "x": [
          1.1799654205219414,
          -0.900168005349071,
          -0.04451479704022886,
          1.0653684715245106,
          0.1764817562654781,
          -0.8349127232369903,
          -0.6960952821297788,
          -1.9455580284231706,
          1.0533620636016847,
          0.09333401668230523,
          -1.6060535940338903,
          1.2594127954087435,
          -1.4065403106576317,
          0.2339046800235441,
          -0.3990753387793068,
          0.14615553406265083,
          -0.22350669947064497,
          0.640765174595041,
          -0.01781445016880167,
          0.03805637164732594,
          -0.5319945548529844,
          0.48867166111317945,
          0.984428316137575,
          -0.03300147507971211,
          -0.4460017887530481,
          0.6605359725750817,
          1.0419966648711196,
          0.3102082312382125,
          0.4790833644265756,
          0.3011265455026397,
          0.7106774292313758,
          -1.8873548298757337,
          -0.5137549468477939,
          0.8398922989685574,
          1.0871651095232162,
          -0.6095935911603446,
          -0.9572471512220628,
          -0.09168866772342649,
          0.9006727983883414,
          -0.5324291315386876,
          -1.726570160418048,
          1.0140854466616918,
          0.07895740073962702,
          0.028232441746865927,
          0.1292868222577738,
          -0.47837331868394956,
          1.3766507537397314,
          1.95145601238955,
          0.506741706843716,
          1.2533742976373865,
          -0.3619270048935121,
          -0.8616935877086113,
          -0.2655896252796371,
          0.2271565839704893,
          2.4137730541621982,
          0.9732167058624435,
          1.9659798542459828,
          1.0949859809977442,
          0.5445608800317912,
          -0.17559363806582184,
          -0.17602397006631898,
          2.126044789094438,
          -0.2679660738387135,
          -0.5899014259574387,
          0.8233918972239539,
          0.5982102131868876,
          -0.23974548763690395,
          -0.7625645661411272,
          2.131255846154423,
          -0.16089139609515746,
          0.18381944256905272,
          0.2267617909081373,
          0.7803127983852142,
          0.20624611159253428,
          -0.29663636897520196,
          0.35153327070056284,
          0.2533433329388325,
          1.3385403406301426,
          0.39338621737609836,
          -1.2594537167617184,
          0.7822207461721324,
          -0.996742549160656,
          0.35159121972752716,
          -1.814256381533014,
          -0.37513101639477564,
          0.750078538828769,
          0.46153055686012423,
          1.0646275597072927,
          -1.473212781815409,
          -0.29988514652464204,
          0.0250383601161776,
          -1.2807437185006134,
          -0.04386155936399598,
          -0.5689608056658727,
          1.3878061561455213,
          -0.038124352960860156,
          -0.10663655667386701,
          -0.7727476047248021,
          -2.0244093820446296,
          0.16588996022679559
         ],
         "xaxis": "x8",
         "y": [
          0.17706896277187162,
          -0.6249373118454554,
          0.3272590749722181,
          -0.9940401674343684,
          -2.530950849847117,
          0.2636658317371174,
          1.354219131183047,
          0.6643474062171079,
          -1.6533612970498077,
          0.7416715750244077,
          -0.9932428321735989,
          -0.6414343494166856,
          0.8299153265150462,
          -1.021986403702533,
          0.8987779717506097,
          1.0164569804648547,
          -0.35952334786171086,
          1.1094843584394358,
          1.5121019739205415,
          -0.2604947937239252,
          -0.3690942205578536,
          0.3615252687732477,
          -1.025107085234413,
          -1.4493849627756665,
          -0.8199570845444943,
          0.4505595988304898,
          1.1605376269740642,
          -1.188009381927696,
          0.6787286337625219,
          0.8039586299595403,
          -3.0833656542362573,
          1.269449272266462,
          -0.3149057116993393,
          -1.2939815954736011,
          0.12182680125676709,
          0.33006216460025506,
          0.21363583429407815,
          1.6588885458762022,
          -0.19557754724933765,
          1.0547923730917923,
          0.6954831684772481,
          -0.34584471468312034,
          0.6057788359167456,
          0.1590495270200915,
          1.5273126423059864,
          0.348566619616232,
          -0.18952539532798401,
          0.6252396166243234,
          1.1062954259320954,
          -0.687910545726598,
          -0.9078626099526047,
          0.48194398183866477,
          0.5342528457953383,
          -0.23774105751875005,
          0.06247792047270879,
          -0.3363551491205612,
          -1.4667065221044309,
          0.0951224432524548,
          1.0856472862022295,
          -0.5269712156766507,
          -0.3898477752743443,
          0.6154660142894058,
          -1.7415795762625443,
          -0.316102495625554,
          -0.02737132768909968,
          -1.6443310620854097,
          -1.456726450295568,
          -0.54900368339122,
          0.6835144512512027,
          0.6592334242785094,
          -0.7801848924134268,
          0.055159435884052276,
          -0.41360718927975393,
          -0.6787915069209751,
          0.1528205833072065,
          -1.241618365094969,
          -0.11126935795339148,
          1.0446944850176876,
          -0.39328046132648636,
          -0.9198930417706479,
          1.5521279360686067,
          -0.5390003413131172,
          -0.2064753229521223,
          0.6444836441877287,
          -2.490722034504807,
          0.11470952204713913,
          1.2685106961111818,
          1.1869956882656112,
          -0.5344110224171819,
          -1.2146728790266499,
          -0.2380292931578603,
          0.35164800826546266,
          0.6321143673388616,
          -1.8475654305346552,
          0.31649382271570314,
          -0.9371543855285568,
          1.314046527434895,
          -0.12930965638675102,
          -0.2226154810643709,
          0.9161026149352096
         ],
         "yaxis": "y8"
        },
        {
         "line": {
          "color": "rgba(128, 128, 128, 1.0)",
          "dash": "solid",
          "shape": "linear",
          "width": 1.3
         },
         "marker": {
          "size": 2,
          "symbol": "circle"
         },
         "mode": "markers",
         "name": "C",
         "text": "",
         "type": "scatter",
         "x": [
          0.2803514486783903,
          -1.3529818744563427,
          0.5349335415489098,
          -0.46485644825077904,
          0.23995054472161614,
          0.015400907103716222,
          -0.2916104698915431,
          -0.23667497168901144,
          -0.6960369293674991,
          0.05795719862127771,
          -2.707673763127651,
          0.7613704053442429,
          0.3038232136903593,
          0.47448335399814273,
          -0.164943487319802,
          -0.1746685114526522,
          0.2737289201669528,
          -1.595378768993628,
          -1.5108845426369344,
          0.24616265746478627,
          0.3065102838166673,
          0.5813583720340318,
          0.6865830735731809,
          -0.6258184147645117,
          -0.5546572199896735,
          -0.7466622678544448,
          -0.7270465111699874,
          -0.47816758216383126,
          -0.6669280389560786,
          0.76101743324588,
          -0.013679710392465254,
          1.2232943573945159,
          2.5559833518724893,
          -0.07060403482627899,
          0.13004671884714766,
          -0.45520923256722334,
          0.29918460014033516,
          -0.5924241017540582,
          -0.15759225564599727,
          -1.4004988620018581,
          -1.7732366422243238,
          0.19030716935011002,
          -1.8019881668928215,
          -0.557204660426035,
          -0.44856054866864037,
          -1.4060925644133255,
          -1.022320245094843,
          -0.8941673627250798,
          -2.245692439956184,
          0.2521689296172425,
          0.07855183616603281,
          -1.880184235826735,
          -0.3547545024536497,
          -0.15901492812930434,
          1.4885512061851904,
          1.154473168088508,
          0.3506429831171856,
          0.033939225063162694,
          -0.745605997038604,
          -0.08313589301236117,
          -0.40493746348498305,
          -0.41768247476306836,
          -0.4717648718246529,
          -1.1171886583955546,
          -2.129045780023768,
          -1.4832090385240868,
          -0.9441306566317546,
          1.322478523659654,
          0.42861599484286816,
          -0.009349041903356899,
          -1.116475110689967,
          -1.604227395364169,
          -2.6458410752338737,
          0.11056779914131323,
          -0.4965388245769563,
          0.17496256936776317,
          -0.2188956562305676,
          0.6945059949492234,
          -1.5537040988224653,
          -0.4187519315700034,
          -1.5423386677726243,
          0.06656236481758367,
          0.6071611139142862,
          -0.2086185228188934,
          -0.6639641879325863,
          1.0091151944427543,
          -0.45485719742929204,
          0.7407282713470051,
          0.7926935792564782,
          0.8401881183890121,
          0.9707636921175228,
          -0.8331596615803011,
          -0.6412226880173394,
          0.5776137452811525,
          -0.709783389228246,
          0.06455705181996911,
          1.5612392254536525,
          0.6579971954098929,
          -0.1399662625786303,
          1.1855510000724214
         ],
         "xaxis": "x9",
         "y": [
          -2.392449090745727,
          -1.0617610195517124,
          2.217577774879199,
          -2.1779444355321353,
          -0.8121055877240545,
          -0.7746532570244032,
          0.7030526756647797,
          1.5960705297915396,
          0.9697825046201582,
          0.09654561836098974,
          -0.4111470689105436,
          -1.714433409650028,
          0.9305071704462848,
          -0.34927440847572006,
          -1.2836356184490894,
          0.37071448751114106,
          -1.0065758264180849,
          -0.21234678778496685,
          1.4548132175994113,
          1.367560293167318,
          -0.3834926316147219,
          -1.1162160395077914,
          0.27014406239797,
          -1.8241545117574738,
          -0.5719640611581355,
          0.35064663858170936,
          -0.11607432917288818,
          -1.2130003627713901,
          0.1944688606000843,
          0.9473014612309798,
          -0.3771930345287786,
          0.3150503017865192,
          0.7941128256660478,
          -0.16901109098163897,
          0.7857527425599498,
          0.20501827976607556,
          -0.30329038211263465,
          1.2967584326539083,
          0.015311590896882568,
          1.2046927466472341,
          0.24295398729853393,
          1.507870989115243,
          -1.3620291934431374,
          -1.2029309697776815,
          -1.33851449728627,
          -0.4400825665526056,
          -0.4640808404095627,
          1.1453226418826887,
          -0.5316768403463288,
          -0.6244809450309862,
          -0.11946151940180644,
          2.56150376466554,
          0.18471940380253912,
          0.663430075062486,
          -2.3085509848434023,
          1.7976013757255478,
          -0.6904563964744526,
          2.7909713645302636,
          -0.6428921267102796,
          -0.5822092806174856,
          0.9513219009855614,
          0.0686603140688749,
          1.320262270992589,
          -0.9285445800039841,
          -0.5554649960632836,
          0.4764140059804784,
          -1.4463556836268234,
          -1.2631022186673608,
          -2.9247977287174445,
          0.9090892062818072,
          1.6423475047197922,
          -1.3001758539335535,
          -1.1808477175120704,
          0.2705472095520638,
          1.0876381779091167,
          -0.17523884543821572,
          -0.1334008391090635,
          0.5147391648902362,
          0.6751204577550315,
          -0.6178474564556888,
          -1.689505147493363,
          0.4374628571706745,
          -1.562310762800644,
          -0.2504486862566129,
          0.8744056262125431,
          -0.7753440359013597,
          0.4321155399840242,
          -0.10522895301904903,
          0.3050607058928969,
          -0.9462718881676678,
          -1.318911504859071,
          -1.8950386360261857,
          0.14491189531719736,
          0.21966745452151398,
          0.6822693670204852,
          2.7793665898883817,
          -0.45363989798818377,
          0.5958180244618567,
          -0.20141467567739665,
          0.27809903575079464
         ],
         "yaxis": "y9"
        },
        {
         "line": {
          "color": "rgba(128, 128, 128, 1.0)",
          "dash": "solid",
          "shape": "linear",
          "width": 1.3
         },
         "marker": {
          "size": 2,
          "symbol": "circle"
         },
         "mode": "markers",
         "name": "C",
         "text": "",
         "type": "scatter",
         "x": [
          0.17706896277187162,
          -0.6249373118454554,
          0.3272590749722181,
          -0.9940401674343684,
          -2.530950849847117,
          0.2636658317371174,
          1.354219131183047,
          0.6643474062171079,
          -1.6533612970498077,
          0.7416715750244077,
          -0.9932428321735989,
          -0.6414343494166856,
          0.8299153265150462,
          -1.021986403702533,
          0.8987779717506097,
          1.0164569804648547,
          -0.35952334786171086,
          1.1094843584394358,
          1.5121019739205415,
          -0.2604947937239252,
          -0.3690942205578536,
          0.3615252687732477,
          -1.025107085234413,
          -1.4493849627756665,
          -0.8199570845444943,
          0.4505595988304898,
          1.1605376269740642,
          -1.188009381927696,
          0.6787286337625219,
          0.8039586299595403,
          -3.0833656542362573,
          1.269449272266462,
          -0.3149057116993393,
          -1.2939815954736011,
          0.12182680125676709,
          0.33006216460025506,
          0.21363583429407815,
          1.6588885458762022,
          -0.19557754724933765,
          1.0547923730917923,
          0.6954831684772481,
          -0.34584471468312034,
          0.6057788359167456,
          0.1590495270200915,
          1.5273126423059864,
          0.348566619616232,
          -0.18952539532798401,
          0.6252396166243234,
          1.1062954259320954,
          -0.687910545726598,
          -0.9078626099526047,
          0.48194398183866477,
          0.5342528457953383,
          -0.23774105751875005,
          0.06247792047270879,
          -0.3363551491205612,
          -1.4667065221044309,
          0.0951224432524548,
          1.0856472862022295,
          -0.5269712156766507,
          -0.3898477752743443,
          0.6154660142894058,
          -1.7415795762625443,
          -0.316102495625554,
          -0.02737132768909968,
          -1.6443310620854097,
          -1.456726450295568,
          -0.54900368339122,
          0.6835144512512027,
          0.6592334242785094,
          -0.7801848924134268,
          0.055159435884052276,
          -0.41360718927975393,
          -0.6787915069209751,
          0.1528205833072065,
          -1.241618365094969,
          -0.11126935795339148,
          1.0446944850176876,
          -0.39328046132648636,
          -0.9198930417706479,
          1.5521279360686067,
          -0.5390003413131172,
          -0.2064753229521223,
          0.6444836441877287,
          -2.490722034504807,
          0.11470952204713913,
          1.2685106961111818,
          1.1869956882656112,
          -0.5344110224171819,
          -1.2146728790266499,
          -0.2380292931578603,
          0.35164800826546266,
          0.6321143673388616,
          -1.8475654305346552,
          0.31649382271570314,
          -0.9371543855285568,
          1.314046527434895,
          -0.12930965638675102,
          -0.2226154810643709,
          0.9161026149352096
         ],
         "xaxis": "x10",
         "y": [
          -2.392449090745727,
          -1.0617610195517124,
          2.217577774879199,
          -2.1779444355321353,
          -0.8121055877240545,
          -0.7746532570244032,
          0.7030526756647797,
          1.5960705297915396,
          0.9697825046201582,
          0.09654561836098974,
          -0.4111470689105436,
          -1.714433409650028,
          0.9305071704462848,
          -0.34927440847572006,
          -1.2836356184490894,
          0.37071448751114106,
          -1.0065758264180849,
          -0.21234678778496685,
          1.4548132175994113,
          1.367560293167318,
          -0.3834926316147219,
          -1.1162160395077914,
          0.27014406239797,
          -1.8241545117574738,
          -0.5719640611581355,
          0.35064663858170936,
          -0.11607432917288818,
          -1.2130003627713901,
          0.1944688606000843,
          0.9473014612309798,
          -0.3771930345287786,
          0.3150503017865192,
          0.7941128256660478,
          -0.16901109098163897,
          0.7857527425599498,
          0.20501827976607556,
          -0.30329038211263465,
          1.2967584326539083,
          0.015311590896882568,
          1.2046927466472341,
          0.24295398729853393,
          1.507870989115243,
          -1.3620291934431374,
          -1.2029309697776815,
          -1.33851449728627,
          -0.4400825665526056,
          -0.4640808404095627,
          1.1453226418826887,
          -0.5316768403463288,
          -0.6244809450309862,
          -0.11946151940180644,
          2.56150376466554,
          0.18471940380253912,
          0.663430075062486,
          -2.3085509848434023,
          1.7976013757255478,
          -0.6904563964744526,
          2.7909713645302636,
          -0.6428921267102796,
          -0.5822092806174856,
          0.9513219009855614,
          0.0686603140688749,
          1.320262270992589,
          -0.9285445800039841,
          -0.5554649960632836,
          0.4764140059804784,
          -1.4463556836268234,
          -1.2631022186673608,
          -2.9247977287174445,
          0.9090892062818072,
          1.6423475047197922,
          -1.3001758539335535,
          -1.1808477175120704,
          0.2705472095520638,
          1.0876381779091167,
          -0.17523884543821572,
          -0.1334008391090635,
          0.5147391648902362,
          0.6751204577550315,
          -0.6178474564556888,
          -1.689505147493363,
          0.4374628571706745,
          -1.562310762800644,
          -0.2504486862566129,
          0.8744056262125431,
          -0.7753440359013597,
          0.4321155399840242,
          -0.10522895301904903,
          0.3050607058928969,
          -0.9462718881676678,
          -1.318911504859071,
          -1.8950386360261857,
          0.14491189531719736,
          0.21966745452151398,
          0.6822693670204852,
          2.7793665898883817,
          -0.45363989798818377,
          0.5958180244618567,
          -0.20141467567739665,
          0.27809903575079464
         ],
         "yaxis": "y10"
        },
        {
         "histfunc": "count",
         "histnorm": "",
         "marker": {
          "color": "rgba(50, 171, 96, 1.0)",
          "line": {
           "color": "#4D5663",
           "width": 1.3
          }
         },
         "name": "C",
         "nbinsx": 10,
         "opacity": 0.8,
         "orientation": "v",
         "type": "histogram",
         "x": [
          -2.392449090745727,
          -1.0617610195517124,
          2.217577774879199,
          -2.1779444355321353,
          -0.8121055877240545,
          -0.7746532570244032,
          0.7030526756647797,
          1.5960705297915396,
          0.9697825046201582,
          0.09654561836098974,
          -0.4111470689105436,
          -1.714433409650028,
          0.9305071704462848,
          -0.34927440847572006,
          -1.2836356184490894,
          0.37071448751114106,
          -1.0065758264180849,
          -0.21234678778496685,
          1.4548132175994113,
          1.367560293167318,
          -0.3834926316147219,
          -1.1162160395077914,
          0.27014406239797,
          -1.8241545117574738,
          -0.5719640611581355,
          0.35064663858170936,
          -0.11607432917288818,
          -1.2130003627713901,
          0.1944688606000843,
          0.9473014612309798,
          -0.3771930345287786,
          0.3150503017865192,
          0.7941128256660478,
          -0.16901109098163897,
          0.7857527425599498,
          0.20501827976607556,
          -0.30329038211263465,
          1.2967584326539083,
          0.015311590896882568,
          1.2046927466472341,
          0.24295398729853393,
          1.507870989115243,
          -1.3620291934431374,
          -1.2029309697776815,
          -1.33851449728627,
          -0.4400825665526056,
          -0.4640808404095627,
          1.1453226418826887,
          -0.5316768403463288,
          -0.6244809450309862,
          -0.11946151940180644,
          2.56150376466554,
          0.18471940380253912,
          0.663430075062486,
          -2.3085509848434023,
          1.7976013757255478,
          -0.6904563964744526,
          2.7909713645302636,
          -0.6428921267102796,
          -0.5822092806174856,
          0.9513219009855614,
          0.0686603140688749,
          1.320262270992589,
          -0.9285445800039841,
          -0.5554649960632836,
          0.4764140059804784,
          -1.4463556836268234,
          -1.2631022186673608,
          -2.9247977287174445,
          0.9090892062818072,
          1.6423475047197922,
          -1.3001758539335535,
          -1.1808477175120704,
          0.2705472095520638,
          1.0876381779091167,
          -0.17523884543821572,
          -0.1334008391090635,
          0.5147391648902362,
          0.6751204577550315,
          -0.6178474564556888,
          -1.689505147493363,
          0.4374628571706745,
          -1.562310762800644,
          -0.2504486862566129,
          0.8744056262125431,
          -0.7753440359013597,
          0.4321155399840242,
          -0.10522895301904903,
          0.3050607058928969,
          -0.9462718881676678,
          -1.318911504859071,
          -1.8950386360261857,
          0.14491189531719736,
          0.21966745452151398,
          0.6822693670204852,
          2.7793665898883817,
          -0.45363989798818377,
          0.5958180244618567,
          -0.20141467567739665,
          0.27809903575079464
         ],
         "xaxis": "x11",
         "yaxis": "y11"
        },
        {
         "line": {
          "color": "rgba(128, 128, 128, 1.0)",
          "dash": "solid",
          "shape": "linear",
          "width": 1.3
         },
         "marker": {
          "size": 2,
          "symbol": "circle"
         },
         "mode": "markers",
         "name": "C",
         "text": "",
         "type": "scatter",
         "x": [
          1.1799654205219414,
          -0.900168005349071,
          -0.04451479704022886,
          1.0653684715245106,
          0.1764817562654781,
          -0.8349127232369903,
          -0.6960952821297788,
          -1.9455580284231706,
          1.0533620636016847,
          0.09333401668230523,
          -1.6060535940338903,
          1.2594127954087435,
          -1.4065403106576317,
          0.2339046800235441,
          -0.3990753387793068,
          0.14615553406265083,
          -0.22350669947064497,
          0.640765174595041,
          -0.01781445016880167,
          0.03805637164732594,
          -0.5319945548529844,
          0.48867166111317945,
          0.984428316137575,
          -0.03300147507971211,
          -0.4460017887530481,
          0.6605359725750817,
          1.0419966648711196,
          0.3102082312382125,
          0.4790833644265756,
          0.3011265455026397,
          0.7106774292313758,
          -1.8873548298757337,
          -0.5137549468477939,
          0.8398922989685574,
          1.0871651095232162,
          -0.6095935911603446,
          -0.9572471512220628,
          -0.09168866772342649,
          0.9006727983883414,
          -0.5324291315386876,
          -1.726570160418048,
          1.0140854466616918,
          0.07895740073962702,
          0.028232441746865927,
          0.1292868222577738,
          -0.47837331868394956,
          1.3766507537397314,
          1.95145601238955,
          0.506741706843716,
          1.2533742976373865,
          -0.3619270048935121,
          -0.8616935877086113,
          -0.2655896252796371,
          0.2271565839704893,
          2.4137730541621982,
          0.9732167058624435,
          1.9659798542459828,
          1.0949859809977442,
          0.5445608800317912,
          -0.17559363806582184,
          -0.17602397006631898,
          2.126044789094438,
          -0.2679660738387135,
          -0.5899014259574387,
          0.8233918972239539,
          0.5982102131868876,
          -0.23974548763690395,
          -0.7625645661411272,
          2.131255846154423,
          -0.16089139609515746,
          0.18381944256905272,
          0.2267617909081373,
          0.7803127983852142,
          0.20624611159253428,
          -0.29663636897520196,
          0.35153327070056284,
          0.2533433329388325,
          1.3385403406301426,
          0.39338621737609836,
          -1.2594537167617184,
          0.7822207461721324,
          -0.996742549160656,
          0.35159121972752716,
          -1.814256381533014,
          -0.37513101639477564,
          0.750078538828769,
          0.46153055686012423,
          1.0646275597072927,
          -1.473212781815409,
          -0.29988514652464204,
          0.0250383601161776,
          -1.2807437185006134,
          -0.04386155936399598,
          -0.5689608056658727,
          1.3878061561455213,
          -0.038124352960860156,
          -0.10663655667386701,
          -0.7727476047248021,
          -2.0244093820446296,
          0.16588996022679559
         ],
         "xaxis": "x12",
         "y": [
          -2.392449090745727,
          -1.0617610195517124,
          2.217577774879199,
          -2.1779444355321353,
          -0.8121055877240545,
          -0.7746532570244032,
          0.7030526756647797,
          1.5960705297915396,
          0.9697825046201582,
          0.09654561836098974,
          -0.4111470689105436,
          -1.714433409650028,
          0.9305071704462848,
          -0.34927440847572006,
          -1.2836356184490894,
          0.37071448751114106,
          -1.0065758264180849,
          -0.21234678778496685,
          1.4548132175994113,
          1.367560293167318,
          -0.3834926316147219,
          -1.1162160395077914,
          0.27014406239797,
          -1.8241545117574738,
          -0.5719640611581355,
          0.35064663858170936,
          -0.11607432917288818,
          -1.2130003627713901,
          0.1944688606000843,
          0.9473014612309798,
          -0.3771930345287786,
          0.3150503017865192,
          0.7941128256660478,
          -0.16901109098163897,
          0.7857527425599498,
          0.20501827976607556,
          -0.30329038211263465,
          1.2967584326539083,
          0.015311590896882568,
          1.2046927466472341,
          0.24295398729853393,
          1.507870989115243,
          -1.3620291934431374,
          -1.2029309697776815,
          -1.33851449728627,
          -0.4400825665526056,
          -0.4640808404095627,
          1.1453226418826887,
          -0.5316768403463288,
          -0.6244809450309862,
          -0.11946151940180644,
          2.56150376466554,
          0.18471940380253912,
          0.663430075062486,
          -2.3085509848434023,
          1.7976013757255478,
          -0.6904563964744526,
          2.7909713645302636,
          -0.6428921267102796,
          -0.5822092806174856,
          0.9513219009855614,
          0.0686603140688749,
          1.320262270992589,
          -0.9285445800039841,
          -0.5554649960632836,
          0.4764140059804784,
          -1.4463556836268234,
          -1.2631022186673608,
          -2.9247977287174445,
          0.9090892062818072,
          1.6423475047197922,
          -1.3001758539335535,
          -1.1808477175120704,
          0.2705472095520638,
          1.0876381779091167,
          -0.17523884543821572,
          -0.1334008391090635,
          0.5147391648902362,
          0.6751204577550315,
          -0.6178474564556888,
          -1.689505147493363,
          0.4374628571706745,
          -1.562310762800644,
          -0.2504486862566129,
          0.8744056262125431,
          -0.7753440359013597,
          0.4321155399840242,
          -0.10522895301904903,
          0.3050607058928969,
          -0.9462718881676678,
          -1.318911504859071,
          -1.8950386360261857,
          0.14491189531719736,
          0.21966745452151398,
          0.6822693670204852,
          2.7793665898883817,
          -0.45363989798818377,
          0.5958180244618567,
          -0.20141467567739665,
          0.27809903575079464
         ],
         "yaxis": "y12"
        },
        {
         "line": {
          "color": "rgba(128, 128, 128, 1.0)",
          "dash": "solid",
          "shape": "linear",
          "width": 1.3
         },
         "marker": {
          "size": 2,
          "symbol": "circle"
         },
         "mode": "markers",
         "name": "D",
         "text": "",
         "type": "scatter",
         "x": [
          0.2803514486783903,
          -1.3529818744563427,
          0.5349335415489098,
          -0.46485644825077904,
          0.23995054472161614,
          0.015400907103716222,
          -0.2916104698915431,
          -0.23667497168901144,
          -0.6960369293674991,
          0.05795719862127771,
          -2.707673763127651,
          0.7613704053442429,
          0.3038232136903593,
          0.47448335399814273,
          -0.164943487319802,
          -0.1746685114526522,
          0.2737289201669528,
          -1.595378768993628,
          -1.5108845426369344,
          0.24616265746478627,
          0.3065102838166673,
          0.5813583720340318,
          0.6865830735731809,
          -0.6258184147645117,
          -0.5546572199896735,
          -0.7466622678544448,
          -0.7270465111699874,
          -0.47816758216383126,
          -0.6669280389560786,
          0.76101743324588,
          -0.013679710392465254,
          1.2232943573945159,
          2.5559833518724893,
          -0.07060403482627899,
          0.13004671884714766,
          -0.45520923256722334,
          0.29918460014033516,
          -0.5924241017540582,
          -0.15759225564599727,
          -1.4004988620018581,
          -1.7732366422243238,
          0.19030716935011002,
          -1.8019881668928215,
          -0.557204660426035,
          -0.44856054866864037,
          -1.4060925644133255,
          -1.022320245094843,
          -0.8941673627250798,
          -2.245692439956184,
          0.2521689296172425,
          0.07855183616603281,
          -1.880184235826735,
          -0.3547545024536497,
          -0.15901492812930434,
          1.4885512061851904,
          1.154473168088508,
          0.3506429831171856,
          0.033939225063162694,
          -0.745605997038604,
          -0.08313589301236117,
          -0.40493746348498305,
          -0.41768247476306836,
          -0.4717648718246529,
          -1.1171886583955546,
          -2.129045780023768,
          -1.4832090385240868,
          -0.9441306566317546,
          1.322478523659654,
          0.42861599484286816,
          -0.009349041903356899,
          -1.116475110689967,
          -1.604227395364169,
          -2.6458410752338737,
          0.11056779914131323,
          -0.4965388245769563,
          0.17496256936776317,
          -0.2188956562305676,
          0.6945059949492234,
          -1.5537040988224653,
          -0.4187519315700034,
          -1.5423386677726243,
          0.06656236481758367,
          0.6071611139142862,
          -0.2086185228188934,
          -0.6639641879325863,
          1.0091151944427543,
          -0.45485719742929204,
          0.7407282713470051,
          0.7926935792564782,
          0.8401881183890121,
          0.9707636921175228,
          -0.8331596615803011,
          -0.6412226880173394,
          0.5776137452811525,
          -0.709783389228246,
          0.06455705181996911,
          1.5612392254536525,
          0.6579971954098929,
          -0.1399662625786303,
          1.1855510000724214
         ],
         "xaxis": "x13",
         "y": [
          1.1799654205219414,
          -0.900168005349071,
          -0.04451479704022886,
          1.0653684715245106,
          0.1764817562654781,
          -0.8349127232369903,
          -0.6960952821297788,
          -1.9455580284231706,
          1.0533620636016847,
          0.09333401668230523,
          -1.6060535940338903,
          1.2594127954087435,
          -1.4065403106576317,
          0.2339046800235441,
          -0.3990753387793068,
          0.14615553406265083,
          -0.22350669947064497,
          0.640765174595041,
          -0.01781445016880167,
          0.03805637164732594,
          -0.5319945548529844,
          0.48867166111317945,
          0.984428316137575,
          -0.03300147507971211,
          -0.4460017887530481,
          0.6605359725750817,
          1.0419966648711196,
          0.3102082312382125,
          0.4790833644265756,
          0.3011265455026397,
          0.7106774292313758,
          -1.8873548298757337,
          -0.5137549468477939,
          0.8398922989685574,
          1.0871651095232162,
          -0.6095935911603446,
          -0.9572471512220628,
          -0.09168866772342649,
          0.9006727983883414,
          -0.5324291315386876,
          -1.726570160418048,
          1.0140854466616918,
          0.07895740073962702,
          0.028232441746865927,
          0.1292868222577738,
          -0.47837331868394956,
          1.3766507537397314,
          1.95145601238955,
          0.506741706843716,
          1.2533742976373865,
          -0.3619270048935121,
          -0.8616935877086113,
          -0.2655896252796371,
          0.2271565839704893,
          2.4137730541621982,
          0.9732167058624435,
          1.9659798542459828,
          1.0949859809977442,
          0.5445608800317912,
          -0.17559363806582184,
          -0.17602397006631898,
          2.126044789094438,
          -0.2679660738387135,
          -0.5899014259574387,
          0.8233918972239539,
          0.5982102131868876,
          -0.23974548763690395,
          -0.7625645661411272,
          2.131255846154423,
          -0.16089139609515746,
          0.18381944256905272,
          0.2267617909081373,
          0.7803127983852142,
          0.20624611159253428,
          -0.29663636897520196,
          0.35153327070056284,
          0.2533433329388325,
          1.3385403406301426,
          0.39338621737609836,
          -1.2594537167617184,
          0.7822207461721324,
          -0.996742549160656,
          0.35159121972752716,
          -1.814256381533014,
          -0.37513101639477564,
          0.750078538828769,
          0.46153055686012423,
          1.0646275597072927,
          -1.473212781815409,
          -0.29988514652464204,
          0.0250383601161776,
          -1.2807437185006134,
          -0.04386155936399598,
          -0.5689608056658727,
          1.3878061561455213,
          -0.038124352960860156,
          -0.10663655667386701,
          -0.7727476047248021,
          -2.0244093820446296,
          0.16588996022679559
         ],
         "yaxis": "y13"
        },
        {
         "line": {
          "color": "rgba(128, 128, 128, 1.0)",
          "dash": "solid",
          "shape": "linear",
          "width": 1.3
         },
         "marker": {
          "size": 2,
          "symbol": "circle"
         },
         "mode": "markers",
         "name": "D",
         "text": "",
         "type": "scatter",
         "x": [
          0.17706896277187162,
          -0.6249373118454554,
          0.3272590749722181,
          -0.9940401674343684,
          -2.530950849847117,
          0.2636658317371174,
          1.354219131183047,
          0.6643474062171079,
          -1.6533612970498077,
          0.7416715750244077,
          -0.9932428321735989,
          -0.6414343494166856,
          0.8299153265150462,
          -1.021986403702533,
          0.8987779717506097,
          1.0164569804648547,
          -0.35952334786171086,
          1.1094843584394358,
          1.5121019739205415,
          -0.2604947937239252,
          -0.3690942205578536,
          0.3615252687732477,
          -1.025107085234413,
          -1.4493849627756665,
          -0.8199570845444943,
          0.4505595988304898,
          1.1605376269740642,
          -1.188009381927696,
          0.6787286337625219,
          0.8039586299595403,
          -3.0833656542362573,
          1.269449272266462,
          -0.3149057116993393,
          -1.2939815954736011,
          0.12182680125676709,
          0.33006216460025506,
          0.21363583429407815,
          1.6588885458762022,
          -0.19557754724933765,
          1.0547923730917923,
          0.6954831684772481,
          -0.34584471468312034,
          0.6057788359167456,
          0.1590495270200915,
          1.5273126423059864,
          0.348566619616232,
          -0.18952539532798401,
          0.6252396166243234,
          1.1062954259320954,
          -0.687910545726598,
          -0.9078626099526047,
          0.48194398183866477,
          0.5342528457953383,
          -0.23774105751875005,
          0.06247792047270879,
          -0.3363551491205612,
          -1.4667065221044309,
          0.0951224432524548,
          1.0856472862022295,
          -0.5269712156766507,
          -0.3898477752743443,
          0.6154660142894058,
          -1.7415795762625443,
          -0.316102495625554,
          -0.02737132768909968,
          -1.6443310620854097,
          -1.456726450295568,
          -0.54900368339122,
          0.6835144512512027,
          0.6592334242785094,
          -0.7801848924134268,
          0.055159435884052276,
          -0.41360718927975393,
          -0.6787915069209751,
          0.1528205833072065,
          -1.241618365094969,
          -0.11126935795339148,
          1.0446944850176876,
          -0.39328046132648636,
          -0.9198930417706479,
          1.5521279360686067,
          -0.5390003413131172,
          -0.2064753229521223,
          0.6444836441877287,
          -2.490722034504807,
          0.11470952204713913,
          1.2685106961111818,
          1.1869956882656112,
          -0.5344110224171819,
          -1.2146728790266499,
          -0.2380292931578603,
          0.35164800826546266,
          0.6321143673388616,
          -1.8475654305346552,
          0.31649382271570314,
          -0.9371543855285568,
          1.314046527434895,
          -0.12930965638675102,
          -0.2226154810643709,
          0.9161026149352096
         ],
         "xaxis": "x14",
         "y": [
          1.1799654205219414,
          -0.900168005349071,
          -0.04451479704022886,
          1.0653684715245106,
          0.1764817562654781,
          -0.8349127232369903,
          -0.6960952821297788,
          -1.9455580284231706,
          1.0533620636016847,
          0.09333401668230523,
          -1.6060535940338903,
          1.2594127954087435,
          -1.4065403106576317,
          0.2339046800235441,
          -0.3990753387793068,
          0.14615553406265083,
          -0.22350669947064497,
          0.640765174595041,
          -0.01781445016880167,
          0.03805637164732594,
          -0.5319945548529844,
          0.48867166111317945,
          0.984428316137575,
          -0.03300147507971211,
          -0.4460017887530481,
          0.6605359725750817,
          1.0419966648711196,
          0.3102082312382125,
          0.4790833644265756,
          0.3011265455026397,
          0.7106774292313758,
          -1.8873548298757337,
          -0.5137549468477939,
          0.8398922989685574,
          1.0871651095232162,
          -0.6095935911603446,
          -0.9572471512220628,
          -0.09168866772342649,
          0.9006727983883414,
          -0.5324291315386876,
          -1.726570160418048,
          1.0140854466616918,
          0.07895740073962702,
          0.028232441746865927,
          0.1292868222577738,
          -0.47837331868394956,
          1.3766507537397314,
          1.95145601238955,
          0.506741706843716,
          1.2533742976373865,
          -0.3619270048935121,
          -0.8616935877086113,
          -0.2655896252796371,
          0.2271565839704893,
          2.4137730541621982,
          0.9732167058624435,
          1.9659798542459828,
          1.0949859809977442,
          0.5445608800317912,
          -0.17559363806582184,
          -0.17602397006631898,
          2.126044789094438,
          -0.2679660738387135,
          -0.5899014259574387,
          0.8233918972239539,
          0.5982102131868876,
          -0.23974548763690395,
          -0.7625645661411272,
          2.131255846154423,
          -0.16089139609515746,
          0.18381944256905272,
          0.2267617909081373,
          0.7803127983852142,
          0.20624611159253428,
          -0.29663636897520196,
          0.35153327070056284,
          0.2533433329388325,
          1.3385403406301426,
          0.39338621737609836,
          -1.2594537167617184,
          0.7822207461721324,
          -0.996742549160656,
          0.35159121972752716,
          -1.814256381533014,
          -0.37513101639477564,
          0.750078538828769,
          0.46153055686012423,
          1.0646275597072927,
          -1.473212781815409,
          -0.29988514652464204,
          0.0250383601161776,
          -1.2807437185006134,
          -0.04386155936399598,
          -0.5689608056658727,
          1.3878061561455213,
          -0.038124352960860156,
          -0.10663655667386701,
          -0.7727476047248021,
          -2.0244093820446296,
          0.16588996022679559
         ],
         "yaxis": "y14"
        },
        {
         "line": {
          "color": "rgba(128, 128, 128, 1.0)",
          "dash": "solid",
          "shape": "linear",
          "width": 1.3
         },
         "marker": {
          "size": 2,
          "symbol": "circle"
         },
         "mode": "markers",
         "name": "D",
         "text": "",
         "type": "scatter",
         "x": [
          -2.392449090745727,
          -1.0617610195517124,
          2.217577774879199,
          -2.1779444355321353,
          -0.8121055877240545,
          -0.7746532570244032,
          0.7030526756647797,
          1.5960705297915396,
          0.9697825046201582,
          0.09654561836098974,
          -0.4111470689105436,
          -1.714433409650028,
          0.9305071704462848,
          -0.34927440847572006,
          -1.2836356184490894,
          0.37071448751114106,
          -1.0065758264180849,
          -0.21234678778496685,
          1.4548132175994113,
          1.367560293167318,
          -0.3834926316147219,
          -1.1162160395077914,
          0.27014406239797,
          -1.8241545117574738,
          -0.5719640611581355,
          0.35064663858170936,
          -0.11607432917288818,
          -1.2130003627713901,
          0.1944688606000843,
          0.9473014612309798,
          -0.3771930345287786,
          0.3150503017865192,
          0.7941128256660478,
          -0.16901109098163897,
          0.7857527425599498,
          0.20501827976607556,
          -0.30329038211263465,
          1.2967584326539083,
          0.015311590896882568,
          1.2046927466472341,
          0.24295398729853393,
          1.507870989115243,
          -1.3620291934431374,
          -1.2029309697776815,
          -1.33851449728627,
          -0.4400825665526056,
          -0.4640808404095627,
          1.1453226418826887,
          -0.5316768403463288,
          -0.6244809450309862,
          -0.11946151940180644,
          2.56150376466554,
          0.18471940380253912,
          0.663430075062486,
          -2.3085509848434023,
          1.7976013757255478,
          -0.6904563964744526,
          2.7909713645302636,
          -0.6428921267102796,
          -0.5822092806174856,
          0.9513219009855614,
          0.0686603140688749,
          1.320262270992589,
          -0.9285445800039841,
          -0.5554649960632836,
          0.4764140059804784,
          -1.4463556836268234,
          -1.2631022186673608,
          -2.9247977287174445,
          0.9090892062818072,
          1.6423475047197922,
          -1.3001758539335535,
          -1.1808477175120704,
          0.2705472095520638,
          1.0876381779091167,
          -0.17523884543821572,
          -0.1334008391090635,
          0.5147391648902362,
          0.6751204577550315,
          -0.6178474564556888,
          -1.689505147493363,
          0.4374628571706745,
          -1.562310762800644,
          -0.2504486862566129,
          0.8744056262125431,
          -0.7753440359013597,
          0.4321155399840242,
          -0.10522895301904903,
          0.3050607058928969,
          -0.9462718881676678,
          -1.318911504859071,
          -1.8950386360261857,
          0.14491189531719736,
          0.21966745452151398,
          0.6822693670204852,
          2.7793665898883817,
          -0.45363989798818377,
          0.5958180244618567,
          -0.20141467567739665,
          0.27809903575079464
         ],
         "xaxis": "x15",
         "y": [
          1.1799654205219414,
          -0.900168005349071,
          -0.04451479704022886,
          1.0653684715245106,
          0.1764817562654781,
          -0.8349127232369903,
          -0.6960952821297788,
          -1.9455580284231706,
          1.0533620636016847,
          0.09333401668230523,
          -1.6060535940338903,
          1.2594127954087435,
          -1.4065403106576317,
          0.2339046800235441,
          -0.3990753387793068,
          0.14615553406265083,
          -0.22350669947064497,
          0.640765174595041,
          -0.01781445016880167,
          0.03805637164732594,
          -0.5319945548529844,
          0.48867166111317945,
          0.984428316137575,
          -0.03300147507971211,
          -0.4460017887530481,
          0.6605359725750817,
          1.0419966648711196,
          0.3102082312382125,
          0.4790833644265756,
          0.3011265455026397,
          0.7106774292313758,
          -1.8873548298757337,
          -0.5137549468477939,
          0.8398922989685574,
          1.0871651095232162,
          -0.6095935911603446,
          -0.9572471512220628,
          -0.09168866772342649,
          0.9006727983883414,
          -0.5324291315386876,
          -1.726570160418048,
          1.0140854466616918,
          0.07895740073962702,
          0.028232441746865927,
          0.1292868222577738,
          -0.47837331868394956,
          1.3766507537397314,
          1.95145601238955,
          0.506741706843716,
          1.2533742976373865,
          -0.3619270048935121,
          -0.8616935877086113,
          -0.2655896252796371,
          0.2271565839704893,
          2.4137730541621982,
          0.9732167058624435,
          1.9659798542459828,
          1.0949859809977442,
          0.5445608800317912,
          -0.17559363806582184,
          -0.17602397006631898,
          2.126044789094438,
          -0.2679660738387135,
          -0.5899014259574387,
          0.8233918972239539,
          0.5982102131868876,
          -0.23974548763690395,
          -0.7625645661411272,
          2.131255846154423,
          -0.16089139609515746,
          0.18381944256905272,
          0.2267617909081373,
          0.7803127983852142,
          0.20624611159253428,
          -0.29663636897520196,
          0.35153327070056284,
          0.2533433329388325,
          1.3385403406301426,
          0.39338621737609836,
          -1.2594537167617184,
          0.7822207461721324,
          -0.996742549160656,
          0.35159121972752716,
          -1.814256381533014,
          -0.37513101639477564,
          0.750078538828769,
          0.46153055686012423,
          1.0646275597072927,
          -1.473212781815409,
          -0.29988514652464204,
          0.0250383601161776,
          -1.2807437185006134,
          -0.04386155936399598,
          -0.5689608056658727,
          1.3878061561455213,
          -0.038124352960860156,
          -0.10663655667386701,
          -0.7727476047248021,
          -2.0244093820446296,
          0.16588996022679559
         ],
         "yaxis": "y15"
        },
        {
         "histfunc": "count",
         "histnorm": "",
         "marker": {
          "color": "rgba(128, 0, 128, 1.0)",
          "line": {
           "color": "#4D5663",
           "width": 1.3
          }
         },
         "name": "D",
         "nbinsx": 10,
         "opacity": 0.8,
         "orientation": "v",
         "type": "histogram",
         "x": [
          1.1799654205219414,
          -0.900168005349071,
          -0.04451479704022886,
          1.0653684715245106,
          0.1764817562654781,
          -0.8349127232369903,
          -0.6960952821297788,
          -1.9455580284231706,
          1.0533620636016847,
          0.09333401668230523,
          -1.6060535940338903,
          1.2594127954087435,
          -1.4065403106576317,
          0.2339046800235441,
          -0.3990753387793068,
          0.14615553406265083,
          -0.22350669947064497,
          0.640765174595041,
          -0.01781445016880167,
          0.03805637164732594,
          -0.5319945548529844,
          0.48867166111317945,
          0.984428316137575,
          -0.03300147507971211,
          -0.4460017887530481,
          0.6605359725750817,
          1.0419966648711196,
          0.3102082312382125,
          0.4790833644265756,
          0.3011265455026397,
          0.7106774292313758,
          -1.8873548298757337,
          -0.5137549468477939,
          0.8398922989685574,
          1.0871651095232162,
          -0.6095935911603446,
          -0.9572471512220628,
          -0.09168866772342649,
          0.9006727983883414,
          -0.5324291315386876,
          -1.726570160418048,
          1.0140854466616918,
          0.07895740073962702,
          0.028232441746865927,
          0.1292868222577738,
          -0.47837331868394956,
          1.3766507537397314,
          1.95145601238955,
          0.506741706843716,
          1.2533742976373865,
          -0.3619270048935121,
          -0.8616935877086113,
          -0.2655896252796371,
          0.2271565839704893,
          2.4137730541621982,
          0.9732167058624435,
          1.9659798542459828,
          1.0949859809977442,
          0.5445608800317912,
          -0.17559363806582184,
          -0.17602397006631898,
          2.126044789094438,
          -0.2679660738387135,
          -0.5899014259574387,
          0.8233918972239539,
          0.5982102131868876,
          -0.23974548763690395,
          -0.7625645661411272,
          2.131255846154423,
          -0.16089139609515746,
          0.18381944256905272,
          0.2267617909081373,
          0.7803127983852142,
          0.20624611159253428,
          -0.29663636897520196,
          0.35153327070056284,
          0.2533433329388325,
          1.3385403406301426,
          0.39338621737609836,
          -1.2594537167617184,
          0.7822207461721324,
          -0.996742549160656,
          0.35159121972752716,
          -1.814256381533014,
          -0.37513101639477564,
          0.750078538828769,
          0.46153055686012423,
          1.0646275597072927,
          -1.473212781815409,
          -0.29988514652464204,
          0.0250383601161776,
          -1.2807437185006134,
          -0.04386155936399598,
          -0.5689608056658727,
          1.3878061561455213,
          -0.038124352960860156,
          -0.10663655667386701,
          -0.7727476047248021,
          -2.0244093820446296,
          0.16588996022679559
         ],
         "xaxis": "x16",
         "yaxis": "y16"
        }
       ],
       "layout": {
        "bargap": 0.02,
        "legend": {
         "bgcolor": "#F5F6F9",
         "font": {
          "color": "#4D5663"
         }
        },
        "paper_bgcolor": "#F5F6F9",
        "plot_bgcolor": "#F5F6F9",
        "showlegend": false,
        "template": {
         "data": {
          "bar": [
           {
            "error_x": {
             "color": "#2a3f5f"
            },
            "error_y": {
             "color": "#2a3f5f"
            },
            "marker": {
             "line": {
              "color": "#E5ECF6",
              "width": 0.5
             }
            },
            "type": "bar"
           }
          ],
          "barpolar": [
           {
            "marker": {
             "line": {
              "color": "#E5ECF6",
              "width": 0.5
             }
            },
            "type": "barpolar"
           }
          ],
          "carpet": [
           {
            "aaxis": {
             "endlinecolor": "#2a3f5f",
             "gridcolor": "white",
             "linecolor": "white",
             "minorgridcolor": "white",
             "startlinecolor": "#2a3f5f"
            },
            "baxis": {
             "endlinecolor": "#2a3f5f",
             "gridcolor": "white",
             "linecolor": "white",
             "minorgridcolor": "white",
             "startlinecolor": "#2a3f5f"
            },
            "type": "carpet"
           }
          ],
          "choropleth": [
           {
            "colorbar": {
             "outlinewidth": 0,
             "ticks": ""
            },
            "type": "choropleth"
           }
          ],
          "contour": [
           {
            "colorbar": {
             "outlinewidth": 0,
             "ticks": ""
            },
            "colorscale": [
             [
              0,
              "#0d0887"
             ],
             [
              0.1111111111111111,
              "#46039f"
             ],
             [
              0.2222222222222222,
              "#7201a8"
             ],
             [
              0.3333333333333333,
              "#9c179e"
             ],
             [
              0.4444444444444444,
              "#bd3786"
             ],
             [
              0.5555555555555556,
              "#d8576b"
             ],
             [
              0.6666666666666666,
              "#ed7953"
             ],
             [
              0.7777777777777778,
              "#fb9f3a"
             ],
             [
              0.8888888888888888,
              "#fdca26"
             ],
             [
              1,
              "#f0f921"
             ]
            ],
            "type": "contour"
           }
          ],
          "contourcarpet": [
           {
            "colorbar": {
             "outlinewidth": 0,
             "ticks": ""
            },
            "type": "contourcarpet"
           }
          ],
          "heatmap": [
           {
            "colorbar": {
             "outlinewidth": 0,
             "ticks": ""
            },
            "colorscale": [
             [
              0,
              "#0d0887"
             ],
             [
              0.1111111111111111,
              "#46039f"
             ],
             [
              0.2222222222222222,
              "#7201a8"
             ],
             [
              0.3333333333333333,
              "#9c179e"
             ],
             [
              0.4444444444444444,
              "#bd3786"
             ],
             [
              0.5555555555555556,
              "#d8576b"
             ],
             [
              0.6666666666666666,
              "#ed7953"
             ],
             [
              0.7777777777777778,
              "#fb9f3a"
             ],
             [
              0.8888888888888888,
              "#fdca26"
             ],
             [
              1,
              "#f0f921"
             ]
            ],
            "type": "heatmap"
           }
          ],
          "heatmapgl": [
           {
            "colorbar": {
             "outlinewidth": 0,
             "ticks": ""
            },
            "colorscale": [
             [
              0,
              "#0d0887"
             ],
             [
              0.1111111111111111,
              "#46039f"
             ],
             [
              0.2222222222222222,
              "#7201a8"
             ],
             [
              0.3333333333333333,
              "#9c179e"
             ],
             [
              0.4444444444444444,
              "#bd3786"
             ],
             [
              0.5555555555555556,
              "#d8576b"
             ],
             [
              0.6666666666666666,
              "#ed7953"
             ],
             [
              0.7777777777777778,
              "#fb9f3a"
             ],
             [
              0.8888888888888888,
              "#fdca26"
             ],
             [
              1,
              "#f0f921"
             ]
            ],
            "type": "heatmapgl"
           }
          ],
          "histogram": [
           {
            "marker": {
             "colorbar": {
              "outlinewidth": 0,
              "ticks": ""
             }
            },
            "type": "histogram"
           }
          ],
          "histogram2d": [
           {
            "colorbar": {
             "outlinewidth": 0,
             "ticks": ""
            },
            "colorscale": [
             [
              0,
              "#0d0887"
             ],
             [
              0.1111111111111111,
              "#46039f"
             ],
             [
              0.2222222222222222,
              "#7201a8"
             ],
             [
              0.3333333333333333,
              "#9c179e"
             ],
             [
              0.4444444444444444,
              "#bd3786"
             ],
             [
              0.5555555555555556,
              "#d8576b"
             ],
             [
              0.6666666666666666,
              "#ed7953"
             ],
             [
              0.7777777777777778,
              "#fb9f3a"
             ],
             [
              0.8888888888888888,
              "#fdca26"
             ],
             [
              1,
              "#f0f921"
             ]
            ],
            "type": "histogram2d"
           }
          ],
          "histogram2dcontour": [
           {
            "colorbar": {
             "outlinewidth": 0,
             "ticks": ""
            },
            "colorscale": [
             [
              0,
              "#0d0887"
             ],
             [
              0.1111111111111111,
              "#46039f"
             ],
             [
              0.2222222222222222,
              "#7201a8"
             ],
             [
              0.3333333333333333,
              "#9c179e"
             ],
             [
              0.4444444444444444,
              "#bd3786"
             ],
             [
              0.5555555555555556,
              "#d8576b"
             ],
             [
              0.6666666666666666,
              "#ed7953"
             ],
             [
              0.7777777777777778,
              "#fb9f3a"
             ],
             [
              0.8888888888888888,
              "#fdca26"
             ],
             [
              1,
              "#f0f921"
             ]
            ],
            "type": "histogram2dcontour"
           }
          ],
          "mesh3d": [
           {
            "colorbar": {
             "outlinewidth": 0,
             "ticks": ""
            },
            "type": "mesh3d"
           }
          ],
          "parcoords": [
           {
            "line": {
             "colorbar": {
              "outlinewidth": 0,
              "ticks": ""
             }
            },
            "type": "parcoords"
           }
          ],
          "pie": [
           {
            "automargin": true,
            "type": "pie"
           }
          ],
          "scatter": [
           {
            "marker": {
             "colorbar": {
              "outlinewidth": 0,
              "ticks": ""
             }
            },
            "type": "scatter"
           }
          ],
          "scatter3d": [
           {
            "line": {
             "colorbar": {
              "outlinewidth": 0,
              "ticks": ""
             }
            },
            "marker": {
             "colorbar": {
              "outlinewidth": 0,
              "ticks": ""
             }
            },
            "type": "scatter3d"
           }
          ],
          "scattercarpet": [
           {
            "marker": {
             "colorbar": {
              "outlinewidth": 0,
              "ticks": ""
             }
            },
            "type": "scattercarpet"
           }
          ],
          "scattergeo": [
           {
            "marker": {
             "colorbar": {
              "outlinewidth": 0,
              "ticks": ""
             }
            },
            "type": "scattergeo"
           }
          ],
          "scattergl": [
           {
            "marker": {
             "colorbar": {
              "outlinewidth": 0,
              "ticks": ""
             }
            },
            "type": "scattergl"
           }
          ],
          "scattermapbox": [
           {
            "marker": {
             "colorbar": {
              "outlinewidth": 0,
              "ticks": ""
             }
            },
            "type": "scattermapbox"
           }
          ],
          "scatterpolar": [
           {
            "marker": {
             "colorbar": {
              "outlinewidth": 0,
              "ticks": ""
             }
            },
            "type": "scatterpolar"
           }
          ],
          "scatterpolargl": [
           {
            "marker": {
             "colorbar": {
              "outlinewidth": 0,
              "ticks": ""
             }
            },
            "type": "scatterpolargl"
           }
          ],
          "scatterternary": [
           {
            "marker": {
             "colorbar": {
              "outlinewidth": 0,
              "ticks": ""
             }
            },
            "type": "scatterternary"
           }
          ],
          "surface": [
           {
            "colorbar": {
             "outlinewidth": 0,
             "ticks": ""
            },
            "colorscale": [
             [
              0,
              "#0d0887"
             ],
             [
              0.1111111111111111,
              "#46039f"
             ],
             [
              0.2222222222222222,
              "#7201a8"
             ],
             [
              0.3333333333333333,
              "#9c179e"
             ],
             [
              0.4444444444444444,
              "#bd3786"
             ],
             [
              0.5555555555555556,
              "#d8576b"
             ],
             [
              0.6666666666666666,
              "#ed7953"
             ],
             [
              0.7777777777777778,
              "#fb9f3a"
             ],
             [
              0.8888888888888888,
              "#fdca26"
             ],
             [
              1,
              "#f0f921"
             ]
            ],
            "type": "surface"
           }
          ],
          "table": [
           {
            "cells": {
             "fill": {
              "color": "#EBF0F8"
             },
             "line": {
              "color": "white"
             }
            },
            "header": {
             "fill": {
              "color": "#C8D4E3"
             },
             "line": {
              "color": "white"
             }
            },
            "type": "table"
           }
          ]
         },
         "layout": {
          "annotationdefaults": {
           "arrowcolor": "#2a3f5f",
           "arrowhead": 0,
           "arrowwidth": 1
          },
          "autotypenumbers": "strict",
          "coloraxis": {
           "colorbar": {
            "outlinewidth": 0,
            "ticks": ""
           }
          },
          "colorscale": {
           "diverging": [
            [
             0,
             "#8e0152"
            ],
            [
             0.1,
             "#c51b7d"
            ],
            [
             0.2,
             "#de77ae"
            ],
            [
             0.3,
             "#f1b6da"
            ],
            [
             0.4,
             "#fde0ef"
            ],
            [
             0.5,
             "#f7f7f7"
            ],
            [
             0.6,
             "#e6f5d0"
            ],
            [
             0.7,
             "#b8e186"
            ],
            [
             0.8,
             "#7fbc41"
            ],
            [
             0.9,
             "#4d9221"
            ],
            [
             1,
             "#276419"
            ]
           ],
           "sequential": [
            [
             0,
             "#0d0887"
            ],
            [
             0.1111111111111111,
             "#46039f"
            ],
            [
             0.2222222222222222,
             "#7201a8"
            ],
            [
             0.3333333333333333,
             "#9c179e"
            ],
            [
             0.4444444444444444,
             "#bd3786"
            ],
            [
             0.5555555555555556,
             "#d8576b"
            ],
            [
             0.6666666666666666,
             "#ed7953"
            ],
            [
             0.7777777777777778,
             "#fb9f3a"
            ],
            [
             0.8888888888888888,
             "#fdca26"
            ],
            [
             1,
             "#f0f921"
            ]
           ],
           "sequentialminus": [
            [
             0,
             "#0d0887"
            ],
            [
             0.1111111111111111,
             "#46039f"
            ],
            [
             0.2222222222222222,
             "#7201a8"
            ],
            [
             0.3333333333333333,
             "#9c179e"
            ],
            [
             0.4444444444444444,
             "#bd3786"
            ],
            [
             0.5555555555555556,
             "#d8576b"
            ],
            [
             0.6666666666666666,
             "#ed7953"
            ],
            [
             0.7777777777777778,
             "#fb9f3a"
            ],
            [
             0.8888888888888888,
             "#fdca26"
            ],
            [
             1,
             "#f0f921"
            ]
           ]
          },
          "colorway": [
           "#636efa",
           "#EF553B",
           "#00cc96",
           "#ab63fa",
           "#FFA15A",
           "#19d3f3",
           "#FF6692",
           "#B6E880",
           "#FF97FF",
           "#FECB52"
          ],
          "font": {
           "color": "#2a3f5f"
          },
          "geo": {
           "bgcolor": "white",
           "lakecolor": "white",
           "landcolor": "#E5ECF6",
           "showlakes": true,
           "showland": true,
           "subunitcolor": "white"
          },
          "hoverlabel": {
           "align": "left"
          },
          "hovermode": "closest",
          "mapbox": {
           "style": "light"
          },
          "paper_bgcolor": "white",
          "plot_bgcolor": "#E5ECF6",
          "polar": {
           "angularaxis": {
            "gridcolor": "white",
            "linecolor": "white",
            "ticks": ""
           },
           "bgcolor": "#E5ECF6",
           "radialaxis": {
            "gridcolor": "white",
            "linecolor": "white",
            "ticks": ""
           }
          },
          "scene": {
           "xaxis": {
            "backgroundcolor": "#E5ECF6",
            "gridcolor": "white",
            "gridwidth": 2,
            "linecolor": "white",
            "showbackground": true,
            "ticks": "",
            "zerolinecolor": "white"
           },
           "yaxis": {
            "backgroundcolor": "#E5ECF6",
            "gridcolor": "white",
            "gridwidth": 2,
            "linecolor": "white",
            "showbackground": true,
            "ticks": "",
            "zerolinecolor": "white"
           },
           "zaxis": {
            "backgroundcolor": "#E5ECF6",
            "gridcolor": "white",
            "gridwidth": 2,
            "linecolor": "white",
            "showbackground": true,
            "ticks": "",
            "zerolinecolor": "white"
           }
          },
          "shapedefaults": {
           "line": {
            "color": "#2a3f5f"
           }
          },
          "ternary": {
           "aaxis": {
            "gridcolor": "white",
            "linecolor": "white",
            "ticks": ""
           },
           "baxis": {
            "gridcolor": "white",
            "linecolor": "white",
            "ticks": ""
           },
           "bgcolor": "#E5ECF6",
           "caxis": {
            "gridcolor": "white",
            "linecolor": "white",
            "ticks": ""
           }
          },
          "title": {
           "x": 0.05
          },
          "xaxis": {
           "automargin": true,
           "gridcolor": "white",
           "linecolor": "white",
           "ticks": "",
           "title": {
            "standoff": 15
           },
           "zerolinecolor": "white",
           "zerolinewidth": 2
          },
          "yaxis": {
           "automargin": true,
           "gridcolor": "white",
           "linecolor": "white",
           "ticks": "",
           "title": {
            "standoff": 15
           },
           "zerolinecolor": "white",
           "zerolinewidth": 2
          }
         }
        },
        "title": {
         "font": {
          "color": "#4D5663"
         }
        },
        "xaxis": {
         "anchor": "y",
         "domain": [
          0,
          0.2125
         ],
         "gridcolor": "#E1E5ED",
         "showgrid": false,
         "tickfont": {
          "color": "#4D5663"
         },
         "title": {
          "font": {
           "color": "#4D5663"
          },
          "text": ""
         },
         "zerolinecolor": "#E1E5ED"
        },
        "xaxis10": {
         "anchor": "y10",
         "domain": [
          0.2625,
          0.475
         ],
         "gridcolor": "#E1E5ED",
         "showgrid": false,
         "tickfont": {
          "color": "#4D5663"
         },
         "title": {
          "font": {
           "color": "#4D5663"
          },
          "text": ""
         },
         "zerolinecolor": "#E1E5ED"
        },
        "xaxis11": {
         "anchor": "y11",
         "domain": [
          0.525,
          0.7375
         ],
         "gridcolor": "#E1E5ED",
         "showgrid": false,
         "tickfont": {
          "color": "#4D5663"
         },
         "title": {
          "font": {
           "color": "#4D5663"
          },
          "text": ""
         },
         "zerolinecolor": "#E1E5ED"
        },
        "xaxis12": {
         "anchor": "y12",
         "domain": [
          0.7875,
          1
         ],
         "gridcolor": "#E1E5ED",
         "showgrid": false,
         "tickfont": {
          "color": "#4D5663"
         },
         "title": {
          "font": {
           "color": "#4D5663"
          },
          "text": ""
         },
         "zerolinecolor": "#E1E5ED"
        },
        "xaxis13": {
         "anchor": "y13",
         "domain": [
          0,
          0.2125
         ],
         "gridcolor": "#E1E5ED",
         "showgrid": false,
         "tickfont": {
          "color": "#4D5663"
         },
         "title": {
          "font": {
           "color": "#4D5663"
          },
          "text": ""
         },
         "zerolinecolor": "#E1E5ED"
        },
        "xaxis14": {
         "anchor": "y14",
         "domain": [
          0.2625,
          0.475
         ],
         "gridcolor": "#E1E5ED",
         "showgrid": false,
         "tickfont": {
          "color": "#4D5663"
         },
         "title": {
          "font": {
           "color": "#4D5663"
          },
          "text": ""
         },
         "zerolinecolor": "#E1E5ED"
        },
        "xaxis15": {
         "anchor": "y15",
         "domain": [
          0.525,
          0.7375
         ],
         "gridcolor": "#E1E5ED",
         "showgrid": false,
         "tickfont": {
          "color": "#4D5663"
         },
         "title": {
          "font": {
           "color": "#4D5663"
          },
          "text": ""
         },
         "zerolinecolor": "#E1E5ED"
        },
        "xaxis16": {
         "anchor": "y16",
         "domain": [
          0.7875,
          1
         ],
         "gridcolor": "#E1E5ED",
         "showgrid": false,
         "tickfont": {
          "color": "#4D5663"
         },
         "title": {
          "font": {
           "color": "#4D5663"
          },
          "text": ""
         },
         "zerolinecolor": "#E1E5ED"
        },
        "xaxis2": {
         "anchor": "y2",
         "domain": [
          0.2625,
          0.475
         ],
         "gridcolor": "#E1E5ED",
         "showgrid": false,
         "tickfont": {
          "color": "#4D5663"
         },
         "title": {
          "font": {
           "color": "#4D5663"
          },
          "text": ""
         },
         "zerolinecolor": "#E1E5ED"
        },
        "xaxis3": {
         "anchor": "y3",
         "domain": [
          0.525,
          0.7375
         ],
         "gridcolor": "#E1E5ED",
         "showgrid": false,
         "tickfont": {
          "color": "#4D5663"
         },
         "title": {
          "font": {
           "color": "#4D5663"
          },
          "text": ""
         },
         "zerolinecolor": "#E1E5ED"
        },
        "xaxis4": {
         "anchor": "y4",
         "domain": [
          0.7875,
          1
         ],
         "gridcolor": "#E1E5ED",
         "showgrid": false,
         "tickfont": {
          "color": "#4D5663"
         },
         "title": {
          "font": {
           "color": "#4D5663"
          },
          "text": ""
         },
         "zerolinecolor": "#E1E5ED"
        },
        "xaxis5": {
         "anchor": "y5",
         "domain": [
          0,
          0.2125
         ],
         "gridcolor": "#E1E5ED",
         "showgrid": false,
         "tickfont": {
          "color": "#4D5663"
         },
         "title": {
          "font": {
           "color": "#4D5663"
          },
          "text": ""
         },
         "zerolinecolor": "#E1E5ED"
        },
        "xaxis6": {
         "anchor": "y6",
         "domain": [
          0.2625,
          0.475
         ],
         "gridcolor": "#E1E5ED",
         "showgrid": false,
         "tickfont": {
          "color": "#4D5663"
         },
         "title": {
          "font": {
           "color": "#4D5663"
          },
          "text": ""
         },
         "zerolinecolor": "#E1E5ED"
        },
        "xaxis7": {
         "anchor": "y7",
         "domain": [
          0.525,
          0.7375
         ],
         "gridcolor": "#E1E5ED",
         "showgrid": false,
         "tickfont": {
          "color": "#4D5663"
         },
         "title": {
          "font": {
           "color": "#4D5663"
          },
          "text": ""
         },
         "zerolinecolor": "#E1E5ED"
        },
        "xaxis8": {
         "anchor": "y8",
         "domain": [
          0.7875,
          1
         ],
         "gridcolor": "#E1E5ED",
         "showgrid": false,
         "tickfont": {
          "color": "#4D5663"
         },
         "title": {
          "font": {
           "color": "#4D5663"
          },
          "text": ""
         },
         "zerolinecolor": "#E1E5ED"
        },
        "xaxis9": {
         "anchor": "y9",
         "domain": [
          0,
          0.2125
         ],
         "gridcolor": "#E1E5ED",
         "showgrid": false,
         "tickfont": {
          "color": "#4D5663"
         },
         "title": {
          "font": {
           "color": "#4D5663"
          },
          "text": ""
         },
         "zerolinecolor": "#E1E5ED"
        },
        "yaxis": {
         "anchor": "x",
         "domain": [
          0.8025,
          1
         ],
         "gridcolor": "#E1E5ED",
         "showgrid": false,
         "tickfont": {
          "color": "#4D5663"
         },
         "title": {
          "font": {
           "color": "#4D5663"
          },
          "text": ""
         },
         "zerolinecolor": "#E1E5ED"
        },
        "yaxis10": {
         "anchor": "x10",
         "domain": [
          0.2675,
          0.465
         ],
         "gridcolor": "#E1E5ED",
         "showgrid": false,
         "tickfont": {
          "color": "#4D5663"
         },
         "title": {
          "font": {
           "color": "#4D5663"
          },
          "text": ""
         },
         "zerolinecolor": "#E1E5ED"
        },
        "yaxis11": {
         "anchor": "x11",
         "domain": [
          0.2675,
          0.465
         ],
         "gridcolor": "#E1E5ED",
         "showgrid": false,
         "tickfont": {
          "color": "#4D5663"
         },
         "title": {
          "font": {
           "color": "#4D5663"
          },
          "text": ""
         },
         "zerolinecolor": "#E1E5ED"
        },
        "yaxis12": {
         "anchor": "x12",
         "domain": [
          0.2675,
          0.465
         ],
         "gridcolor": "#E1E5ED",
         "showgrid": false,
         "tickfont": {
          "color": "#4D5663"
         },
         "title": {
          "font": {
           "color": "#4D5663"
          },
          "text": ""
         },
         "zerolinecolor": "#E1E5ED"
        },
        "yaxis13": {
         "anchor": "x13",
         "domain": [
          0,
          0.1975
         ],
         "gridcolor": "#E1E5ED",
         "showgrid": false,
         "tickfont": {
          "color": "#4D5663"
         },
         "title": {
          "font": {
           "color": "#4D5663"
          },
          "text": ""
         },
         "zerolinecolor": "#E1E5ED"
        },
        "yaxis14": {
         "anchor": "x14",
         "domain": [
          0,
          0.1975
         ],
         "gridcolor": "#E1E5ED",
         "showgrid": false,
         "tickfont": {
          "color": "#4D5663"
         },
         "title": {
          "font": {
           "color": "#4D5663"
          },
          "text": ""
         },
         "zerolinecolor": "#E1E5ED"
        },
        "yaxis15": {
         "anchor": "x15",
         "domain": [
          0,
          0.1975
         ],
         "gridcolor": "#E1E5ED",
         "showgrid": false,
         "tickfont": {
          "color": "#4D5663"
         },
         "title": {
          "font": {
           "color": "#4D5663"
          },
          "text": ""
         },
         "zerolinecolor": "#E1E5ED"
        },
        "yaxis16": {
         "anchor": "x16",
         "domain": [
          0,
          0.1975
         ],
         "gridcolor": "#E1E5ED",
         "showgrid": false,
         "tickfont": {
          "color": "#4D5663"
         },
         "title": {
          "font": {
           "color": "#4D5663"
          },
          "text": ""
         },
         "zerolinecolor": "#E1E5ED"
        },
        "yaxis2": {
         "anchor": "x2",
         "domain": [
          0.8025,
          1
         ],
         "gridcolor": "#E1E5ED",
         "showgrid": false,
         "tickfont": {
          "color": "#4D5663"
         },
         "title": {
          "font": {
           "color": "#4D5663"
          },
          "text": ""
         },
         "zerolinecolor": "#E1E5ED"
        },
        "yaxis3": {
         "anchor": "x3",
         "domain": [
          0.8025,
          1
         ],
         "gridcolor": "#E1E5ED",
         "showgrid": false,
         "tickfont": {
          "color": "#4D5663"
         },
         "title": {
          "font": {
           "color": "#4D5663"
          },
          "text": ""
         },
         "zerolinecolor": "#E1E5ED"
        },
        "yaxis4": {
         "anchor": "x4",
         "domain": [
          0.8025,
          1
         ],
         "gridcolor": "#E1E5ED",
         "showgrid": false,
         "tickfont": {
          "color": "#4D5663"
         },
         "title": {
          "font": {
           "color": "#4D5663"
          },
          "text": ""
         },
         "zerolinecolor": "#E1E5ED"
        },
        "yaxis5": {
         "anchor": "x5",
         "domain": [
          0.535,
          0.7325
         ],
         "gridcolor": "#E1E5ED",
         "showgrid": false,
         "tickfont": {
          "color": "#4D5663"
         },
         "title": {
          "font": {
           "color": "#4D5663"
          },
          "text": ""
         },
         "zerolinecolor": "#E1E5ED"
        },
        "yaxis6": {
         "anchor": "x6",
         "domain": [
          0.535,
          0.7325
         ],
         "gridcolor": "#E1E5ED",
         "showgrid": false,
         "tickfont": {
          "color": "#4D5663"
         },
         "title": {
          "font": {
           "color": "#4D5663"
          },
          "text": ""
         },
         "zerolinecolor": "#E1E5ED"
        },
        "yaxis7": {
         "anchor": "x7",
         "domain": [
          0.535,
          0.7325
         ],
         "gridcolor": "#E1E5ED",
         "showgrid": false,
         "tickfont": {
          "color": "#4D5663"
         },
         "title": {
          "font": {
           "color": "#4D5663"
          },
          "text": ""
         },
         "zerolinecolor": "#E1E5ED"
        },
        "yaxis8": {
         "anchor": "x8",
         "domain": [
          0.535,
          0.7325
         ],
         "gridcolor": "#E1E5ED",
         "showgrid": false,
         "tickfont": {
          "color": "#4D5663"
         },
         "title": {
          "font": {
           "color": "#4D5663"
          },
          "text": ""
         },
         "zerolinecolor": "#E1E5ED"
        },
        "yaxis9": {
         "anchor": "x9",
         "domain": [
          0.2675,
          0.465
         ],
         "gridcolor": "#E1E5ED",
         "showgrid": false,
         "tickfont": {
          "color": "#4D5663"
         },
         "title": {
          "font": {
           "color": "#4D5663"
          },
          "text": ""
         },
         "zerolinecolor": "#E1E5ED"
        }
       }
      },
      "text/html": [
       "<div>                            <div id=\"e782f03e-50b3-4bba-a7b1-eab208f45ce7\" class=\"plotly-graph-div\" style=\"height:525px; width:100%;\"></div>            <script type=\"text/javascript\">                require([\"plotly\"], function(Plotly) {                    window.PLOTLYENV=window.PLOTLYENV || {};\n",
       "                    window.PLOTLYENV.BASE_URL='https://plot.ly';                                    if (document.getElementById(\"e782f03e-50b3-4bba-a7b1-eab208f45ce7\")) {                    Plotly.newPlot(                        \"e782f03e-50b3-4bba-a7b1-eab208f45ce7\",                        [{\"histfunc\": \"count\", \"histnorm\": \"\", \"marker\": {\"color\": \"rgba(255, 153, 51, 1.0)\", \"line\": {\"color\": \"#4D5663\", \"width\": 1.3}}, \"name\": \"A\", \"nbinsx\": 10, \"opacity\": 0.8, \"orientation\": \"v\", \"type\": \"histogram\", \"x\": [0.2803514486783903, -1.3529818744563427, 0.5349335415489098, -0.46485644825077904, 0.23995054472161614, 0.015400907103716222, -0.2916104698915431, -0.23667497168901144, -0.6960369293674991, 0.05795719862127771, -2.707673763127651, 0.7613704053442429, 0.3038232136903593, 0.47448335399814273, -0.164943487319802, -0.1746685114526522, 0.2737289201669528, -1.595378768993628, -1.5108845426369344, 0.24616265746478627, 0.3065102838166673, 0.5813583720340318, 0.6865830735731809, -0.6258184147645117, -0.5546572199896735, -0.7466622678544448, -0.7270465111699874, -0.47816758216383126, -0.6669280389560786, 0.76101743324588, -0.013679710392465254, 1.2232943573945159, 2.5559833518724893, -0.07060403482627899, 0.13004671884714766, -0.45520923256722334, 0.29918460014033516, -0.5924241017540582, -0.15759225564599727, -1.4004988620018581, -1.7732366422243238, 0.19030716935011002, -1.8019881668928215, -0.557204660426035, -0.44856054866864037, -1.4060925644133255, -1.022320245094843, -0.8941673627250798, -2.245692439956184, 0.2521689296172425, 0.07855183616603281, -1.880184235826735, -0.3547545024536497, -0.15901492812930434, 1.4885512061851904, 1.154473168088508, 0.3506429831171856, 0.033939225063162694, -0.745605997038604, -0.08313589301236117, -0.40493746348498305, -0.41768247476306836, -0.4717648718246529, -1.1171886583955546, -2.129045780023768, -1.4832090385240868, -0.9441306566317546, 1.322478523659654, 0.42861599484286816, -0.009349041903356899, -1.116475110689967, -1.604227395364169, -2.6458410752338737, 0.11056779914131323, -0.4965388245769563, 0.17496256936776317, -0.2188956562305676, 0.6945059949492234, -1.5537040988224653, -0.4187519315700034, -1.5423386677726243, 0.06656236481758367, 0.6071611139142862, -0.2086185228188934, -0.6639641879325863, 1.0091151944427543, -0.45485719742929204, 0.7407282713470051, 0.7926935792564782, 0.8401881183890121, 0.9707636921175228, -0.8331596615803011, -0.6412226880173394, 0.5776137452811525, -0.709783389228246, 0.06455705181996911, 1.5612392254536525, 0.6579971954098929, -0.1399662625786303, 1.1855510000724214], \"xaxis\": \"x\", \"yaxis\": \"y\"}, {\"line\": {\"color\": \"rgba(128, 128, 128, 1.0)\", \"dash\": \"solid\", \"shape\": \"linear\", \"width\": 1.3}, \"marker\": {\"size\": 2, \"symbol\": \"circle\"}, \"mode\": \"markers\", \"name\": \"A\", \"text\": \"\", \"type\": \"scatter\", \"x\": [0.17706896277187162, -0.6249373118454554, 0.3272590749722181, -0.9940401674343684, -2.530950849847117, 0.2636658317371174, 1.354219131183047, 0.6643474062171079, -1.6533612970498077, 0.7416715750244077, -0.9932428321735989, -0.6414343494166856, 0.8299153265150462, -1.021986403702533, 0.8987779717506097, 1.0164569804648547, -0.35952334786171086, 1.1094843584394358, 1.5121019739205415, -0.2604947937239252, -0.3690942205578536, 0.3615252687732477, -1.025107085234413, -1.4493849627756665, -0.8199570845444943, 0.4505595988304898, 1.1605376269740642, -1.188009381927696, 0.6787286337625219, 0.8039586299595403, -3.0833656542362573, 1.269449272266462, -0.3149057116993393, -1.2939815954736011, 0.12182680125676709, 0.33006216460025506, 0.21363583429407815, 1.6588885458762022, -0.19557754724933765, 1.0547923730917923, 0.6954831684772481, -0.34584471468312034, 0.6057788359167456, 0.1590495270200915, 1.5273126423059864, 0.348566619616232, -0.18952539532798401, 0.6252396166243234, 1.1062954259320954, -0.687910545726598, -0.9078626099526047, 0.48194398183866477, 0.5342528457953383, -0.23774105751875005, 0.06247792047270879, -0.3363551491205612, -1.4667065221044309, 0.0951224432524548, 1.0856472862022295, -0.5269712156766507, -0.3898477752743443, 0.6154660142894058, -1.7415795762625443, -0.316102495625554, -0.02737132768909968, -1.6443310620854097, -1.456726450295568, -0.54900368339122, 0.6835144512512027, 0.6592334242785094, -0.7801848924134268, 0.055159435884052276, -0.41360718927975393, -0.6787915069209751, 0.1528205833072065, -1.241618365094969, -0.11126935795339148, 1.0446944850176876, -0.39328046132648636, -0.9198930417706479, 1.5521279360686067, -0.5390003413131172, -0.2064753229521223, 0.6444836441877287, -2.490722034504807, 0.11470952204713913, 1.2685106961111818, 1.1869956882656112, -0.5344110224171819, -1.2146728790266499, -0.2380292931578603, 0.35164800826546266, 0.6321143673388616, -1.8475654305346552, 0.31649382271570314, -0.9371543855285568, 1.314046527434895, -0.12930965638675102, -0.2226154810643709, 0.9161026149352096], \"xaxis\": \"x2\", \"y\": [0.2803514486783903, -1.3529818744563427, 0.5349335415489098, -0.46485644825077904, 0.23995054472161614, 0.015400907103716222, -0.2916104698915431, -0.23667497168901144, -0.6960369293674991, 0.05795719862127771, -2.707673763127651, 0.7613704053442429, 0.3038232136903593, 0.47448335399814273, -0.164943487319802, -0.1746685114526522, 0.2737289201669528, -1.595378768993628, -1.5108845426369344, 0.24616265746478627, 0.3065102838166673, 0.5813583720340318, 0.6865830735731809, -0.6258184147645117, -0.5546572199896735, -0.7466622678544448, -0.7270465111699874, -0.47816758216383126, -0.6669280389560786, 0.76101743324588, -0.013679710392465254, 1.2232943573945159, 2.5559833518724893, -0.07060403482627899, 0.13004671884714766, -0.45520923256722334, 0.29918460014033516, -0.5924241017540582, -0.15759225564599727, -1.4004988620018581, -1.7732366422243238, 0.19030716935011002, -1.8019881668928215, -0.557204660426035, -0.44856054866864037, -1.4060925644133255, -1.022320245094843, -0.8941673627250798, -2.245692439956184, 0.2521689296172425, 0.07855183616603281, -1.880184235826735, -0.3547545024536497, -0.15901492812930434, 1.4885512061851904, 1.154473168088508, 0.3506429831171856, 0.033939225063162694, -0.745605997038604, -0.08313589301236117, -0.40493746348498305, -0.41768247476306836, -0.4717648718246529, -1.1171886583955546, -2.129045780023768, -1.4832090385240868, -0.9441306566317546, 1.322478523659654, 0.42861599484286816, -0.009349041903356899, -1.116475110689967, -1.604227395364169, -2.6458410752338737, 0.11056779914131323, -0.4965388245769563, 0.17496256936776317, -0.2188956562305676, 0.6945059949492234, -1.5537040988224653, -0.4187519315700034, -1.5423386677726243, 0.06656236481758367, 0.6071611139142862, -0.2086185228188934, -0.6639641879325863, 1.0091151944427543, -0.45485719742929204, 0.7407282713470051, 0.7926935792564782, 0.8401881183890121, 0.9707636921175228, -0.8331596615803011, -0.6412226880173394, 0.5776137452811525, -0.709783389228246, 0.06455705181996911, 1.5612392254536525, 0.6579971954098929, -0.1399662625786303, 1.1855510000724214], \"yaxis\": \"y2\"}, {\"line\": {\"color\": \"rgba(128, 128, 128, 1.0)\", \"dash\": \"solid\", \"shape\": \"linear\", \"width\": 1.3}, \"marker\": {\"size\": 2, \"symbol\": \"circle\"}, \"mode\": \"markers\", \"name\": \"A\", \"text\": \"\", \"type\": \"scatter\", \"x\": [-2.392449090745727, -1.0617610195517124, 2.217577774879199, -2.1779444355321353, -0.8121055877240545, -0.7746532570244032, 0.7030526756647797, 1.5960705297915396, 0.9697825046201582, 0.09654561836098974, -0.4111470689105436, -1.714433409650028, 0.9305071704462848, -0.34927440847572006, -1.2836356184490894, 0.37071448751114106, -1.0065758264180849, -0.21234678778496685, 1.4548132175994113, 1.367560293167318, -0.3834926316147219, -1.1162160395077914, 0.27014406239797, -1.8241545117574738, -0.5719640611581355, 0.35064663858170936, -0.11607432917288818, -1.2130003627713901, 0.1944688606000843, 0.9473014612309798, -0.3771930345287786, 0.3150503017865192, 0.7941128256660478, -0.16901109098163897, 0.7857527425599498, 0.20501827976607556, -0.30329038211263465, 1.2967584326539083, 0.015311590896882568, 1.2046927466472341, 0.24295398729853393, 1.507870989115243, -1.3620291934431374, -1.2029309697776815, -1.33851449728627, -0.4400825665526056, -0.4640808404095627, 1.1453226418826887, -0.5316768403463288, -0.6244809450309862, -0.11946151940180644, 2.56150376466554, 0.18471940380253912, 0.663430075062486, -2.3085509848434023, 1.7976013757255478, -0.6904563964744526, 2.7909713645302636, -0.6428921267102796, -0.5822092806174856, 0.9513219009855614, 0.0686603140688749, 1.320262270992589, -0.9285445800039841, -0.5554649960632836, 0.4764140059804784, -1.4463556836268234, -1.2631022186673608, -2.9247977287174445, 0.9090892062818072, 1.6423475047197922, -1.3001758539335535, -1.1808477175120704, 0.2705472095520638, 1.0876381779091167, -0.17523884543821572, -0.1334008391090635, 0.5147391648902362, 0.6751204577550315, -0.6178474564556888, -1.689505147493363, 0.4374628571706745, -1.562310762800644, -0.2504486862566129, 0.8744056262125431, -0.7753440359013597, 0.4321155399840242, -0.10522895301904903, 0.3050607058928969, -0.9462718881676678, -1.318911504859071, -1.8950386360261857, 0.14491189531719736, 0.21966745452151398, 0.6822693670204852, 2.7793665898883817, -0.45363989798818377, 0.5958180244618567, -0.20141467567739665, 0.27809903575079464], \"xaxis\": \"x3\", \"y\": [0.2803514486783903, -1.3529818744563427, 0.5349335415489098, -0.46485644825077904, 0.23995054472161614, 0.015400907103716222, -0.2916104698915431, -0.23667497168901144, -0.6960369293674991, 0.05795719862127771, -2.707673763127651, 0.7613704053442429, 0.3038232136903593, 0.47448335399814273, -0.164943487319802, -0.1746685114526522, 0.2737289201669528, -1.595378768993628, -1.5108845426369344, 0.24616265746478627, 0.3065102838166673, 0.5813583720340318, 0.6865830735731809, -0.6258184147645117, -0.5546572199896735, -0.7466622678544448, -0.7270465111699874, -0.47816758216383126, -0.6669280389560786, 0.76101743324588, -0.013679710392465254, 1.2232943573945159, 2.5559833518724893, -0.07060403482627899, 0.13004671884714766, -0.45520923256722334, 0.29918460014033516, -0.5924241017540582, -0.15759225564599727, -1.4004988620018581, -1.7732366422243238, 0.19030716935011002, -1.8019881668928215, -0.557204660426035, -0.44856054866864037, -1.4060925644133255, -1.022320245094843, -0.8941673627250798, -2.245692439956184, 0.2521689296172425, 0.07855183616603281, -1.880184235826735, -0.3547545024536497, -0.15901492812930434, 1.4885512061851904, 1.154473168088508, 0.3506429831171856, 0.033939225063162694, -0.745605997038604, -0.08313589301236117, -0.40493746348498305, -0.41768247476306836, -0.4717648718246529, -1.1171886583955546, -2.129045780023768, -1.4832090385240868, -0.9441306566317546, 1.322478523659654, 0.42861599484286816, -0.009349041903356899, -1.116475110689967, -1.604227395364169, -2.6458410752338737, 0.11056779914131323, -0.4965388245769563, 0.17496256936776317, -0.2188956562305676, 0.6945059949492234, -1.5537040988224653, -0.4187519315700034, -1.5423386677726243, 0.06656236481758367, 0.6071611139142862, -0.2086185228188934, -0.6639641879325863, 1.0091151944427543, -0.45485719742929204, 0.7407282713470051, 0.7926935792564782, 0.8401881183890121, 0.9707636921175228, -0.8331596615803011, -0.6412226880173394, 0.5776137452811525, -0.709783389228246, 0.06455705181996911, 1.5612392254536525, 0.6579971954098929, -0.1399662625786303, 1.1855510000724214], \"yaxis\": \"y3\"}, {\"line\": {\"color\": \"rgba(128, 128, 128, 1.0)\", \"dash\": \"solid\", \"shape\": \"linear\", \"width\": 1.3}, \"marker\": {\"size\": 2, \"symbol\": \"circle\"}, \"mode\": \"markers\", \"name\": \"A\", \"text\": \"\", \"type\": \"scatter\", \"x\": [1.1799654205219414, -0.900168005349071, -0.04451479704022886, 1.0653684715245106, 0.1764817562654781, -0.8349127232369903, -0.6960952821297788, -1.9455580284231706, 1.0533620636016847, 0.09333401668230523, -1.6060535940338903, 1.2594127954087435, -1.4065403106576317, 0.2339046800235441, -0.3990753387793068, 0.14615553406265083, -0.22350669947064497, 0.640765174595041, -0.01781445016880167, 0.03805637164732594, -0.5319945548529844, 0.48867166111317945, 0.984428316137575, -0.03300147507971211, -0.4460017887530481, 0.6605359725750817, 1.0419966648711196, 0.3102082312382125, 0.4790833644265756, 0.3011265455026397, 0.7106774292313758, -1.8873548298757337, -0.5137549468477939, 0.8398922989685574, 1.0871651095232162, -0.6095935911603446, -0.9572471512220628, -0.09168866772342649, 0.9006727983883414, -0.5324291315386876, -1.726570160418048, 1.0140854466616918, 0.07895740073962702, 0.028232441746865927, 0.1292868222577738, -0.47837331868394956, 1.3766507537397314, 1.95145601238955, 0.506741706843716, 1.2533742976373865, -0.3619270048935121, -0.8616935877086113, -0.2655896252796371, 0.2271565839704893, 2.4137730541621982, 0.9732167058624435, 1.9659798542459828, 1.0949859809977442, 0.5445608800317912, -0.17559363806582184, -0.17602397006631898, 2.126044789094438, -0.2679660738387135, -0.5899014259574387, 0.8233918972239539, 0.5982102131868876, -0.23974548763690395, -0.7625645661411272, 2.131255846154423, -0.16089139609515746, 0.18381944256905272, 0.2267617909081373, 0.7803127983852142, 0.20624611159253428, -0.29663636897520196, 0.35153327070056284, 0.2533433329388325, 1.3385403406301426, 0.39338621737609836, -1.2594537167617184, 0.7822207461721324, -0.996742549160656, 0.35159121972752716, -1.814256381533014, -0.37513101639477564, 0.750078538828769, 0.46153055686012423, 1.0646275597072927, -1.473212781815409, -0.29988514652464204, 0.0250383601161776, -1.2807437185006134, -0.04386155936399598, -0.5689608056658727, 1.3878061561455213, -0.038124352960860156, -0.10663655667386701, -0.7727476047248021, -2.0244093820446296, 0.16588996022679559], \"xaxis\": \"x4\", \"y\": [0.2803514486783903, -1.3529818744563427, 0.5349335415489098, -0.46485644825077904, 0.23995054472161614, 0.015400907103716222, -0.2916104698915431, -0.23667497168901144, -0.6960369293674991, 0.05795719862127771, -2.707673763127651, 0.7613704053442429, 0.3038232136903593, 0.47448335399814273, -0.164943487319802, -0.1746685114526522, 0.2737289201669528, -1.595378768993628, -1.5108845426369344, 0.24616265746478627, 0.3065102838166673, 0.5813583720340318, 0.6865830735731809, -0.6258184147645117, -0.5546572199896735, -0.7466622678544448, -0.7270465111699874, -0.47816758216383126, -0.6669280389560786, 0.76101743324588, -0.013679710392465254, 1.2232943573945159, 2.5559833518724893, -0.07060403482627899, 0.13004671884714766, -0.45520923256722334, 0.29918460014033516, -0.5924241017540582, -0.15759225564599727, -1.4004988620018581, -1.7732366422243238, 0.19030716935011002, -1.8019881668928215, -0.557204660426035, -0.44856054866864037, -1.4060925644133255, -1.022320245094843, -0.8941673627250798, -2.245692439956184, 0.2521689296172425, 0.07855183616603281, -1.880184235826735, -0.3547545024536497, -0.15901492812930434, 1.4885512061851904, 1.154473168088508, 0.3506429831171856, 0.033939225063162694, -0.745605997038604, -0.08313589301236117, -0.40493746348498305, -0.41768247476306836, -0.4717648718246529, -1.1171886583955546, -2.129045780023768, -1.4832090385240868, -0.9441306566317546, 1.322478523659654, 0.42861599484286816, -0.009349041903356899, -1.116475110689967, -1.604227395364169, -2.6458410752338737, 0.11056779914131323, -0.4965388245769563, 0.17496256936776317, -0.2188956562305676, 0.6945059949492234, -1.5537040988224653, -0.4187519315700034, -1.5423386677726243, 0.06656236481758367, 0.6071611139142862, -0.2086185228188934, -0.6639641879325863, 1.0091151944427543, -0.45485719742929204, 0.7407282713470051, 0.7926935792564782, 0.8401881183890121, 0.9707636921175228, -0.8331596615803011, -0.6412226880173394, 0.5776137452811525, -0.709783389228246, 0.06455705181996911, 1.5612392254536525, 0.6579971954098929, -0.1399662625786303, 1.1855510000724214], \"yaxis\": \"y4\"}, {\"line\": {\"color\": \"rgba(128, 128, 128, 1.0)\", \"dash\": \"solid\", \"shape\": \"linear\", \"width\": 1.3}, \"marker\": {\"size\": 2, \"symbol\": \"circle\"}, \"mode\": \"markers\", \"name\": \"B\", \"text\": \"\", \"type\": \"scatter\", \"x\": [0.2803514486783903, -1.3529818744563427, 0.5349335415489098, -0.46485644825077904, 0.23995054472161614, 0.015400907103716222, -0.2916104698915431, -0.23667497168901144, -0.6960369293674991, 0.05795719862127771, -2.707673763127651, 0.7613704053442429, 0.3038232136903593, 0.47448335399814273, -0.164943487319802, -0.1746685114526522, 0.2737289201669528, -1.595378768993628, -1.5108845426369344, 0.24616265746478627, 0.3065102838166673, 0.5813583720340318, 0.6865830735731809, -0.6258184147645117, -0.5546572199896735, -0.7466622678544448, -0.7270465111699874, -0.47816758216383126, -0.6669280389560786, 0.76101743324588, -0.013679710392465254, 1.2232943573945159, 2.5559833518724893, -0.07060403482627899, 0.13004671884714766, -0.45520923256722334, 0.29918460014033516, -0.5924241017540582, -0.15759225564599727, -1.4004988620018581, -1.7732366422243238, 0.19030716935011002, -1.8019881668928215, -0.557204660426035, -0.44856054866864037, -1.4060925644133255, -1.022320245094843, -0.8941673627250798, -2.245692439956184, 0.2521689296172425, 0.07855183616603281, -1.880184235826735, -0.3547545024536497, -0.15901492812930434, 1.4885512061851904, 1.154473168088508, 0.3506429831171856, 0.033939225063162694, -0.745605997038604, -0.08313589301236117, -0.40493746348498305, -0.41768247476306836, -0.4717648718246529, -1.1171886583955546, -2.129045780023768, -1.4832090385240868, -0.9441306566317546, 1.322478523659654, 0.42861599484286816, -0.009349041903356899, -1.116475110689967, -1.604227395364169, -2.6458410752338737, 0.11056779914131323, -0.4965388245769563, 0.17496256936776317, -0.2188956562305676, 0.6945059949492234, -1.5537040988224653, -0.4187519315700034, -1.5423386677726243, 0.06656236481758367, 0.6071611139142862, -0.2086185228188934, -0.6639641879325863, 1.0091151944427543, -0.45485719742929204, 0.7407282713470051, 0.7926935792564782, 0.8401881183890121, 0.9707636921175228, -0.8331596615803011, -0.6412226880173394, 0.5776137452811525, -0.709783389228246, 0.06455705181996911, 1.5612392254536525, 0.6579971954098929, -0.1399662625786303, 1.1855510000724214], \"xaxis\": \"x5\", \"y\": [0.17706896277187162, -0.6249373118454554, 0.3272590749722181, -0.9940401674343684, -2.530950849847117, 0.2636658317371174, 1.354219131183047, 0.6643474062171079, -1.6533612970498077, 0.7416715750244077, -0.9932428321735989, -0.6414343494166856, 0.8299153265150462, -1.021986403702533, 0.8987779717506097, 1.0164569804648547, -0.35952334786171086, 1.1094843584394358, 1.5121019739205415, -0.2604947937239252, -0.3690942205578536, 0.3615252687732477, -1.025107085234413, -1.4493849627756665, -0.8199570845444943, 0.4505595988304898, 1.1605376269740642, -1.188009381927696, 0.6787286337625219, 0.8039586299595403, -3.0833656542362573, 1.269449272266462, -0.3149057116993393, -1.2939815954736011, 0.12182680125676709, 0.33006216460025506, 0.21363583429407815, 1.6588885458762022, -0.19557754724933765, 1.0547923730917923, 0.6954831684772481, -0.34584471468312034, 0.6057788359167456, 0.1590495270200915, 1.5273126423059864, 0.348566619616232, -0.18952539532798401, 0.6252396166243234, 1.1062954259320954, -0.687910545726598, -0.9078626099526047, 0.48194398183866477, 0.5342528457953383, -0.23774105751875005, 0.06247792047270879, -0.3363551491205612, -1.4667065221044309, 0.0951224432524548, 1.0856472862022295, -0.5269712156766507, -0.3898477752743443, 0.6154660142894058, -1.7415795762625443, -0.316102495625554, -0.02737132768909968, -1.6443310620854097, -1.456726450295568, -0.54900368339122, 0.6835144512512027, 0.6592334242785094, -0.7801848924134268, 0.055159435884052276, -0.41360718927975393, -0.6787915069209751, 0.1528205833072065, -1.241618365094969, -0.11126935795339148, 1.0446944850176876, -0.39328046132648636, -0.9198930417706479, 1.5521279360686067, -0.5390003413131172, -0.2064753229521223, 0.6444836441877287, -2.490722034504807, 0.11470952204713913, 1.2685106961111818, 1.1869956882656112, -0.5344110224171819, -1.2146728790266499, -0.2380292931578603, 0.35164800826546266, 0.6321143673388616, -1.8475654305346552, 0.31649382271570314, -0.9371543855285568, 1.314046527434895, -0.12930965638675102, -0.2226154810643709, 0.9161026149352096], \"yaxis\": \"y5\"}, {\"histfunc\": \"count\", \"histnorm\": \"\", \"marker\": {\"color\": \"rgba(55, 128, 191, 1.0)\", \"line\": {\"color\": \"#4D5663\", \"width\": 1.3}}, \"name\": \"B\", \"nbinsx\": 10, \"opacity\": 0.8, \"orientation\": \"v\", \"type\": \"histogram\", \"x\": [0.17706896277187162, -0.6249373118454554, 0.3272590749722181, -0.9940401674343684, -2.530950849847117, 0.2636658317371174, 1.354219131183047, 0.6643474062171079, -1.6533612970498077, 0.7416715750244077, -0.9932428321735989, -0.6414343494166856, 0.8299153265150462, -1.021986403702533, 0.8987779717506097, 1.0164569804648547, -0.35952334786171086, 1.1094843584394358, 1.5121019739205415, -0.2604947937239252, -0.3690942205578536, 0.3615252687732477, -1.025107085234413, -1.4493849627756665, -0.8199570845444943, 0.4505595988304898, 1.1605376269740642, -1.188009381927696, 0.6787286337625219, 0.8039586299595403, -3.0833656542362573, 1.269449272266462, -0.3149057116993393, -1.2939815954736011, 0.12182680125676709, 0.33006216460025506, 0.21363583429407815, 1.6588885458762022, -0.19557754724933765, 1.0547923730917923, 0.6954831684772481, -0.34584471468312034, 0.6057788359167456, 0.1590495270200915, 1.5273126423059864, 0.348566619616232, -0.18952539532798401, 0.6252396166243234, 1.1062954259320954, -0.687910545726598, -0.9078626099526047, 0.48194398183866477, 0.5342528457953383, -0.23774105751875005, 0.06247792047270879, -0.3363551491205612, -1.4667065221044309, 0.0951224432524548, 1.0856472862022295, -0.5269712156766507, -0.3898477752743443, 0.6154660142894058, -1.7415795762625443, -0.316102495625554, -0.02737132768909968, -1.6443310620854097, -1.456726450295568, -0.54900368339122, 0.6835144512512027, 0.6592334242785094, -0.7801848924134268, 0.055159435884052276, -0.41360718927975393, -0.6787915069209751, 0.1528205833072065, -1.241618365094969, -0.11126935795339148, 1.0446944850176876, -0.39328046132648636, -0.9198930417706479, 1.5521279360686067, -0.5390003413131172, -0.2064753229521223, 0.6444836441877287, -2.490722034504807, 0.11470952204713913, 1.2685106961111818, 1.1869956882656112, -0.5344110224171819, -1.2146728790266499, -0.2380292931578603, 0.35164800826546266, 0.6321143673388616, -1.8475654305346552, 0.31649382271570314, -0.9371543855285568, 1.314046527434895, -0.12930965638675102, -0.2226154810643709, 0.9161026149352096], \"xaxis\": \"x6\", \"yaxis\": \"y6\"}, {\"line\": {\"color\": \"rgba(128, 128, 128, 1.0)\", \"dash\": \"solid\", \"shape\": \"linear\", \"width\": 1.3}, \"marker\": {\"size\": 2, \"symbol\": \"circle\"}, \"mode\": \"markers\", \"name\": \"B\", \"text\": \"\", \"type\": \"scatter\", \"x\": [-2.392449090745727, -1.0617610195517124, 2.217577774879199, -2.1779444355321353, -0.8121055877240545, -0.7746532570244032, 0.7030526756647797, 1.5960705297915396, 0.9697825046201582, 0.09654561836098974, -0.4111470689105436, -1.714433409650028, 0.9305071704462848, -0.34927440847572006, -1.2836356184490894, 0.37071448751114106, -1.0065758264180849, -0.21234678778496685, 1.4548132175994113, 1.367560293167318, -0.3834926316147219, -1.1162160395077914, 0.27014406239797, -1.8241545117574738, -0.5719640611581355, 0.35064663858170936, -0.11607432917288818, -1.2130003627713901, 0.1944688606000843, 0.9473014612309798, -0.3771930345287786, 0.3150503017865192, 0.7941128256660478, -0.16901109098163897, 0.7857527425599498, 0.20501827976607556, -0.30329038211263465, 1.2967584326539083, 0.015311590896882568, 1.2046927466472341, 0.24295398729853393, 1.507870989115243, -1.3620291934431374, -1.2029309697776815, -1.33851449728627, -0.4400825665526056, -0.4640808404095627, 1.1453226418826887, -0.5316768403463288, -0.6244809450309862, -0.11946151940180644, 2.56150376466554, 0.18471940380253912, 0.663430075062486, -2.3085509848434023, 1.7976013757255478, -0.6904563964744526, 2.7909713645302636, -0.6428921267102796, -0.5822092806174856, 0.9513219009855614, 0.0686603140688749, 1.320262270992589, -0.9285445800039841, -0.5554649960632836, 0.4764140059804784, -1.4463556836268234, -1.2631022186673608, -2.9247977287174445, 0.9090892062818072, 1.6423475047197922, -1.3001758539335535, -1.1808477175120704, 0.2705472095520638, 1.0876381779091167, -0.17523884543821572, -0.1334008391090635, 0.5147391648902362, 0.6751204577550315, -0.6178474564556888, -1.689505147493363, 0.4374628571706745, -1.562310762800644, -0.2504486862566129, 0.8744056262125431, -0.7753440359013597, 0.4321155399840242, -0.10522895301904903, 0.3050607058928969, -0.9462718881676678, -1.318911504859071, -1.8950386360261857, 0.14491189531719736, 0.21966745452151398, 0.6822693670204852, 2.7793665898883817, -0.45363989798818377, 0.5958180244618567, -0.20141467567739665, 0.27809903575079464], \"xaxis\": \"x7\", \"y\": [0.17706896277187162, -0.6249373118454554, 0.3272590749722181, -0.9940401674343684, -2.530950849847117, 0.2636658317371174, 1.354219131183047, 0.6643474062171079, -1.6533612970498077, 0.7416715750244077, -0.9932428321735989, -0.6414343494166856, 0.8299153265150462, -1.021986403702533, 0.8987779717506097, 1.0164569804648547, -0.35952334786171086, 1.1094843584394358, 1.5121019739205415, -0.2604947937239252, -0.3690942205578536, 0.3615252687732477, -1.025107085234413, -1.4493849627756665, -0.8199570845444943, 0.4505595988304898, 1.1605376269740642, -1.188009381927696, 0.6787286337625219, 0.8039586299595403, -3.0833656542362573, 1.269449272266462, -0.3149057116993393, -1.2939815954736011, 0.12182680125676709, 0.33006216460025506, 0.21363583429407815, 1.6588885458762022, -0.19557754724933765, 1.0547923730917923, 0.6954831684772481, -0.34584471468312034, 0.6057788359167456, 0.1590495270200915, 1.5273126423059864, 0.348566619616232, -0.18952539532798401, 0.6252396166243234, 1.1062954259320954, -0.687910545726598, -0.9078626099526047, 0.48194398183866477, 0.5342528457953383, -0.23774105751875005, 0.06247792047270879, -0.3363551491205612, -1.4667065221044309, 0.0951224432524548, 1.0856472862022295, -0.5269712156766507, -0.3898477752743443, 0.6154660142894058, -1.7415795762625443, -0.316102495625554, -0.02737132768909968, -1.6443310620854097, -1.456726450295568, -0.54900368339122, 0.6835144512512027, 0.6592334242785094, -0.7801848924134268, 0.055159435884052276, -0.41360718927975393, -0.6787915069209751, 0.1528205833072065, -1.241618365094969, -0.11126935795339148, 1.0446944850176876, -0.39328046132648636, -0.9198930417706479, 1.5521279360686067, -0.5390003413131172, -0.2064753229521223, 0.6444836441877287, -2.490722034504807, 0.11470952204713913, 1.2685106961111818, 1.1869956882656112, -0.5344110224171819, -1.2146728790266499, -0.2380292931578603, 0.35164800826546266, 0.6321143673388616, -1.8475654305346552, 0.31649382271570314, -0.9371543855285568, 1.314046527434895, -0.12930965638675102, -0.2226154810643709, 0.9161026149352096], \"yaxis\": \"y7\"}, {\"line\": {\"color\": \"rgba(128, 128, 128, 1.0)\", \"dash\": \"solid\", \"shape\": \"linear\", \"width\": 1.3}, \"marker\": {\"size\": 2, \"symbol\": \"circle\"}, \"mode\": \"markers\", \"name\": \"B\", \"text\": \"\", \"type\": \"scatter\", \"x\": [1.1799654205219414, -0.900168005349071, -0.04451479704022886, 1.0653684715245106, 0.1764817562654781, -0.8349127232369903, -0.6960952821297788, -1.9455580284231706, 1.0533620636016847, 0.09333401668230523, -1.6060535940338903, 1.2594127954087435, -1.4065403106576317, 0.2339046800235441, -0.3990753387793068, 0.14615553406265083, -0.22350669947064497, 0.640765174595041, -0.01781445016880167, 0.03805637164732594, -0.5319945548529844, 0.48867166111317945, 0.984428316137575, -0.03300147507971211, -0.4460017887530481, 0.6605359725750817, 1.0419966648711196, 0.3102082312382125, 0.4790833644265756, 0.3011265455026397, 0.7106774292313758, -1.8873548298757337, -0.5137549468477939, 0.8398922989685574, 1.0871651095232162, -0.6095935911603446, -0.9572471512220628, -0.09168866772342649, 0.9006727983883414, -0.5324291315386876, -1.726570160418048, 1.0140854466616918, 0.07895740073962702, 0.028232441746865927, 0.1292868222577738, -0.47837331868394956, 1.3766507537397314, 1.95145601238955, 0.506741706843716, 1.2533742976373865, -0.3619270048935121, -0.8616935877086113, -0.2655896252796371, 0.2271565839704893, 2.4137730541621982, 0.9732167058624435, 1.9659798542459828, 1.0949859809977442, 0.5445608800317912, -0.17559363806582184, -0.17602397006631898, 2.126044789094438, -0.2679660738387135, -0.5899014259574387, 0.8233918972239539, 0.5982102131868876, -0.23974548763690395, -0.7625645661411272, 2.131255846154423, -0.16089139609515746, 0.18381944256905272, 0.2267617909081373, 0.7803127983852142, 0.20624611159253428, -0.29663636897520196, 0.35153327070056284, 0.2533433329388325, 1.3385403406301426, 0.39338621737609836, -1.2594537167617184, 0.7822207461721324, -0.996742549160656, 0.35159121972752716, -1.814256381533014, -0.37513101639477564, 0.750078538828769, 0.46153055686012423, 1.0646275597072927, -1.473212781815409, -0.29988514652464204, 0.0250383601161776, -1.2807437185006134, -0.04386155936399598, -0.5689608056658727, 1.3878061561455213, -0.038124352960860156, -0.10663655667386701, -0.7727476047248021, -2.0244093820446296, 0.16588996022679559], \"xaxis\": \"x8\", \"y\": [0.17706896277187162, -0.6249373118454554, 0.3272590749722181, -0.9940401674343684, -2.530950849847117, 0.2636658317371174, 1.354219131183047, 0.6643474062171079, -1.6533612970498077, 0.7416715750244077, -0.9932428321735989, -0.6414343494166856, 0.8299153265150462, -1.021986403702533, 0.8987779717506097, 1.0164569804648547, -0.35952334786171086, 1.1094843584394358, 1.5121019739205415, -0.2604947937239252, -0.3690942205578536, 0.3615252687732477, -1.025107085234413, -1.4493849627756665, -0.8199570845444943, 0.4505595988304898, 1.1605376269740642, -1.188009381927696, 0.6787286337625219, 0.8039586299595403, -3.0833656542362573, 1.269449272266462, -0.3149057116993393, -1.2939815954736011, 0.12182680125676709, 0.33006216460025506, 0.21363583429407815, 1.6588885458762022, -0.19557754724933765, 1.0547923730917923, 0.6954831684772481, -0.34584471468312034, 0.6057788359167456, 0.1590495270200915, 1.5273126423059864, 0.348566619616232, -0.18952539532798401, 0.6252396166243234, 1.1062954259320954, -0.687910545726598, -0.9078626099526047, 0.48194398183866477, 0.5342528457953383, -0.23774105751875005, 0.06247792047270879, -0.3363551491205612, -1.4667065221044309, 0.0951224432524548, 1.0856472862022295, -0.5269712156766507, -0.3898477752743443, 0.6154660142894058, -1.7415795762625443, -0.316102495625554, -0.02737132768909968, -1.6443310620854097, -1.456726450295568, -0.54900368339122, 0.6835144512512027, 0.6592334242785094, -0.7801848924134268, 0.055159435884052276, -0.41360718927975393, -0.6787915069209751, 0.1528205833072065, -1.241618365094969, -0.11126935795339148, 1.0446944850176876, -0.39328046132648636, -0.9198930417706479, 1.5521279360686067, -0.5390003413131172, -0.2064753229521223, 0.6444836441877287, -2.490722034504807, 0.11470952204713913, 1.2685106961111818, 1.1869956882656112, -0.5344110224171819, -1.2146728790266499, -0.2380292931578603, 0.35164800826546266, 0.6321143673388616, -1.8475654305346552, 0.31649382271570314, -0.9371543855285568, 1.314046527434895, -0.12930965638675102, -0.2226154810643709, 0.9161026149352096], \"yaxis\": \"y8\"}, {\"line\": {\"color\": \"rgba(128, 128, 128, 1.0)\", \"dash\": \"solid\", \"shape\": \"linear\", \"width\": 1.3}, \"marker\": {\"size\": 2, \"symbol\": \"circle\"}, \"mode\": \"markers\", \"name\": \"C\", \"text\": \"\", \"type\": \"scatter\", \"x\": [0.2803514486783903, -1.3529818744563427, 0.5349335415489098, -0.46485644825077904, 0.23995054472161614, 0.015400907103716222, -0.2916104698915431, -0.23667497168901144, -0.6960369293674991, 0.05795719862127771, -2.707673763127651, 0.7613704053442429, 0.3038232136903593, 0.47448335399814273, -0.164943487319802, -0.1746685114526522, 0.2737289201669528, -1.595378768993628, -1.5108845426369344, 0.24616265746478627, 0.3065102838166673, 0.5813583720340318, 0.6865830735731809, -0.6258184147645117, -0.5546572199896735, -0.7466622678544448, -0.7270465111699874, -0.47816758216383126, -0.6669280389560786, 0.76101743324588, -0.013679710392465254, 1.2232943573945159, 2.5559833518724893, -0.07060403482627899, 0.13004671884714766, -0.45520923256722334, 0.29918460014033516, -0.5924241017540582, -0.15759225564599727, -1.4004988620018581, -1.7732366422243238, 0.19030716935011002, -1.8019881668928215, -0.557204660426035, -0.44856054866864037, -1.4060925644133255, -1.022320245094843, -0.8941673627250798, -2.245692439956184, 0.2521689296172425, 0.07855183616603281, -1.880184235826735, -0.3547545024536497, -0.15901492812930434, 1.4885512061851904, 1.154473168088508, 0.3506429831171856, 0.033939225063162694, -0.745605997038604, -0.08313589301236117, -0.40493746348498305, -0.41768247476306836, -0.4717648718246529, -1.1171886583955546, -2.129045780023768, -1.4832090385240868, -0.9441306566317546, 1.322478523659654, 0.42861599484286816, -0.009349041903356899, -1.116475110689967, -1.604227395364169, -2.6458410752338737, 0.11056779914131323, -0.4965388245769563, 0.17496256936776317, -0.2188956562305676, 0.6945059949492234, -1.5537040988224653, -0.4187519315700034, -1.5423386677726243, 0.06656236481758367, 0.6071611139142862, -0.2086185228188934, -0.6639641879325863, 1.0091151944427543, -0.45485719742929204, 0.7407282713470051, 0.7926935792564782, 0.8401881183890121, 0.9707636921175228, -0.8331596615803011, -0.6412226880173394, 0.5776137452811525, -0.709783389228246, 0.06455705181996911, 1.5612392254536525, 0.6579971954098929, -0.1399662625786303, 1.1855510000724214], \"xaxis\": \"x9\", \"y\": [-2.392449090745727, -1.0617610195517124, 2.217577774879199, -2.1779444355321353, -0.8121055877240545, -0.7746532570244032, 0.7030526756647797, 1.5960705297915396, 0.9697825046201582, 0.09654561836098974, -0.4111470689105436, -1.714433409650028, 0.9305071704462848, -0.34927440847572006, -1.2836356184490894, 0.37071448751114106, -1.0065758264180849, -0.21234678778496685, 1.4548132175994113, 1.367560293167318, -0.3834926316147219, -1.1162160395077914, 0.27014406239797, -1.8241545117574738, -0.5719640611581355, 0.35064663858170936, -0.11607432917288818, -1.2130003627713901, 0.1944688606000843, 0.9473014612309798, -0.3771930345287786, 0.3150503017865192, 0.7941128256660478, -0.16901109098163897, 0.7857527425599498, 0.20501827976607556, -0.30329038211263465, 1.2967584326539083, 0.015311590896882568, 1.2046927466472341, 0.24295398729853393, 1.507870989115243, -1.3620291934431374, -1.2029309697776815, -1.33851449728627, -0.4400825665526056, -0.4640808404095627, 1.1453226418826887, -0.5316768403463288, -0.6244809450309862, -0.11946151940180644, 2.56150376466554, 0.18471940380253912, 0.663430075062486, -2.3085509848434023, 1.7976013757255478, -0.6904563964744526, 2.7909713645302636, -0.6428921267102796, -0.5822092806174856, 0.9513219009855614, 0.0686603140688749, 1.320262270992589, -0.9285445800039841, -0.5554649960632836, 0.4764140059804784, -1.4463556836268234, -1.2631022186673608, -2.9247977287174445, 0.9090892062818072, 1.6423475047197922, -1.3001758539335535, -1.1808477175120704, 0.2705472095520638, 1.0876381779091167, -0.17523884543821572, -0.1334008391090635, 0.5147391648902362, 0.6751204577550315, -0.6178474564556888, -1.689505147493363, 0.4374628571706745, -1.562310762800644, -0.2504486862566129, 0.8744056262125431, -0.7753440359013597, 0.4321155399840242, -0.10522895301904903, 0.3050607058928969, -0.9462718881676678, -1.318911504859071, -1.8950386360261857, 0.14491189531719736, 0.21966745452151398, 0.6822693670204852, 2.7793665898883817, -0.45363989798818377, 0.5958180244618567, -0.20141467567739665, 0.27809903575079464], \"yaxis\": \"y9\"}, {\"line\": {\"color\": \"rgba(128, 128, 128, 1.0)\", \"dash\": \"solid\", \"shape\": \"linear\", \"width\": 1.3}, \"marker\": {\"size\": 2, \"symbol\": \"circle\"}, \"mode\": \"markers\", \"name\": \"C\", \"text\": \"\", \"type\": \"scatter\", \"x\": [0.17706896277187162, -0.6249373118454554, 0.3272590749722181, -0.9940401674343684, -2.530950849847117, 0.2636658317371174, 1.354219131183047, 0.6643474062171079, -1.6533612970498077, 0.7416715750244077, -0.9932428321735989, -0.6414343494166856, 0.8299153265150462, -1.021986403702533, 0.8987779717506097, 1.0164569804648547, -0.35952334786171086, 1.1094843584394358, 1.5121019739205415, -0.2604947937239252, -0.3690942205578536, 0.3615252687732477, -1.025107085234413, -1.4493849627756665, -0.8199570845444943, 0.4505595988304898, 1.1605376269740642, -1.188009381927696, 0.6787286337625219, 0.8039586299595403, -3.0833656542362573, 1.269449272266462, -0.3149057116993393, -1.2939815954736011, 0.12182680125676709, 0.33006216460025506, 0.21363583429407815, 1.6588885458762022, -0.19557754724933765, 1.0547923730917923, 0.6954831684772481, -0.34584471468312034, 0.6057788359167456, 0.1590495270200915, 1.5273126423059864, 0.348566619616232, -0.18952539532798401, 0.6252396166243234, 1.1062954259320954, -0.687910545726598, -0.9078626099526047, 0.48194398183866477, 0.5342528457953383, -0.23774105751875005, 0.06247792047270879, -0.3363551491205612, -1.4667065221044309, 0.0951224432524548, 1.0856472862022295, -0.5269712156766507, -0.3898477752743443, 0.6154660142894058, -1.7415795762625443, -0.316102495625554, -0.02737132768909968, -1.6443310620854097, -1.456726450295568, -0.54900368339122, 0.6835144512512027, 0.6592334242785094, -0.7801848924134268, 0.055159435884052276, -0.41360718927975393, -0.6787915069209751, 0.1528205833072065, -1.241618365094969, -0.11126935795339148, 1.0446944850176876, -0.39328046132648636, -0.9198930417706479, 1.5521279360686067, -0.5390003413131172, -0.2064753229521223, 0.6444836441877287, -2.490722034504807, 0.11470952204713913, 1.2685106961111818, 1.1869956882656112, -0.5344110224171819, -1.2146728790266499, -0.2380292931578603, 0.35164800826546266, 0.6321143673388616, -1.8475654305346552, 0.31649382271570314, -0.9371543855285568, 1.314046527434895, -0.12930965638675102, -0.2226154810643709, 0.9161026149352096], \"xaxis\": \"x10\", \"y\": [-2.392449090745727, -1.0617610195517124, 2.217577774879199, -2.1779444355321353, -0.8121055877240545, -0.7746532570244032, 0.7030526756647797, 1.5960705297915396, 0.9697825046201582, 0.09654561836098974, -0.4111470689105436, -1.714433409650028, 0.9305071704462848, -0.34927440847572006, -1.2836356184490894, 0.37071448751114106, -1.0065758264180849, -0.21234678778496685, 1.4548132175994113, 1.367560293167318, -0.3834926316147219, -1.1162160395077914, 0.27014406239797, -1.8241545117574738, -0.5719640611581355, 0.35064663858170936, -0.11607432917288818, -1.2130003627713901, 0.1944688606000843, 0.9473014612309798, -0.3771930345287786, 0.3150503017865192, 0.7941128256660478, -0.16901109098163897, 0.7857527425599498, 0.20501827976607556, -0.30329038211263465, 1.2967584326539083, 0.015311590896882568, 1.2046927466472341, 0.24295398729853393, 1.507870989115243, -1.3620291934431374, -1.2029309697776815, -1.33851449728627, -0.4400825665526056, -0.4640808404095627, 1.1453226418826887, -0.5316768403463288, -0.6244809450309862, -0.11946151940180644, 2.56150376466554, 0.18471940380253912, 0.663430075062486, -2.3085509848434023, 1.7976013757255478, -0.6904563964744526, 2.7909713645302636, -0.6428921267102796, -0.5822092806174856, 0.9513219009855614, 0.0686603140688749, 1.320262270992589, -0.9285445800039841, -0.5554649960632836, 0.4764140059804784, -1.4463556836268234, -1.2631022186673608, -2.9247977287174445, 0.9090892062818072, 1.6423475047197922, -1.3001758539335535, -1.1808477175120704, 0.2705472095520638, 1.0876381779091167, -0.17523884543821572, -0.1334008391090635, 0.5147391648902362, 0.6751204577550315, -0.6178474564556888, -1.689505147493363, 0.4374628571706745, -1.562310762800644, -0.2504486862566129, 0.8744056262125431, -0.7753440359013597, 0.4321155399840242, -0.10522895301904903, 0.3050607058928969, -0.9462718881676678, -1.318911504859071, -1.8950386360261857, 0.14491189531719736, 0.21966745452151398, 0.6822693670204852, 2.7793665898883817, -0.45363989798818377, 0.5958180244618567, -0.20141467567739665, 0.27809903575079464], \"yaxis\": \"y10\"}, {\"histfunc\": \"count\", \"histnorm\": \"\", \"marker\": {\"color\": \"rgba(50, 171, 96, 1.0)\", \"line\": {\"color\": \"#4D5663\", \"width\": 1.3}}, \"name\": \"C\", \"nbinsx\": 10, \"opacity\": 0.8, \"orientation\": \"v\", \"type\": \"histogram\", \"x\": [-2.392449090745727, -1.0617610195517124, 2.217577774879199, -2.1779444355321353, -0.8121055877240545, -0.7746532570244032, 0.7030526756647797, 1.5960705297915396, 0.9697825046201582, 0.09654561836098974, -0.4111470689105436, -1.714433409650028, 0.9305071704462848, -0.34927440847572006, -1.2836356184490894, 0.37071448751114106, -1.0065758264180849, -0.21234678778496685, 1.4548132175994113, 1.367560293167318, -0.3834926316147219, -1.1162160395077914, 0.27014406239797, -1.8241545117574738, -0.5719640611581355, 0.35064663858170936, -0.11607432917288818, -1.2130003627713901, 0.1944688606000843, 0.9473014612309798, -0.3771930345287786, 0.3150503017865192, 0.7941128256660478, -0.16901109098163897, 0.7857527425599498, 0.20501827976607556, -0.30329038211263465, 1.2967584326539083, 0.015311590896882568, 1.2046927466472341, 0.24295398729853393, 1.507870989115243, -1.3620291934431374, -1.2029309697776815, -1.33851449728627, -0.4400825665526056, -0.4640808404095627, 1.1453226418826887, -0.5316768403463288, -0.6244809450309862, -0.11946151940180644, 2.56150376466554, 0.18471940380253912, 0.663430075062486, -2.3085509848434023, 1.7976013757255478, -0.6904563964744526, 2.7909713645302636, -0.6428921267102796, -0.5822092806174856, 0.9513219009855614, 0.0686603140688749, 1.320262270992589, -0.9285445800039841, -0.5554649960632836, 0.4764140059804784, -1.4463556836268234, -1.2631022186673608, -2.9247977287174445, 0.9090892062818072, 1.6423475047197922, -1.3001758539335535, -1.1808477175120704, 0.2705472095520638, 1.0876381779091167, -0.17523884543821572, -0.1334008391090635, 0.5147391648902362, 0.6751204577550315, -0.6178474564556888, -1.689505147493363, 0.4374628571706745, -1.562310762800644, -0.2504486862566129, 0.8744056262125431, -0.7753440359013597, 0.4321155399840242, -0.10522895301904903, 0.3050607058928969, -0.9462718881676678, -1.318911504859071, -1.8950386360261857, 0.14491189531719736, 0.21966745452151398, 0.6822693670204852, 2.7793665898883817, -0.45363989798818377, 0.5958180244618567, -0.20141467567739665, 0.27809903575079464], \"xaxis\": \"x11\", \"yaxis\": \"y11\"}, {\"line\": {\"color\": \"rgba(128, 128, 128, 1.0)\", \"dash\": \"solid\", \"shape\": \"linear\", \"width\": 1.3}, \"marker\": {\"size\": 2, \"symbol\": \"circle\"}, \"mode\": \"markers\", \"name\": \"C\", \"text\": \"\", \"type\": \"scatter\", \"x\": [1.1799654205219414, -0.900168005349071, -0.04451479704022886, 1.0653684715245106, 0.1764817562654781, -0.8349127232369903, -0.6960952821297788, -1.9455580284231706, 1.0533620636016847, 0.09333401668230523, -1.6060535940338903, 1.2594127954087435, -1.4065403106576317, 0.2339046800235441, -0.3990753387793068, 0.14615553406265083, -0.22350669947064497, 0.640765174595041, -0.01781445016880167, 0.03805637164732594, -0.5319945548529844, 0.48867166111317945, 0.984428316137575, -0.03300147507971211, -0.4460017887530481, 0.6605359725750817, 1.0419966648711196, 0.3102082312382125, 0.4790833644265756, 0.3011265455026397, 0.7106774292313758, -1.8873548298757337, -0.5137549468477939, 0.8398922989685574, 1.0871651095232162, -0.6095935911603446, -0.9572471512220628, -0.09168866772342649, 0.9006727983883414, -0.5324291315386876, -1.726570160418048, 1.0140854466616918, 0.07895740073962702, 0.028232441746865927, 0.1292868222577738, -0.47837331868394956, 1.3766507537397314, 1.95145601238955, 0.506741706843716, 1.2533742976373865, -0.3619270048935121, -0.8616935877086113, -0.2655896252796371, 0.2271565839704893, 2.4137730541621982, 0.9732167058624435, 1.9659798542459828, 1.0949859809977442, 0.5445608800317912, -0.17559363806582184, -0.17602397006631898, 2.126044789094438, -0.2679660738387135, -0.5899014259574387, 0.8233918972239539, 0.5982102131868876, -0.23974548763690395, -0.7625645661411272, 2.131255846154423, -0.16089139609515746, 0.18381944256905272, 0.2267617909081373, 0.7803127983852142, 0.20624611159253428, -0.29663636897520196, 0.35153327070056284, 0.2533433329388325, 1.3385403406301426, 0.39338621737609836, -1.2594537167617184, 0.7822207461721324, -0.996742549160656, 0.35159121972752716, -1.814256381533014, -0.37513101639477564, 0.750078538828769, 0.46153055686012423, 1.0646275597072927, -1.473212781815409, -0.29988514652464204, 0.0250383601161776, -1.2807437185006134, -0.04386155936399598, -0.5689608056658727, 1.3878061561455213, -0.038124352960860156, -0.10663655667386701, -0.7727476047248021, -2.0244093820446296, 0.16588996022679559], \"xaxis\": \"x12\", \"y\": [-2.392449090745727, -1.0617610195517124, 2.217577774879199, -2.1779444355321353, -0.8121055877240545, -0.7746532570244032, 0.7030526756647797, 1.5960705297915396, 0.9697825046201582, 0.09654561836098974, -0.4111470689105436, -1.714433409650028, 0.9305071704462848, -0.34927440847572006, -1.2836356184490894, 0.37071448751114106, -1.0065758264180849, -0.21234678778496685, 1.4548132175994113, 1.367560293167318, -0.3834926316147219, -1.1162160395077914, 0.27014406239797, -1.8241545117574738, -0.5719640611581355, 0.35064663858170936, -0.11607432917288818, -1.2130003627713901, 0.1944688606000843, 0.9473014612309798, -0.3771930345287786, 0.3150503017865192, 0.7941128256660478, -0.16901109098163897, 0.7857527425599498, 0.20501827976607556, -0.30329038211263465, 1.2967584326539083, 0.015311590896882568, 1.2046927466472341, 0.24295398729853393, 1.507870989115243, -1.3620291934431374, -1.2029309697776815, -1.33851449728627, -0.4400825665526056, -0.4640808404095627, 1.1453226418826887, -0.5316768403463288, -0.6244809450309862, -0.11946151940180644, 2.56150376466554, 0.18471940380253912, 0.663430075062486, -2.3085509848434023, 1.7976013757255478, -0.6904563964744526, 2.7909713645302636, -0.6428921267102796, -0.5822092806174856, 0.9513219009855614, 0.0686603140688749, 1.320262270992589, -0.9285445800039841, -0.5554649960632836, 0.4764140059804784, -1.4463556836268234, -1.2631022186673608, -2.9247977287174445, 0.9090892062818072, 1.6423475047197922, -1.3001758539335535, -1.1808477175120704, 0.2705472095520638, 1.0876381779091167, -0.17523884543821572, -0.1334008391090635, 0.5147391648902362, 0.6751204577550315, -0.6178474564556888, -1.689505147493363, 0.4374628571706745, -1.562310762800644, -0.2504486862566129, 0.8744056262125431, -0.7753440359013597, 0.4321155399840242, -0.10522895301904903, 0.3050607058928969, -0.9462718881676678, -1.318911504859071, -1.8950386360261857, 0.14491189531719736, 0.21966745452151398, 0.6822693670204852, 2.7793665898883817, -0.45363989798818377, 0.5958180244618567, -0.20141467567739665, 0.27809903575079464], \"yaxis\": \"y12\"}, {\"line\": {\"color\": \"rgba(128, 128, 128, 1.0)\", \"dash\": \"solid\", \"shape\": \"linear\", \"width\": 1.3}, \"marker\": {\"size\": 2, \"symbol\": \"circle\"}, \"mode\": \"markers\", \"name\": \"D\", \"text\": \"\", \"type\": \"scatter\", \"x\": [0.2803514486783903, -1.3529818744563427, 0.5349335415489098, -0.46485644825077904, 0.23995054472161614, 0.015400907103716222, -0.2916104698915431, -0.23667497168901144, -0.6960369293674991, 0.05795719862127771, -2.707673763127651, 0.7613704053442429, 0.3038232136903593, 0.47448335399814273, -0.164943487319802, -0.1746685114526522, 0.2737289201669528, -1.595378768993628, -1.5108845426369344, 0.24616265746478627, 0.3065102838166673, 0.5813583720340318, 0.6865830735731809, -0.6258184147645117, -0.5546572199896735, -0.7466622678544448, -0.7270465111699874, -0.47816758216383126, -0.6669280389560786, 0.76101743324588, -0.013679710392465254, 1.2232943573945159, 2.5559833518724893, -0.07060403482627899, 0.13004671884714766, -0.45520923256722334, 0.29918460014033516, -0.5924241017540582, -0.15759225564599727, -1.4004988620018581, -1.7732366422243238, 0.19030716935011002, -1.8019881668928215, -0.557204660426035, -0.44856054866864037, -1.4060925644133255, -1.022320245094843, -0.8941673627250798, -2.245692439956184, 0.2521689296172425, 0.07855183616603281, -1.880184235826735, -0.3547545024536497, -0.15901492812930434, 1.4885512061851904, 1.154473168088508, 0.3506429831171856, 0.033939225063162694, -0.745605997038604, -0.08313589301236117, -0.40493746348498305, -0.41768247476306836, -0.4717648718246529, -1.1171886583955546, -2.129045780023768, -1.4832090385240868, -0.9441306566317546, 1.322478523659654, 0.42861599484286816, -0.009349041903356899, -1.116475110689967, -1.604227395364169, -2.6458410752338737, 0.11056779914131323, -0.4965388245769563, 0.17496256936776317, -0.2188956562305676, 0.6945059949492234, -1.5537040988224653, -0.4187519315700034, -1.5423386677726243, 0.06656236481758367, 0.6071611139142862, -0.2086185228188934, -0.6639641879325863, 1.0091151944427543, -0.45485719742929204, 0.7407282713470051, 0.7926935792564782, 0.8401881183890121, 0.9707636921175228, -0.8331596615803011, -0.6412226880173394, 0.5776137452811525, -0.709783389228246, 0.06455705181996911, 1.5612392254536525, 0.6579971954098929, -0.1399662625786303, 1.1855510000724214], \"xaxis\": \"x13\", \"y\": [1.1799654205219414, -0.900168005349071, -0.04451479704022886, 1.0653684715245106, 0.1764817562654781, -0.8349127232369903, -0.6960952821297788, -1.9455580284231706, 1.0533620636016847, 0.09333401668230523, -1.6060535940338903, 1.2594127954087435, -1.4065403106576317, 0.2339046800235441, -0.3990753387793068, 0.14615553406265083, -0.22350669947064497, 0.640765174595041, -0.01781445016880167, 0.03805637164732594, -0.5319945548529844, 0.48867166111317945, 0.984428316137575, -0.03300147507971211, -0.4460017887530481, 0.6605359725750817, 1.0419966648711196, 0.3102082312382125, 0.4790833644265756, 0.3011265455026397, 0.7106774292313758, -1.8873548298757337, -0.5137549468477939, 0.8398922989685574, 1.0871651095232162, -0.6095935911603446, -0.9572471512220628, -0.09168866772342649, 0.9006727983883414, -0.5324291315386876, -1.726570160418048, 1.0140854466616918, 0.07895740073962702, 0.028232441746865927, 0.1292868222577738, -0.47837331868394956, 1.3766507537397314, 1.95145601238955, 0.506741706843716, 1.2533742976373865, -0.3619270048935121, -0.8616935877086113, -0.2655896252796371, 0.2271565839704893, 2.4137730541621982, 0.9732167058624435, 1.9659798542459828, 1.0949859809977442, 0.5445608800317912, -0.17559363806582184, -0.17602397006631898, 2.126044789094438, -0.2679660738387135, -0.5899014259574387, 0.8233918972239539, 0.5982102131868876, -0.23974548763690395, -0.7625645661411272, 2.131255846154423, -0.16089139609515746, 0.18381944256905272, 0.2267617909081373, 0.7803127983852142, 0.20624611159253428, -0.29663636897520196, 0.35153327070056284, 0.2533433329388325, 1.3385403406301426, 0.39338621737609836, -1.2594537167617184, 0.7822207461721324, -0.996742549160656, 0.35159121972752716, -1.814256381533014, -0.37513101639477564, 0.750078538828769, 0.46153055686012423, 1.0646275597072927, -1.473212781815409, -0.29988514652464204, 0.0250383601161776, -1.2807437185006134, -0.04386155936399598, -0.5689608056658727, 1.3878061561455213, -0.038124352960860156, -0.10663655667386701, -0.7727476047248021, -2.0244093820446296, 0.16588996022679559], \"yaxis\": \"y13\"}, {\"line\": {\"color\": \"rgba(128, 128, 128, 1.0)\", \"dash\": \"solid\", \"shape\": \"linear\", \"width\": 1.3}, \"marker\": {\"size\": 2, \"symbol\": \"circle\"}, \"mode\": \"markers\", \"name\": \"D\", \"text\": \"\", \"type\": \"scatter\", \"x\": [0.17706896277187162, -0.6249373118454554, 0.3272590749722181, -0.9940401674343684, -2.530950849847117, 0.2636658317371174, 1.354219131183047, 0.6643474062171079, -1.6533612970498077, 0.7416715750244077, -0.9932428321735989, -0.6414343494166856, 0.8299153265150462, -1.021986403702533, 0.8987779717506097, 1.0164569804648547, -0.35952334786171086, 1.1094843584394358, 1.5121019739205415, -0.2604947937239252, -0.3690942205578536, 0.3615252687732477, -1.025107085234413, -1.4493849627756665, -0.8199570845444943, 0.4505595988304898, 1.1605376269740642, -1.188009381927696, 0.6787286337625219, 0.8039586299595403, -3.0833656542362573, 1.269449272266462, -0.3149057116993393, -1.2939815954736011, 0.12182680125676709, 0.33006216460025506, 0.21363583429407815, 1.6588885458762022, -0.19557754724933765, 1.0547923730917923, 0.6954831684772481, -0.34584471468312034, 0.6057788359167456, 0.1590495270200915, 1.5273126423059864, 0.348566619616232, -0.18952539532798401, 0.6252396166243234, 1.1062954259320954, -0.687910545726598, -0.9078626099526047, 0.48194398183866477, 0.5342528457953383, -0.23774105751875005, 0.06247792047270879, -0.3363551491205612, -1.4667065221044309, 0.0951224432524548, 1.0856472862022295, -0.5269712156766507, -0.3898477752743443, 0.6154660142894058, -1.7415795762625443, -0.316102495625554, -0.02737132768909968, -1.6443310620854097, -1.456726450295568, -0.54900368339122, 0.6835144512512027, 0.6592334242785094, -0.7801848924134268, 0.055159435884052276, -0.41360718927975393, -0.6787915069209751, 0.1528205833072065, -1.241618365094969, -0.11126935795339148, 1.0446944850176876, -0.39328046132648636, -0.9198930417706479, 1.5521279360686067, -0.5390003413131172, -0.2064753229521223, 0.6444836441877287, -2.490722034504807, 0.11470952204713913, 1.2685106961111818, 1.1869956882656112, -0.5344110224171819, -1.2146728790266499, -0.2380292931578603, 0.35164800826546266, 0.6321143673388616, -1.8475654305346552, 0.31649382271570314, -0.9371543855285568, 1.314046527434895, -0.12930965638675102, -0.2226154810643709, 0.9161026149352096], \"xaxis\": \"x14\", \"y\": [1.1799654205219414, -0.900168005349071, -0.04451479704022886, 1.0653684715245106, 0.1764817562654781, -0.8349127232369903, -0.6960952821297788, -1.9455580284231706, 1.0533620636016847, 0.09333401668230523, -1.6060535940338903, 1.2594127954087435, -1.4065403106576317, 0.2339046800235441, -0.3990753387793068, 0.14615553406265083, -0.22350669947064497, 0.640765174595041, -0.01781445016880167, 0.03805637164732594, -0.5319945548529844, 0.48867166111317945, 0.984428316137575, -0.03300147507971211, -0.4460017887530481, 0.6605359725750817, 1.0419966648711196, 0.3102082312382125, 0.4790833644265756, 0.3011265455026397, 0.7106774292313758, -1.8873548298757337, -0.5137549468477939, 0.8398922989685574, 1.0871651095232162, -0.6095935911603446, -0.9572471512220628, -0.09168866772342649, 0.9006727983883414, -0.5324291315386876, -1.726570160418048, 1.0140854466616918, 0.07895740073962702, 0.028232441746865927, 0.1292868222577738, -0.47837331868394956, 1.3766507537397314, 1.95145601238955, 0.506741706843716, 1.2533742976373865, -0.3619270048935121, -0.8616935877086113, -0.2655896252796371, 0.2271565839704893, 2.4137730541621982, 0.9732167058624435, 1.9659798542459828, 1.0949859809977442, 0.5445608800317912, -0.17559363806582184, -0.17602397006631898, 2.126044789094438, -0.2679660738387135, -0.5899014259574387, 0.8233918972239539, 0.5982102131868876, -0.23974548763690395, -0.7625645661411272, 2.131255846154423, -0.16089139609515746, 0.18381944256905272, 0.2267617909081373, 0.7803127983852142, 0.20624611159253428, -0.29663636897520196, 0.35153327070056284, 0.2533433329388325, 1.3385403406301426, 0.39338621737609836, -1.2594537167617184, 0.7822207461721324, -0.996742549160656, 0.35159121972752716, -1.814256381533014, -0.37513101639477564, 0.750078538828769, 0.46153055686012423, 1.0646275597072927, -1.473212781815409, -0.29988514652464204, 0.0250383601161776, -1.2807437185006134, -0.04386155936399598, -0.5689608056658727, 1.3878061561455213, -0.038124352960860156, -0.10663655667386701, -0.7727476047248021, -2.0244093820446296, 0.16588996022679559], \"yaxis\": \"y14\"}, {\"line\": {\"color\": \"rgba(128, 128, 128, 1.0)\", \"dash\": \"solid\", \"shape\": \"linear\", \"width\": 1.3}, \"marker\": {\"size\": 2, \"symbol\": \"circle\"}, \"mode\": \"markers\", \"name\": \"D\", \"text\": \"\", \"type\": \"scatter\", \"x\": [-2.392449090745727, -1.0617610195517124, 2.217577774879199, -2.1779444355321353, -0.8121055877240545, -0.7746532570244032, 0.7030526756647797, 1.5960705297915396, 0.9697825046201582, 0.09654561836098974, -0.4111470689105436, -1.714433409650028, 0.9305071704462848, -0.34927440847572006, -1.2836356184490894, 0.37071448751114106, -1.0065758264180849, -0.21234678778496685, 1.4548132175994113, 1.367560293167318, -0.3834926316147219, -1.1162160395077914, 0.27014406239797, -1.8241545117574738, -0.5719640611581355, 0.35064663858170936, -0.11607432917288818, -1.2130003627713901, 0.1944688606000843, 0.9473014612309798, -0.3771930345287786, 0.3150503017865192, 0.7941128256660478, -0.16901109098163897, 0.7857527425599498, 0.20501827976607556, -0.30329038211263465, 1.2967584326539083, 0.015311590896882568, 1.2046927466472341, 0.24295398729853393, 1.507870989115243, -1.3620291934431374, -1.2029309697776815, -1.33851449728627, -0.4400825665526056, -0.4640808404095627, 1.1453226418826887, -0.5316768403463288, -0.6244809450309862, -0.11946151940180644, 2.56150376466554, 0.18471940380253912, 0.663430075062486, -2.3085509848434023, 1.7976013757255478, -0.6904563964744526, 2.7909713645302636, -0.6428921267102796, -0.5822092806174856, 0.9513219009855614, 0.0686603140688749, 1.320262270992589, -0.9285445800039841, -0.5554649960632836, 0.4764140059804784, -1.4463556836268234, -1.2631022186673608, -2.9247977287174445, 0.9090892062818072, 1.6423475047197922, -1.3001758539335535, -1.1808477175120704, 0.2705472095520638, 1.0876381779091167, -0.17523884543821572, -0.1334008391090635, 0.5147391648902362, 0.6751204577550315, -0.6178474564556888, -1.689505147493363, 0.4374628571706745, -1.562310762800644, -0.2504486862566129, 0.8744056262125431, -0.7753440359013597, 0.4321155399840242, -0.10522895301904903, 0.3050607058928969, -0.9462718881676678, -1.318911504859071, -1.8950386360261857, 0.14491189531719736, 0.21966745452151398, 0.6822693670204852, 2.7793665898883817, -0.45363989798818377, 0.5958180244618567, -0.20141467567739665, 0.27809903575079464], \"xaxis\": \"x15\", \"y\": [1.1799654205219414, -0.900168005349071, -0.04451479704022886, 1.0653684715245106, 0.1764817562654781, -0.8349127232369903, -0.6960952821297788, -1.9455580284231706, 1.0533620636016847, 0.09333401668230523, -1.6060535940338903, 1.2594127954087435, -1.4065403106576317, 0.2339046800235441, -0.3990753387793068, 0.14615553406265083, -0.22350669947064497, 0.640765174595041, -0.01781445016880167, 0.03805637164732594, -0.5319945548529844, 0.48867166111317945, 0.984428316137575, -0.03300147507971211, -0.4460017887530481, 0.6605359725750817, 1.0419966648711196, 0.3102082312382125, 0.4790833644265756, 0.3011265455026397, 0.7106774292313758, -1.8873548298757337, -0.5137549468477939, 0.8398922989685574, 1.0871651095232162, -0.6095935911603446, -0.9572471512220628, -0.09168866772342649, 0.9006727983883414, -0.5324291315386876, -1.726570160418048, 1.0140854466616918, 0.07895740073962702, 0.028232441746865927, 0.1292868222577738, -0.47837331868394956, 1.3766507537397314, 1.95145601238955, 0.506741706843716, 1.2533742976373865, -0.3619270048935121, -0.8616935877086113, -0.2655896252796371, 0.2271565839704893, 2.4137730541621982, 0.9732167058624435, 1.9659798542459828, 1.0949859809977442, 0.5445608800317912, -0.17559363806582184, -0.17602397006631898, 2.126044789094438, -0.2679660738387135, -0.5899014259574387, 0.8233918972239539, 0.5982102131868876, -0.23974548763690395, -0.7625645661411272, 2.131255846154423, -0.16089139609515746, 0.18381944256905272, 0.2267617909081373, 0.7803127983852142, 0.20624611159253428, -0.29663636897520196, 0.35153327070056284, 0.2533433329388325, 1.3385403406301426, 0.39338621737609836, -1.2594537167617184, 0.7822207461721324, -0.996742549160656, 0.35159121972752716, -1.814256381533014, -0.37513101639477564, 0.750078538828769, 0.46153055686012423, 1.0646275597072927, -1.473212781815409, -0.29988514652464204, 0.0250383601161776, -1.2807437185006134, -0.04386155936399598, -0.5689608056658727, 1.3878061561455213, -0.038124352960860156, -0.10663655667386701, -0.7727476047248021, -2.0244093820446296, 0.16588996022679559], \"yaxis\": \"y15\"}, {\"histfunc\": \"count\", \"histnorm\": \"\", \"marker\": {\"color\": \"rgba(128, 0, 128, 1.0)\", \"line\": {\"color\": \"#4D5663\", \"width\": 1.3}}, \"name\": \"D\", \"nbinsx\": 10, \"opacity\": 0.8, \"orientation\": \"v\", \"type\": \"histogram\", \"x\": [1.1799654205219414, -0.900168005349071, -0.04451479704022886, 1.0653684715245106, 0.1764817562654781, -0.8349127232369903, -0.6960952821297788, -1.9455580284231706, 1.0533620636016847, 0.09333401668230523, -1.6060535940338903, 1.2594127954087435, -1.4065403106576317, 0.2339046800235441, -0.3990753387793068, 0.14615553406265083, -0.22350669947064497, 0.640765174595041, -0.01781445016880167, 0.03805637164732594, -0.5319945548529844, 0.48867166111317945, 0.984428316137575, -0.03300147507971211, -0.4460017887530481, 0.6605359725750817, 1.0419966648711196, 0.3102082312382125, 0.4790833644265756, 0.3011265455026397, 0.7106774292313758, -1.8873548298757337, -0.5137549468477939, 0.8398922989685574, 1.0871651095232162, -0.6095935911603446, -0.9572471512220628, -0.09168866772342649, 0.9006727983883414, -0.5324291315386876, -1.726570160418048, 1.0140854466616918, 0.07895740073962702, 0.028232441746865927, 0.1292868222577738, -0.47837331868394956, 1.3766507537397314, 1.95145601238955, 0.506741706843716, 1.2533742976373865, -0.3619270048935121, -0.8616935877086113, -0.2655896252796371, 0.2271565839704893, 2.4137730541621982, 0.9732167058624435, 1.9659798542459828, 1.0949859809977442, 0.5445608800317912, -0.17559363806582184, -0.17602397006631898, 2.126044789094438, -0.2679660738387135, -0.5899014259574387, 0.8233918972239539, 0.5982102131868876, -0.23974548763690395, -0.7625645661411272, 2.131255846154423, -0.16089139609515746, 0.18381944256905272, 0.2267617909081373, 0.7803127983852142, 0.20624611159253428, -0.29663636897520196, 0.35153327070056284, 0.2533433329388325, 1.3385403406301426, 0.39338621737609836, -1.2594537167617184, 0.7822207461721324, -0.996742549160656, 0.35159121972752716, -1.814256381533014, -0.37513101639477564, 0.750078538828769, 0.46153055686012423, 1.0646275597072927, -1.473212781815409, -0.29988514652464204, 0.0250383601161776, -1.2807437185006134, -0.04386155936399598, -0.5689608056658727, 1.3878061561455213, -0.038124352960860156, -0.10663655667386701, -0.7727476047248021, -2.0244093820446296, 0.16588996022679559], \"xaxis\": \"x16\", \"yaxis\": \"y16\"}],                        {\"bargap\": 0.02, \"legend\": {\"bgcolor\": \"#F5F6F9\", \"font\": {\"color\": \"#4D5663\"}}, \"paper_bgcolor\": \"#F5F6F9\", \"plot_bgcolor\": \"#F5F6F9\", \"showlegend\": false, \"template\": {\"data\": {\"bar\": [{\"error_x\": {\"color\": \"#2a3f5f\"}, \"error_y\": {\"color\": \"#2a3f5f\"}, \"marker\": {\"line\": {\"color\": \"#E5ECF6\", \"width\": 0.5}}, \"type\": \"bar\"}], \"barpolar\": [{\"marker\": {\"line\": {\"color\": \"#E5ECF6\", \"width\": 0.5}}, \"type\": \"barpolar\"}], \"carpet\": [{\"aaxis\": {\"endlinecolor\": \"#2a3f5f\", \"gridcolor\": \"white\", \"linecolor\": \"white\", \"minorgridcolor\": \"white\", \"startlinecolor\": \"#2a3f5f\"}, \"baxis\": {\"endlinecolor\": \"#2a3f5f\", \"gridcolor\": \"white\", \"linecolor\": \"white\", \"minorgridcolor\": \"white\", \"startlinecolor\": \"#2a3f5f\"}, \"type\": \"carpet\"}], \"choropleth\": [{\"colorbar\": {\"outlinewidth\": 0, \"ticks\": \"\"}, \"type\": \"choropleth\"}], \"contour\": [{\"colorbar\": {\"outlinewidth\": 0, \"ticks\": \"\"}, \"colorscale\": [[0.0, \"#0d0887\"], [0.1111111111111111, \"#46039f\"], [0.2222222222222222, \"#7201a8\"], [0.3333333333333333, \"#9c179e\"], [0.4444444444444444, \"#bd3786\"], [0.5555555555555556, \"#d8576b\"], [0.6666666666666666, \"#ed7953\"], [0.7777777777777778, \"#fb9f3a\"], [0.8888888888888888, \"#fdca26\"], [1.0, \"#f0f921\"]], \"type\": \"contour\"}], \"contourcarpet\": [{\"colorbar\": {\"outlinewidth\": 0, \"ticks\": \"\"}, \"type\": \"contourcarpet\"}], \"heatmap\": [{\"colorbar\": {\"outlinewidth\": 0, \"ticks\": \"\"}, \"colorscale\": [[0.0, \"#0d0887\"], [0.1111111111111111, \"#46039f\"], [0.2222222222222222, \"#7201a8\"], [0.3333333333333333, \"#9c179e\"], [0.4444444444444444, \"#bd3786\"], [0.5555555555555556, \"#d8576b\"], [0.6666666666666666, \"#ed7953\"], [0.7777777777777778, \"#fb9f3a\"], [0.8888888888888888, \"#fdca26\"], [1.0, \"#f0f921\"]], \"type\": \"heatmap\"}], \"heatmapgl\": [{\"colorbar\": {\"outlinewidth\": 0, \"ticks\": \"\"}, \"colorscale\": [[0.0, \"#0d0887\"], [0.1111111111111111, \"#46039f\"], [0.2222222222222222, \"#7201a8\"], [0.3333333333333333, \"#9c179e\"], [0.4444444444444444, \"#bd3786\"], [0.5555555555555556, \"#d8576b\"], [0.6666666666666666, \"#ed7953\"], [0.7777777777777778, \"#fb9f3a\"], [0.8888888888888888, \"#fdca26\"], [1.0, \"#f0f921\"]], \"type\": \"heatmapgl\"}], \"histogram\": [{\"marker\": {\"colorbar\": {\"outlinewidth\": 0, \"ticks\": \"\"}}, \"type\": \"histogram\"}], \"histogram2d\": [{\"colorbar\": {\"outlinewidth\": 0, \"ticks\": \"\"}, \"colorscale\": [[0.0, \"#0d0887\"], [0.1111111111111111, \"#46039f\"], [0.2222222222222222, \"#7201a8\"], [0.3333333333333333, \"#9c179e\"], [0.4444444444444444, \"#bd3786\"], [0.5555555555555556, \"#d8576b\"], [0.6666666666666666, \"#ed7953\"], [0.7777777777777778, \"#fb9f3a\"], [0.8888888888888888, \"#fdca26\"], [1.0, \"#f0f921\"]], \"type\": \"histogram2d\"}], \"histogram2dcontour\": [{\"colorbar\": {\"outlinewidth\": 0, \"ticks\": \"\"}, \"colorscale\": [[0.0, \"#0d0887\"], [0.1111111111111111, \"#46039f\"], [0.2222222222222222, \"#7201a8\"], [0.3333333333333333, \"#9c179e\"], [0.4444444444444444, \"#bd3786\"], [0.5555555555555556, \"#d8576b\"], [0.6666666666666666, \"#ed7953\"], [0.7777777777777778, \"#fb9f3a\"], [0.8888888888888888, \"#fdca26\"], [1.0, \"#f0f921\"]], \"type\": \"histogram2dcontour\"}], \"mesh3d\": [{\"colorbar\": {\"outlinewidth\": 0, \"ticks\": \"\"}, \"type\": \"mesh3d\"}], \"parcoords\": [{\"line\": {\"colorbar\": {\"outlinewidth\": 0, \"ticks\": \"\"}}, \"type\": \"parcoords\"}], \"pie\": [{\"automargin\": true, \"type\": \"pie\"}], \"scatter\": [{\"marker\": {\"colorbar\": {\"outlinewidth\": 0, \"ticks\": \"\"}}, \"type\": \"scatter\"}], \"scatter3d\": [{\"line\": {\"colorbar\": {\"outlinewidth\": 0, \"ticks\": \"\"}}, \"marker\": {\"colorbar\": {\"outlinewidth\": 0, \"ticks\": \"\"}}, \"type\": \"scatter3d\"}], \"scattercarpet\": [{\"marker\": {\"colorbar\": {\"outlinewidth\": 0, \"ticks\": \"\"}}, \"type\": \"scattercarpet\"}], \"scattergeo\": [{\"marker\": {\"colorbar\": {\"outlinewidth\": 0, \"ticks\": \"\"}}, \"type\": \"scattergeo\"}], \"scattergl\": [{\"marker\": {\"colorbar\": {\"outlinewidth\": 0, \"ticks\": \"\"}}, \"type\": \"scattergl\"}], \"scattermapbox\": [{\"marker\": {\"colorbar\": {\"outlinewidth\": 0, \"ticks\": \"\"}}, \"type\": \"scattermapbox\"}], \"scatterpolar\": [{\"marker\": {\"colorbar\": {\"outlinewidth\": 0, \"ticks\": \"\"}}, \"type\": \"scatterpolar\"}], \"scatterpolargl\": [{\"marker\": {\"colorbar\": {\"outlinewidth\": 0, \"ticks\": \"\"}}, \"type\": \"scatterpolargl\"}], \"scatterternary\": [{\"marker\": {\"colorbar\": {\"outlinewidth\": 0, \"ticks\": \"\"}}, \"type\": \"scatterternary\"}], \"surface\": [{\"colorbar\": {\"outlinewidth\": 0, \"ticks\": \"\"}, \"colorscale\": [[0.0, \"#0d0887\"], [0.1111111111111111, \"#46039f\"], [0.2222222222222222, \"#7201a8\"], [0.3333333333333333, \"#9c179e\"], [0.4444444444444444, \"#bd3786\"], [0.5555555555555556, \"#d8576b\"], [0.6666666666666666, \"#ed7953\"], [0.7777777777777778, \"#fb9f3a\"], [0.8888888888888888, \"#fdca26\"], [1.0, \"#f0f921\"]], \"type\": \"surface\"}], \"table\": [{\"cells\": {\"fill\": {\"color\": \"#EBF0F8\"}, \"line\": {\"color\": \"white\"}}, \"header\": {\"fill\": {\"color\": \"#C8D4E3\"}, \"line\": {\"color\": \"white\"}}, \"type\": \"table\"}]}, \"layout\": {\"annotationdefaults\": {\"arrowcolor\": \"#2a3f5f\", \"arrowhead\": 0, \"arrowwidth\": 1}, \"autotypenumbers\": \"strict\", \"coloraxis\": {\"colorbar\": {\"outlinewidth\": 0, \"ticks\": \"\"}}, \"colorscale\": {\"diverging\": [[0, \"#8e0152\"], [0.1, \"#c51b7d\"], [0.2, \"#de77ae\"], [0.3, \"#f1b6da\"], [0.4, \"#fde0ef\"], [0.5, \"#f7f7f7\"], [0.6, \"#e6f5d0\"], [0.7, \"#b8e186\"], [0.8, \"#7fbc41\"], [0.9, \"#4d9221\"], [1, \"#276419\"]], \"sequential\": [[0.0, \"#0d0887\"], [0.1111111111111111, \"#46039f\"], [0.2222222222222222, \"#7201a8\"], [0.3333333333333333, \"#9c179e\"], [0.4444444444444444, \"#bd3786\"], [0.5555555555555556, \"#d8576b\"], [0.6666666666666666, \"#ed7953\"], [0.7777777777777778, \"#fb9f3a\"], [0.8888888888888888, \"#fdca26\"], [1.0, \"#f0f921\"]], \"sequentialminus\": [[0.0, \"#0d0887\"], [0.1111111111111111, \"#46039f\"], [0.2222222222222222, \"#7201a8\"], [0.3333333333333333, \"#9c179e\"], [0.4444444444444444, \"#bd3786\"], [0.5555555555555556, \"#d8576b\"], [0.6666666666666666, \"#ed7953\"], [0.7777777777777778, \"#fb9f3a\"], [0.8888888888888888, \"#fdca26\"], [1.0, \"#f0f921\"]]}, \"colorway\": [\"#636efa\", \"#EF553B\", \"#00cc96\", \"#ab63fa\", \"#FFA15A\", \"#19d3f3\", \"#FF6692\", \"#B6E880\", \"#FF97FF\", \"#FECB52\"], \"font\": {\"color\": \"#2a3f5f\"}, \"geo\": {\"bgcolor\": \"white\", \"lakecolor\": \"white\", \"landcolor\": \"#E5ECF6\", \"showlakes\": true, \"showland\": true, \"subunitcolor\": \"white\"}, \"hoverlabel\": {\"align\": \"left\"}, \"hovermode\": \"closest\", \"mapbox\": {\"style\": \"light\"}, \"paper_bgcolor\": \"white\", \"plot_bgcolor\": \"#E5ECF6\", \"polar\": {\"angularaxis\": {\"gridcolor\": \"white\", \"linecolor\": \"white\", \"ticks\": \"\"}, \"bgcolor\": \"#E5ECF6\", \"radialaxis\": {\"gridcolor\": \"white\", \"linecolor\": \"white\", \"ticks\": \"\"}}, \"scene\": {\"xaxis\": {\"backgroundcolor\": \"#E5ECF6\", \"gridcolor\": \"white\", \"gridwidth\": 2, \"linecolor\": \"white\", \"showbackground\": true, \"ticks\": \"\", \"zerolinecolor\": \"white\"}, \"yaxis\": {\"backgroundcolor\": \"#E5ECF6\", \"gridcolor\": \"white\", \"gridwidth\": 2, \"linecolor\": \"white\", \"showbackground\": true, \"ticks\": \"\", \"zerolinecolor\": \"white\"}, \"zaxis\": {\"backgroundcolor\": \"#E5ECF6\", \"gridcolor\": \"white\", \"gridwidth\": 2, \"linecolor\": \"white\", \"showbackground\": true, \"ticks\": \"\", \"zerolinecolor\": \"white\"}}, \"shapedefaults\": {\"line\": {\"color\": \"#2a3f5f\"}}, \"ternary\": {\"aaxis\": {\"gridcolor\": \"white\", \"linecolor\": \"white\", \"ticks\": \"\"}, \"baxis\": {\"gridcolor\": \"white\", \"linecolor\": \"white\", \"ticks\": \"\"}, \"bgcolor\": \"#E5ECF6\", \"caxis\": {\"gridcolor\": \"white\", \"linecolor\": \"white\", \"ticks\": \"\"}}, \"title\": {\"x\": 0.05}, \"xaxis\": {\"automargin\": true, \"gridcolor\": \"white\", \"linecolor\": \"white\", \"ticks\": \"\", \"title\": {\"standoff\": 15}, \"zerolinecolor\": \"white\", \"zerolinewidth\": 2}, \"yaxis\": {\"automargin\": true, \"gridcolor\": \"white\", \"linecolor\": \"white\", \"ticks\": \"\", \"title\": {\"standoff\": 15}, \"zerolinecolor\": \"white\", \"zerolinewidth\": 2}}}, \"title\": {\"font\": {\"color\": \"#4D5663\"}}, \"xaxis\": {\"anchor\": \"y\", \"domain\": [0.0, 0.2125], \"gridcolor\": \"#E1E5ED\", \"showgrid\": false, \"tickfont\": {\"color\": \"#4D5663\"}, \"title\": {\"font\": {\"color\": \"#4D5663\"}, \"text\": \"\"}, \"zerolinecolor\": \"#E1E5ED\"}, \"xaxis10\": {\"anchor\": \"y10\", \"domain\": [0.2625, 0.475], \"gridcolor\": \"#E1E5ED\", \"showgrid\": false, \"tickfont\": {\"color\": \"#4D5663\"}, \"title\": {\"font\": {\"color\": \"#4D5663\"}, \"text\": \"\"}, \"zerolinecolor\": \"#E1E5ED\"}, \"xaxis11\": {\"anchor\": \"y11\", \"domain\": [0.525, 0.7375], \"gridcolor\": \"#E1E5ED\", \"showgrid\": false, \"tickfont\": {\"color\": \"#4D5663\"}, \"title\": {\"font\": {\"color\": \"#4D5663\"}, \"text\": \"\"}, \"zerolinecolor\": \"#E1E5ED\"}, \"xaxis12\": {\"anchor\": \"y12\", \"domain\": [0.7875, 1.0], \"gridcolor\": \"#E1E5ED\", \"showgrid\": false, \"tickfont\": {\"color\": \"#4D5663\"}, \"title\": {\"font\": {\"color\": \"#4D5663\"}, \"text\": \"\"}, \"zerolinecolor\": \"#E1E5ED\"}, \"xaxis13\": {\"anchor\": \"y13\", \"domain\": [0.0, 0.2125], \"gridcolor\": \"#E1E5ED\", \"showgrid\": false, \"tickfont\": {\"color\": \"#4D5663\"}, \"title\": {\"font\": {\"color\": \"#4D5663\"}, \"text\": \"\"}, \"zerolinecolor\": \"#E1E5ED\"}, \"xaxis14\": {\"anchor\": \"y14\", \"domain\": [0.2625, 0.475], \"gridcolor\": \"#E1E5ED\", \"showgrid\": false, \"tickfont\": {\"color\": \"#4D5663\"}, \"title\": {\"font\": {\"color\": \"#4D5663\"}, \"text\": \"\"}, \"zerolinecolor\": \"#E1E5ED\"}, \"xaxis15\": {\"anchor\": \"y15\", \"domain\": [0.525, 0.7375], \"gridcolor\": \"#E1E5ED\", \"showgrid\": false, \"tickfont\": {\"color\": \"#4D5663\"}, \"title\": {\"font\": {\"color\": \"#4D5663\"}, \"text\": \"\"}, \"zerolinecolor\": \"#E1E5ED\"}, \"xaxis16\": {\"anchor\": \"y16\", \"domain\": [0.7875, 1.0], \"gridcolor\": \"#E1E5ED\", \"showgrid\": false, \"tickfont\": {\"color\": \"#4D5663\"}, \"title\": {\"font\": {\"color\": \"#4D5663\"}, \"text\": \"\"}, \"zerolinecolor\": \"#E1E5ED\"}, \"xaxis2\": {\"anchor\": \"y2\", \"domain\": [0.2625, 0.475], \"gridcolor\": \"#E1E5ED\", \"showgrid\": false, \"tickfont\": {\"color\": \"#4D5663\"}, \"title\": {\"font\": {\"color\": \"#4D5663\"}, \"text\": \"\"}, \"zerolinecolor\": \"#E1E5ED\"}, \"xaxis3\": {\"anchor\": \"y3\", \"domain\": [0.525, 0.7375], \"gridcolor\": \"#E1E5ED\", \"showgrid\": false, \"tickfont\": {\"color\": \"#4D5663\"}, \"title\": {\"font\": {\"color\": \"#4D5663\"}, \"text\": \"\"}, \"zerolinecolor\": \"#E1E5ED\"}, \"xaxis4\": {\"anchor\": \"y4\", \"domain\": [0.7875, 1.0], \"gridcolor\": \"#E1E5ED\", \"showgrid\": false, \"tickfont\": {\"color\": \"#4D5663\"}, \"title\": {\"font\": {\"color\": \"#4D5663\"}, \"text\": \"\"}, \"zerolinecolor\": \"#E1E5ED\"}, \"xaxis5\": {\"anchor\": \"y5\", \"domain\": [0.0, 0.2125], \"gridcolor\": \"#E1E5ED\", \"showgrid\": false, \"tickfont\": {\"color\": \"#4D5663\"}, \"title\": {\"font\": {\"color\": \"#4D5663\"}, \"text\": \"\"}, \"zerolinecolor\": \"#E1E5ED\"}, \"xaxis6\": {\"anchor\": \"y6\", \"domain\": [0.2625, 0.475], \"gridcolor\": \"#E1E5ED\", \"showgrid\": false, \"tickfont\": {\"color\": \"#4D5663\"}, \"title\": {\"font\": {\"color\": \"#4D5663\"}, \"text\": \"\"}, \"zerolinecolor\": \"#E1E5ED\"}, \"xaxis7\": {\"anchor\": \"y7\", \"domain\": [0.525, 0.7375], \"gridcolor\": \"#E1E5ED\", \"showgrid\": false, \"tickfont\": {\"color\": \"#4D5663\"}, \"title\": {\"font\": {\"color\": \"#4D5663\"}, \"text\": \"\"}, \"zerolinecolor\": \"#E1E5ED\"}, \"xaxis8\": {\"anchor\": \"y8\", \"domain\": [0.7875, 1.0], \"gridcolor\": \"#E1E5ED\", \"showgrid\": false, \"tickfont\": {\"color\": \"#4D5663\"}, \"title\": {\"font\": {\"color\": \"#4D5663\"}, \"text\": \"\"}, \"zerolinecolor\": \"#E1E5ED\"}, \"xaxis9\": {\"anchor\": \"y9\", \"domain\": [0.0, 0.2125], \"gridcolor\": \"#E1E5ED\", \"showgrid\": false, \"tickfont\": {\"color\": \"#4D5663\"}, \"title\": {\"font\": {\"color\": \"#4D5663\"}, \"text\": \"\"}, \"zerolinecolor\": \"#E1E5ED\"}, \"yaxis\": {\"anchor\": \"x\", \"domain\": [0.8025, 1.0], \"gridcolor\": \"#E1E5ED\", \"showgrid\": false, \"tickfont\": {\"color\": \"#4D5663\"}, \"title\": {\"font\": {\"color\": \"#4D5663\"}, \"text\": \"\"}, \"zerolinecolor\": \"#E1E5ED\"}, \"yaxis10\": {\"anchor\": \"x10\", \"domain\": [0.2675, 0.465], \"gridcolor\": \"#E1E5ED\", \"showgrid\": false, \"tickfont\": {\"color\": \"#4D5663\"}, \"title\": {\"font\": {\"color\": \"#4D5663\"}, \"text\": \"\"}, \"zerolinecolor\": \"#E1E5ED\"}, \"yaxis11\": {\"anchor\": \"x11\", \"domain\": [0.2675, 0.465], \"gridcolor\": \"#E1E5ED\", \"showgrid\": false, \"tickfont\": {\"color\": \"#4D5663\"}, \"title\": {\"font\": {\"color\": \"#4D5663\"}, \"text\": \"\"}, \"zerolinecolor\": \"#E1E5ED\"}, \"yaxis12\": {\"anchor\": \"x12\", \"domain\": [0.2675, 0.465], \"gridcolor\": \"#E1E5ED\", \"showgrid\": false, \"tickfont\": {\"color\": \"#4D5663\"}, \"title\": {\"font\": {\"color\": \"#4D5663\"}, \"text\": \"\"}, \"zerolinecolor\": \"#E1E5ED\"}, \"yaxis13\": {\"anchor\": \"x13\", \"domain\": [0.0, 0.1975], \"gridcolor\": \"#E1E5ED\", \"showgrid\": false, \"tickfont\": {\"color\": \"#4D5663\"}, \"title\": {\"font\": {\"color\": \"#4D5663\"}, \"text\": \"\"}, \"zerolinecolor\": \"#E1E5ED\"}, \"yaxis14\": {\"anchor\": \"x14\", \"domain\": [0.0, 0.1975], \"gridcolor\": \"#E1E5ED\", \"showgrid\": false, \"tickfont\": {\"color\": \"#4D5663\"}, \"title\": {\"font\": {\"color\": \"#4D5663\"}, \"text\": \"\"}, \"zerolinecolor\": \"#E1E5ED\"}, \"yaxis15\": {\"anchor\": \"x15\", \"domain\": [0.0, 0.1975], \"gridcolor\": \"#E1E5ED\", \"showgrid\": false, \"tickfont\": {\"color\": \"#4D5663\"}, \"title\": {\"font\": {\"color\": \"#4D5663\"}, \"text\": \"\"}, \"zerolinecolor\": \"#E1E5ED\"}, \"yaxis16\": {\"anchor\": \"x16\", \"domain\": [0.0, 0.1975], \"gridcolor\": \"#E1E5ED\", \"showgrid\": false, \"tickfont\": {\"color\": \"#4D5663\"}, \"title\": {\"font\": {\"color\": \"#4D5663\"}, \"text\": \"\"}, \"zerolinecolor\": \"#E1E5ED\"}, \"yaxis2\": {\"anchor\": \"x2\", \"domain\": [0.8025, 1.0], \"gridcolor\": \"#E1E5ED\", \"showgrid\": false, \"tickfont\": {\"color\": \"#4D5663\"}, \"title\": {\"font\": {\"color\": \"#4D5663\"}, \"text\": \"\"}, \"zerolinecolor\": \"#E1E5ED\"}, \"yaxis3\": {\"anchor\": \"x3\", \"domain\": [0.8025, 1.0], \"gridcolor\": \"#E1E5ED\", \"showgrid\": false, \"tickfont\": {\"color\": \"#4D5663\"}, \"title\": {\"font\": {\"color\": \"#4D5663\"}, \"text\": \"\"}, \"zerolinecolor\": \"#E1E5ED\"}, \"yaxis4\": {\"anchor\": \"x4\", \"domain\": [0.8025, 1.0], \"gridcolor\": \"#E1E5ED\", \"showgrid\": false, \"tickfont\": {\"color\": \"#4D5663\"}, \"title\": {\"font\": {\"color\": \"#4D5663\"}, \"text\": \"\"}, \"zerolinecolor\": \"#E1E5ED\"}, \"yaxis5\": {\"anchor\": \"x5\", \"domain\": [0.535, 0.7325], \"gridcolor\": \"#E1E5ED\", \"showgrid\": false, \"tickfont\": {\"color\": \"#4D5663\"}, \"title\": {\"font\": {\"color\": \"#4D5663\"}, \"text\": \"\"}, \"zerolinecolor\": \"#E1E5ED\"}, \"yaxis6\": {\"anchor\": \"x6\", \"domain\": [0.535, 0.7325], \"gridcolor\": \"#E1E5ED\", \"showgrid\": false, \"tickfont\": {\"color\": \"#4D5663\"}, \"title\": {\"font\": {\"color\": \"#4D5663\"}, \"text\": \"\"}, \"zerolinecolor\": \"#E1E5ED\"}, \"yaxis7\": {\"anchor\": \"x7\", \"domain\": [0.535, 0.7325], \"gridcolor\": \"#E1E5ED\", \"showgrid\": false, \"tickfont\": {\"color\": \"#4D5663\"}, \"title\": {\"font\": {\"color\": \"#4D5663\"}, \"text\": \"\"}, \"zerolinecolor\": \"#E1E5ED\"}, \"yaxis8\": {\"anchor\": \"x8\", \"domain\": [0.535, 0.7325], \"gridcolor\": \"#E1E5ED\", \"showgrid\": false, \"tickfont\": {\"color\": \"#4D5663\"}, \"title\": {\"font\": {\"color\": \"#4D5663\"}, \"text\": \"\"}, \"zerolinecolor\": \"#E1E5ED\"}, \"yaxis9\": {\"anchor\": \"x9\", \"domain\": [0.2675, 0.465], \"gridcolor\": \"#E1E5ED\", \"showgrid\": false, \"tickfont\": {\"color\": \"#4D5663\"}, \"title\": {\"font\": {\"color\": \"#4D5663\"}, \"text\": \"\"}, \"zerolinecolor\": \"#E1E5ED\"}},                        {\"showLink\": true, \"linkText\": \"Export to plot.ly\", \"plotlyServerURL\": \"https://plot.ly\", \"responsive\": true}                    ).then(function(){\n",
       "                            \n",
       "var gd = document.getElementById('e782f03e-50b3-4bba-a7b1-eab208f45ce7');\n",
       "var x = new MutationObserver(function (mutations, observer) {{\n",
       "        var display = window.getComputedStyle(gd).display;\n",
       "        if (!display || display === 'none') {{\n",
       "            console.log([gd, 'removed!']);\n",
       "            Plotly.purge(gd);\n",
       "            observer.disconnect();\n",
       "        }}\n",
       "}});\n",
       "\n",
       "// Listen for the removal of the full notebook cells\n",
       "var notebookContainer = gd.closest('#notebook-container');\n",
       "if (notebookContainer) {{\n",
       "    x.observe(notebookContainer, {childList: true});\n",
       "}}\n",
       "\n",
       "// Listen for the clearing of the current output cell\n",
       "var outputEl = gd.closest('.output');\n",
       "if (outputEl) {{\n",
       "    x.observe(outputEl, {childList: true});\n",
       "}}\n",
       "\n",
       "                        })                };                });            </script>        </div>"
      ]
     },
     "metadata": {},
     "output_type": "display_data"
    }
   ],
   "source": [
    "df.scatter_matrix()"
   ]
  }
 ],
 "metadata": {
  "kernelspec": {
   "display_name": "Python 3",
   "language": "python",
   "name": "python3"
  },
  "language_info": {
   "codemirror_mode": {
    "name": "ipython",
    "version": 3
   },
   "file_extension": ".py",
   "mimetype": "text/x-python",
   "name": "python",
   "nbconvert_exporter": "python",
   "pygments_lexer": "ipython3",
   "version": "3.8.5"
  }
 },
 "nbformat": 4,
 "nbformat_minor": 5
}
